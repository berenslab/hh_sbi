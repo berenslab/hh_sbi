{
 "cells": [
  {
   "cell_type": "code",
   "execution_count": 1,
   "id": "4ec70d98-c469-4641-ad6c-3cecb2163de7",
   "metadata": {
    "tags": []
   },
   "outputs": [
    {
     "name": "stderr",
     "output_type": "stream",
     "text": [
      "/Users/yvesbernaerts/Documents/PhD/hh_sbi/hh_sbi_env/lib/python3.9/site-packages/tqdm/auto.py:21: TqdmWarning: IProgress not found. Please update jupyter and ipywidgets. See https://ipywidgets.readthedocs.io/en/stable/user_install.html\n",
      "  from .autonotebook import tqdm as notebook_tqdm\n",
      "/Users/yvesbernaerts/Documents/PhD/hh_sbi/hh_sbi_env/lib/python3.9/site-packages/urllib3/__init__.py:35: NotOpenSSLWarning: urllib3 v2 only supports OpenSSL 1.1.1+, currently the 'ssl' module is compiled with 'LibreSSL 2.8.3'. See: https://github.com/urllib3/urllib3/issues/3020\n",
      "  warnings.warn(\n",
      "WARNING (pytensor.tensor.blas): Using NumPy C-API based implementation for BLAS functions.\n"
     ]
    }
   ],
   "source": [
    "import matplotlib as mpl\n",
    "\n",
    "# remove top and right axis from plots\n",
    "mpl.rcParams[\"axes.spines.right\"] = False\n",
    "mpl.rcParams[\"axes.spines.top\"] = False\n",
    "\n",
    "import matplotlib.pyplot as plt\n",
    "import seaborn as sns\n",
    "import numpy as np\n",
    "import pandas as pd\n",
    "import pickle\n",
    "\n",
    "import warnings\n",
    "\n",
    "from sbi.analysis import pairplot\n",
    "\n",
    "# load and read nwb files\n",
    "from pynwb import NWBHDF5IO\n",
    "\n",
    "import sys\n",
    "sys.path.append('../../code')\n",
    "\n",
    "from ephys_utils import get_time_voltage_current_currindex0_gouwens\n",
    "from simulator import EphysModel_Gouwens\n",
    "from plot_utils import adjust_spines\n",
    "from rnaseqTools import geneSelection\n",
    "\n",
    "from openTSNE import TSNE\n"
   ]
  },
  {
   "cell_type": "markdown",
   "id": "f05ddb19",
   "metadata": {},
   "source": [
    "## Download data"
   ]
  },
  {
   "cell_type": "code",
   "execution_count": 2,
   "id": "bc997e94",
   "metadata": {
    "tags": []
   },
   "outputs": [
    {
     "name": "stdout",
     "output_type": "stream",
     "text": [
      "Data exists.\n"
     ]
    }
   ],
   "source": [
    "def download_raw_data():\n",
    "    import os\n",
    "\n",
    "    cwd = os.getcwd()\n",
    "\n",
    "    if os.path.exists(\"../../data/Gouwens (2020)/raw_data/000020/\"):\n",
    "        print(\"Data exists.\")\n",
    "    else:\n",
    "        os.chdir(\"../../data/Gouwens (2020)/raw_data\")\n",
    "        print(\"Downloading raw data using dandi. This will take a while.\")\n",
    "        !dandi download https://dandiarchive.org/dandiset/000020/draft\n",
    "        os.chdir(cwd)\n",
    "\n",
    "\n",
    "download_raw_data()"
   ]
  },
  {
   "cell_type": "code",
   "execution_count": 3,
   "id": "66687411",
   "metadata": {
    "tags": []
   },
   "outputs": [
    {
     "name": "stdout",
     "output_type": "stream",
     "text": [
      "Data exists.\n",
      "Data exists.\n"
     ]
    }
   ],
   "source": [
    "def download_data():\n",
    "    import os\n",
    "\n",
    "    cwd = os.getcwd()\n",
    "\n",
    "    # download `full_batch.npz` to `/code/save_sims/V1_chunck`\n",
    "    if os.path.exists(\"../../code/save_sims/V1_chunks/full_batch.npz\"):\n",
    "        print(\"Data exists.\")\n",
    "    else:\n",
    "        os.chdir(\"../../code/save_sims/V1_chunks/\")\n",
    "        print(\"downloading `full_batch.npz` to `/code/save_sims/V1_chunck`\")\n",
    "        # !wget https://zenodo.org/records/15026337/files/V1_full_batch.npz\n",
    "        os.chdir(cwd)\n",
    "\n",
    "    # download `best_1000_Euclidean_sims_V1.npz` to `/code/save_sims/`\n",
    "    if os.path.exists(\"../../code/save_sims/best_1000_Euclidean_sims_V1.npz\"):\n",
    "        print(\"Data exists.\")\n",
    "    else:\n",
    "        os.chdir(\"../../code/save_sims/\")\n",
    "        print(\n",
    "            \"downloading `best_1000_Euclidean_sims_V1.npz` to `/code/save_sims/V1_chunks/`\"\n",
    "        )\n",
    "        !wget https://zenodo.org/record/7716391/files/best_1000_Euclidean_sims.npz\n",
    "        os.chdir(cwd)\n",
    "\n",
    "\n",
    "download_data()"
   ]
  },
  {
   "cell_type": "markdown",
   "id": "5c5d8286-e76f-477c-8fc6-14fca92ebe82",
   "metadata": {},
   "source": [
    "### Load observed data\n",
    "Load the summary statistics of raw membrane voltage recordings generated with `../code/preprocess.ipynb`."
   ]
  },
  {
   "cell_type": "code",
   "execution_count": 2,
   "id": "1fd1c5f0-c892-41a6-9192-71f177e0c45f",
   "metadata": {
    "tags": []
   },
   "outputs": [],
   "source": [
    "V1_25degree = pickle.load(open('../../code/pickles/V1_features.pickle', 'rb'))\n",
    "ephys_features = np.array(V1_25degree['X_o'].columns)[:-1]\n",
    "Xo = V1_25degree['X_o'].copy()\n",
    "V1_names = V1_25degree['V1_names']"
   ]
  },
  {
   "cell_type": "code",
   "execution_count": 3,
   "id": "80c659c6",
   "metadata": {},
   "outputs": [
    {
     "data": {
      "text/plain": [
       "(4107, 21)"
      ]
     },
     "execution_count": 3,
     "metadata": {},
     "output_type": "execute_result"
    }
   ],
   "source": [
    "v1_meta = pd.read_csv('../../data/Gouwens (2020)/20200625_patchseq_metadata_mouse.csv')\n",
    "v1_meta = v1_meta.set_index('ephys_session_id')\n",
    "v1_meta = v1_meta.reindex(Xo.index.astype('int64'))\n",
    "celltypes = v1_meta['corresponding_AIT2.3.1_alias']\n",
    "v1_meta.shape"
   ]
  },
  {
   "cell_type": "code",
   "execution_count": 4,
   "id": "0a8db043",
   "metadata": {},
   "outputs": [],
   "source": [
    "ttypes_tasic = np.load('../../data/Gouwens (2020)/tasic-ttypes.npy')\n",
    "colors_tasic = np.load('../../data/Gouwens (2020)/tasic-colors.npy')\n",
    "color_map = {}\n",
    "for c_type in np.unique(ttypes_tasic):\n",
    "    color_map.update({c_type:colors_tasic[np.where(ttypes_tasic==c_type)[0][0]]})\n",
    "colors = np.array([\n",
    "    color_map[c_type] if c_type in ttypes_tasic else 'black' for c_type in celltypes\n",
    "])"
   ]
  },
  {
   "cell_type": "code",
   "execution_count": 5,
   "id": "c54a6d43-0101-4ad9-8db8-f0ad9017a870",
   "metadata": {
    "tags": []
   },
   "outputs": [],
   "source": [
    "ephys_features_w_units = np.array(\n",
    "    [\n",
    "        \"AP threshold (mV)\",\n",
    "        \"AP amplitude (mV)\",\n",
    "        \"AP width (ms)\",\n",
    "        \"AHP (mV)\",\n",
    "        \"3rd AP threshold (mV)\",\n",
    "        \"3rd AP amplitude (mV)\",\n",
    "        \"3rd AP width (ms)\",\n",
    "        \"3rd AHP (mV)\",\n",
    "        \"AP count\",\n",
    "        \"AP count 1st 8th\",\n",
    "        \"AP count 1st quarter\",\n",
    "        \"AP count 1st half\",\n",
    "        \"AP count 2nd half\",\n",
    "        \"AP amp adapt\",\n",
    "        \"AP average amp adapt\",\n",
    "        \"AP CV\",\n",
    "        \"ISI adapt\",\n",
    "        \"ISI CV\",\n",
    "        \"Latency (ms)\",\n",
    "        \"rest $V_{m}$ mean (mV)\",\n",
    "        \"$V_{m}$ mean (mV)\",\n",
    "        \"$V_{m}$ std (mV)\",\n",
    "        \"$V_{m}$ skewness\",\n",
    "    ],\n",
    "    dtype=object,\n",
    ")"
   ]
  },
  {
   "cell_type": "code",
   "execution_count": 6,
   "id": "47f4fc98-e23f-4f23-9dde-87053027a56a",
   "metadata": {
    "tags": []
   },
   "outputs": [],
   "source": [
    "dir_locs = []\n",
    "for cell_name in Xo.index:\n",
    "    dir_locs.append('../'+\n",
    "        np.array(V1_25degree[\"V1_names\"])[\n",
    "            np.where(Xo.index == cell_name)[0][0]\n",
    "        ]\n",
    "    )"
   ]
  },
  {
   "cell_type": "code",
   "execution_count": 7,
   "id": "4dbcf1c2-fedb-49f1-aba4-8dd67dee391a",
   "metadata": {
    "tags": []
   },
   "outputs": [],
   "source": [
    "model_param_names = np.array(['C', r'$R_{input}$', r'$\\tau$', r'$g_{Nat}$', r'$g_{Na}$', r'$g_{Kd}$', r'$g_{M}$',\n",
    "                         r'$g_{Kv31}$', r'$g_{L}$', r'$E_{leak}$', r'$\\tau_{max}$', 'VT', 'rate_to_SS_factor', 'I'])\n",
    "prior_min = [0.1,  20,  0.1,    0,        0,      0,      0,      0,      0, -130,    50,    -90,   0.1,   20]\n",
    "prior_max = [15,   1000,   70,   250,     100,      30,    3,     250,     3,  -50,  4000,   -35,    3,   870]"
   ]
  },
  {
   "cell_type": "code",
   "execution_count": 8,
   "id": "250d29a6",
   "metadata": {},
   "outputs": [],
   "source": [
    "celltype_Vip, celltype_Sst, celltype_Lamp5, celltype_Pvalb, celltype_Sncg, celltype_Serpinf1 = \\\n",
    "    [False]*celltypes.shape[0], [False]*celltypes.shape[0], [False]*celltypes.shape[0], \\\n",
    "        [False]*celltypes.shape[0], [False]*celltypes.shape[0], [False]*celltypes.shape[0]\n",
    "\n",
    "for i, ct in enumerate(celltypes):\n",
    "    if isinstance(ct, str):\n",
    "        if ct.split(' ')[0]=='Vip':\n",
    "            celltype_Vip[i]=True\n",
    "        elif ct.split(' ')[0]=='Sst':\n",
    "            celltype_Sst[i]=True\n",
    "        elif ct.split(' ')[0]=='Lamp5':\n",
    "            celltype_Lamp5[i]=True\n",
    "        elif ct.split(' ')[0]=='Pvalb':\n",
    "            celltype_Pvalb[i]=True\n",
    "        elif ct.split(' ')[0]=='Sncg':\n",
    "            celltype_Sncg[i]=True\n",
    "        elif ct.split(' ')[0]=='Serpinf1':\n",
    "            celltype_Serpinf1[i]=True"
   ]
  },
  {
   "cell_type": "code",
   "execution_count": 9,
   "id": "2ec7f9b2",
   "metadata": {},
   "outputs": [
    {
     "name": "stdout",
     "output_type": "stream",
     "text": [
      "# Vip cells:  725\n",
      "# Sst cells:  1678\n",
      "# Lamp 5 cells:  449\n",
      "# Pvalb cells:  828\n",
      "# Sncg cells:  228\n",
      "# Serpinf1 cells:  45\n"
     ]
    }
   ],
   "source": [
    "print('# Vip cells: ', sum(celltype_Vip))\n",
    "print('# Sst cells: ', sum(celltype_Sst))\n",
    "print('# Lamp 5 cells: ', sum(celltype_Lamp5))\n",
    "print('# Pvalb cells: ', sum(celltype_Pvalb))\n",
    "print('# Sncg cells: ', sum(celltype_Sncg))\n",
    "print('# Serpinf1 cells: ', sum(celltype_Serpinf1))\n"
   ]
  },
  {
   "cell_type": "markdown",
   "id": "490fa356-47b7-44e5-a88b-ebc6f3910905",
   "metadata": {},
   "source": [
    "### Load simulator and simulations"
   ]
  },
  {
   "cell_type": "code",
   "execution_count": 10,
   "id": "8e0f321f-5741-481c-8708-8415ee24f586",
   "metadata": {
    "tags": []
   },
   "outputs": [],
   "source": [
    "V1_model=EphysModel_Gouwens(name='V1',\n",
    "                   T=34.0,\n",
    "                   E_Na=53.5,\n",
    "                   E_K=-101.3,\n",
    "                   E_Ca=131.1,\n",
    "                   start=100,\n",
    "                   end=1100,\n",
    "                   dt=0.04,\n",
    "                   n_processes=1,\n",
    "                   noise_factor=10,\n",
    "                   use_pathos=False,\n",
    "                   chunk_size=1000,\n",
    "                   save_chunks=False)"
   ]
  },
  {
   "cell_type": "code",
   "execution_count": 11,
   "id": "bfd62af5-0a9c-4440-98bd-58f478f7b7ee",
   "metadata": {
    "tags": []
   },
   "outputs": [
    {
     "name": "stdout",
     "output_type": "stream",
     "text": [
      "(# sims, # ephys features):  (20000000, 23)\n",
      "and after deleting Nan and Inf simulations: \n",
      "(# sims, # ephys features):  (7982838, 23)\n"
     ]
    }
   ],
   "source": [
    "theta = np.load(\"../../code/save_sims/V1_chunks/full_batch.npz\")[\"theta\"]\n",
    "stats = np.load(\"../../code/save_sims/V1_chunks/full_batch.npz\")[\"stats\"]\n",
    "print(\"(# sims, # ephys features): \", stats.shape)\n",
    "keeping = (~np.isnan(np.mean(stats, axis=1))) & (~np.isinf(np.mean(stats, axis=1)))\n",
    "stats = stats[keeping, :]  # delete Nan simulations\n",
    "print(\n",
    "    \"and after deleting Nan and Inf simulations: \\n(# sims, # ephys features): \",\n",
    "    stats.shape,\n",
    ")"
   ]
  },
  {
   "cell_type": "markdown",
   "id": "bda10786-723b-4055-b6c1-f077795e7836",
   "metadata": {},
   "source": [
    "### Figure 2"
   ]
  },
  {
   "cell_type": "markdown",
   "id": "077c909e-9867-4912-9e34-bccd321c0a14",
   "metadata": {},
   "source": [
    "Illustrate HH-based model's efficacy to get good 'point estimates'. By minimizing MSE in ephys feature subspace we can get simulations adequately reproducing ephys features of experimental observations."
   ]
  },
  {
   "cell_type": "code",
   "execution_count": 12,
   "id": "011459f6",
   "metadata": {},
   "outputs": [],
   "source": [
    "cell_names = [Xo.index[celltype_Pvalb][0],\n",
    "              Xo.index[celltype_Lamp5][0],\n",
    "              Xo.index[celltype_Sst][0],\n",
    "              Xo.index[celltype_Serpinf1][1],\n",
    "              Xo.index[celltype_Vip][0],\n",
    "              Xo.index[celltype_Sncg][1]\n",
    "              ]"
   ]
  },
  {
   "cell_type": "code",
   "execution_count": 13,
   "id": "e92c607a",
   "metadata": {},
   "outputs": [
    {
     "data": {
      "text/plain": [
       "['645441106', '833896220', '741277063', '992249152', '833876442', '859107761']"
      ]
     },
     "execution_count": 13,
     "metadata": {},
     "output_type": "execute_result"
    }
   ],
   "source": [
    "cell_names"
   ]
  },
  {
   "cell_type": "code",
   "execution_count": 14,
   "id": "c8f63443-9835-4d8e-8071-cf08b1bba2d9",
   "metadata": {
    "tags": []
   },
   "outputs": [],
   "source": [
    "liquid_junction_potential = 14\n",
    "s_mean = stats.mean(axis=0)\n",
    "s_std = stats.std(axis=0)"
   ]
  },
  {
   "cell_type": "code",
   "execution_count": 15,
   "id": "adec5500-5e46-413c-8671-1489fb4f6e87",
   "metadata": {
    "tags": []
   },
   "outputs": [
    {
     "name": "stderr",
     "output_type": "stream",
     "text": [
      "WARNING    Removing unsupported flag '-march=native' from compiler flags. [brian2.codegen.cpp_prefs]\n",
      "INFO       Overwriting environment variable \"DYLD_LIBRARY_PATH\" [brian2.devices.cpp_standalone.device.overwritten_env_var]\n"
     ]
    }
   ],
   "source": [
    "observations = []  # raw experimental recording\n",
    "simulations = []  # best prior simulation\n",
    "xos = []  # experimental ephys features\n",
    "xs = []  # simulation ephys features\n",
    "for cell_name in cell_names:\n",
    "    data = np.array(V1_25degree[\"V1_names\"])[\n",
    "        np.where(Xo.index == cell_name)[0][0]\n",
    "    ]\n",
    "    with warnings.catch_warnings():\n",
    "        warnings.simplefilter(\"ignore\")\n",
    "        data = NWBHDF5IO('../'+data, \"r\", load_namespaces=True).read()\n",
    "    xo = Xo.loc[cell_name, :].iloc[:-1].values\n",
    "    xos.append(xo)\n",
    "    time_obs, voltage_obs, current_obs, curr_obs_applied = get_time_voltage_current_currindex0_gouwens(data)\n",
    "    voltage_obs -= liquid_junction_potential\n",
    "    observation = {'data': voltage_obs[np.newaxis,:], \\\n",
    "                   'time': time_obs*1e3, 'dt':2e-5*1e3, 'I': current_obs}\n",
    "    observations.append(observation)\n",
    "\n",
    "    ind = np.argsort(\n",
    "        np.sum(\n",
    "            np.square(\n",
    "                (stats - s_mean) / s_std\n",
    "                - (xo - s_mean) / s_std\n",
    "            ),\n",
    "            axis=1,\n",
    "        )\n",
    "    )[0:1]\n",
    "    x = V1_model._run_HH_model(theta[keeping, :][ind, :])\n",
    "    simulations.append(x)\n",
    "    xs.append(V1_model._calculate_summary_statistics(x)[0])\n",
    "xos = np.array(xos)\n",
    "xs = np.array(xs)"
   ]
  },
  {
   "cell_type": "code",
   "execution_count": 16,
   "id": "19dd2b83-71b9-4a4b-9bdc-c200089297a1",
   "metadata": {
    "tags": []
   },
   "outputs": [],
   "source": [
    "Xo_mean = Xo.values[:, :-1].mean(axis=0)\n",
    "Xo_std = Xo.values[:, :-1].std(axis=0)"
   ]
  },
  {
   "cell_type": "markdown",
   "id": "8894d792-2c7a-4936-8a33-82ea4c0476aa",
   "metadata": {},
   "source": [
    "### Create T-SNE embedding from transcriptomics."
   ]
  },
  {
   "cell_type": "code",
   "execution_count": 17,
   "id": "f09ed041",
   "metadata": {},
   "outputs": [
    {
     "data": {
      "text/plain": [
       "(4107, 45768)"
      ]
     },
     "execution_count": 17,
     "metadata": {},
     "output_type": "execute_result"
    }
   ],
   "source": [
    "v1_genes = pd.read_csv('../../data/Gouwens (2020)/20200513_Mouse_PatchSeq_Release_count.csv')\n",
    "v1_genes=v1_genes.set_index('Unnamed: 0').T\n",
    "v1_genes=v1_genes.reindex(v1_meta['transcriptomics_sample_id'].values)\n",
    "gene_names = v1_genes.columns.values\n",
    "v1_genes.shape"
   ]
  },
  {
   "cell_type": "markdown",
   "id": "f4f668c8",
   "metadata": {},
   "source": [
    "#### Gene preprocessing (gene selection + library normalization + Z-scoring)\n"
   ]
  },
  {
   "cell_type": "code",
   "execution_count": 18,
   "id": "d2480391",
   "metadata": {},
   "outputs": [
    {
     "data": {
      "text/plain": [
       "(3559, 45768)"
      ]
     },
     "execution_count": 18,
     "metadata": {},
     "output_type": "execute_result"
    }
   ],
   "source": [
    "exonCounts = v1_genes.values\n",
    "non_nans = ~np.isnan(exonCounts.sum(axis=1))\n",
    "exonCounts = exonCounts[non_nans,:]\n",
    "exonCounts.shape"
   ]
  },
  {
   "cell_type": "code",
   "execution_count": 19,
   "id": "33d416fc",
   "metadata": {},
   "outputs": [
    {
     "name": "stdout",
     "output_type": "stream",
     "text": [
      "Chosen offset: 6.37\n"
     ]
    },
    {
     "data": {
      "image/png": "[encoded data removed]",
      "text/plain": [
       "<Figure size 600x350 with 1 Axes>"
      ]
     },
     "metadata": {},
     "output_type": "display_data"
    }
   ],
   "source": [
    "amount_of_genes = 1000\n",
    "markerGenes = [\"Snap25\", \"Gad1\", \"Slc17a7\", \"Pvalb\", \"Sst\", \"Vip\"]\n",
    "selectedGenes = geneSelection(\n",
    "    exonCounts, n=amount_of_genes, threshold=30, markers=markerGenes, genes=gene_names\n",
    ")\n",
    "exonCounts = exonCounts[:, selectedGenes]\n",
    "gene_names = gene_names[selectedGenes]"
   ]
  },
  {
   "cell_type": "code",
   "execution_count": 20,
   "id": "a8958e22",
   "metadata": {},
   "outputs": [],
   "source": [
    "genes = exonCounts.copy()\n",
    "genes = (\n",
    "    genes\n",
    "    / np.sum(genes, axis=1, keepdims=True)\n",
    "    * np.median(np.sum(genes, axis=1, keepdims=True))\n",
    ")\n",
    "genes = np.log2(genes + 1)\n",
    "genes = genes - np.mean(genes, axis=0)\n",
    "genes = genes / np.std(genes, axis=0)\n",
    "G = genes.astype(\"float64\")"
   ]
  },
  {
   "cell_type": "markdown",
   "id": "ef025209",
   "metadata": {},
   "source": [
    "#### T-sne projection of transcriptome"
   ]
  },
  {
   "cell_type": "markdown",
   "id": "a0d1a22c",
   "metadata": {},
   "source": [
    "Recompute or re-load:"
   ]
  },
  {
   "cell_type": "code",
   "execution_count": 22,
   "id": "7256400e",
   "metadata": {},
   "outputs": [],
   "source": [
    "# tsne = TSNE(\n",
    "#     perplexity=30,\n",
    "#     metric=\"euclidean\",\n",
    "#     n_jobs=8,\n",
    "#     random_state=42,\n",
    "#     verbose=True,\n",
    "# )\n",
    "# Z = tsne.fit(G)\n",
    "\n",
    "# # save embedding coordinates\n",
    "# np.savez('./embedding_coordinates/tsne.npz',\n",
    "#      coord=Z,\n",
    "#     )"
   ]
  },
  {
   "cell_type": "code",
   "execution_count": 21,
   "id": "77b78d7d-2b73-48a3-a27c-6feed90e0ea0",
   "metadata": {
    "tags": []
   },
   "outputs": [],
   "source": [
    "Z = np.load(\"./embedding_coordinates/tsne.npz\")[\"coord\"]"
   ]
  },
  {
   "cell_type": "code",
   "execution_count": 23,
   "id": "587db7c9",
   "metadata": {},
   "outputs": [],
   "source": [
    "exps_colors = [\"darkred\", \"salmon\", \"goldenrod\", \"lightseagreen\", \"magenta\", \"purple\"]"
   ]
  },
  {
   "cell_type": "code",
   "execution_count": 24,
   "id": "c7968165-bae8-4488-90ef-560f3ccd9044",
   "metadata": {
    "tags": []
   },
   "outputs": [],
   "source": [
    "def create_figure_2(fig):\n",
    "    if fig is None:\n",
    "        fig = plt.figure(figsize=(9, 3))\n",
    "    else:\n",
    "        fig = fig\n",
    "    width, height = 0.16, 0.12\n",
    "\n",
    "    ax_exps = [\n",
    "        plt.axes([0.15, 0, width, height]),\n",
    "        plt.axes([0, 0.05, width, height]),\n",
    "        plt.axes([0.29, 0.22, width, height], zorder=1),\n",
    "        plt.axes([0, 0.4, width, height]),\n",
    "        plt.axes([0.02, 0.75, width, height]),\n",
    "        plt.axes([0.22, 0.66, width, height], zorder=1),\n",
    "    ]\n",
    "    ax_sims = [\n",
    "        plt.axes([0.15, 0.13, width, height]),\n",
    "        plt.axes([0, 0.18, width, height]),\n",
    "        plt.axes([0.29, 0.35, width, height]),\n",
    "        plt.axes([0, 0.53, width, height]),\n",
    "        plt.axes([0.02, 0.88, width, height]),\n",
    "        plt.axes([0.22, 0.79, width, height], zorder=1),\n",
    "    ]\n",
    "    ax_embed = plt.axes([0.15, 0.3, 0.15, 0.45], zorder=0)\n",
    "    ax_features = [\n",
    "        [plt.axes([x, y, 0.07, 0.21]) for y in [0, 0.38, 0.76]]\n",
    "        for x in [0.48, 0.61, 0.74]\n",
    "    ]\n",
    "    return ax_embed, ax_exps, ax_sims, ax_features"
   ]
  },
  {
   "cell_type": "code",
   "execution_count": 25,
   "id": "95d65e76-08ad-4b07-88aa-98b9920b710b",
   "metadata": {
    "tags": []
   },
   "outputs": [],
   "source": [
    "features_to_show = [3, 4, 8, 21, 12, 15, 17, 18, 20]"
   ]
  },
  {
   "cell_type": "code",
   "execution_count": null,
   "id": "f231f432",
   "metadata": {},
   "outputs": [
    {
     "data": {
      "text/plain": [
       "Text(0.41, 0.98, 'B')"
      ]
     },
     "execution_count": 26,
     "metadata": {},
     "output_type": "execute_result"
    },
    {
     "data": {
      "image/png": "[encoded data removed]",
      "text/plain": [
       "<Figure size 900x300 with 22 Axes>"
      ]
     },
     "metadata": {},
     "output_type": "display_data"
    }
   ],
   "source": [
    "fig = plt.figure(figsize=(9, 3))\n",
    "ax_embed, ax_exps, ax_sims, ax_features = create_figure_2(fig)\n",
    "ax_embed.scatter(Z[:, 0], Z[:, 1], s=2, c=colors[non_nans])\n",
    "ax_embed.set_xticks([])\n",
    "ax_embed.set_yticks([])\n",
    "sns.despine(ax=ax_embed, left=True, bottom=True)\n",
    "for i, ax in enumerate(ax_exps):\n",
    "    # plot experimental observation\n",
    "    ax.plot(\n",
    "        observations[i][\"time\"],\n",
    "        observations[i][\"data\"][0,:],\n",
    "        lw=0.5,\n",
    "        c=exps_colors[i],\n",
    "    )\n",
    "    ax.set_xticks([])\n",
    "    ax.set_yticks([])\n",
    "    sns.despine(ax=ax, left=True, bottom=True)\n",
    "\n",
    "for i, ax in enumerate(ax_sims):\n",
    "    # plot best prior simulation\n",
    "    ax.plot(\n",
    "        simulations[i][\"time\"],\n",
    "        simulations[i][\"data\"][0, 0, :],\n",
    "        lw=0.5,\n",
    "        c=exps_colors[i],\n",
    "    )\n",
    "    ax.set_xticks([])\n",
    "    ax.set_yticks([])\n",
    "    sns.despine(ax=ax, left=True, bottom=True)\n",
    "\n",
    "\n",
    "for i, ax in enumerate(np.array(ax_features).reshape(-1)):\n",
    "    for j in range(6):\n",
    "        ax.scatter(\n",
    "            xos[j, features_to_show[i]],\n",
    "            xs[j, features_to_show[i]],\n",
    "            color=exps_colors[j],\n",
    "            s=7,\n",
    "        )\n",
    "    std = xos[:, features_to_show[i]].std()\n",
    "    ax.plot(\n",
    "        [\n",
    "            xos[:, features_to_show[i]].min() - 1.1 * std,\n",
    "            xos[:, features_to_show[i]].max() + 1.1 * std,\n",
    "        ],\n",
    "        [\n",
    "            xos[:, features_to_show[i]].min() - 1.1 * std,\n",
    "            xos[:, features_to_show[i]].max() + 1.1 * std,\n",
    "        ],\n",
    "        \"--\",\n",
    "        c=\"darkgrey\",\n",
    "        zorder=0,\n",
    "    )\n",
    "    ax.set_xlim(\n",
    "        (\n",
    "            xos[:, features_to_show[i]].min() - 1.1 * std,\n",
    "            xos[:, features_to_show[i]].max() + 1.1 * std,\n",
    "        )\n",
    "    )\n",
    "    ax.set_ylim(\n",
    "        (\n",
    "            xos[:, features_to_show[i]].min() - 1.1 * std,\n",
    "            xos[:, features_to_show[i]].max() + 1.1 * std,\n",
    "        )\n",
    "    )\n",
    "    ax.set_xticks(\n",
    "        [\n",
    "            round(xos[:, features_to_show[i]].min() - 1.1 * std),\n",
    "            round(xos[:, features_to_show[i]].max() + 1.1 * std),\n",
    "        ]\n",
    "    )\n",
    "    ax.set_yticks(\n",
    "        [\n",
    "            round(xos[:, features_to_show[i]].min() - 1.1 * std),\n",
    "            round(xos[:, features_to_show[i]].max() + 1.1 * std),\n",
    "        ]\n",
    "    )\n",
    "    if i == 0:\n",
    "        ax.set_xlabel(\"Experiment\", fontsize=7.5)\n",
    "        ax.set_ylabel(\"Simulation\", fontsize=7.5)\n",
    "    ax.tick_params(which=\"both\", labelsize=6.5)\n",
    "    ax.set_title(ephys_features_w_units[features_to_show[i]], fontsize=7)\n",
    "    adjust_spines(ax, [\"left\", \"bottom\"])\n",
    "    sns.despine(ax=ax)\n",
    "\n",
    "fs = 6\n",
    "fig.text(0.17, 0.92, \"Model\", fontsize=fs, color=\"magenta\")\n",
    "fig.text(0.17, 0.8, \"Experiment\", fontsize=fs, color=\"magenta\")\n",
    "fig.text(0.06, 0.31, \"Lamp5\", fontsize=fs, color=\"salmon\", fontweight=\"bold\")\n",
    "fig.text(0.28, 0.92, \"Scng\", fontsize=fs, color=\"purple\", fontweight=\"bold\")\n",
    "fig.text(0.06, 0.66, \"Serpinf1\", fontsize=fs, color=\"lightseagreen\", fontweight=\"bold\")\n",
    "fig.text(0.08, 1, \"Vip\", fontsize=fs, color=\"magenta\", fontweight=\"bold\")\n",
    "fig.text(0.34, 0.46, \"Sst\", fontsize=fs, color=\"goldenrod\", fontweight=\"bold\")\n",
    "fig.text(0.21, 0.26, \"Pvalb\", fontsize=fs, color=\"darkred\", fontweight=\"bold\")\n",
    "fig.text(0, 0.98, \"A\", fontsize=10, color=\"k\", fontweight=\"bold\")\n",
    "fig.text(0.41, 0.98, \"B\", fontsize=10, color=\"k\", fontweight=\"bold\")\n",
    "\n",
    "plt.savefig(\"figure_2_V1.pdf\", bbox_inches=\"tight\", pad_inches=0)\n",
    "plt.savefig(\"figure_2_V1.png\", bbox_inches=\"tight\", pad_inches=0)"
   ]
  },
  {
   "cell_type": "code",
   "execution_count": null,
   "id": "c596cb12",
   "metadata": {},
   "outputs": [],
   "source": []
  }
 ],
 "metadata": {
  "kernelspec": {
   "display_name": "hh_sbi_env",
   "language": "python",
   "name": "python3"
  },
  "language_info": {
   "codemirror_mode": {
    "name": "ipython",
    "version": 3
   },
   "file_extension": ".py",
   "mimetype": "text/x-python",
   "name": "python",
   "nbconvert_exporter": "python",
   "pygments_lexer": "ipython3",
   "version": "3.9.6"
  }
 },
 "nbformat": 4,
 "nbformat_minor": 5
}
