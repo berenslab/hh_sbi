{
 "cells": [
  {
   "cell_type": "code",
   "execution_count": 61,
   "id": "4ec70d98-c469-4641-ad6c-3cecb2163de7",
   "metadata": {
    "tags": []
   },
   "outputs": [],
   "source": [
    "import matplotlib as mpl\n",
    "\n",
    "# remove top and right axis from plots\n",
    "mpl.rcParams[\"axes.spines.right\"] = False\n",
    "mpl.rcParams[\"axes.spines.top\"] = False\n",
    "\n",
    "import matplotlib.pyplot as plt\n",
    "import seaborn as sns\n",
    "import numpy as np\n",
    "import pandas as pd\n",
    "import pickle\n",
    "import matplotlib.image as mpimg\n",
    "\n",
    "import warnings\n",
    "\n",
    "import torch\n",
    "\n",
    "from sbi.analysis import pairplot\n",
    "\n",
    "# load and read nwb files\n",
    "from pynwb import NWBHDF5IO\n",
    "\n",
    "import sys\n",
    "sys.path.append('../../code')\n",
    "\n",
    "from ephys_utils import get_time_voltage_current_currindex0_gouwens\n",
    "from simulator import EphysModel_Gouwens\n",
    "from plot_utils import adjust_spines\n",
    "from rnaseqTools import geneSelection\n",
    "\n",
    "from openTSNE import TSNE\n"
   ]
  },
  {
   "cell_type": "markdown",
   "id": "f05ddb19",
   "metadata": {},
   "source": [
    "## Download data"
   ]
  },
  {
   "cell_type": "code",
   "execution_count": 2,
   "id": "bc997e94",
   "metadata": {
    "tags": []
   },
   "outputs": [
    {
     "name": "stdout",
     "output_type": "stream",
     "text": [
      "Data exists.\n"
     ]
    }
   ],
   "source": [
    "def download_raw_data():\n",
    "    import os\n",
    "\n",
    "    cwd = os.getcwd()\n",
    "\n",
    "    if os.path.exists(\"../../data/Gouwens (2020)/raw_data/000020/\"):\n",
    "        print(\"Data exists.\")\n",
    "    else:\n",
    "        os.chdir(\"../../data/Gouwens (2020)/raw_data\")\n",
    "        print(\"Downloading raw data using dandi. This will take a while.\")\n",
    "        !dandi download https://dandiarchive.org/dandiset/000020/draft\n",
    "        os.chdir(cwd)\n",
    "\n",
    "\n",
    "download_raw_data()"
   ]
  },
  {
   "cell_type": "code",
   "execution_count": 3,
   "id": "66687411",
   "metadata": {
    "tags": []
   },
   "outputs": [
    {
     "name": "stdout",
     "output_type": "stream",
     "text": [
      "Data exists.\n",
      "Data exists.\n"
     ]
    }
   ],
   "source": [
    "def download_data():\n",
    "    import os\n",
    "\n",
    "    cwd = os.getcwd()\n",
    "\n",
    "    # download `full_batch.npz` to `/code/save_sims/V1_chunck`\n",
    "    if os.path.exists(\"../../code/save_sims/V1_chunks/full_batch.npz\"):\n",
    "        print(\"Data exists.\")\n",
    "    else:\n",
    "        os.chdir(\"../../code/save_sims/V1_chunks/\")\n",
    "        print(\"downloading `full_batch.npz` to `/code/save_sims/V1_chunck`\")\n",
    "        # !wget https://zenodo.org/records/15026337/files/V1_full_batch.npz\n",
    "        os.chdir(cwd)\n",
    "\n",
    "    # download `best_1000_Euclidean_sims_V1.npz` to `/code/save_sims/`\n",
    "    if os.path.exists(\"../../code/save_sims/best_1000_Euclidean_sims_V1.npz\"):\n",
    "        print(\"Data exists.\")\n",
    "    else:\n",
    "        os.chdir(\"../../code/save_sims/\")\n",
    "        print(\n",
    "            \"downloading `best_1000_Euclidean_sims_V1.npz` to `/code/save_sims/V1_chunks/`\"\n",
    "        )\n",
    "        !wget https://zenodo.org/record/7716391/files/best_1000_Euclidean_sims.npz\n",
    "        os.chdir(cwd)\n",
    "\n",
    "\n",
    "download_data()"
   ]
  },
  {
   "cell_type": "markdown",
   "id": "5c5d8286-e76f-477c-8fc6-14fca92ebe82",
   "metadata": {},
   "source": [
    "### Load observed data\n",
    "Load the summary statistics of raw membrane voltage recordings generated with `../code/preprocess.ipynb`."
   ]
  },
  {
   "cell_type": "code",
   "execution_count": 4,
   "id": "1fd1c5f0-c892-41a6-9192-71f177e0c45f",
   "metadata": {
    "tags": []
   },
   "outputs": [],
   "source": [
    "V1_25degree = pickle.load(open('../../code/pickles/V1_features.pickle', 'rb'))\n",
    "ephys_features = np.array(V1_25degree['X_o'].columns)[:-1]\n",
    "Xo = V1_25degree['X_o'].copy()\n",
    "V1_names = V1_25degree['V1_names']"
   ]
  },
  {
   "cell_type": "code",
   "execution_count": 5,
   "id": "ec6c0557-4ca6-4efd-8fc0-99fa1df297f8",
   "metadata": {
    "tags": []
   },
   "outputs": [
    {
     "data": {
      "text/html": [
       "<div>\n",
       "<style scoped>\n",
       "    .dataframe tbody tr th:only-of-type {\n",
       "        vertical-align: middle;\n",
       "    }\n",
       "\n",
       "    .dataframe tbody tr th {\n",
       "        vertical-align: top;\n",
       "    }\n",
       "\n",
       "    .dataframe thead th {\n",
       "        text-align: right;\n",
       "    }\n",
       "</style>\n",
       "<table border=\"1\" class=\"dataframe\">\n",
       "  <thead>\n",
       "    <tr style=\"text-align: right;\">\n",
       "      <th></th>\n",
       "      <th>AP threshold</th>\n",
       "      <th>AP amplitude</th>\n",
       "      <th>AP width</th>\n",
       "      <th>AHP</th>\n",
       "      <th>3rd AP threshold</th>\n",
       "      <th>3rd AP amplitude</th>\n",
       "      <th>3rd AP width</th>\n",
       "      <th>3rd AHP</th>\n",
       "      <th>AP count</th>\n",
       "      <th>AP count 1st 8th</th>\n",
       "      <th>...</th>\n",
       "      <th>AP average amp adapt</th>\n",
       "      <th>AP CV</th>\n",
       "      <th>ISI adapt</th>\n",
       "      <th>ISI CV</th>\n",
       "      <th>latency</th>\n",
       "      <th>rest $V_{m}$ mean</th>\n",
       "      <th>$V_{m}$ mean</th>\n",
       "      <th>$V_{m}$ std</th>\n",
       "      <th>$V_{m}$ skewness</th>\n",
       "      <th>Current</th>\n",
       "    </tr>\n",
       "    <tr>\n",
       "      <th>cell id</th>\n",
       "      <th></th>\n",
       "      <th></th>\n",
       "      <th></th>\n",
       "      <th></th>\n",
       "      <th></th>\n",
       "      <th></th>\n",
       "      <th></th>\n",
       "      <th></th>\n",
       "      <th></th>\n",
       "      <th></th>\n",
       "      <th></th>\n",
       "      <th></th>\n",
       "      <th></th>\n",
       "      <th></th>\n",
       "      <th></th>\n",
       "      <th></th>\n",
       "      <th></th>\n",
       "      <th></th>\n",
       "      <th></th>\n",
       "      <th></th>\n",
       "      <th></th>\n",
       "    </tr>\n",
       "  </thead>\n",
       "  <tbody>\n",
       "    <tr>\n",
       "      <th>645441106</th>\n",
       "      <td>-53.093750</td>\n",
       "      <td>62.093750</td>\n",
       "      <td>0.340006</td>\n",
       "      <td>-16.468750</td>\n",
       "      <td>-42.875000</td>\n",
       "      <td>48.187500</td>\n",
       "      <td>0.340006</td>\n",
       "      <td>-24.593750</td>\n",
       "      <td>4.615121</td>\n",
       "      <td>2.772589</td>\n",
       "      <td>...</td>\n",
       "      <td>0.482834</td>\n",
       "      <td>-2.751177</td>\n",
       "      <td>0.352667</td>\n",
       "      <td>-2.060089</td>\n",
       "      <td>3.261249</td>\n",
       "      <td>-81.417488</td>\n",
       "      <td>-53.792477</td>\n",
       "      <td>160.576614</td>\n",
       "      <td>1.843890</td>\n",
       "      <td>480.0</td>\n",
       "    </tr>\n",
       "    <tr>\n",
       "      <th>645436619</th>\n",
       "      <td>-51.562500</td>\n",
       "      <td>65.468750</td>\n",
       "      <td>0.280005</td>\n",
       "      <td>-18.531250</td>\n",
       "      <td>-47.375000</td>\n",
       "      <td>58.343750</td>\n",
       "      <td>0.300005</td>\n",
       "      <td>-21.093750</td>\n",
       "      <td>4.844187</td>\n",
       "      <td>2.890372</td>\n",
       "      <td>...</td>\n",
       "      <td>0.485124</td>\n",
       "      <td>-3.034720</td>\n",
       "      <td>0.151806</td>\n",
       "      <td>-2.459978</td>\n",
       "      <td>3.252778</td>\n",
       "      <td>-79.836044</td>\n",
       "      <td>-54.923519</td>\n",
       "      <td>183.109543</td>\n",
       "      <td>2.437261</td>\n",
       "      <td>400.0</td>\n",
       "    </tr>\n",
       "    <tr>\n",
       "      <th>651145519</th>\n",
       "      <td>-59.593750</td>\n",
       "      <td>51.218750</td>\n",
       "      <td>0.400007</td>\n",
       "      <td>-16.000000</td>\n",
       "      <td>-57.000000</td>\n",
       "      <td>48.718750</td>\n",
       "      <td>0.420007</td>\n",
       "      <td>-17.312500</td>\n",
       "      <td>4.521789</td>\n",
       "      <td>2.639057</td>\n",
       "      <td>...</td>\n",
       "      <td>0.488846</td>\n",
       "      <td>-3.305940</td>\n",
       "      <td>0.076961</td>\n",
       "      <td>-2.185712</td>\n",
       "      <td>3.298873</td>\n",
       "      <td>-89.854729</td>\n",
       "      <td>-62.534771</td>\n",
       "      <td>144.105026</td>\n",
       "      <td>1.968129</td>\n",
       "      <td>300.0</td>\n",
       "    </tr>\n",
       "    <tr>\n",
       "      <th>741277063</th>\n",
       "      <td>-51.799999</td>\n",
       "      <td>52.799999</td>\n",
       "      <td>0.440007</td>\n",
       "      <td>-11.112499</td>\n",
       "      <td>-48.131248</td>\n",
       "      <td>49.981248</td>\n",
       "      <td>0.460008</td>\n",
       "      <td>-11.443752</td>\n",
       "      <td>3.295837</td>\n",
       "      <td>2.079442</td>\n",
       "      <td>...</td>\n",
       "      <td>0.426815</td>\n",
       "      <td>-3.059940</td>\n",
       "      <td>-0.049025</td>\n",
       "      <td>-1.404416</td>\n",
       "      <td>2.959171</td>\n",
       "      <td>-79.567116</td>\n",
       "      <td>-51.528084</td>\n",
       "      <td>41.744732</td>\n",
       "      <td>3.956052</td>\n",
       "      <td>150.0</td>\n",
       "    </tr>\n",
       "    <tr>\n",
       "      <th>741230065</th>\n",
       "      <td>-43.256248</td>\n",
       "      <td>58.649998</td>\n",
       "      <td>0.400007</td>\n",
       "      <td>-14.400002</td>\n",
       "      <td>-36.356247</td>\n",
       "      <td>51.712496</td>\n",
       "      <td>0.420007</td>\n",
       "      <td>-17.150002</td>\n",
       "      <td>1.791759</td>\n",
       "      <td>1.791759</td>\n",
       "      <td>...</td>\n",
       "      <td>0.046370</td>\n",
       "      <td>-2.938385</td>\n",
       "      <td>0.567632</td>\n",
       "      <td>-1.285786</td>\n",
       "      <td>2.857731</td>\n",
       "      <td>-70.924309</td>\n",
       "      <td>-42.626209</td>\n",
       "      <td>9.699920</td>\n",
       "      <td>2.118063</td>\n",
       "      <td>220.0</td>\n",
       "    </tr>\n",
       "    <tr>\n",
       "      <th>...</th>\n",
       "      <td>...</td>\n",
       "      <td>...</td>\n",
       "      <td>...</td>\n",
       "      <td>...</td>\n",
       "      <td>...</td>\n",
       "      <td>...</td>\n",
       "      <td>...</td>\n",
       "      <td>...</td>\n",
       "      <td>...</td>\n",
       "      <td>...</td>\n",
       "      <td>...</td>\n",
       "      <td>...</td>\n",
       "      <td>...</td>\n",
       "      <td>...</td>\n",
       "      <td>...</td>\n",
       "      <td>...</td>\n",
       "      <td>...</td>\n",
       "      <td>...</td>\n",
       "      <td>...</td>\n",
       "      <td>...</td>\n",
       "      <td>...</td>\n",
       "    </tr>\n",
       "    <tr>\n",
       "      <th>717770570</th>\n",
       "      <td>-48.593750</td>\n",
       "      <td>66.843750</td>\n",
       "      <td>0.580010</td>\n",
       "      <td>-11.625000</td>\n",
       "      <td>-45.968750</td>\n",
       "      <td>62.187500</td>\n",
       "      <td>0.800013</td>\n",
       "      <td>-18.000000</td>\n",
       "      <td>2.833213</td>\n",
       "      <td>1.609438</td>\n",
       "      <td>...</td>\n",
       "      <td>0.412468</td>\n",
       "      <td>-3.490165</td>\n",
       "      <td>0.201740</td>\n",
       "      <td>-2.512286</td>\n",
       "      <td>3.585247</td>\n",
       "      <td>-80.705902</td>\n",
       "      <td>-57.657295</td>\n",
       "      <td>100.075493</td>\n",
       "      <td>2.574045</td>\n",
       "      <td>250.0</td>\n",
       "    </tr>\n",
       "    <tr>\n",
       "      <th>717636591</th>\n",
       "      <td>-54.968750</td>\n",
       "      <td>61.687500</td>\n",
       "      <td>0.660011</td>\n",
       "      <td>-8.437500</td>\n",
       "      <td>-49.656250</td>\n",
       "      <td>51.062500</td>\n",
       "      <td>1.020017</td>\n",
       "      <td>-10.562500</td>\n",
       "      <td>3.713572</td>\n",
       "      <td>2.197225</td>\n",
       "      <td>...</td>\n",
       "      <td>0.431094</td>\n",
       "      <td>-2.916437</td>\n",
       "      <td>-0.143272</td>\n",
       "      <td>-1.585328</td>\n",
       "      <td>3.369436</td>\n",
       "      <td>-86.586800</td>\n",
       "      <td>-53.929966</td>\n",
       "      <td>150.763397</td>\n",
       "      <td>1.816008</td>\n",
       "      <td>340.0</td>\n",
       "    </tr>\n",
       "    <tr>\n",
       "      <th>717738308</th>\n",
       "      <td>-47.468750</td>\n",
       "      <td>75.468750</td>\n",
       "      <td>0.420007</td>\n",
       "      <td>-10.687500</td>\n",
       "      <td>-44.687500</td>\n",
       "      <td>66.812500</td>\n",
       "      <td>0.480008</td>\n",
       "      <td>-7.031250</td>\n",
       "      <td>4.406719</td>\n",
       "      <td>2.890372</td>\n",
       "      <td>...</td>\n",
       "      <td>0.456655</td>\n",
       "      <td>-2.996790</td>\n",
       "      <td>-0.250411</td>\n",
       "      <td>-1.294125</td>\n",
       "      <td>3.477609</td>\n",
       "      <td>-69.032494</td>\n",
       "      <td>-43.338638</td>\n",
       "      <td>157.119034</td>\n",
       "      <td>2.703457</td>\n",
       "      <td>220.0</td>\n",
       "    </tr>\n",
       "    <tr>\n",
       "      <th>717732669</th>\n",
       "      <td>-63.031250</td>\n",
       "      <td>69.937500</td>\n",
       "      <td>0.620010</td>\n",
       "      <td>0.218750</td>\n",
       "      <td>-44.406250</td>\n",
       "      <td>48.781250</td>\n",
       "      <td>0.900015</td>\n",
       "      <td>-10.437500</td>\n",
       "      <td>2.890372</td>\n",
       "      <td>2.302585</td>\n",
       "      <td>...</td>\n",
       "      <td>0.058796</td>\n",
       "      <td>-1.140908</td>\n",
       "      <td>0.753628</td>\n",
       "      <td>-1.285328</td>\n",
       "      <td>3.291461</td>\n",
       "      <td>-79.763519</td>\n",
       "      <td>-42.655869</td>\n",
       "      <td>83.646301</td>\n",
       "      <td>-2.285787</td>\n",
       "      <td>230.0</td>\n",
       "    </tr>\n",
       "    <tr>\n",
       "      <th>717675239</th>\n",
       "      <td>-49.281250</td>\n",
       "      <td>55.281250</td>\n",
       "      <td>0.640011</td>\n",
       "      <td>-11.281250</td>\n",
       "      <td>-45.593750</td>\n",
       "      <td>49.093750</td>\n",
       "      <td>1.040017</td>\n",
       "      <td>-15.531250</td>\n",
       "      <td>3.433987</td>\n",
       "      <td>1.945910</td>\n",
       "      <td>...</td>\n",
       "      <td>0.457202</td>\n",
       "      <td>-3.531356</td>\n",
       "      <td>0.139827</td>\n",
       "      <td>-2.391539</td>\n",
       "      <td>3.481308</td>\n",
       "      <td>-84.901329</td>\n",
       "      <td>-55.625225</td>\n",
       "      <td>133.852203</td>\n",
       "      <td>2.173623</td>\n",
       "      <td>340.0</td>\n",
       "    </tr>\n",
       "  </tbody>\n",
       "</table>\n",
       "<p>4107 rows × 24 columns</p>\n",
       "</div>"
      ],
      "text/plain": [
       "           AP threshold  AP amplitude  AP width        AHP  3rd AP threshold  \\\n",
       "cell id                                                                        \n",
       "645441106    -53.093750     62.093750  0.340006 -16.468750        -42.875000   \n",
       "645436619    -51.562500     65.468750  0.280005 -18.531250        -47.375000   \n",
       "651145519    -59.593750     51.218750  0.400007 -16.000000        -57.000000   \n",
       "741277063    -51.799999     52.799999  0.440007 -11.112499        -48.131248   \n",
       "741230065    -43.256248     58.649998  0.400007 -14.400002        -36.356247   \n",
       "...                 ...           ...       ...        ...               ...   \n",
       "717770570    -48.593750     66.843750  0.580010 -11.625000        -45.968750   \n",
       "717636591    -54.968750     61.687500  0.660011  -8.437500        -49.656250   \n",
       "717738308    -47.468750     75.468750  0.420007 -10.687500        -44.687500   \n",
       "717732669    -63.031250     69.937500  0.620010   0.218750        -44.406250   \n",
       "717675239    -49.281250     55.281250  0.640011 -11.281250        -45.593750   \n",
       "\n",
       "           3rd AP amplitude  3rd AP width    3rd AHP  AP count  \\\n",
       "cell id                                                          \n",
       "645441106         48.187500      0.340006 -24.593750  4.615121   \n",
       "645436619         58.343750      0.300005 -21.093750  4.844187   \n",
       "651145519         48.718750      0.420007 -17.312500  4.521789   \n",
       "741277063         49.981248      0.460008 -11.443752  3.295837   \n",
       "741230065         51.712496      0.420007 -17.150002  1.791759   \n",
       "...                     ...           ...        ...       ...   \n",
       "717770570         62.187500      0.800013 -18.000000  2.833213   \n",
       "717636591         51.062500      1.020017 -10.562500  3.713572   \n",
       "717738308         66.812500      0.480008  -7.031250  4.406719   \n",
       "717732669         48.781250      0.900015 -10.437500  2.890372   \n",
       "717675239         49.093750      1.040017 -15.531250  3.433987   \n",
       "\n",
       "           AP count 1st 8th  ...  AP average amp adapt     AP CV  ISI adapt  \\\n",
       "cell id                      ...                                              \n",
       "645441106          2.772589  ...              0.482834 -2.751177   0.352667   \n",
       "645436619          2.890372  ...              0.485124 -3.034720   0.151806   \n",
       "651145519          2.639057  ...              0.488846 -3.305940   0.076961   \n",
       "741277063          2.079442  ...              0.426815 -3.059940  -0.049025   \n",
       "741230065          1.791759  ...              0.046370 -2.938385   0.567632   \n",
       "...                     ...  ...                   ...       ...        ...   \n",
       "717770570          1.609438  ...              0.412468 -3.490165   0.201740   \n",
       "717636591          2.197225  ...              0.431094 -2.916437  -0.143272   \n",
       "717738308          2.890372  ...              0.456655 -2.996790  -0.250411   \n",
       "717732669          2.302585  ...              0.058796 -1.140908   0.753628   \n",
       "717675239          1.945910  ...              0.457202 -3.531356   0.139827   \n",
       "\n",
       "             ISI CV   latency  rest $V_{m}$ mean  $V_{m}$ mean  $V_{m}$ std  \\\n",
       "cell id                                                                       \n",
       "645441106 -2.060089  3.261249         -81.417488    -53.792477   160.576614   \n",
       "645436619 -2.459978  3.252778         -79.836044    -54.923519   183.109543   \n",
       "651145519 -2.185712  3.298873         -89.854729    -62.534771   144.105026   \n",
       "741277063 -1.404416  2.959171         -79.567116    -51.528084    41.744732   \n",
       "741230065 -1.285786  2.857731         -70.924309    -42.626209     9.699920   \n",
       "...             ...       ...                ...           ...          ...   \n",
       "717770570 -2.512286  3.585247         -80.705902    -57.657295   100.075493   \n",
       "717636591 -1.585328  3.369436         -86.586800    -53.929966   150.763397   \n",
       "717738308 -1.294125  3.477609         -69.032494    -43.338638   157.119034   \n",
       "717732669 -1.285328  3.291461         -79.763519    -42.655869    83.646301   \n",
       "717675239 -2.391539  3.481308         -84.901329    -55.625225   133.852203   \n",
       "\n",
       "           $V_{m}$ skewness  Current  \n",
       "cell id                               \n",
       "645441106          1.843890    480.0  \n",
       "645436619          2.437261    400.0  \n",
       "651145519          1.968129    300.0  \n",
       "741277063          3.956052    150.0  \n",
       "741230065          2.118063    220.0  \n",
       "...                     ...      ...  \n",
       "717770570          2.574045    250.0  \n",
       "717636591          1.816008    340.0  \n",
       "717738308          2.703457    220.0  \n",
       "717732669         -2.285787    230.0  \n",
       "717675239          2.173623    340.0  \n",
       "\n",
       "[4107 rows x 24 columns]"
      ]
     },
     "execution_count": 5,
     "metadata": {},
     "output_type": "execute_result"
    }
   ],
   "source": [
    "Xo"
   ]
  },
  {
   "cell_type": "code",
   "execution_count": 6,
   "id": "80c659c6",
   "metadata": {},
   "outputs": [],
   "source": [
    "v1_meta = pd.read_csv('../../data/Gouwens (2020)/20200625_patchseq_metadata_mouse.csv')"
   ]
  },
  {
   "cell_type": "code",
   "execution_count": 7,
   "id": "9d43dc84",
   "metadata": {},
   "outputs": [],
   "source": [
    "v1_meta = v1_meta.set_index('ephys_session_id')"
   ]
  },
  {
   "cell_type": "code",
   "execution_count": 8,
   "id": "155bfcfb",
   "metadata": {},
   "outputs": [
    {
     "data": {
      "text/plain": [
       "(4435, 21)"
      ]
     },
     "execution_count": 8,
     "metadata": {},
     "output_type": "execute_result"
    }
   ],
   "source": [
    "v1_meta.shape"
   ]
  },
  {
   "cell_type": "code",
   "execution_count": 9,
   "id": "897ae73c",
   "metadata": {},
   "outputs": [],
   "source": [
    "v1_meta = v1_meta.reindex(Xo.index.astype('int64'))"
   ]
  },
  {
   "cell_type": "code",
   "execution_count": 10,
   "id": "8874efc9",
   "metadata": {},
   "outputs": [
    {
     "data": {
      "text/plain": [
       "(4107, 21)"
      ]
     },
     "execution_count": 10,
     "metadata": {},
     "output_type": "execute_result"
    }
   ],
   "source": [
    "v1_meta.shape"
   ]
  },
  {
   "cell_type": "code",
   "execution_count": 11,
   "id": "acce8aae",
   "metadata": {},
   "outputs": [
    {
     "data": {
      "text/html": [
       "<div>\n",
       "<style scoped>\n",
       "    .dataframe tbody tr th:only-of-type {\n",
       "        vertical-align: middle;\n",
       "    }\n",
       "\n",
       "    .dataframe tbody tr th {\n",
       "        vertical-align: top;\n",
       "    }\n",
       "\n",
       "    .dataframe thead th {\n",
       "        text-align: right;\n",
       "    }\n",
       "</style>\n",
       "<table border=\"1\" class=\"dataframe\">\n",
       "  <thead>\n",
       "    <tr style=\"text-align: right;\">\n",
       "      <th></th>\n",
       "      <th>project</th>\n",
       "      <th>cell_specimen_id</th>\n",
       "      <th>cell_specimen_name</th>\n",
       "      <th>hemisphere</th>\n",
       "      <th>structure</th>\n",
       "      <th>donor_id</th>\n",
       "      <th>donor_name</th>\n",
       "      <th>biological_sex</th>\n",
       "      <th>age</th>\n",
       "      <th>ethnicity</th>\n",
       "      <th>...</th>\n",
       "      <th>full_genotype</th>\n",
       "      <th>dendrite_type</th>\n",
       "      <th>apical_dendrite_status</th>\n",
       "      <th>neuron_reconstruction_type</th>\n",
       "      <th>cell_soma_normalized_depth</th>\n",
       "      <th>depth_from_pia_um</th>\n",
       "      <th>transcriptomics_sample_id</th>\n",
       "      <th>transcriptomics_batch</th>\n",
       "      <th>corresponding_AIT2.3.1_ID</th>\n",
       "      <th>corresponding_AIT2.3.1_alias</th>\n",
       "    </tr>\n",
       "    <tr>\n",
       "      <th>cell id</th>\n",
       "      <th></th>\n",
       "      <th></th>\n",
       "      <th></th>\n",
       "      <th></th>\n",
       "      <th></th>\n",
       "      <th></th>\n",
       "      <th></th>\n",
       "      <th></th>\n",
       "      <th></th>\n",
       "      <th></th>\n",
       "      <th></th>\n",
       "      <th></th>\n",
       "      <th></th>\n",
       "      <th></th>\n",
       "      <th></th>\n",
       "      <th></th>\n",
       "      <th></th>\n",
       "      <th></th>\n",
       "      <th></th>\n",
       "      <th></th>\n",
       "      <th></th>\n",
       "    </tr>\n",
       "  </thead>\n",
       "  <tbody>\n",
       "    <tr>\n",
       "      <th>645441106</th>\n",
       "      <td>mIVSCC-MET</td>\n",
       "      <td>645441139</td>\n",
       "      <td>Slc17a8-IRES2-Cre;Slc32a1-IRES2-FlpO;Ai65-3547...</td>\n",
       "      <td>left</td>\n",
       "      <td>VISp5</td>\n",
       "      <td>354752</td>\n",
       "      <td>Slc17a8-IRES2-Cre;Slc32a1-IRES2-FlpO-354752-Ai65</td>\n",
       "      <td>F</td>\n",
       "      <td>P55</td>\n",
       "      <td>NaN</td>\n",
       "      <td>...</td>\n",
       "      <td>Slc17a8-IRES2-Cre/wt;Slc32a1-IRES2-FlpO/wt;Ai6...</td>\n",
       "      <td>aspiny</td>\n",
       "      <td>NaN</td>\n",
       "      <td>NaN</td>\n",
       "      <td>NaN</td>\n",
       "      <td>NaN</td>\n",
       "      <td>SM-GE643_S179_E1-50</td>\n",
       "      <td>RSC-131</td>\n",
       "      <td>CS180626100055</td>\n",
       "      <td>Pvalb Sema3e Kank4</td>\n",
       "    </tr>\n",
       "    <tr>\n",
       "      <th>645436619</th>\n",
       "      <td>mIVSCC-MET</td>\n",
       "      <td>645436635</td>\n",
       "      <td>Slc17a8-IRES2-Cre;Slc32a1-IRES2-FlpO;Ai65-3547...</td>\n",
       "      <td>right</td>\n",
       "      <td>VISp5</td>\n",
       "      <td>354752</td>\n",
       "      <td>Slc17a8-IRES2-Cre;Slc32a1-IRES2-FlpO-354752-Ai65</td>\n",
       "      <td>F</td>\n",
       "      <td>P55</td>\n",
       "      <td>NaN</td>\n",
       "      <td>...</td>\n",
       "      <td>Slc17a8-IRES2-Cre/wt;Slc32a1-IRES2-FlpO/wt;Ai6...</td>\n",
       "      <td>aspiny</td>\n",
       "      <td>NaN</td>\n",
       "      <td>NaN</td>\n",
       "      <td>NaN</td>\n",
       "      <td>NaN</td>\n",
       "      <td>SM-GE66I_S152_E1-50</td>\n",
       "      <td>RSC-132</td>\n",
       "      <td>CS180626100057</td>\n",
       "      <td>Pvalb Reln Tac1</td>\n",
       "    </tr>\n",
       "    <tr>\n",
       "      <th>651145519</th>\n",
       "      <td>mIVSCC-MET</td>\n",
       "      <td>651145605</td>\n",
       "      <td>Tac1-IRES2-Cre;Sst-IRES-FlpO;Ai65-360614.04.01.02</td>\n",
       "      <td>left</td>\n",
       "      <td>VISp6a</td>\n",
       "      <td>360614</td>\n",
       "      <td>Tac1-IRES2-Cre;Sst-IRES-FlpO;Ai65-360614</td>\n",
       "      <td>M</td>\n",
       "      <td>P54</td>\n",
       "      <td>NaN</td>\n",
       "      <td>...</td>\n",
       "      <td>Tac1-IRES2-Cre/wt;Sst-IRES-FlpO/wt;Ai65(RCFL-t...</td>\n",
       "      <td>aspiny</td>\n",
       "      <td>NaN</td>\n",
       "      <td>NaN</td>\n",
       "      <td>NaN</td>\n",
       "      <td>NaN</td>\n",
       "      <td>SM-GE65Z_S085_E1-50</td>\n",
       "      <td>RSC-135</td>\n",
       "      <td>CS180626100052</td>\n",
       "      <td>Pvalb Th Sst</td>\n",
       "    </tr>\n",
       "    <tr>\n",
       "      <th>741277063</th>\n",
       "      <td>mIVSCC-MET</td>\n",
       "      <td>741277279</td>\n",
       "      <td>Oxtr-T2A-Cre;Ai14-408890.04.02.03</td>\n",
       "      <td>right</td>\n",
       "      <td>VISp4</td>\n",
       "      <td>408890</td>\n",
       "      <td>Oxtr-T2A-Cre;Ai14-408890</td>\n",
       "      <td>M</td>\n",
       "      <td>P57</td>\n",
       "      <td>NaN</td>\n",
       "      <td>...</td>\n",
       "      <td>Oxtr-T2A-Cre/wt;Ai14(RCL-tdT)/wt</td>\n",
       "      <td>aspiny</td>\n",
       "      <td>NaN</td>\n",
       "      <td>NaN</td>\n",
       "      <td>NaN</td>\n",
       "      <td>NaN</td>\n",
       "      <td>SM-GE95N_S126_E1-50</td>\n",
       "      <td>RSC-174</td>\n",
       "      <td>CS180626100034</td>\n",
       "      <td>Sst Calb2 Necab1</td>\n",
       "    </tr>\n",
       "    <tr>\n",
       "      <th>741230065</th>\n",
       "      <td>mIVSCC-MET</td>\n",
       "      <td>741230081</td>\n",
       "      <td>Oxtr-T2A-Cre;Ai14-408890.04.02.01</td>\n",
       "      <td>right</td>\n",
       "      <td>VISp5</td>\n",
       "      <td>408890</td>\n",
       "      <td>Oxtr-T2A-Cre;Ai14-408890</td>\n",
       "      <td>M</td>\n",
       "      <td>P57</td>\n",
       "      <td>NaN</td>\n",
       "      <td>...</td>\n",
       "      <td>Oxtr-T2A-Cre/wt;Ai14(RCL-tdT)/wt</td>\n",
       "      <td>aspiny</td>\n",
       "      <td>NaN</td>\n",
       "      <td>NaN</td>\n",
       "      <td>NaN</td>\n",
       "      <td>NaN</td>\n",
       "      <td>SM-GE95N_S124_E1-50</td>\n",
       "      <td>RSC-174</td>\n",
       "      <td>CS180626100043</td>\n",
       "      <td>Sst Hpse Cbln4</td>\n",
       "    </tr>\n",
       "  </tbody>\n",
       "</table>\n",
       "<p>5 rows × 21 columns</p>\n",
       "</div>"
      ],
      "text/plain": [
       "              project  cell_specimen_id  \\\n",
       "cell id                                   \n",
       "645441106  mIVSCC-MET         645441139   \n",
       "645436619  mIVSCC-MET         645436635   \n",
       "651145519  mIVSCC-MET         651145605   \n",
       "741277063  mIVSCC-MET         741277279   \n",
       "741230065  mIVSCC-MET         741230081   \n",
       "\n",
       "                                          cell_specimen_name hemisphere  \\\n",
       "cell id                                                                   \n",
       "645441106  Slc17a8-IRES2-Cre;Slc32a1-IRES2-FlpO;Ai65-3547...       left   \n",
       "645436619  Slc17a8-IRES2-Cre;Slc32a1-IRES2-FlpO;Ai65-3547...      right   \n",
       "651145519  Tac1-IRES2-Cre;Sst-IRES-FlpO;Ai65-360614.04.01.02       left   \n",
       "741277063                  Oxtr-T2A-Cre;Ai14-408890.04.02.03      right   \n",
       "741230065                  Oxtr-T2A-Cre;Ai14-408890.04.02.01      right   \n",
       "\n",
       "          structure  donor_id  \\\n",
       "cell id                         \n",
       "645441106     VISp5    354752   \n",
       "645436619     VISp5    354752   \n",
       "651145519    VISp6a    360614   \n",
       "741277063     VISp4    408890   \n",
       "741230065     VISp5    408890   \n",
       "\n",
       "                                                 donor_name biological_sex  \\\n",
       "cell id                                                                      \n",
       "645441106  Slc17a8-IRES2-Cre;Slc32a1-IRES2-FlpO-354752-Ai65              F   \n",
       "645436619  Slc17a8-IRES2-Cre;Slc32a1-IRES2-FlpO-354752-Ai65              F   \n",
       "651145519          Tac1-IRES2-Cre;Sst-IRES-FlpO;Ai65-360614              M   \n",
       "741277063                          Oxtr-T2A-Cre;Ai14-408890              M   \n",
       "741230065                          Oxtr-T2A-Cre;Ai14-408890              M   \n",
       "\n",
       "           age  ethnicity  ...  \\\n",
       "cell id                    ...   \n",
       "645441106  P55        NaN  ...   \n",
       "645436619  P55        NaN  ...   \n",
       "651145519  P54        NaN  ...   \n",
       "741277063  P57        NaN  ...   \n",
       "741230065  P57        NaN  ...   \n",
       "\n",
       "                                               full_genotype dendrite_type  \\\n",
       "cell id                                                                      \n",
       "645441106  Slc17a8-IRES2-Cre/wt;Slc32a1-IRES2-FlpO/wt;Ai6...        aspiny   \n",
       "645436619  Slc17a8-IRES2-Cre/wt;Slc32a1-IRES2-FlpO/wt;Ai6...        aspiny   \n",
       "651145519  Tac1-IRES2-Cre/wt;Sst-IRES-FlpO/wt;Ai65(RCFL-t...        aspiny   \n",
       "741277063                   Oxtr-T2A-Cre/wt;Ai14(RCL-tdT)/wt        aspiny   \n",
       "741230065                   Oxtr-T2A-Cre/wt;Ai14(RCL-tdT)/wt        aspiny   \n",
       "\n",
       "          apical_dendrite_status neuron_reconstruction_type  \\\n",
       "cell id                                                       \n",
       "645441106                    NaN                        NaN   \n",
       "645436619                    NaN                        NaN   \n",
       "651145519                    NaN                        NaN   \n",
       "741277063                    NaN                        NaN   \n",
       "741230065                    NaN                        NaN   \n",
       "\n",
       "          cell_soma_normalized_depth  depth_from_pia_um  \\\n",
       "cell id                                                   \n",
       "645441106                        NaN                NaN   \n",
       "645436619                        NaN                NaN   \n",
       "651145519                        NaN                NaN   \n",
       "741277063                        NaN                NaN   \n",
       "741230065                        NaN                NaN   \n",
       "\n",
       "           transcriptomics_sample_id transcriptomics_batch  \\\n",
       "cell id                                                      \n",
       "645441106        SM-GE643_S179_E1-50               RSC-131   \n",
       "645436619        SM-GE66I_S152_E1-50               RSC-132   \n",
       "651145519        SM-GE65Z_S085_E1-50               RSC-135   \n",
       "741277063        SM-GE95N_S126_E1-50               RSC-174   \n",
       "741230065        SM-GE95N_S124_E1-50               RSC-174   \n",
       "\n",
       "          corresponding_AIT2.3.1_ID corresponding_AIT2.3.1_alias  \n",
       "cell id                                                           \n",
       "645441106            CS180626100055           Pvalb Sema3e Kank4  \n",
       "645436619            CS180626100057              Pvalb Reln Tac1  \n",
       "651145519            CS180626100052                 Pvalb Th Sst  \n",
       "741277063            CS180626100034             Sst Calb2 Necab1  \n",
       "741230065            CS180626100043               Sst Hpse Cbln4  \n",
       "\n",
       "[5 rows x 21 columns]"
      ]
     },
     "execution_count": 11,
     "metadata": {},
     "output_type": "execute_result"
    }
   ],
   "source": [
    "v1_meta.head()"
   ]
  },
  {
   "cell_type": "code",
   "execution_count": 12,
   "id": "51bcf674",
   "metadata": {},
   "outputs": [],
   "source": [
    "celltypes = v1_meta['corresponding_AIT2.3.1_alias']"
   ]
  },
  {
   "cell_type": "code",
   "execution_count": 13,
   "id": "c54a6d43-0101-4ad9-8db8-f0ad9017a870",
   "metadata": {
    "tags": []
   },
   "outputs": [],
   "source": [
    "ephys_features_w_units = np.array(\n",
    "    [\n",
    "        \"AP threshold (mV)\",\n",
    "        \"AP amplitude (mV)\",\n",
    "        \"AP width (ms)\",\n",
    "        \"AHP (mV)\",\n",
    "        \"3rd AP threshold (mV)\",\n",
    "        \"3rd AP amplitude (mV)\",\n",
    "        \"3rd AP width (ms)\",\n",
    "        \"3rd AHP (mV)\",\n",
    "        \"AP count\",\n",
    "        \"AP count 1st 8th\",\n",
    "        \"AP count 1st quarter\",\n",
    "        \"AP count 1st half\",\n",
    "        \"AP count 2nd half\",\n",
    "        \"AP amp adapt\",\n",
    "        \"AP average amp adapt\",\n",
    "        \"AP CV\",\n",
    "        \"ISI adapt\",\n",
    "        \"ISI CV\",\n",
    "        \"Latency (ms)\",\n",
    "        \"rest $V_{m}$ mean (mV)\",\n",
    "        \"$V_{m}$ mean (mV)\",\n",
    "        \"$V_{m}$ std (mV)\",\n",
    "        \"$V_{m}$ skewness\",\n",
    "    ],\n",
    "    dtype=object,\n",
    ")"
   ]
  },
  {
   "cell_type": "code",
   "execution_count": 14,
   "id": "db03d8ba-9cd0-49e4-ad45-263cafd15d35",
   "metadata": {
    "tags": []
   },
   "outputs": [],
   "source": [
    "annotations = pd.read_csv(\"../../data/cluster.annotation.csv\", index_col=0)\n",
    "cellTypeColors = {}\n",
    "for celltype in np.unique(annotations[\"cluster_label\"].values):\n",
    "    cellTypeColors.update(\n",
    "        {\n",
    "            celltype: annotations.iloc[\n",
    "                np.where(annotations[\"cluster_label\"] == celltype)[0][0], :\n",
    "            ][\"cluster_color\"]\n",
    "        }\n",
    "    )"
   ]
  },
  {
   "cell_type": "code",
   "execution_count": 15,
   "id": "b3554d9d",
   "metadata": {},
   "outputs": [
    {
     "data": {
      "text/plain": [
       "116"
      ]
     },
     "execution_count": 15,
     "metadata": {},
     "output_type": "execute_result"
    }
   ],
   "source": [
    "len(list(cellTypeColors.keys())) # number of cell types"
   ]
  },
  {
   "cell_type": "code",
   "execution_count": 16,
   "id": "05b2cb83",
   "metadata": {},
   "outputs": [
    {
     "data": {
      "text/plain": [
       "False"
      ]
     },
     "execution_count": 16,
     "metadata": {},
     "output_type": "execute_result"
    }
   ],
   "source": [
    "'Lamp5 Lsp1' in cellTypeColors"
   ]
  },
  {
   "cell_type": "code",
   "execution_count": 17,
   "id": "faa9a6de",
   "metadata": {},
   "outputs": [],
   "source": [
    "colors = np.array([cellTypeColors[celltype] if celltype in cellTypeColors else 'grey' for celltype in celltypes ])"
   ]
  },
  {
   "cell_type": "code",
   "execution_count": 18,
   "id": "47f4fc98-e23f-4f23-9dde-87053027a56a",
   "metadata": {
    "tags": []
   },
   "outputs": [],
   "source": [
    "dir_locs = []\n",
    "for cell_name in Xo.index:\n",
    "    dir_locs.append('../'+\n",
    "        np.array(V1_25degree[\"V1_names\"])[\n",
    "            np.where(Xo.index == cell_name)[0][0]\n",
    "        ]\n",
    "    )"
   ]
  },
  {
   "cell_type": "code",
   "execution_count": 19,
   "id": "4dbcf1c2-fedb-49f1-aba4-8dd67dee391a",
   "metadata": {
    "tags": []
   },
   "outputs": [],
   "source": [
    "model_param_names = np.array(['C', r'$R_{input}$', r'$\\tau$', r'$g_{Nat}$', r'$g_{Na}$', r'$g_{Kd}$', r'$g_{M}$',\n",
    "                         r'$g_{Kv31}$', r'$g_{L}$', r'$E_{leak}$', r'$\\tau_{max}$', 'VT', 'rate_to_SS_factor', 'I'])\n",
    "prior_min = [0.1,  20,  0.1,    0,        0,      0,      0,      0,      0, -130,    50,    -90,   0.1,   20]\n",
    "prior_max = [15,   1000,   70,   250,     100,      30,    3,     250,     3,  -50,  4000,   -35,    3,   870]"
   ]
  },
  {
   "cell_type": "code",
   "execution_count": 20,
   "id": "250d29a6",
   "metadata": {},
   "outputs": [],
   "source": [
    "celltype_Vip, celltype_Sst, celltype_Lamp5, celltype_Pvalb, celltype_Sncg, celltype_Serpinf1 = \\\n",
    "    [False]*celltypes.shape[0], [False]*celltypes.shape[0], [False]*celltypes.shape[0], \\\n",
    "        [False]*celltypes.shape[0], [False]*celltypes.shape[0], [False]*celltypes.shape[0]\n",
    "\n",
    "for i, ct in enumerate(celltypes):\n",
    "    if isinstance(ct, str):\n",
    "        if ct.split(' ')[0]=='Vip':\n",
    "            celltype_Vip[i]=True\n",
    "        elif ct.split(' ')[0]=='Sst':\n",
    "            celltype_Sst[i]=True\n",
    "        elif ct.split(' ')[0]=='Lamp5':\n",
    "            celltype_Lamp5[i]=True\n",
    "        elif ct.split(' ')[0]=='Pvalb':\n",
    "            celltype_Pvalb[i]=True\n",
    "        elif ct.split(' ')[0]=='Sncg':\n",
    "            celltype_Sncg[i]=True\n",
    "        elif ct.split(' ')[0]=='Serpinf1':\n",
    "            celltype_Serpinf1[i]=True"
   ]
  },
  {
   "cell_type": "code",
   "execution_count": 21,
   "id": "2ec7f9b2",
   "metadata": {},
   "outputs": [
    {
     "name": "stdout",
     "output_type": "stream",
     "text": [
      "# Vip cells:  725\n",
      "# Sst cells:  1678\n",
      "# Lamp 5 cells:  449\n",
      "# Pvalb cells:  828\n",
      "# Sncg cells:  228\n",
      "# Serpinf1 cells:  45\n"
     ]
    }
   ],
   "source": [
    "print('# Vip cells: ', sum(celltype_Vip))\n",
    "print('# Sst cells: ', sum(celltype_Sst))\n",
    "print('# Lamp 5 cells: ', sum(celltype_Lamp5))\n",
    "print('# Pvalb cells: ', sum(celltype_Pvalb))\n",
    "print('# Sncg cells: ', sum(celltype_Sncg))\n",
    "print('# Serpinf1 cells: ', sum(celltype_Serpinf1))\n"
   ]
  },
  {
   "cell_type": "code",
   "execution_count": 22,
   "id": "3a7edcf2",
   "metadata": {},
   "outputs": [
    {
     "data": {
      "text/plain": [
       "3953"
      ]
     },
     "execution_count": 22,
     "metadata": {},
     "output_type": "execute_result"
    }
   ],
   "source": [
    "725+1678+449+828+228+45"
   ]
  },
  {
   "cell_type": "code",
   "execution_count": 23,
   "id": "dfce153a",
   "metadata": {},
   "outputs": [
    {
     "data": {
      "text/plain": [
       "(4107, 24)"
      ]
     },
     "execution_count": 23,
     "metadata": {},
     "output_type": "execute_result"
    }
   ],
   "source": [
    "Xo.shape"
   ]
  },
  {
   "cell_type": "markdown",
   "id": "f4a25cbb",
   "metadata": {},
   "source": [
    "**ToDo**: rest is nans or weird types"
   ]
  },
  {
   "cell_type": "markdown",
   "id": "490fa356-47b7-44e5-a88b-ebc6f3910905",
   "metadata": {},
   "source": [
    "### Load simulator and simulations"
   ]
  },
  {
   "cell_type": "code",
   "execution_count": 24,
   "id": "8e0f321f-5741-481c-8708-8415ee24f586",
   "metadata": {
    "tags": []
   },
   "outputs": [],
   "source": [
    "V1_model=EphysModel_Gouwens(name='V1',\n",
    "                   T=34.0,\n",
    "                   E_Na=53.5,\n",
    "                   E_K=-101.3,\n",
    "                   E_Ca=131.1,\n",
    "                   start=100,\n",
    "                   end=1100,\n",
    "                   dt=0.04,\n",
    "                   n_processes=1,\n",
    "                   noise_factor=10,\n",
    "                   use_pathos=False,\n",
    "                   chunk_size=1000,\n",
    "                   save_chunks=False)"
   ]
  },
  {
   "cell_type": "code",
   "execution_count": 25,
   "id": "bfd62af5-0a9c-4440-98bd-58f478f7b7ee",
   "metadata": {
    "tags": []
   },
   "outputs": [
    {
     "name": "stdout",
     "output_type": "stream",
     "text": [
      "(# sims, # ephys features):  (20000000, 23)\n",
      "and after deleting Nan and Inf simulations: \n",
      "(# sims, # ephys features):  (7982838, 23)\n"
     ]
    }
   ],
   "source": [
    "theta = np.load(\"../../code/save_sims/V1_chunks/full_batch.npz\")[\"theta\"]\n",
    "stats = np.load(\"../../code/save_sims/V1_chunks/full_batch.npz\")[\"stats\"]\n",
    "print(\"(# sims, # ephys features): \", stats.shape)\n",
    "keeping = (~np.isnan(np.mean(stats, axis=1))) & (~np.isinf(np.mean(stats, axis=1)))\n",
    "stats = stats[keeping, :]  # delete Nan simulations\n",
    "print(\n",
    "    \"and after deleting Nan and Inf simulations: \\n(# sims, # ephys features): \",\n",
    "    stats.shape,\n",
    ")"
   ]
  },
  {
   "cell_type": "markdown",
   "id": "bda10786-723b-4055-b6c1-f077795e7836",
   "metadata": {},
   "source": [
    "### Figure 2"
   ]
  },
  {
   "cell_type": "markdown",
   "id": "077c909e-9867-4912-9e34-bccd321c0a14",
   "metadata": {},
   "source": [
    "Illustrate HH-based model's efficacy to get good 'point estimates'. By minimizing MSE in ephys feature subspace we can get simulations adequately reproducing ephys features of experimental observations."
   ]
  },
  {
   "cell_type": "code",
   "execution_count": 128,
   "id": "011459f6",
   "metadata": {},
   "outputs": [],
   "source": [
    "cell_names = [Xo.index[celltype_Pvalb][0],\n",
    "              Xo.index[celltype_Lamp5][0],\n",
    "              Xo.index[celltype_Sst][0],\n",
    "              Xo.index[celltype_Serpinf1][1],\n",
    "              Xo.index[celltype_Vip][0],\n",
    "              Xo.index[celltype_Sncg][1]\n",
    "              ]"
   ]
  },
  {
   "cell_type": "code",
   "execution_count": 129,
   "id": "e92c607a",
   "metadata": {},
   "outputs": [
    {
     "data": {
      "text/plain": [
       "['645441106', '833896220', '741277063', '992249152', '833876442', '859107761']"
      ]
     },
     "execution_count": 129,
     "metadata": {},
     "output_type": "execute_result"
    }
   ],
   "source": [
    "cell_names"
   ]
  },
  {
   "cell_type": "code",
   "execution_count": 29,
   "id": "c8f63443-9835-4d8e-8071-cf08b1bba2d9",
   "metadata": {
    "tags": []
   },
   "outputs": [],
   "source": [
    "liquid_junction_potential = 14\n",
    "s_mean = stats.mean(axis=0)\n",
    "s_std = stats.std(axis=0)"
   ]
  },
  {
   "cell_type": "code",
   "execution_count": 130,
   "id": "adec5500-5e46-413c-8671-1489fb4f6e87",
   "metadata": {
    "tags": []
   },
   "outputs": [],
   "source": [
    "observations = []  # raw experimental recording\n",
    "simulations = []  # best prior simulation\n",
    "xos = []  # experimental ephys features\n",
    "xs = []  # simulation ephys features\n",
    "for cell_name in cell_names:\n",
    "    data = np.array(V1_25degree[\"V1_names\"])[\n",
    "        np.where(Xo.index == cell_name)[0][0]\n",
    "    ]\n",
    "    with warnings.catch_warnings():\n",
    "        warnings.simplefilter(\"ignore\")\n",
    "        data = NWBHDF5IO('../'+data, \"r\", load_namespaces=True).read()\n",
    "    xo = Xo.loc[cell_name, :].iloc[:-1].values\n",
    "    xos.append(xo)\n",
    "    time_obs, voltage_obs, current_obs, curr_obs_applied = get_time_voltage_current_currindex0_gouwens(data)\n",
    "    voltage_obs -= liquid_junction_potential\n",
    "    observation = {'data': voltage_obs[np.newaxis,:], \\\n",
    "                   'time': time_obs*1e3, 'dt':2e-5*1e3, 'I': current_obs}\n",
    "    observations.append(observation)\n",
    "\n",
    "    ind = np.argsort(\n",
    "        np.sum(\n",
    "            np.square(\n",
    "                (stats - s_mean) / s_std\n",
    "                - (xo - s_mean) / s_std\n",
    "            ),\n",
    "            axis=1,\n",
    "        )\n",
    "    )[0:1]\n",
    "    x = V1_model._run_HH_model(theta[keeping, :][ind, :])\n",
    "    simulations.append(x)\n",
    "    xs.append(V1_model._calculate_summary_statistics(x)[0])\n",
    "xos = np.array(xos)\n",
    "xs = np.array(xs)"
   ]
  },
  {
   "cell_type": "code",
   "execution_count": 87,
   "id": "19dd2b83-71b9-4a4b-9bdc-c200089297a1",
   "metadata": {
    "tags": []
   },
   "outputs": [],
   "source": [
    "Xo_mean = Xo.values[:, :-1].mean(axis=0)\n",
    "Xo_std = Xo.values[:, :-1].std(axis=0)"
   ]
  },
  {
   "cell_type": "markdown",
   "id": "8894d792-2c7a-4936-8a33-82ea4c0476aa",
   "metadata": {},
   "source": [
    "### Create T-SNE embedding from transcriptomics."
   ]
  },
  {
   "cell_type": "code",
   "execution_count": 43,
   "id": "f09ed041",
   "metadata": {},
   "outputs": [
    {
     "data": {
      "text/plain": [
       "(4107, 45768)"
      ]
     },
     "execution_count": 43,
     "metadata": {},
     "output_type": "execute_result"
    }
   ],
   "source": [
    "v1_genes = pd.read_csv('../../data/Gouwens (2020)/20200513_Mouse_PatchSeq_Release_count.csv')\n",
    "v1_genes=v1_genes.set_index('Unnamed: 0').T\n",
    "v1_genes=v1_genes.reindex(v1_meta['transcriptomics_sample_id'].values)\n",
    "v1_genes.shape"
   ]
  },
  {
   "cell_type": "code",
   "execution_count": 47,
   "id": "f601cc01",
   "metadata": {},
   "outputs": [],
   "source": [
    "gene_names = v1_genes.columns.values"
   ]
  },
  {
   "cell_type": "markdown",
   "id": "f4f668c8",
   "metadata": {},
   "source": [
    "#### Gene preprocessing (gene selection + library normalization + Z-scoring)\n"
   ]
  },
  {
   "cell_type": "code",
   "execution_count": 48,
   "id": "8a941d22",
   "metadata": {},
   "outputs": [],
   "source": [
    "exonCounts = v1_genes.values"
   ]
  },
  {
   "cell_type": "code",
   "execution_count": 55,
   "id": "d2480391",
   "metadata": {},
   "outputs": [
    {
     "data": {
      "text/plain": [
       "(3559, 45768)"
      ]
     },
     "execution_count": 55,
     "metadata": {},
     "output_type": "execute_result"
    }
   ],
   "source": [
    "non_nans = ~np.isnan(exonCounts.sum(axis=1))\n",
    "exonCounts = exonCounts[non_nans,:]\n",
    "exonCounts.shape"
   ]
  },
  {
   "cell_type": "code",
   "execution_count": 56,
   "id": "33d416fc",
   "metadata": {},
   "outputs": [
    {
     "name": "stdout",
     "output_type": "stream",
     "text": [
      "Chosen offset: 6.37\n"
     ]
    },
    {
     "data": {
      "image/png": "[encoded data removed]",
      "text/plain": [
       "<Figure size 600x350 with 1 Axes>"
      ]
     },
     "metadata": {},
     "output_type": "display_data"
    }
   ],
   "source": [
    "amount_of_genes = 1000\n",
    "markerGenes = [\"Snap25\", \"Gad1\", \"Slc17a7\", \"Pvalb\", \"Sst\", \"Vip\"]\n",
    "selectedGenes = geneSelection(\n",
    "    exonCounts, n=amount_of_genes, threshold=30, markers=markerGenes, genes=gene_names\n",
    ")\n",
    "exonCounts = exonCounts[:, selectedGenes]\n",
    "gene_names = gene_names[selectedGenes]"
   ]
  },
  {
   "cell_type": "code",
   "execution_count": 57,
   "id": "a8958e22",
   "metadata": {},
   "outputs": [],
   "source": [
    "genes = exonCounts.copy()\n",
    "genes = (\n",
    "    genes\n",
    "    / np.sum(genes, axis=1, keepdims=True)\n",
    "    * np.median(np.sum(genes, axis=1, keepdims=True))\n",
    ")\n",
    "genes = np.log2(genes + 1)\n",
    "genes = genes - np.mean(genes, axis=0)\n",
    "genes = genes / np.std(genes, axis=0)\n",
    "G = genes.astype(\"float64\")"
   ]
  },
  {
   "cell_type": "markdown",
   "id": "ef025209",
   "metadata": {},
   "source": [
    "#### T-sne projection of transcriptome"
   ]
  },
  {
   "cell_type": "code",
   "execution_count": 62,
   "id": "7256400e",
   "metadata": {},
   "outputs": [
    {
     "name": "stdout",
     "output_type": "stream",
     "text": [
      "--------------------------------------------------------------------------------\n",
      "TSNE(early_exaggeration=12, n_jobs=8, random_state=42, verbose=True)\n",
      "--------------------------------------------------------------------------------\n",
      "===> Finding 90 nearest neighbors using Annoy approximate search using euclidean distance...\n",
      "   --> Time elapsed: 1.52 seconds\n",
      "===> Calculating affinity matrix...\n",
      "   --> Time elapsed: 0.05 seconds\n",
      "===> Calculating PCA-based initialization...\n",
      "   --> Time elapsed: 3.01 seconds\n",
      "===> Running optimization with exaggeration=12.00, lr=296.58 for 250 iterations...\n",
      "Iteration   50, KL divergence 3.1835, 50 iterations in 3.6728 sec\n",
      "Iteration  100, KL divergence 3.0858, 50 iterations in 3.4754 sec\n",
      "Iteration  150, KL divergence 3.0863, 50 iterations in 3.3731 sec\n",
      "Iteration  200, KL divergence 3.0912, 50 iterations in 3.3837 sec\n",
      "Iteration  250, KL divergence 3.0927, 50 iterations in 3.3681 sec\n",
      "   --> Time elapsed: 17.27 seconds\n",
      "===> Running optimization with exaggeration=1.00, lr=3559.00 for 500 iterations...\n",
      "Iteration   50, KL divergence 1.3980, 50 iterations in 3.0986 sec\n",
      "Iteration  100, KL divergence 1.2997, 50 iterations in 2.9980 sec\n",
      "Iteration  150, KL divergence 1.2653, 50 iterations in 3.0489 sec\n",
      "Iteration  200, KL divergence 1.2478, 50 iterations in 3.0201 sec\n",
      "Iteration  250, KL divergence 1.2376, 50 iterations in 2.9989 sec\n",
      "Iteration  300, KL divergence 1.2311, 50 iterations in 3.0496 sec\n",
      "Iteration  350, KL divergence 1.2262, 50 iterations in 3.0462 sec\n",
      "Iteration  400, KL divergence 1.2224, 50 iterations in 3.0716 sec\n",
      "Iteration  450, KL divergence 1.2193, 50 iterations in 3.0879 sec\n",
      "Iteration  500, KL divergence 1.2164, 50 iterations in 3.0934 sec\n",
      "   --> Time elapsed: 30.51 seconds\n"
     ]
    }
   ],
   "source": [
    "tsne = TSNE(\n",
    "    perplexity=30,\n",
    "    metric=\"euclidean\",\n",
    "    n_jobs=8,\n",
    "    random_state=42,\n",
    "    verbose=True,\n",
    ")\n",
    "Z = tsne.fit(G)\n",
    "\n",
    "# save embedding coordinates\n",
    "np.savez('./embedding_coordinates/tsne.npz',\n",
    "     coord=Z,\n",
    "    )"
   ]
  },
  {
   "cell_type": "code",
   "execution_count": 42,
   "id": "77b78d7d-2b73-48a3-a27c-6feed90e0ea0",
   "metadata": {
    "tags": []
   },
   "outputs": [],
   "source": [
    "Z = np.load(\"./embedding_coordinates/tsne.npz\")[\"coord\"]"
   ]
  },
  {
   "cell_type": "code",
   "execution_count": 111,
   "id": "587db7c9",
   "metadata": {},
   "outputs": [
    {
     "data": {
      "text/plain": [
       "['darkred', 'salmon', 'goldenrod', 'lightseagreen', 'purple', 'darkgrey']"
      ]
     },
     "execution_count": 111,
     "metadata": {},
     "output_type": "execute_result"
    }
   ],
   "source": [
    "exps_colors"
   ]
  },
  {
   "cell_type": "code",
   "execution_count": 133,
   "id": "c7968165-bae8-4488-90ef-560f3ccd9044",
   "metadata": {
    "tags": []
   },
   "outputs": [],
   "source": [
    "def create_figure_2(fig):\n",
    "    if fig is None:\n",
    "        fig = plt.figure(figsize=(9, 3))\n",
    "    else:\n",
    "        fig = fig\n",
    "    width, height = 0.16, 0.12\n",
    "\n",
    "    ax_exps = [\n",
    "        plt.axes([0.15, 0, width, height]),\n",
    "        plt.axes([0, 0.05, width, height]),\n",
    "        plt.axes([0.29, 0.22, width, height], zorder=1),\n",
    "        plt.axes([0, 0.4, width, height]),\n",
    "        plt.axes([0.02, 0.75, width, height]),\n",
    "        plt.axes([0.22, 0.66, width, height], zorder=1),\n",
    "    ]\n",
    "    ax_sims = [\n",
    "        plt.axes([0.15, 0.13, width, height]),\n",
    "        plt.axes([0, 0.18, width, height]),\n",
    "        plt.axes([0.29, 0.35, width, height]),\n",
    "        plt.axes([0, 0.53, width, height]),\n",
    "        plt.axes([0.02, 0.88, width, height]),\n",
    "        plt.axes([0.22, 0.79, width, height], zorder=1),\n",
    "    ]\n",
    "    ax_embed = plt.axes([0.15, 0.3, 0.15, 0.45], zorder=0)\n",
    "    ax_features = [\n",
    "        [plt.axes([x, y, 0.07, 0.21]) for y in [0, 0.38, 0.76]]\n",
    "        for x in [0.48, 0.61, 0.74]\n",
    "    ]\n",
    "    return ax_embed, ax_exps, ax_sims, ax_features"
   ]
  },
  {
   "cell_type": "code",
   "execution_count": 65,
   "id": "95d65e76-08ad-4b07-88aa-98b9920b710b",
   "metadata": {
    "tags": []
   },
   "outputs": [],
   "source": [
    "features_to_show = [3, 4, 8, 21, 12, 15, 17, 18, 20]"
   ]
  },
  {
   "cell_type": "code",
   "execution_count": null,
   "id": "bbf5ab9b",
   "metadata": {},
   "outputs": [],
   "source": [
    "exps_colors = [\"darkred\", \"salmon\", \"goldenrod\", \"lightseagreen\", \"purple\", \"black\"]"
   ]
  },
  {
   "cell_type": "code",
   "execution_count": 92,
   "id": "61017876",
   "metadata": {},
   "outputs": [],
   "source": [
    "colors=np.array([\"grey\"]*celltypes.shape[0], dtype=object)\n",
    "colors[celltype_Lamp5]=\"salmon\"\n",
    "colors[celltype_Pvalb]=\"darkred\"\n",
    "colors[celltype_Vip]=\"purple\"\n",
    "colors[celltype_Sst]=\"goldenrod\"\n",
    "colors[celltype_Serpinf1]=\"lightseagreen\"\n",
    "colors[celltype_Sncg]=\"black\""
   ]
  },
  {
   "cell_type": "code",
   "execution_count": null,
   "id": "0238fcad-0a79-498c-b715-f38b4eae9230",
   "metadata": {
    "tags": []
   },
   "outputs": [],
   "source": [
    "fig = plt.figure(figsize=(9, 3))\n",
    "ax_embed, ax_exps, ax_sims, ax_features = create_figure_2(fig)\n",
    "ax_embed.scatter(Z[:, 0], Z[:, 1], s=2, c=colors[non_nans])\n",
    "ax_embed.set_xticks([])\n",
    "ax_embed.set_yticks([])\n",
    "sns.despine(ax=ax_embed, left=True, bottom=True)\n",
    "for i, ax in enumerate(ax_exps):\n",
    "    # plot experimental observation\n",
    "    ax.plot(\n",
    "        observations[i][\"time\"],\n",
    "        observations[i][\"data\"][0,:],\n",
    "        lw=0.5,\n",
    "        c=exps_colors[i],\n",
    "    )\n",
    "    ax.set_xticks([])\n",
    "    ax.set_yticks([])\n",
    "    sns.despine(ax=ax, left=True, bottom=True)\n",
    "\n",
    "for i, ax in enumerate(ax_sims):\n",
    "    # plot best prior simulation\n",
    "    ax.plot(\n",
    "        simulations[i][\"time\"],\n",
    "        simulations[i][\"data\"][0, 0, :],\n",
    "        lw=0.5,\n",
    "        c=exps_colors[i],\n",
    "    )\n",
    "    ax.set_xticks([])\n",
    "    ax.set_yticks([])\n",
    "    sns.despine(ax=ax, left=True, bottom=True)\n",
    "\n",
    "\n",
    "for i, ax in enumerate(np.array(ax_features).reshape(-1)):\n",
    "    for j in range(6):\n",
    "        ax.scatter(\n",
    "            xos[j, features_to_show[i]],\n",
    "            xs[j, features_to_show[i]],\n",
    "            color=exps_colors[j],\n",
    "            s=7,\n",
    "        )\n",
    "    std = xos[:, features_to_show[i]].std()\n",
    "    ax.plot(\n",
    "        [\n",
    "            xos[:, features_to_show[i]].min() - 1.1 * std,\n",
    "            xos[:, features_to_show[i]].max() + 1.1 * std,\n",
    "        ],\n",
    "        [\n",
    "            xos[:, features_to_show[i]].min() - 1.1 * std,\n",
    "            xos[:, features_to_show[i]].max() + 1.1 * std,\n",
    "        ],\n",
    "        \"--\",\n",
    "        c=\"darkgrey\",\n",
    "        zorder=0,\n",
    "    )\n",
    "    ax.set_xlim(\n",
    "        (\n",
    "            xos[:, features_to_show[i]].min() - 1.1 * std,\n",
    "            xos[:, features_to_show[i]].max() + 1.1 * std,\n",
    "        )\n",
    "    )\n",
    "    ax.set_ylim(\n",
    "        (\n",
    "            xos[:, features_to_show[i]].min() - 1.1 * std,\n",
    "            xos[:, features_to_show[i]].max() + 1.1 * std,\n",
    "        )\n",
    "    )\n",
    "    ax.set_xticks(\n",
    "        [\n",
    "            round(xos[:, features_to_show[i]].min() - 1.1 * std),\n",
    "            round(xos[:, features_to_show[i]].max() + 1.1 * std),\n",
    "        ]\n",
    "    )\n",
    "    ax.set_yticks(\n",
    "        [\n",
    "            round(xos[:, features_to_show[i]].min() - 1.1 * std),\n",
    "            round(xos[:, features_to_show[i]].max() + 1.1 * std),\n",
    "        ]\n",
    "    )\n",
    "    if i == 0:\n",
    "        ax.set_xlabel(\"Experiment\", fontsize=7.5)\n",
    "        ax.set_ylabel(\"Simulation\", fontsize=7.5)\n",
    "    ax.tick_params(which=\"both\", labelsize=6.5)\n",
    "    ax.set_title(ephys_features_w_units[features_to_show[i]], fontsize=7)\n",
    "    adjust_spines(ax, [\"left\", \"bottom\"])\n",
    "    sns.despine(ax=ax)\n",
    "\n",
    "fs = 6\n",
    "fig.text(0.17, 0.92, \"Model\", fontsize=fs, color=\"purple\")\n",
    "fig.text(0.17, 0.8, \"Experiment\", fontsize=fs, color=\"purple\")\n",
    "fig.text(0.06, 0.31, \"Lamp5\", fontsize=fs, color=\"salmon\", fontweight=\"bold\")\n",
    "fig.text(0.28, 0.92, \"Scng\", fontsize=fs, color=\"darkgrey\", fontweight=\"bold\")\n",
    "fig.text(0.06, 0.66, \"Serpinf1\", fontsize=fs, color=\"lightseagreen\", fontweight=\"bold\")\n",
    "fig.text(0.08, 1, \"Vip\", fontsize=fs, color=\"purple\", fontweight=\"bold\")\n",
    "fig.text(0.34, 0.46, \"Sst\", fontsize=fs, color=\"goldenrod\", fontweight=\"bold\")\n",
    "fig.text(0.21, 0.26, \"Pvalb\", fontsize=fs, color=\"darkred\", fontweight=\"bold\")\n",
    "fig.text(0, 0.98, \"a\", fontsize=10, color=\"k\", fontweight=\"bold\")\n",
    "fig.text(0.41, 0.98, \"b\", fontsize=10, color=\"k\", fontweight=\"bold\")\n",
    "\n",
    "plt.savefig(\"figure_2_V1.pdf\", bbox_inches=\"tight\", pad_inches=0)\n",
    "plt.savefig(\"figure_2_V1.png\", bbox_inches=\"tight\", pad_inches=0)"
   ]
  }
 ],
 "metadata": {
  "kernelspec": {
   "display_name": "hh_sbi_env",
   "language": "python",
   "name": "python3"
  },
  "language_info": {
   "codemirror_mode": {
    "name": "ipython",
    "version": 3
   },
   "file_extension": ".py",
   "mimetype": "text/x-python",
   "name": "python",
   "nbconvert_exporter": "python",
   "pygments_lexer": "ipython3",
   "version": "3.9.6"
  }
 },
 "nbformat": 4,
 "nbformat_minor": 5
}
