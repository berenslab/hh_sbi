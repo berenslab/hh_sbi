{
 "cells": [
  {
   "cell_type": "code",
   "execution_count": 1,
   "id": "4ec70d98-c469-4641-ad6c-3cecb2163de7",
   "metadata": {
    "tags": []
   },
   "outputs": [
    {
     "name": "stderr",
     "output_type": "stream",
     "text": [
      "/Users/yvesbernaerts/Documents/PhD/hh_sbi/hh_sbi_env/lib/python3.9/site-packages/tqdm/auto.py:21: TqdmWarning: IProgress not found. Please update jupyter and ipywidgets. See https://ipywidgets.readthedocs.io/en/stable/user_install.html\n",
      "  from .autonotebook import tqdm as notebook_tqdm\n",
      "/Users/yvesbernaerts/Documents/PhD/hh_sbi/hh_sbi_env/lib/python3.9/site-packages/urllib3/__init__.py:35: NotOpenSSLWarning: urllib3 v2 only supports OpenSSL 1.1.1+, currently the 'ssl' module is compiled with 'LibreSSL 2.8.3'. See: https://github.com/urllib3/urllib3/issues/3020\n",
      "  warnings.warn(\n"
     ]
    }
   ],
   "source": [
    "import matplotlib as mpl\n",
    "\n",
    "# remove top and right axis from plots\n",
    "mpl.rcParams[\"axes.spines.right\"] = False\n",
    "mpl.rcParams[\"axes.spines.top\"] = False\n",
    "\n",
    "import matplotlib.pyplot as plt\n",
    "import seaborn as sns\n",
    "import numpy as np\n",
    "import pandas as pd\n",
    "import pickle\n",
    "\n",
    "import sys\n",
    "sys.path.append('../../code')\n",
    "\n",
    "import sparseRRR\n",
    "from ephys_utils import get_time_voltage_current_currindex0_gouwens\n",
    "from simulator import EphysModel_Gouwens\n",
    "from plot_utils import adjust_spines\n",
    "from rnaseqTools import geneSelection\n",
    "\n",
    "from openTSNE import TSNE"
   ]
  },
  {
   "cell_type": "markdown",
   "id": "9434fbb8-4d5d-41b1-a370-70c097ab6536",
   "metadata": {},
   "source": [
    "### Load observed data\n",
    "Load the summary statistics of raw membrane voltage recordings generated with `../code/preprocess.ipynb`."
   ]
  },
  {
   "cell_type": "code",
   "execution_count": 2,
   "id": "1fd1c5f0-c892-41a6-9192-71f177e0c45f",
   "metadata": {
    "tags": []
   },
   "outputs": [],
   "source": [
    "V1_25degree = pickle.load(open('../../code/pickles/V1_features.pickle', 'rb'))\n",
    "ephys_features = np.array(V1_25degree['X_o'].columns)[:-1]\n",
    "Xo = V1_25degree['X_o'].copy()\n",
    "V1_names = V1_25degree['V1_names']"
   ]
  },
  {
   "cell_type": "code",
   "execution_count": 3,
   "id": "7fafb0ed",
   "metadata": {},
   "outputs": [
    {
     "data": {
      "text/plain": [
       "(4107, 21)"
      ]
     },
     "execution_count": 3,
     "metadata": {},
     "output_type": "execute_result"
    }
   ],
   "source": [
    "v1_meta = pd.read_csv('../../data/Gouwens (2020)/20200625_patchseq_metadata_mouse.csv')\n",
    "v1_meta = v1_meta.set_index('ephys_session_id')\n",
    "v1_meta = v1_meta.reindex(Xo.index.astype('int64'))\n",
    "celltypes = v1_meta['corresponding_AIT2.3.1_alias']\n",
    "v1_meta.shape"
   ]
  },
  {
   "cell_type": "code",
   "execution_count": 4,
   "id": "89baa065",
   "metadata": {},
   "outputs": [],
   "source": [
    "ttypes_tasic = np.load('../../data/Gouwens (2020)/tasic-ttypes.npy')\n",
    "colors_tasic = np.load('../../data/Gouwens (2020)/tasic-colors.npy')\n",
    "color_map = {}\n",
    "for c_type in np.unique(ttypes_tasic):\n",
    "    color_map.update({c_type:colors_tasic[np.where(ttypes_tasic==c_type)[0][0]]})\n",
    "colors = np.array([\n",
    "    color_map[c_type] if c_type in ttypes_tasic else 'black' for c_type in celltypes\n",
    "])"
   ]
  },
  {
   "cell_type": "code",
   "execution_count": 5,
   "id": "42e1b289",
   "metadata": {},
   "outputs": [],
   "source": [
    "celltype_Vip, celltype_Sst, celltype_Lamp5, celltype_Pvalb, celltype_Sncg, celltype_Serpinf1 = \\\n",
    "    [False]*celltypes.shape[0], [False]*celltypes.shape[0], [False]*celltypes.shape[0], \\\n",
    "        [False]*celltypes.shape[0], [False]*celltypes.shape[0], [False]*celltypes.shape[0]\n",
    "\n",
    "for i, ct in enumerate(celltypes):\n",
    "    if isinstance(ct, str):\n",
    "        if ct.split(' ')[0]=='Vip':\n",
    "            celltype_Vip[i]=True\n",
    "        elif ct.split(' ')[0]=='Sst':\n",
    "            celltype_Sst[i]=True\n",
    "        elif ct.split(' ')[0]=='Lamp5':\n",
    "            celltype_Lamp5[i]=True\n",
    "        elif ct.split(' ')[0]=='Pvalb':\n",
    "            celltype_Pvalb[i]=True\n",
    "        elif ct.split(' ')[0]=='Sncg':\n",
    "            celltype_Sncg[i]=True\n",
    "        elif ct.split(' ')[0]=='Serpinf1':\n",
    "            celltype_Serpinf1[i]=True"
   ]
  },
  {
   "cell_type": "code",
   "execution_count": 6,
   "id": "76c0f272-69b5-4e10-86d3-e47502ff5e60",
   "metadata": {
    "tags": []
   },
   "outputs": [],
   "source": [
    "ephys_features_w_units = np.array(\n",
    "    [\n",
    "        \"AP threshold (mV)\",\n",
    "        \"AP amplitude (mV)\",\n",
    "        \"AP width (ms)\",\n",
    "        \"AHP (mV)\",\n",
    "        \"3rd AP threshold (mV)\",\n",
    "        \"3rd AP amplitude (mV)\",\n",
    "        \"3rd AP width (ms)\",\n",
    "        \"3rd AHP (mV)\",\n",
    "        \"AP count\",\n",
    "        \"AP count 1st 8th\",\n",
    "        \"AP count 1st quarter\",\n",
    "        \"AP count 1st half\",\n",
    "        \"AP count 2nd half\",\n",
    "        \"AP amp adapt\",\n",
    "        \"AP average amp adapt\",\n",
    "        \"AP CV\",\n",
    "        \"ISI adapt\",\n",
    "        \"ISI CV\",\n",
    "        \"Latency (ms)\",\n",
    "        \"rest $V_{m}$ mean (mV)\",\n",
    "        \"$V_{m}$ mean (mV)\",\n",
    "        \"$V_{m}$ std (mV)\",\n",
    "        \"$V_{m}$ skewness\",\n",
    "    ],\n",
    "    dtype=object,\n",
    ")"
   ]
  },
  {
   "cell_type": "code",
   "execution_count": 7,
   "id": "4dbcf1c2-fedb-49f1-aba4-8dd67dee391a",
   "metadata": {
    "tags": []
   },
   "outputs": [],
   "source": [
    "model_param_names = np.array(['C', r'$R_{input}$', r'$\\tau$', r'$g_{Nat}$', r'$g_{Na}$', r'$g_{Kd}$', r'$g_{M}$',\n",
    "                         r'$g_{Kv31}$', r'$g_{L}$', r'$E_{leak}$', r'$\\tau_{max}$', 'VT', 'rate_to_SS_factor', 'I'])\n",
    "prior_min = [0.1,  20,  0.1,    0,        0,      0,      0,      0,      0, -130,    50,    -90,   0.1,   20]\n",
    "prior_max = [15,   1000,   70,   250,     100,      30,    3,     250,     3,  -50,  4000,   -35,    3,   870]"
   ]
  },
  {
   "cell_type": "code",
   "execution_count": 8,
   "id": "c1207444-bf90-41b1-914d-4f2e3c121da6",
   "metadata": {
    "tags": []
   },
   "outputs": [
    {
     "data": {
      "text/plain": [
       "(4107, 45768)"
      ]
     },
     "execution_count": 8,
     "metadata": {},
     "output_type": "execute_result"
    }
   ],
   "source": [
    "v1_genes = pd.read_csv('../../data/Gouwens (2020)/20200513_Mouse_PatchSeq_Release_count.csv')\n",
    "v1_genes=v1_genes.set_index('Unnamed: 0').T\n",
    "v1_genes=v1_genes.reindex(v1_meta['transcriptomics_sample_id'].values)\n",
    "gene_names = v1_genes.columns.values\n",
    "v1_genes.shape"
   ]
  },
  {
   "cell_type": "markdown",
   "id": "226f4c9b",
   "metadata": {},
   "source": [
    "### Figure 8"
   ]
  },
  {
   "cell_type": "code",
   "execution_count": 9,
   "id": "c5c5e0c6-ef19-4e2f-a516-be28bff97f31",
   "metadata": {
    "tags": []
   },
   "outputs": [],
   "source": [
    "# load tsne embedding coordinates\n",
    "Z = np.load(\"./embedding_coordinates/tsne.npz\")[\"coord\"]"
   ]
  },
  {
   "cell_type": "markdown",
   "id": "ad91d608-a07c-48d8-993e-f3cc34e0b2d4",
   "metadata": {},
   "source": [
    "We load the gene expression levels again but this time keep the ion channel and marker genes. "
   ]
  },
  {
   "cell_type": "code",
   "execution_count": 10,
   "id": "52a38bfb-5fb5-4d89-a17d-9790ad781edd",
   "metadata": {
    "tags": []
   },
   "outputs": [],
   "source": [
    "fav_tr_schedule = \"2d\""
   ]
  },
  {
   "cell_type": "code",
   "execution_count": 11,
   "id": "e0cf4e82-ef2b-41ad-82a7-980bd0453b1b",
   "metadata": {
    "tags": []
   },
   "outputs": [],
   "source": [
    "with open(\n",
    "    \"../../code/save_model_parameters/V1/training_schedule_{}.pickle\".format(fav_tr_schedule),\n",
    "    \"rb\",\n",
    ") as f:\n",
    "    THETA = pickle.load(f)\n",
    "highest_posterior_samples = np.concatenate(\n",
    "    [\n",
    "        THETA[\"highest posterior samples\"][cell]\n",
    "        if cell in THETA[\"highest posterior samples\"]\n",
    "        else np.ones((13,)) * np.nan\n",
    "        for cell in Xo.index\n",
    "    ]\n",
    ").reshape((Xo.shape[0], len(model_param_names)))"
   ]
  },
  {
   "cell_type": "code",
   "execution_count": 12,
   "id": "d3a04f0a-7894-41c0-9586-b48cfd836370",
   "metadata": {
    "tags": []
   },
   "outputs": [],
   "source": [
    "highest_posterior_samples_standardized = (\n",
    "    highest_posterior_samples - highest_posterior_samples.mean(axis=0)\n",
    ") / highest_posterior_samples.std(axis=0)"
   ]
  },
  {
   "cell_type": "code",
   "execution_count": 13,
   "id": "b9076731-54cf-4a61-827d-2b306aeebd86",
   "metadata": {
    "tags": []
   },
   "outputs": [],
   "source": [
    "original_gene_names = np.array(v1_genes.columns)\n",
    "IonChannelGenes = pd.read_csv(\n",
    "    \"../../data/GO_term_summary_20211104_075621.txt\", header=0, sep=\"\\t\"\n",
    ")\n",
    "selectedGenes = np.array(\n",
    "    [\n",
    "        (gene in IonChannelGenes[\"MGI Gene/Marker ID\"].values)\n",
    "        | (\n",
    "            gene\n",
    "            in [\n",
    "                \"Pvalb\",\n",
    "                \"Lamp5\",\n",
    "                \"Vip\",\n",
    "                \"Sst\",\n",
    "            ]\n",
    "        )\n",
    "        for gene in v1_genes.columns\n",
    "    ]\n",
    ")\n",
    "enough_counts = np.sum(v1_genes, axis=0) >= 10\n",
    "data_exons = v1_genes.loc[:,selectedGenes & enough_counts]\n",
    "exonCounts = data_exons.values\n",
    "gene_names = original_gene_names[selectedGenes & enough_counts]"
   ]
  },
  {
   "cell_type": "markdown",
   "id": "af2bd95a-7668-4a2d-88ce-4a37db8933cd",
   "metadata": {},
   "source": [
    "Further preprocessing for genes (gene selection, library size normalization and Z-scoring)"
   ]
  },
  {
   "cell_type": "code",
   "execution_count": 14,
   "id": "9bddfc51",
   "metadata": {},
   "outputs": [
    {
     "data": {
      "text/plain": [
       "(3559, 420)"
      ]
     },
     "execution_count": 14,
     "metadata": {},
     "output_type": "execute_result"
    }
   ],
   "source": [
    "non_nans = ~np.isnan(exonCounts.sum(axis=1))\n",
    "exonCounts = exonCounts[non_nans,:]\n",
    "exonCounts.shape"
   ]
  },
  {
   "cell_type": "code",
   "execution_count": 15,
   "id": "ff9aa51c-41f5-4c9a-aed4-a9fc3fbd2d63",
   "metadata": {
    "tags": []
   },
   "outputs": [],
   "source": [
    "genes = exonCounts.copy()\n",
    "genes = (\n",
    "    genes\n",
    "    / np.sum(genes, axis=1, keepdims=True)\n",
    "    * np.median(np.sum(genes, axis=1, keepdims=True))\n",
    ")\n",
    "genes = np.log2(genes + 1)\n",
    "genes = genes - np.mean(genes, axis=0)\n",
    "genes = genes / np.std(genes, axis=0)\n",
    "G = genes.astype(\"float64\")"
   ]
  },
  {
   "cell_type": "markdown",
   "id": "d2764ac0-0ce8-4e2a-8083-61ce194f1d73",
   "metadata": {},
   "source": [
    "### Sparse reduced-rank regression"
   ]
  },
  {
   "cell_type": "code",
   "execution_count": 16,
   "id": "666282b8",
   "metadata": {},
   "outputs": [],
   "source": [
    "M = highest_posterior_samples_standardized[non_nans,:].astype(np.float64)"
   ]
  },
  {
   "cell_type": "code",
   "execution_count": 17,
   "id": "c7b7d50f",
   "metadata": {},
   "outputs": [],
   "source": [
    "# alpha tuned to select 25 genes\n",
    "w, v = sparseRRR.relaxed_elastic_rrr(\n",
    "    G,\n",
    "    M,\n",
    "    rank=2,\n",
    "    alpha=0.15,\n",
    "    l1_ratio=1,\n",
    ")\n",
    "\n",
    "# save weights\n",
    "np.savez('./embedding_coordinates/sRRR.npz',\n",
    "     w=w,\n",
    "     v=v\n",
    "    )"
   ]
  },
  {
   "cell_type": "code",
   "execution_count": 18,
   "id": "879e383c",
   "metadata": {},
   "outputs": [
    {
     "data": {
      "text/plain": [
       "25"
      ]
     },
     "execution_count": 18,
     "metadata": {},
     "output_type": "execute_result"
    }
   ],
   "source": [
    "sum(w.sum(axis=1)!=0)"
   ]
  },
  {
   "cell_type": "code",
   "execution_count": 19,
   "id": "47232e4b",
   "metadata": {},
   "outputs": [
    {
     "name": "stdout",
     "output_type": "stream",
     "text": [
      "Genes selected:  ['Ano4' 'Cacna1e' 'Cacna2d1' 'Cacna2d2' 'Cacna2d3' 'Gabrb2' 'Gabrd'\n",
      " 'Grid2' 'Itpr1' 'Kcnab3' 'Kcnc2' 'Kcnc4' 'Kcnd3' 'Kcnh7' 'Kcnn3' 'Kcns3'\n",
      " 'Kcnt2' 'Lamp5' 'Lrrc38' 'Pvalb' 'Scn3b' 'Slc24a4' 'Trpc5' 'Trpm3' 'Vip']\n"
     ]
    }
   ],
   "source": [
    "# genes selected:\n",
    "print('Genes selected: ', gene_names[w.sum(axis=1)!=0])"
   ]
  },
  {
   "cell_type": "code",
   "execution_count": 20,
   "id": "d2d69f1d",
   "metadata": {},
   "outputs": [
    {
     "name": "stdout",
     "output_type": "stream",
     "text": [
      "C :  0.2164888637718354\n",
      "$R_{input}$ :  0.038145016816265365\n",
      "$\\tau$ :  0.0753195769929268\n",
      "$g_{Nat}$ :  0.006871402339106769\n",
      "$g_{Na}$ :  0.0674445422682104\n",
      "$g_{Kd}$ :  0.17420420925708147\n",
      "$g_{M}$ :  0.1844303044728388\n",
      "$g_{Kv31}$ :  0.12374879621079904\n",
      "$g_{L}$ :  0.0664661550584239\n",
      "$E_{leak}$ :  0.10187721302614294\n",
      "$\\tau_{max}$ :  0.1616883472610836\n",
      "VT :  0.04679418350649889\n",
      "rate_to_SS_factor :  0.33931903152560217\n",
      "I :  0.04655705548342126\n"
     ]
    }
   ],
   "source": [
    "for i in range(len(model_param_names)):\n",
    "    r2=1-np.sum((M[:,i]-(G@w@v.T)[:,i])**2)/np.sum(M[:,i]**2)\n",
    "    print(model_param_names[i], ': ', r2)"
   ]
  },
  {
   "cell_type": "code",
   "execution_count": 21,
   "id": "6a5d995a-7089-41e2-b744-477f7c04ff89",
   "metadata": {
    "tags": []
   },
   "outputs": [],
   "source": [
    "# load sRRR weights\n",
    "w = np.load(\"./embedding_coordinates/sRRR.npz\")[\"w\"]\n",
    "v = np.load(\"./embedding_coordinates/sRRR.npz\")[\"v\"]"
   ]
  },
  {
   "cell_type": "code",
   "execution_count": 22,
   "id": "40f483a0-a91b-455a-9e89-a8a5b38a85aa",
   "metadata": {
    "tags": []
   },
   "outputs": [],
   "source": [
    "V1_model=EphysModel_Gouwens(name='V1',\n",
    "                   T=34.0,\n",
    "                   E_Na=53.5,\n",
    "                   E_K=-101.3,\n",
    "                   E_Ca=131.1,\n",
    "                   start=100,\n",
    "                   end=1100,\n",
    "                   dt=0.04,\n",
    "                   n_processes=1,\n",
    "                   noise_factor=10,\n",
    "                   use_pathos=False,\n",
    "                   chunk_size=1000,\n",
    "                   save_chunks=False)"
   ]
  },
  {
   "cell_type": "code",
   "execution_count": 23,
   "id": "b1fc3c4b",
   "metadata": {},
   "outputs": [],
   "source": [
    "exps_colors = [\"darkred\", \"salmon\", \"goldenrod\", \"lightseagreen\", \"magenta\", \"purple\"]"
   ]
  },
  {
   "cell_type": "code",
   "execution_count": 24,
   "id": "bbc59b68-b27d-4dec-bf27-4def6dc1b541",
   "metadata": {
    "tags": []
   },
   "outputs": [
    {
     "name": "stderr",
     "output_type": "stream",
     "text": [
      "WARNING    Removing unsupported flag '-march=native' from compiler flags. [brian2.codegen.cpp_prefs]\n",
      "INFO       Overwriting environment variable \"DYLD_LIBRARY_PATH\" [brian2.devices.cpp_standalone.device.overwritten_env_var]\n"
     ]
    }
   ],
   "source": [
    "npen_sims = [\n",
    "    V1_model._run_HH_model(highest_posterior_samples[celltype, :].mean(axis=0))\n",
    "    for celltype in [\n",
    "        celltype_Pvalb,\n",
    "        celltype_Lamp5,\n",
    "        celltype_Sst,\n",
    "        celltype_Serpinf1,\n",
    "        celltype_Vip,\n",
    "        celltype_Sncg,\n",
    "    ]\n",
    "]"
   ]
  },
  {
   "cell_type": "code",
   "execution_count": 25,
   "id": "be1a0ff2-a448-4dc7-8c59-5dc0c356214c",
   "metadata": {
    "tags": []
   },
   "outputs": [],
   "source": [
    "npen_xs = np.array([V1_model._calculate_summary_statistics(x)[0] for x in npen_sims])"
   ]
  },
  {
   "cell_type": "code",
   "execution_count": 26,
   "id": "0b285eed-2f17-4a3e-a70d-044d11d6720b",
   "metadata": {
    "tags": []
   },
   "outputs": [],
   "source": [
    "sRRR_sims = [\n",
    "    V1_model._run_HH_model(\n",
    "        ((G @ w @ v.T)[np.array(celltype)[non_nans], :].mean(axis=0))\n",
    "        * highest_posterior_samples.std(axis=0)\n",
    "        + highest_posterior_samples.mean(axis=0)\n",
    "    )\n",
    "    for celltype in [\n",
    "        celltype_Pvalb,\n",
    "        celltype_Lamp5,\n",
    "        celltype_Sst,\n",
    "        celltype_Serpinf1,\n",
    "        celltype_Vip,\n",
    "        celltype_Sncg,\n",
    "    ]\n",
    "]"
   ]
  },
  {
   "cell_type": "code",
   "execution_count": 27,
   "id": "5a0de7a1-72a2-4492-b79e-116c2379daf8",
   "metadata": {
    "tags": []
   },
   "outputs": [],
   "source": [
    "sRRR_xs = np.array([V1_model._calculate_summary_statistics(x)[0] for x in sRRR_sims])"
   ]
  },
  {
   "cell_type": "code",
   "execution_count": 28,
   "id": "267ff9af-cec7-4921-890e-3f1989aaed9d",
   "metadata": {
    "tags": []
   },
   "outputs": [],
   "source": [
    "def create_figure_8(fig):\n",
    "    if fig is None:\n",
    "        fig = plt.figure(figsize=(9, 3))\n",
    "    else:\n",
    "        fig = fig\n",
    "    width, height = 0.16, 0.12\n",
    "\n",
    "    ax_exps = [\n",
    "        plt.axes([0.15, 0, width, height]),\n",
    "        plt.axes([0, 0.05, width, height]),\n",
    "        plt.axes([0.29, 0.22, width, height], zorder=1),\n",
    "        plt.axes([0, 0.4, width, height]),\n",
    "        plt.axes([0.02, 0.75, width, height]),\n",
    "        plt.axes([0.22, 0.66, width, height], zorder=1),\n",
    "    ]\n",
    "    ax_sims = [\n",
    "        plt.axes([0.15, 0.13, width, height]),\n",
    "        plt.axes([0, 0.18, width, height]),\n",
    "        plt.axes([0.29, 0.35, width, height]),\n",
    "        plt.axes([0, 0.53, width, height]),\n",
    "        plt.axes([0.02, 0.88, width, height]),\n",
    "        plt.axes([0.22, 0.79, width, height], zorder=1),\n",
    "    ]\n",
    "    ax_embed = plt.axes([0.15, 0.3, 0.15, 0.45], zorder=0)\n",
    "    ax_features = [\n",
    "        [plt.axes([x, y, 0.07, 0.21]) for y in [0, 0.38, 0.76]]\n",
    "        for x in [0.48, 0.61, 0.74]\n",
    "    ]\n",
    "    return ax_embed, ax_exps, ax_sims, ax_features"
   ]
  },
  {
   "cell_type": "code",
   "execution_count": 29,
   "id": "2d738420-c2ef-4f60-9318-3a335080ffe0",
   "metadata": {
    "tags": []
   },
   "outputs": [],
   "source": [
    "features_to_show = [3, 4, 8, 21, 12, 15, 17, 18, 20]"
   ]
  },
  {
   "cell_type": "code",
   "execution_count": 33,
   "id": "d7c2ac9d",
   "metadata": {},
   "outputs": [
    {
     "data": {
      "image/png": "[encoded data removed]",
      "text/plain": [
       "<Figure size 900x300 with 22 Axes>"
      ]
     },
     "metadata": {},
     "output_type": "display_data"
    }
   ],
   "source": [
    "fig = plt.figure(figsize=(9, 3))\n",
    "ax_embed, ax_exps, ax_sims, ax_features = create_figure_8(fig)\n",
    "ax_embed.scatter(Z[:, 0], Z[:, 1], s=0.2, c=colors[non_nans])\n",
    "ax_embed.set_xticks([])\n",
    "ax_embed.set_yticks([])\n",
    "sns.despine(ax=ax_embed, left=True, bottom=True)\n",
    "for i, ax in enumerate(ax_exps):\n",
    "    # MAP simulations with NPE-N\n",
    "    ax.plot(\n",
    "        npen_sims[i][\"time\"],\n",
    "        npen_sims[i][\"data\"][0, 0, :],\n",
    "        lw=0.5,\n",
    "        c=exps_colors[i],\n",
    "    )\n",
    "    ax.set_xticks([])\n",
    "    ax.set_yticks([])\n",
    "    sns.despine(ax=ax, left=True, bottom=True)\n",
    "\n",
    "for i, ax in enumerate(ax_sims):\n",
    "    # sRRR simulation predictions based on genes\n",
    "    ax.plot(\n",
    "        sRRR_sims[i][\"time\"],\n",
    "        sRRR_sims[i][\"data\"][0, 0, :],\n",
    "        lw=0.5,\n",
    "        c=exps_colors[i],\n",
    "    )\n",
    "    ax.set_xticks([])\n",
    "    ax.set_yticks([])\n",
    "    sns.despine(ax=ax, left=True, bottom=True)\n",
    "\n",
    "\n",
    "for i, ax in enumerate(np.array(ax_features).reshape(-1)):\n",
    "    for j in range(6):\n",
    "        ax.scatter(\n",
    "            npen_xs[j, features_to_show[i]],\n",
    "            sRRR_xs[j, features_to_show[i]],\n",
    "            color=exps_colors[j],\n",
    "            s=7,\n",
    "        )\n",
    "    std = npen_xs[:, features_to_show[i]].std()\n",
    "    ax.plot(\n",
    "        [\n",
    "            npen_xs[:, features_to_show[i]].min() - 1.1 * std,\n",
    "            npen_xs[:, features_to_show[i]].max() + 1.1 * std,\n",
    "        ],\n",
    "        [\n",
    "            npen_xs[:, features_to_show[i]].min() - 1.1 * std,\n",
    "            npen_xs[:, features_to_show[i]].max() + 1.1 * std,\n",
    "        ],\n",
    "        \"--\",\n",
    "        c=\"darkgrey\",\n",
    "        zorder=0,\n",
    "    )\n",
    "    ax.set_xlim(\n",
    "        (\n",
    "            npen_xs[:, features_to_show[i]].min() - 1.1 * std,\n",
    "            npen_xs[:, features_to_show[i]].max() + 1.1 * std,\n",
    "        )\n",
    "    )\n",
    "    ax.set_ylim(\n",
    "        (\n",
    "            npen_xs[:, features_to_show[i]].min() - 1.1 * std,\n",
    "            npen_xs[:, features_to_show[i]].max() + 1.1 * std,\n",
    "        )\n",
    "    )\n",
    "    ax.set_xticks(\n",
    "        [\n",
    "            round(npen_xs[:, features_to_show[i]].min() - 1.1 * std),\n",
    "            round(npen_xs[:, features_to_show[i]].max() + 1.1 * std),\n",
    "        ]\n",
    "    )\n",
    "    ax.set_yticks(\n",
    "        [\n",
    "            round(npen_xs[:, features_to_show[i]].min() - 1.1 * std),\n",
    "            round(npen_xs[:, features_to_show[i]].max() + 1.1 * std),\n",
    "        ]\n",
    "    )\n",
    "    if i == 0:\n",
    "        ax.set_xlabel(\"NPE-N\", fontsize=7.5)\n",
    "        ax.set_ylabel(\"sRRR\", fontsize=7.5)\n",
    "    ax.tick_params(which=\"both\", labelsize=6.5)\n",
    "    ax.set_title(ephys_features_w_units[features_to_show[i]], fontsize=8)\n",
    "    adjust_spines(ax, [\"left\", \"bottom\"])\n",
    "    sns.despine(ax=ax)\n",
    "\n",
    "fs = 6\n",
    "fig.text(0.17, 0.92, \"NPE-N\", fontsize=fs, color=\"magenta\")\n",
    "fig.text(0.17, 0.8, \"SRRR\", fontsize=fs, color=\"magenta\")\n",
    "fig.text(0.06, 0.31, \"Lamp5\", fontsize=fs, color=\"salmon\", fontweight=\"bold\")\n",
    "fig.text(0.28, 0.92, \"Scng\", fontsize=fs, color=\"purple\", fontweight=\"bold\")\n",
    "fig.text(0.06, 0.66, \"Serpinf1\", fontsize=fs, color=\"lightseagreen\", fontweight=\"bold\")\n",
    "fig.text(0.08, 1, \"Vip\", fontsize=fs, color=\"magenta\", fontweight=\"bold\")\n",
    "fig.text(0.34, 0.47, \"Sst\", fontsize=fs, color=\"goldenrod\", fontweight=\"bold\")\n",
    "fig.text(0.21, 0.26, \"Pvalb\", fontsize=fs, color=\"darkred\", fontweight=\"bold\")\n",
    "fig.text(0, 0.98, \"a\", fontsize=10, color=\"k\", fontweight=\"bold\")\n",
    "fig.text(0.43, 0.98, \"b\", fontsize=10, color=\"k\", fontweight=\"bold\")\n",
    "\n",
    "plt.savefig(\"figure_8_V1.pdf\", bbox_inches=\"tight\", pad_inches=0)\n",
    "plt.savefig(\"figure_8_V1.png\", bbox_inches=\"tight\", pad_inches=0)"
   ]
  }
 ],
 "metadata": {
  "kernelspec": {
   "display_name": "hh_sbi_env",
   "language": "python",
   "name": "python3"
  },
  "language_info": {
   "codemirror_mode": {
    "name": "ipython",
    "version": 3
   },
   "file_extension": ".py",
   "mimetype": "text/x-python",
   "name": "python",
   "nbconvert_exporter": "python",
   "pygments_lexer": "ipython3",
   "version": "3.9.6"
  }
 },
 "nbformat": 4,
 "nbformat_minor": 5
}
