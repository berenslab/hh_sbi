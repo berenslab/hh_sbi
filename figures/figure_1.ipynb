{
 "cells": [
  {
   "cell_type": "code",
   "execution_count": 1,
   "id": "4ec70d98-c469-4641-ad6c-3cecb2163de7",
   "metadata": {},
   "outputs": [
    {
     "name": "stderr",
     "output_type": "stream",
     "text": [
      "/usr/local/lib/python3.8/dist-packages/pkg_resources/__init__.py:122: PkgResourcesDeprecationWarning: 0.23ubuntu1 is an invalid version and will not be supported in a future release\n",
      "  warnings.warn(\n",
      "/usr/local/lib/python3.8/dist-packages/pkg_resources/__init__.py:122: PkgResourcesDeprecationWarning: 0.1.36ubuntu1 is an invalid version and will not be supported in a future release\n",
      "  warnings.warn(\n"
     ]
    },
    {
     "data": {
      "text/html": [
       "\n",
       "                <script type=\"application/javascript\" id=\"jupyter_black\">\n",
       "                (function() {\n",
       "                    if (window.IPython === undefined) {\n",
       "                        return\n",
       "                    }\n",
       "                    var msg = \"WARNING: it looks like you might have loaded \" +\n",
       "                        \"jupyter_black in a non-lab notebook with \" +\n",
       "                        \"`is_lab=True`. Please double check, and if \" +\n",
       "                        \"loading with `%load_ext` please review the README!\"\n",
       "                    console.log(msg)\n",
       "                    alert(msg)\n",
       "                })()\n",
       "                </script>\n",
       "                "
      ],
      "text/plain": [
       "<IPython.core.display.HTML object>"
      ]
     },
     "metadata": {},
     "output_type": "display_data"
    }
   ],
   "source": [
    "import matplotlib as mpl\n",
    "\n",
    "# remove top and right axis from plots\n",
    "mpl.rcParams[\"axes.spines.right\"] = False\n",
    "mpl.rcParams[\"axes.spines.top\"] = False\n",
    "\n",
    "import matplotlib.pyplot as plt\n",
    "import seaborn as sns\n",
    "import numpy as np\n",
    "import pandas as pd\n",
    "import pickle\n",
    "\n",
    "import torch\n",
    "\n",
    "from sbi.analysis import pairplot\n",
    "\n",
    "# load and read nwb files\n",
    "from pynwb import NWBHDF5IO\n",
    "\n",
    "import sys\n",
    "sys.path.append('../code')\n",
    "\n",
    "from ephys_utils import get_time_voltage_current_currindex0, syn_current\n",
    "from plot_utils import adjust_spines\n",
    "\n",
    "%load_ext jupyter_black\n",
    "\n"
   ]
  },
  {
   "cell_type": "code",
   "execution_count": 2,
   "id": "374f09a4",
   "metadata": {},
   "outputs": [
    {
     "name": "stdout",
     "output_type": "stream",
     "text": [
      "Last updated: 2023-03-17 11:36:35CET\n",
      "\n",
      "Python implementation: CPython\n",
      "Python version       : 3.8.10\n",
      "IPython version      : 8.2.0\n",
      "\n",
      "torch     : 1.11.0\n",
      "seaborn   : 0.11.2\n",
      "pandas    : 1.4.1\n",
      "sys       : 3.8.10 (default, Nov 26 2021, 20:14:08) \n",
      "[GCC 9.3.0]\n",
      "matplotlib: 3.7.1\n",
      "numpy     : 1.23.5\n",
      "\n",
      "Watermark: 2.3.1\n",
      "\n"
     ]
    }
   ],
   "source": [
    "%load_ext watermark\n",
    "%watermark --time --date --timezone --updated --python --iversions --watermark"
   ]
  },
  {
   "cell_type": "markdown",
   "id": "f05ddb19",
   "metadata": {},
   "source": [
    "## Download data"
   ]
  },
  {
   "cell_type": "code",
   "execution_count": 3,
   "id": "bc997e94",
   "metadata": {},
   "outputs": [
    {
     "name": "stdout",
     "output_type": "stream",
     "text": [
      "Data exists.\n"
     ]
    }
   ],
   "source": [
    "def download_raw_data():\n",
    "    import os\n",
    "\n",
    "    cwd = os.getcwd()\n",
    "\n",
    "    if os.path.exists(\"../data/raw_data/000008/\"):\n",
    "        print(\"Data exists.\")\n",
    "    else:\n",
    "        os.chdir(\"../data/raw_data\")\n",
    "        print(\"Downloading raw data using dandi. This will take a while.\")\n",
    "        !dandi download https://dandiarchive.org/dandiset/000008/draft\n",
    "        os.chdir(cwd)\n",
    "\n",
    "\n",
    "download_raw_data()"
   ]
  },
  {
   "cell_type": "code",
   "execution_count": 4,
   "id": "66687411",
   "metadata": {},
   "outputs": [
    {
     "name": "stdout",
     "output_type": "stream",
     "text": [
      "Data exists.\n",
      "Data exists.\n",
      "Data exists.\n"
     ]
    }
   ],
   "source": [
    "def download_data():\n",
    "    import os\n",
    "\n",
    "    cwd = os.getcwd()\n",
    "\n",
    "    # download `full_batch.npz` to `/code/save_sims/M1_chunck`\n",
    "    if os.path.exists(\"../code/save_sims/M1_chunks/full_batch.npz\"):\n",
    "        print(\"Data exists.\")\n",
    "    else:\n",
    "        os.chdir(\"../code/save_sims/M1_chunks/\")\n",
    "        print(\"downloading `full_batch.npz` to `/code/save_sims/M1_chunck`\")\n",
    "        # !wget https://zenodo.org/record/7716391/files/full_batch.npz\n",
    "        os.chdir(cwd)\n",
    "\n",
    "    # download `full_batch_without_rSS.npz` to `/code/without_rss/save_sims/M1_chunk`\n",
    "    if os.path.exists(\n",
    "        \"../code/without_rSS/save_sims/M1_chunks/full_batch_without_rSS.npz\"\n",
    "    ):\n",
    "        print(\"Data exists.\")\n",
    "    else:\n",
    "        os.chdir(\"../code/without_rSS/save_sims/M1_chunks/\")\n",
    "        print(\n",
    "            \"downloading `full_batch_without_rSS.npz` to `/code/without_rSS/save_sims/M1_chunks/\"\n",
    "        )\n",
    "        !wget https://zenodo.org/record/7716391/files/full_batch_without_rSS.npz\n",
    "        os.chdir(cwd)\n",
    "\n",
    "    # download `best_1000_Euclidean_sims.npz` to `/code/save_sims/`\n",
    "    if os.path.exists(\"../code/save_sims/best_1000_Euclidean_sims.npz\"):\n",
    "        print(\"Data exists.\")\n",
    "    else:\n",
    "        os.chdir(\"../code/save_sims/M1_chunks/\")\n",
    "        print(\n",
    "            \"downloading `best_1000_Euclidean_sims.npz` to `/code/save_sims/M1_chunks/`\"\n",
    "        )\n",
    "        !wget https://zenodo.org/record/7716391/files/best_1000_Euclidean_sims.npz\n",
    "        os.chdir(cwd)\n",
    "\n",
    "\n",
    "download_data()"
   ]
  },
  {
   "cell_type": "markdown",
   "id": "5c5d8286-e76f-477c-8fc6-14fca92ebe82",
   "metadata": {},
   "source": [
    "### Load observed data\n",
    "Load the summary statistics of raw membrane voltage recordings generated with `../code/preprocess.ipynb`."
   ]
  },
  {
   "cell_type": "code",
   "execution_count": 5,
   "id": "1fd1c5f0-c892-41a6-9192-71f177e0c45f",
   "metadata": {},
   "outputs": [],
   "source": [
    "M1_25degree = pickle.load(open(\"../code/pickles/M1_features.pickle\", \"rb\"))\n",
    "ephys_features = np.array(M1_25degree[\"X_o\"].columns)[:-4]\n",
    "Xo = M1_25degree[\"X_o\"].copy()\n",
    "feature_list = range(23)"
   ]
  },
  {
   "cell_type": "code",
   "execution_count": 6,
   "id": "fc5b040c-fa37-439a-8bac-6c8967122dde",
   "metadata": {},
   "outputs": [],
   "source": [
    "prop = pd.read_csv(\"../data/m1_patchseq_meta_data.csv\", sep=\"\\t\")\n",
    "prop = prop.rename(columns={\"Targeted layer\": \"Layer\"})\n",
    "prop = prop[[\"Cell\", \"Layer\", \"Cre\", \"RNA type\"]]\n",
    "prop = prop.set_index(\"Cell\")\n",
    "prop = prop.reindex(Xo.index)\n",
    "no_low_qual = np.array(list(map(str, prop[\"RNA type\"].values))) != \"nan\"\n",
    "prop = prop.loc[no_low_qual, :]\n",
    "Xo = Xo.loc[no_low_qual, :]\n",
    "celltypes = prop[\"RNA type\"]"
   ]
  },
  {
   "cell_type": "code",
   "execution_count": 7,
   "id": "db03d8ba-9cd0-49e4-ad45-263cafd15d35",
   "metadata": {},
   "outputs": [],
   "source": [
    "annotations = pd.read_csv(\"../data/cluster.annotation.csv\", index_col=0)\n",
    "cellTypeColors = {}\n",
    "for celltype in np.unique(annotations[\"cluster_label\"].values):\n",
    "    cellTypeColors.update(\n",
    "        {\n",
    "            celltype: annotations.iloc[\n",
    "                np.where(annotations[\"cluster_label\"] == celltype)[0][0], :\n",
    "            ][\"cluster_color\"]\n",
    "        }\n",
    "    )\n",
    "colors = np.array([cellTypeColors[celltype] for celltype in celltypes])"
   ]
  },
  {
   "cell_type": "code",
   "execution_count": 8,
   "id": "4dbcf1c2-fedb-49f1-aba4-8dd67dee391a",
   "metadata": {},
   "outputs": [],
   "source": [
    "model_param_names = np.array(\n",
    "    [\n",
    "        \"C\",\n",
    "        r\"$R_{input}$\",\n",
    "        r\"$\\tau$\",\n",
    "        r\"$g_{Nat}$\",\n",
    "        r\"$g_{Na}$\",\n",
    "        r\"$g_{Kd}$\",\n",
    "        r\"$g_{M}$\",\n",
    "        r\"$g_{Kv31}$\",\n",
    "        r\"$g_{L}$\",\n",
    "        r\"$E_{leak}$\",\n",
    "        r\"$\\tau_{max}$\",\n",
    "        \"VT\",\n",
    "        r\"$r_{SS}$\",\n",
    "    ]\n",
    ")\n",
    "prior_min = [0.1, 20, 0.1, 0, 0, 0, 0, 0, 0, -130, 50, -90, 0.1]\n",
    "prior_max = [15, 1000, 70, 250, 100, 30, 3, 250, 3, -50, 4000, -35, 3]"
   ]
  },
  {
   "cell_type": "code",
   "execution_count": 9,
   "id": "55320b4b-b660-41c1-b9b7-ac4c0ebac8e9",
   "metadata": {},
   "outputs": [],
   "source": [
    "# Vip\n",
    "celltype_Vip = (\n",
    "    (celltypes == \"Vip C1ql1\")\n",
    "    | (celltypes == \"Vip Chat_1\")\n",
    "    | (celltypes == \"Vip Gpc3\")\n",
    "    | (celltypes == \"Vip Htr1f\")\n",
    "    | (celltypes == \"Vip Mybpc1_1\")\n",
    "    | (celltypes == \"Vip Mybpc1_2\")\n",
    "    | (celltypes == \"Vip Mybpc1_3\")\n",
    "    | (celltypes == \"Vip Serpinf1_1\")\n",
    "    | (celltypes == \"Vip Serpinf1_2\")\n",
    "    | (celltypes == \"Vip Serpinf1_3\")\n",
    "    | (celltypes == \"Vip Sncg\")\n",
    ")\n",
    "\n",
    "# Sst\n",
    "celltype_Sst = (\n",
    "    (celltypes == \"Sst C1ql3_1\")\n",
    "    | (celltypes == \"Sst C1ql3_2\")\n",
    "    | (celltypes == \"Sst Calb2\")\n",
    "    | (celltypes == \"Sst Chodl\")\n",
    "    | (celltypes == \"Sst Crhr2_1\")\n",
    "    | (celltypes == \"Sst Crhr2_2\")\n",
    "    | (celltypes == \"Sst Etv1\")\n",
    "    | (celltypes == \"Sst Hpse\")\n",
    "    | (celltypes == \"Sst Htr1a\")\n",
    "    | (celltypes == \"Sst Myh8_1\")\n",
    "    | (celltypes == \"Sst Myh8_2\")\n",
    "    | (celltypes == \"Sst Myh8_3\")\n",
    "    | (celltypes == \"Sst Penk\")\n",
    "    | (celltypes == \"Sst Pvalb Calb2\")\n",
    "    | (celltypes == \"Sst Pvalb Etv1\")\n",
    "    | (celltypes == \"Sst Tac2\")\n",
    "    | (celltypes == \"Sst Th_1\")\n",
    "    | (celltypes == \"Sst Th_3\")\n",
    ")\n",
    "\n",
    "# Lamp5\n",
    "celltype_Lamp5 = (\n",
    "    (celltypes == \"Lamp5 Egln3_1\")\n",
    "    | (celltypes == \"Lamp5 Egln3_2\")\n",
    "    | (celltypes == \"Lamp5 Lhx6\")\n",
    "    | (celltypes == \"Lamp5 Pax6\")\n",
    "    | (celltypes == \"Lamp5 Pdlim5_1\")\n",
    "    | (celltypes == \"Lamp5 Pdlim5_2\")\n",
    "    | (celltypes == \"Lamp5 Slc35d3\")\n",
    ")\n",
    "\n",
    "# Pvalb\n",
    "celltype_Pvalb = (\n",
    "    (celltypes == \"Pvalb Calb1_1\")\n",
    "    | (celltypes == \"Pvalb Calb1_2\")\n",
    "    | (celltypes == \"Pvalb Egfem1\")\n",
    "    | (celltypes == \"Pvalb Gabrg1\")\n",
    "    | (celltypes == \"Pvalb Gpr149\")\n",
    "    | (celltypes == \"Pvalb Il1rapl2\")\n",
    "    | (celltypes == \"Pvalb Kank4\")\n",
    "    | (celltypes == \"Pvalb Reln\")\n",
    "    | (celltypes == \"Pvalb Vipr2_2\")\n",
    ")\n",
    "\n",
    "# Pyramidal\n",
    "celltype_Pyr = (\n",
    "    (celltypes == \"L2/3 IT_3\")\n",
    "    | (celltypes == \"L4/5 IT_1\")\n",
    "    | (celltypes == \"L4/5 IT_2\")\n",
    "    | (celltypes == \"L5 ET_1\")\n",
    "    | (celltypes == \"L5 ET_2\")\n",
    "    | (celltypes == \"L5 ET_3\")\n",
    "    | (celltypes == \"L5 ET_4\")\n",
    "    | (celltypes == \"L5 IT_1\")\n",
    "    | (celltypes == \"L5 IT_2\")\n",
    "    | (celltypes == \"L5 IT_3\")\n",
    "    | (celltypes == \"L5 IT_4\")\n",
    "    | (celltypes == \"L5/6 NP CT\")\n",
    "    | (celltypes == \"L5/6 NP_1\")\n",
    "    | (celltypes == \"L5/6 NP_2\")\n",
    "    | (celltypes == \"L6 CT Cpa6\")\n",
    "    | (celltypes == \"L6 CT Grp\")\n",
    "    | (celltypes == \"L6 CT Pou3f2\")\n",
    "    | (celltypes == \"L6 IT_1\")\n",
    "    | (celltypes == \"L6 IT_2\")\n",
    "    | (celltypes == \"L6b Col6a1\")\n",
    "    | (celltypes == \"L6b Kcnip1\")\n",
    "    | (celltypes == \"L6b Ror1\")\n",
    "    | (celltypes == \"L6b Shisa6_1\")\n",
    "    | (celltypes == \"L6b Shisa6_2\")\n",
    ")\n",
    "# Sncg\n",
    "celltype_Sncg = (\n",
    "    (celltypes == \"Sncg Calb1_2\")\n",
    "    | (celltypes == \"Sncg Npy2r\")\n",
    "    | (celltypes == \"Sncg Calb1_1\")\n",
    "    | (celltypes == \"Sncg Col14a1\")\n",
    ")"
   ]
  },
  {
   "cell_type": "markdown",
   "id": "d64cb1c7-cddd-4d31-94e8-0b8abfc11f54",
   "metadata": {},
   "source": [
    "Some numbers to report in the manuscript:"
   ]
  },
  {
   "cell_type": "code",
   "execution_count": 10,
   "id": "1b19593c-e6b8-44ee-8427-1d0912649f50",
   "metadata": {},
   "outputs": [
    {
     "data": {
      "text/plain": [
       "278"
      ]
     },
     "execution_count": 10,
     "metadata": {},
     "output_type": "execute_result"
    }
   ],
   "source": [
    "sum(celltype_Pyr)"
   ]
  },
  {
   "cell_type": "code",
   "execution_count": 11,
   "id": "0baf112e-586d-4788-aba5-920ceb776ac6",
   "metadata": {},
   "outputs": [
    {
     "data": {
      "text/plain": [
       "240"
      ]
     },
     "execution_count": 11,
     "metadata": {},
     "output_type": "execute_result"
    }
   ],
   "source": [
    "sum(celltype_Sst)"
   ]
  },
  {
   "cell_type": "code",
   "execution_count": 12,
   "id": "aedae169-0317-448b-9e21-9b26277941e2",
   "metadata": {},
   "outputs": [
    {
     "data": {
      "text/plain": [
       "54"
      ]
     },
     "execution_count": 12,
     "metadata": {},
     "output_type": "execute_result"
    }
   ],
   "source": [
    "sum(celltype_Vip)"
   ]
  },
  {
   "cell_type": "code",
   "execution_count": 13,
   "id": "df2c0081-a439-495f-9719-b66a6b5858ae",
   "metadata": {},
   "outputs": [
    {
     "data": {
      "text/plain": [
       "11"
      ]
     },
     "execution_count": 13,
     "metadata": {},
     "output_type": "execute_result"
    }
   ],
   "source": [
    "sum(celltype_Sncg)"
   ]
  },
  {
   "cell_type": "code",
   "execution_count": 14,
   "id": "fb561f8a-fdcf-4601-a78c-2858a125e909",
   "metadata": {},
   "outputs": [
    {
     "data": {
      "text/plain": [
       "289"
      ]
     },
     "execution_count": 14,
     "metadata": {},
     "output_type": "execute_result"
    }
   ],
   "source": [
    "sum(celltype_Pvalb)"
   ]
  },
  {
   "cell_type": "code",
   "execution_count": 15,
   "id": "afabfe7c-89e7-4ceb-bd72-db5cdc542723",
   "metadata": {},
   "outputs": [
    {
     "data": {
      "text/plain": [
       "677"
      ]
     },
     "execution_count": 15,
     "metadata": {},
     "output_type": "execute_result"
    }
   ],
   "source": [
    "(\n",
    "    sum(celltype_Vip)\n",
    "    + sum(celltype_Sst)\n",
    "    + sum(celltype_Lamp5)\n",
    "    + sum(celltype_Pvalb)\n",
    "    + sum(celltype_Sncg)\n",
    ")"
   ]
  },
  {
   "cell_type": "markdown",
   "id": "bda10786-723b-4055-b6c1-f077795e7836",
   "metadata": {},
   "source": [
    "### Figure 1a"
   ]
  },
  {
   "cell_type": "markdown",
   "id": "6c2ca2c1-fa03-40d8-95f5-1b502829cd17",
   "metadata": {},
   "source": [
    "Illustrate model mismatch"
   ]
  },
  {
   "cell_type": "code",
   "execution_count": 16,
   "id": "47f4fc98-e23f-4f23-9dde-87053027a56a",
   "metadata": {},
   "outputs": [],
   "source": [
    "dir_locs = []\n",
    "for cell_name in Xo.index:\n",
    "    dir_locs.append(\n",
    "        np.array(M1_25degree[\"M1_names\"])[no_low_qual][\n",
    "            np.where(Xo.index == cell_name)[0][0]\n",
    "        ]\n",
    "    )"
   ]
  },
  {
   "cell_type": "markdown",
   "id": "3b341dcf-d48e-4d40-894b-923b204e33c3",
   "metadata": {},
   "source": [
    "Pick example cell"
   ]
  },
  {
   "cell_type": "code",
   "execution_count": 17,
   "id": "065b6775-8d43-45ed-b2fe-7fc3c1fdfaf8",
   "metadata": {},
   "outputs": [],
   "source": [
    "cell_name = \"20180529_sample_3\""
   ]
  },
  {
   "cell_type": "code",
   "execution_count": 18,
   "id": "adec5500-5e46-413c-8671-1489fb4f6e87",
   "metadata": {},
   "outputs": [
    {
     "data": {
      "text/plain": [
       "'../data/raw_data/000008/sub-mouse-PAIFP/sub-mouse-PAIFP_ses-20180529-sample-3_slice-20180529-slice-3_cell-20180529-sample-3_icephys.nwb'"
      ]
     },
     "execution_count": 18,
     "metadata": {},
     "output_type": "execute_result"
    }
   ],
   "source": [
    "# Check whether raw file name corresponds to the cell's name\n",
    "data = np.array(M1_25degree[\"M1_names\"])[no_low_qual][\n",
    "    np.where(Xo.index == cell_name)[0][0]\n",
    "]\n",
    "data"
   ]
  },
  {
   "cell_type": "code",
   "execution_count": 19,
   "id": "8f371dcb-75e8-45aa-8577-c3a81c1eb027",
   "metadata": {},
   "outputs": [],
   "source": [
    "import warnings\n",
    "\n",
    "with warnings.catch_warnings():\n",
    "    warnings.simplefilter(\"ignore\")\n",
    "    data = NWBHDF5IO(data, \"r\", load_namespaces=True).read()"
   ]
  },
  {
   "cell_type": "code",
   "execution_count": 20,
   "id": "19dd2b83-71b9-4a4b-9bdc-c200089297a1",
   "metadata": {},
   "outputs": [],
   "source": [
    "xo = Xo.loc[cell_name, :].iloc[:-4].values\n",
    "feature_list = range(23)"
   ]
  },
  {
   "cell_type": "code",
   "execution_count": 21,
   "id": "b8786b46-de1a-43e4-ac99-bf46efca4ace",
   "metadata": {},
   "outputs": [],
   "source": [
    "(\n",
    "    time_obs,\n",
    "    voltage_obs,\n",
    "    current_obs,\n",
    "    curr_index_0_obs,\n",
    ") = get_time_voltage_current_currindex0(data)\n",
    "liquid_junction_potential = 15.4\n",
    "voltage_obs -= liquid_junction_potential\n",
    "\n",
    "I, t_on, t_off, dt, t, A_soma = syn_current(\n",
    "    area=Xo.loc[cell_name, \"1-comp area\"], curr_level=3e-4\n",
    ")\n",
    "curr_index = np.where(current_obs == 300)[0][0]\n",
    "observation = {\n",
    "    \"data\": voltage_obs[:20000, curr_index],\n",
    "    \"time\": time_obs[:20000] * 1e3,\n",
    "    \"dt\": 4 * 1e-5 * 1e3,\n",
    "    \"I\": I,\n",
    "}"
   ]
  },
  {
   "cell_type": "code",
   "execution_count": 22,
   "id": "7579110c-b828-4d32-b727-2dcc50937917",
   "metadata": {},
   "outputs": [],
   "source": [
    "lw = 2"
   ]
  },
  {
   "cell_type": "code",
   "execution_count": 23,
   "id": "7cf1be5b-211a-4280-9886-7fbc68a9d8a1",
   "metadata": {},
   "outputs": [
    {
     "data": {
      "text/plain": [
       "[]"
      ]
     },
     "execution_count": 23,
     "metadata": {},
     "output_type": "execute_result"
    },
    {
     "data": {
      "image/png": "[encoded data removed]",
      "text/plain": [
       "<Figure size 504x360 with 1 Axes>"
      ]
     },
     "metadata": {},
     "output_type": "display_data"
    }
   ],
   "source": [
    "fig, ax_obs = plt.subplots(1, 1, figsize=(7, 5))\n",
    "# Experimental observation\n",
    "ax_obs.plot(observation[\"time\"], observation[\"data\"], c=\"#1929d3ff\", lw=lw)\n",
    "sns.despine(left=True, bottom=True, ax=ax_obs)\n",
    "ax_obs.set_xticks([])\n",
    "ax_obs.set_yticks([])\n",
    "plt.savefig(\n",
    "    \"preliminary/observation_example.png\", bbox_inches=\"tight\", pad_inches=0, dpi=500\n",
    ")"
   ]
  },
  {
   "cell_type": "code",
   "execution_count": 24,
   "id": "2de13de7-6e6d-4100-ad9d-efeed875b706",
   "metadata": {},
   "outputs": [
    {
     "name": "stderr",
     "output_type": "stream",
     "text": [
      "tcmalloc: large alloc 1380007936 bytes == 0x399f6000 @ \n"
     ]
    }
   ],
   "source": [
    "# load prior simulations\n",
    "theta = np.load(\"../code/save_sims/M1_chunks/full_batch.npz\")[\"theta\"]\n",
    "stats = np.load(\"../code/save_sims/M1_chunks/full_batch.npz\")[\"stats\"]\n",
    "keeping = (~np.isnan(np.mean(stats, axis=1))) & (\n",
    "    ~np.isinf(np.mean(stats, axis=1))\n",
    ")  # delete non-spiking simulations\n",
    "stats = stats[keeping, :]\n",
    "theta = theta[keeping, :]"
   ]
  },
  {
   "cell_type": "code",
   "execution_count": 25,
   "id": "c9d5ff01-0474-4309-a3cd-b41a7bdf7da9",
   "metadata": {},
   "outputs": [
    {
     "name": "stderr",
     "output_type": "stream",
     "text": [
      "tcmalloc: large alloc 1380007936 bytes == 0xb7a66000 @ \n"
     ]
    }
   ],
   "source": [
    "# load prior simulations from model without rSS parameter (for suppl figure)\n",
    "theta_without_rSS = np.load(\n",
    "    \"../code/without_rSS/save_sims/M1_chunks/full_batch_without_rSS.npz\"\n",
    ")[\"theta\"]\n",
    "stats_without_rSS = np.load(\n",
    "    \"../code/without_rSS/save_sims/M1_chunks/full_batch_without_rSS.npz\"\n",
    ")[\"stats\"]\n",
    "keeping = (~np.isnan(np.mean(stats_without_rSS, axis=1))) & (\n",
    "    ~np.isinf(np.mean(stats_without_rSS, axis=1))\n",
    ")  # delete non-spiking simulations\n",
    "stats_without_rSS = stats_without_rSS[keeping, :]\n",
    "theta_without_rSS = theta_without_rSS[keeping, :]"
   ]
  },
  {
   "cell_type": "code",
   "execution_count": 26,
   "id": "74a87048-ce33-4546-bd4c-d097932e82c0",
   "metadata": {},
   "outputs": [],
   "source": [
    "# find 1000 prior simulations closest to the experimental observation in terms of Z-scored ephys distance\n",
    "s_mean = stats[:, feature_list].mean(axis=0)\n",
    "s_std = stats[:, feature_list].std(axis=0)\n",
    "E_distances = np.sort(\n",
    "    np.sqrt(\n",
    "        np.sum(\n",
    "            (\n",
    "                (stats[:, feature_list] - s_mean) / s_std\n",
    "                - (xo[feature_list] - s_mean) / s_std\n",
    "            )\n",
    "            ** 2,\n",
    "            axis=1,\n",
    "        )\n",
    "    )\n",
    ")[0:1000]"
   ]
  },
  {
   "cell_type": "code",
   "execution_count": 27,
   "id": "1da34011-2d85-40fd-8386-dc1fe1e87364",
   "metadata": {},
   "outputs": [
    {
     "name": "stderr",
     "output_type": "stream",
     "text": [
      "tcmalloc: large alloc 1494761472 bytes == 0xced46000 @ \n"
     ]
    }
   ],
   "source": [
    "# same but for model without rSS parameter\n",
    "s_mean = stats_without_rSS[:, feature_list].mean(axis=0)\n",
    "s_std = stats_without_rSS[:, feature_list].std(axis=0)\n",
    "E_distances_without_rSS = np.sort(\n",
    "    np.sqrt(\n",
    "        np.sum(\n",
    "            (\n",
    "                (stats_without_rSS[:, feature_list] - s_mean) / s_std\n",
    "                - (xo[feature_list] - s_mean) / s_std\n",
    "            )\n",
    "            ** 2,\n",
    "            axis=1,\n",
    "        )\n",
    "    )\n",
    ")[0:1000]"
   ]
  },
  {
   "cell_type": "markdown",
   "id": "5cbd316a-5930-4889-a67e-335a2a82b2f9",
   "metadata": {},
   "source": [
    "Next blocks can take a while. If performed once, you don't need to run it again and can just go to loading the saved files."
   ]
  },
  {
   "cell_type": "code",
   "execution_count": 28,
   "id": "50ea88c7-3966-41df-ad4f-f105cf34b53b",
   "metadata": {},
   "outputs": [],
   "source": [
    "# Uncomment this block to recompute\n",
    "\n",
    "# # now do it for all experimental observations\n",
    "# s_mean=stats[:,feature_list].mean(axis=0)\n",
    "# s_std=stats[:,feature_list].std(axis=0)\n",
    "# E_distances_observations=[]\n",
    "# for i in range(Xo.shape[0]):\n",
    "#     if i%10==0:\n",
    "#         print(i,' ', end='')\n",
    "#     E_distances_one=np.sort(\n",
    "#         np.sqrt(\n",
    "#             np.sum(\n",
    "#                 (\n",
    "#                     (stats[:,feature_list]-s_mean)/s_std\n",
    "#                     -(Xo.values[i,feature_list]-s_mean)/s_std\n",
    "#                 )**2,axis=1\n",
    "#             )\n",
    "#         )\n",
    "#     )[0:1000]\n",
    "#     E_distances_observations.append(E_distances_one)\n",
    "# E_distances_observations=np.array(E_distances_observations)\n",
    "# np.savez('../code/save_sims/E_distances_observations.npz',\n",
    "#      distances=E_distances_observations\n",
    "#         )"
   ]
  },
  {
   "cell_type": "code",
   "execution_count": 29,
   "id": "99dcec5d-813b-4d34-99bc-cfbcd744a725",
   "metadata": {},
   "outputs": [],
   "source": [
    "# Uncomment this block to recompute\n",
    "\n",
    "\n",
    "# # same but for model without rSS parameter\n",
    "# s_mean=stats_without_rSS[:,feature_list].mean(axis=0)\n",
    "# s_std=stats_without_rSS[:,feature_list].std(axis=0)\n",
    "# E_distances_observations=[]\n",
    "# for i in range(Xo.shape[0]):\n",
    "#     if i%10==0:\n",
    "#         print(i,' ', end='')\n",
    "#     E_distances_one=np.sort(\n",
    "#         np.sqrt(\n",
    "#             np.sum(\n",
    "#                 (\n",
    "#                     (stats_without_rSS[:,feature_list]-s_mean)/s_std\n",
    "#                     -(Xo.values[i,feature_list]-s_mean)/s_std\n",
    "#                 )**2,axis=1\n",
    "#             )\n",
    "#         )\n",
    "#     )[0:1000]\n",
    "#     E_distances_observations.append(E_distances_one)\n",
    "# E_distances_observations=np.array(E_distances_observations)\n",
    "# np.savez('../code/without_rSS/save_sims/E_distances_observations.npz',\n",
    "#      distances=E_distances_observations\n",
    "#         )"
   ]
  },
  {
   "cell_type": "code",
   "execution_count": 30,
   "id": "82d941ec-e58f-4668-a6d7-5ba62a12287e",
   "metadata": {},
   "outputs": [],
   "source": [
    "# Uncomment this block to recompute\n",
    "\n",
    "\n",
    "# # pick 1000 random prior simulations and perform for each of them an analogous analysis\n",
    "# selected_random_sims=np.random.randint(0,stats.shape[0],1000)\n",
    "# stats_picked=stats[selected_random_sims,:]\n",
    "# E_distances_prior=[]\n",
    "# for i in range(1000):\n",
    "#     if i%10==0:\n",
    "#         print(i,' ', end='')\n",
    "#     E_distances_prior_one=np.sort(\n",
    "#         np.sqrt(\n",
    "#             np.sum(\n",
    "#                 (\n",
    "#                     (stats[:,feature_list]-s_mean)/s_std\n",
    "#                     -(stats_picked[i,feature_list]-s_mean)/s_std\n",
    "#                 )**2,axis=1\n",
    "#             )\n",
    "#         )\n",
    "#     )[0:1000]\n",
    "#     E_distances_prior.append(E_distances_prior_one)\n",
    "# E_distances_prior=np.array(E_distances_prior)\n",
    "# np.savez('../code/save_sims/E_distances_prior.npz',\n",
    "#      distances=E_distances_prior,\n",
    "#      indices=selected_random_sims\n",
    "#     )"
   ]
  },
  {
   "cell_type": "code",
   "execution_count": 28,
   "id": "57f2e1dc-2ece-47cc-b380-fe7274b7c1db",
   "metadata": {},
   "outputs": [],
   "source": [
    "E_distances_prior = np.load(\"../code/save_sims/E_distances_prior.npz\")[\"distances\"]\n",
    "E_distances_prior_indices = np.load(\"../code/save_sims/E_distances_prior.npz\")[\n",
    "    \"indices\"\n",
    "]\n",
    "E_distances_observations = np.load(\"../code/save_sims/E_distances_observations.npz\")[\n",
    "    \"distances\"\n",
    "]\n",
    "E_distances_observations_without_rSS = np.load(\n",
    "    \"../code/without_rSS/save_sims/E_distances_observations.npz\"\n",
    ")[\"distances\"]"
   ]
  },
  {
   "cell_type": "code",
   "execution_count": 29,
   "id": "3be4756c-9c32-49cf-a479-5ca0a532f849",
   "metadata": {},
   "outputs": [],
   "source": [
    "from simulator import EphysModel\n",
    "\n",
    "M1_model = EphysModel(\n",
    "    name=\"M1\",\n",
    "    T=25.0,\n",
    "    E_Na=69.0,\n",
    "    E_K=-98.4,\n",
    "    E_Ca=127.2,\n",
    "    start=100,\n",
    "    end=700,\n",
    "    dt=0.04,\n",
    "    n_processes=40,\n",
    "    noise_factor=10,\n",
    "    use_pathos=True,\n",
    "    chunk_size=280,\n",
    "    save_chunks=True,\n",
    ")"
   ]
  },
  {
   "cell_type": "code",
   "execution_count": 30,
   "id": "9ee3ffa8-c401-4693-9c59-790b577ae7f6",
   "metadata": {},
   "outputs": [],
   "source": [
    "s_mean = stats[:, feature_list].mean(axis=0)\n",
    "s_std = stats[:, feature_list].std(axis=0)\n",
    "E_distances_indexes = np.argsort(\n",
    "    np.sqrt(\n",
    "        np.sum(\n",
    "            (\n",
    "                (stats[:, feature_list] - s_mean) / s_std\n",
    "                - (xo[feature_list] - s_mean) / s_std\n",
    "            )\n",
    "            ** 2,\n",
    "            axis=1,\n",
    "        )\n",
    "    )\n",
    ")[0:1000]\n",
    "x_prior = M1_model._run_HH_model(theta[E_distances_indexes[[1, 100, 500]], :])"
   ]
  },
  {
   "cell_type": "code",
   "execution_count": 31,
   "id": "3fe01af7-245b-4934-9dfd-26888901ac6f",
   "metadata": {},
   "outputs": [],
   "source": [
    "from without_rSS.simulator import EphysModel\n",
    "\n",
    "M1_model = EphysModel(\n",
    "    name=\"M1\",\n",
    "    T=25.0,\n",
    "    E_Na=69.0,\n",
    "    E_K=-98.4,\n",
    "    E_Ca=127.2,\n",
    "    start=100,\n",
    "    end=700,\n",
    "    dt=0.04,\n",
    "    n_processes=40,\n",
    "    noise_factor=10,\n",
    "    use_pathos=True,\n",
    "    chunk_size=280,\n",
    "    save_chunks=True,\n",
    ")"
   ]
  },
  {
   "cell_type": "code",
   "execution_count": 32,
   "id": "634c888d-0b2b-4d5b-a6f7-8fd1d9d6ff07",
   "metadata": {},
   "outputs": [],
   "source": [
    "s_mean = stats_without_rSS[:, feature_list].mean(axis=0)\n",
    "s_std = stats_without_rSS[:, feature_list].std(axis=0)\n",
    "E_distances_indexes_without_rSS = np.argsort(\n",
    "    np.sqrt(\n",
    "        np.sum(\n",
    "            (\n",
    "                (stats_without_rSS[:, feature_list] - s_mean) / s_std\n",
    "                - (xo[feature_list] - s_mean) / s_std\n",
    "            )\n",
    "            ** 2,\n",
    "            axis=1,\n",
    "        )\n",
    "    )\n",
    ")[0:1000]\n",
    "\n",
    "x_prior_without_rSS = M1_model._run_HH_model(\n",
    "    theta_without_rSS[E_distances_indexes_without_rSS[[1, 100, 500]], :]\n",
    ")"
   ]
  },
  {
   "cell_type": "code",
   "execution_count": 33,
   "id": "8947efc1-4cf0-421e-8c4d-36d6ace9af6f",
   "metadata": {},
   "outputs": [],
   "source": [
    "from simulator import EphysModel\n",
    "\n",
    "M1_model = EphysModel(\n",
    "    name=\"M1\",\n",
    "    T=25.0,\n",
    "    E_Na=69.0,\n",
    "    E_K=-98.4,\n",
    "    E_Ca=127.2,\n",
    "    start=100,\n",
    "    end=700,\n",
    "    dt=0.04,\n",
    "    n_processes=40,\n",
    "    noise_factor=10,\n",
    "    use_pathos=True,\n",
    "    chunk_size=280,\n",
    "    save_chunks=True,\n",
    ")"
   ]
  },
  {
   "cell_type": "code",
   "execution_count": 34,
   "id": "1bc1cdfd-665b-4586-b898-4d6dcf9cfa73",
   "metadata": {},
   "outputs": [],
   "source": [
    "sim_ind_ex = E_distances_prior_indices[\n",
    "    np.argsort(E_distances_prior[:, -1])[round(E_distances_prior.shape[0] // 2.2)]\n",
    "]"
   ]
  },
  {
   "cell_type": "code",
   "execution_count": 35,
   "id": "71ab6be4-9c7d-48ed-987e-53f3c20a2129",
   "metadata": {},
   "outputs": [
    {
     "data": {
      "image/png": "[encoded data removed]",
      "text/plain": [
       "<Figure size 504x360 with 1 Axes>"
      ]
     },
     "metadata": {},
     "output_type": "display_data"
    }
   ],
   "source": [
    "fig, ax_sim = plt.subplots(1, 1, figsize=(7, 5))\n",
    "# Prior simulation\n",
    "x_prior_example = M1_model._run_HH_model(theta[sim_ind_ex, :])\n",
    "ax_sim.plot(\n",
    "    x_prior_example[\"time\"], x_prior_example[\"data\"][0, 0, :], c=\"#e66913ff\", lw=lw\n",
    ")\n",
    "sns.despine(left=True, bottom=True, ax=ax_sim)\n",
    "ax_sim.set_xticks([])\n",
    "ax_sim.set_yticks([])\n",
    "plt.savefig(\n",
    "    \"preliminary/simulation_example.png\", bbox_inches=\"tight\", pad_inches=0, dpi=500\n",
    ")"
   ]
  },
  {
   "cell_type": "code",
   "execution_count": 36,
   "id": "ab494fde-0b0f-421f-949f-eded75e8a0cc",
   "metadata": {},
   "outputs": [],
   "source": [
    "# find 1000 prior simulations closest to a simulation in terms of Z-scored ephys distance\n",
    "s_mean = stats[:, feature_list].mean(axis=0)\n",
    "s_std = stats[:, feature_list].std(axis=0)\n",
    "E_distances_ex = np.sort(\n",
    "    np.sqrt(\n",
    "        np.sum(\n",
    "            (\n",
    "                (stats[:, feature_list] - s_mean) / s_std\n",
    "                - (stats[sim_ind_ex, feature_list] - s_mean) / s_std\n",
    "            )\n",
    "            ** 2,\n",
    "            axis=1,\n",
    "        )\n",
    "    )\n",
    ")[0:1000]"
   ]
  },
  {
   "cell_type": "code",
   "execution_count": 37,
   "id": "e5223f42-64af-4b20-ac2e-e1d87ed7bd73",
   "metadata": {},
   "outputs": [],
   "source": [
    "s_mean = stats[:, feature_list].mean(axis=0)\n",
    "s_std = stats[:, feature_list].std(axis=0)\n",
    "E_distances_ex_indexes = np.argsort(\n",
    "    np.sqrt(\n",
    "        np.sum(\n",
    "            (\n",
    "                (stats[:, feature_list] - s_mean) / s_std\n",
    "                - (stats[sim_ind_ex, feature_list] - s_mean) / s_std\n",
    "            )\n",
    "            ** 2,\n",
    "            axis=1,\n",
    "        )\n",
    "    )\n",
    ")[0:1000]\n",
    "x_sim_prior = M1_model._run_HH_model(theta[E_distances_ex_indexes[[1, 100, 500]], :])"
   ]
  },
  {
   "cell_type": "code",
   "execution_count": 38,
   "id": "fef9b5a5-816e-4f00-8e26-27359b9176a4",
   "metadata": {},
   "outputs": [],
   "source": [
    "x_sim_ex = M1_model._run_HH_model(theta[sim_ind_ex, :])"
   ]
  },
  {
   "cell_type": "code",
   "execution_count": 39,
   "id": "a9453e05-4274-456d-8a9a-540b2e561167",
   "metadata": {},
   "outputs": [],
   "source": [
    "fancy_colors = (\n",
    "    np.array(\n",
    "        [\n",
    "            [86, 100, 26],\n",
    "            [192, 175, 251],\n",
    "            [230, 161, 118],\n",
    "            [0, 103, 138],\n",
    "            [152, 68, 100],\n",
    "            [94, 204, 171],\n",
    "            [205, 205, 205],\n",
    "        ]\n",
    "    )\n",
    "    / 255\n",
    ")"
   ]
  },
  {
   "cell_type": "code",
   "execution_count": 40,
   "id": "3805304a-7f45-429b-8cfd-bbd085ff3b65",
   "metadata": {},
   "outputs": [],
   "source": [
    "def create_figure_1d(fig):\n",
    "    if fig is None:\n",
    "        fig = plt.figure(figsize=(14, 8))\n",
    "    else:\n",
    "        fig = fig\n",
    "\n",
    "    width = 0.14  # for membrane voltage traces\n",
    "    height = 0.45  # for membrane voltage traces\n",
    "    ax_mm_banana = plt.axes([0, 0.15, 0.36, 0.8])\n",
    "    axes_ex_1 = np.array(\n",
    "        [plt.axes([x, 0.50, width, height]) for x in [0.41, 0.56, 0.71, 0.86]]\n",
    "    )\n",
    "    axes_ex_2 = np.array(\n",
    "        [plt.axes([x, 0.1, width, height]) for x in [0.41, 0.56, 0.71, 0.86]]\n",
    "    )\n",
    "\n",
    "    return ax_mm_banana, axes_ex_1, axes_ex_2"
   ]
  },
  {
   "cell_type": "code",
   "execution_count": 41,
   "id": "99601ccc-61a0-4501-ab44-82230c8a1e12",
   "metadata": {},
   "outputs": [],
   "source": [
    "def create_suppl_figure_1(fig):\n",
    "    # Suppl. Fig. 1: illustrate model mismatch including a model for which we don't introduce rSS\n",
    "\n",
    "    if fig is None:\n",
    "        fig = plt.figure(figsize=(14, 12))\n",
    "    else:\n",
    "        fig = fig\n",
    "\n",
    "    width = 0.14  # for membrane voltage traces\n",
    "    height = 0.22  # for membrane voltage traces\n",
    "    ax_mm_banana = plt.axes([0, 0.15, 0.36, 0.8])\n",
    "    axes_ex_1 = np.array(\n",
    "        [plt.axes([x, 0.7, width, height]) for x in [0.41, 0.56, 0.71, 0.86]]\n",
    "    )\n",
    "    axes_ex_2 = np.array(\n",
    "        [plt.axes([x, 0.4, width, height]) for x in [0.41, 0.56, 0.71, 0.86]]\n",
    "    )\n",
    "    axes_ex_3 = np.array(\n",
    "        [plt.axes([x, 0.1, width, height]) for x in [0.41, 0.56, 0.71, 0.86]]\n",
    "    )\n",
    "\n",
    "    return ax_mm_banana, axes_ex_1, axes_ex_2, axes_ex_3"
   ]
  },
  {
   "cell_type": "code",
   "execution_count": 42,
   "id": "036cc30c-cbcb-4dc2-9918-f12bcabbbc88",
   "metadata": {},
   "outputs": [
    {
     "data": {
      "text/plain": [
       "Text(-0.05, 0.97, 'd')"
      ]
     },
     "execution_count": 42,
     "metadata": {},
     "output_type": "execute_result"
    },
    {
     "data": {
      "image/png": "[encoded data removed]",
      "text/plain": [
       "<Figure size 864x288 with 9 Axes>"
      ]
     },
     "metadata": {
      "needs_background": "light"
     },
     "output_type": "display_data"
    }
   ],
   "source": [
    "fig = plt.figure(figsize=(12, 4))\n",
    "ax_mm_banana, axes_ex_1, axes_ex_2 = create_figure_1d(fig)\n",
    "\n",
    "lw = 1\n",
    "\n",
    "\n",
    "# Model mismatch, banana\n",
    "ax_mm_banana.plot(\n",
    "    range(1000), E_distances, c=\"#1929d3ff\", label=\"From experimental observation\"\n",
    ")\n",
    "ax_mm_banana.plot(E_distances_ex, c=\"#e66913ff\", label=\"From model simulation\")\n",
    "ax_mm_banana.fill_between(\n",
    "    range(1000),\n",
    "    np.percentile(E_distances_prior, 30, axis=0),\n",
    "    np.percentile(E_distances_prior, 70, axis=0),\n",
    "    color=\"#e66913ff\",\n",
    "    alpha=0.4,\n",
    ")\n",
    "ax_mm_banana.fill_between(\n",
    "    range(1000),\n",
    "    np.percentile(E_distances_observations, 30, axis=0),\n",
    "    np.percentile(E_distances_observations, 70, axis=0),\n",
    "    color=\"#1929d3ff\",\n",
    "    alpha=0.4,\n",
    ")\n",
    "\n",
    "ax_mm_banana.plot([1], [E_distances[1]], color=\"dimgray\", marker=\".\", markersize=10)\n",
    "ax_mm_banana.plot([100], [E_distances[100]], color=\"dimgray\", marker=\".\", markersize=10)\n",
    "ax_mm_banana.plot([500], [E_distances[500]], color=\"dimgray\", marker=\".\", markersize=10)\n",
    "ax_mm_banana.plot([1], [E_distances_ex[1]], color=\"dimgray\", marker=\".\", markersize=10)\n",
    "ax_mm_banana.plot(\n",
    "    [100], [E_distances_ex[100]], color=\"dimgray\", marker=\".\", markersize=10\n",
    ")\n",
    "ax_mm_banana.plot(\n",
    "    [500], [E_distances_ex[500]], color=\"dimgray\", marker=\".\", markersize=10\n",
    ")\n",
    "\n",
    "ax_mm_banana.annotate(\"1\", (1, E_distances[1] - 0.1), color=\"dimgray\", fontsize=16)\n",
    "ax_mm_banana.annotate(\"2\", (100, E_distances[100] - 0.2), color=\"dimgray\", fontsize=16)\n",
    "ax_mm_banana.annotate(\"3\", (500, E_distances[500] - 0.2), color=\"dimgray\", fontsize=16)\n",
    "ax_mm_banana.annotate(\"1\", (1, E_distances_ex[1] - 0.1), color=\"dimgray\", fontsize=16)\n",
    "ax_mm_banana.annotate(\n",
    "    \"2\", (100, E_distances_ex[100] - 0.2), color=\"dimgray\", fontsize=16\n",
    ")\n",
    "ax_mm_banana.annotate(\n",
    "    \"3\", (500, E_distances_ex[500] - 0.2), color=\"dimgray\", fontsize=16\n",
    ")\n",
    "ax_mm_banana.set_xlabel(\"Ranked prior simulations\", fontsize=14)\n",
    "ax_mm_banana.set_ylabel(\"Ephys distance (a.u.)\", fontsize=14)\n",
    "\n",
    "ax_mm_banana.set_xticks([0, 500, 1000])\n",
    "ax_mm_banana.set_yticks([0, 1, 2])\n",
    "ax_mm_banana.tick_params(axis=\"both\", which=\"major\", labelsize=11)\n",
    "\n",
    "ax_mm_banana.legend(loc=\"lower right\", fontsize=11, frameon=False)\n",
    "\n",
    "adjust_spines(ax_mm_banana, spines=[\"bottom\", \"left\"])\n",
    "\n",
    "# Experimental observation and prior simulations close to it\n",
    "axes_ex_1[0].plot(observation[\"time\"], observation[\"data\"], c=\"#1929d3ff\", lw=lw)\n",
    "axes_ex_1[0].set_ylim(\n",
    "    [axes_ex_1[0].get_ylim()[0] - 50, axes_ex_1[0].get_ylim()[1] + 50]\n",
    ")\n",
    "axes_ex_1[0].set_xlim(\n",
    "    [axes_ex_1[0].get_xlim()[0] - 50, axes_ex_1[0].get_xlim()[1] + 50]\n",
    ")\n",
    "# axes_ex_1[0].set_title('Experimental observation', fontsize=16)\n",
    "axes_ex_1[0].set_xticks([])\n",
    "axes_ex_1[0].set_yticks([])\n",
    "sns.despine(ax=axes_ex_1[0], bottom=True, left=True)\n",
    "\n",
    "\n",
    "for i, ax in enumerate(axes_ex_1[1:]):\n",
    "    ax.plot(x_prior[\"time\"], x_prior[\"data\"][i, 0, :], lw=lw, color=\"dimgray\")\n",
    "    # ToDo NEED THIS ??\n",
    "    ax.set_xlim([axes_ex_1[0].get_xlim()[0], axes_ex_1[0].get_xlim()[1]])\n",
    "    ax.set_ylim([axes_ex_1[0].get_ylim()[0], axes_ex_1[0].get_ylim()[1]])\n",
    "    ax.annotate(\n",
    "        i + 1, (ax.get_xlim()[0] + 10, ax.get_ylim()[1] - 30), fontsize=16, c=\"dimgray\"\n",
    "    )\n",
    "    ax.set_xticks([])\n",
    "    ax.set_yticks([])\n",
    "    sns.despine(ax=ax, bottom=True, left=True)\n",
    "\n",
    "\n",
    "# Prior simulation and prior simulations close to it\n",
    "axes_ex_2[0].plot(x_sim_ex[\"time\"], x_sim_ex[\"data\"][0, 0, :], c=\"#e66913ff\", lw=lw)\n",
    "axes_ex_2[0].set_ylim([axes_ex_1[0].get_ylim()[0], axes_ex_1[0].get_ylim()[1]])\n",
    "axes_ex_2[0].set_xlim([axes_ex_1[0].get_xlim()[0], axes_ex_1[0].get_xlim()[1]])\n",
    "# axes_ex_2[0].set_title('Model simulation', fontsize=16)\n",
    "axes_ex_2[0].set_xticks([])\n",
    "axes_ex_2[0].set_yticks([])\n",
    "sns.despine(ax=axes_ex_2[0], bottom=True, left=True)\n",
    "\n",
    "for i, ax in enumerate(axes_ex_2[1:]):\n",
    "    ax.plot(x_sim_prior[\"time\"], x_sim_prior[\"data\"][i, 0, :], lw=lw, color=\"dimgray\")\n",
    "    ax.set_xlim([axes_ex_1[0].get_xlim()[0], axes_ex_1[0].get_xlim()[1]])\n",
    "    ax.set_ylim([axes_ex_1[0].get_ylim()[0], axes_ex_1[0].get_ylim()[1]])\n",
    "    ax.annotate(\n",
    "        i + 1, (ax.get_xlim()[0] + 10, ax.get_ylim()[1] - 30), fontsize=16, c=\"dimgray\"\n",
    "    )\n",
    "    ax.set_xticks([])\n",
    "    ax.set_yticks([])\n",
    "    sns.despine(ax=ax, bottom=True, left=True)\n",
    "\n",
    "axes_ex_2[0].plot([-10, 390], [-140, -140], \"k\")\n",
    "axes_ex_2[0].annotate(\"400 ms\", (220, -135))\n",
    "axes_ex_2[0].plot([-10, -10], [-140, -70], \"k\")\n",
    "axes_ex_2[0].annotate(\"70 mV\", (-89, -120), rotation=90)\n",
    "\n",
    "fig.text(-0.05, 0.97, \"d\", fontsize=22, fontweight=\"bold\")\n",
    "\n",
    "plt.savefig(\"figure_1d.png\", bbox_inches=\"tight\", pad_inches=0)\n",
    "plt.savefig(\"figure_1d.pdf\", bbox_inches=\"tight\", pad_inches=0)"
   ]
  },
  {
   "cell_type": "code",
   "execution_count": 43,
   "id": "592cdf69-bac5-4a05-b09e-6d04285f2fbc",
   "metadata": {},
   "outputs": [
    {
     "data": {
      "text/plain": [
       "Text(-89, -120, '70 mV')"
      ]
     },
     "execution_count": 43,
     "metadata": {},
     "output_type": "execute_result"
    },
    {
     "data": {
      "image/png": "[encoded data removed]",
      "text/plain": [
       "<Figure size 864x288 with 13 Axes>"
      ]
     },
     "metadata": {
      "needs_background": "light"
     },
     "output_type": "display_data"
    }
   ],
   "source": [
    "fig = plt.figure(figsize=(12, 4))\n",
    "ax_mm_banana, axes_ex_1, axes_ex_2, axes_ex_3 = create_suppl_figure_1(fig)\n",
    "\n",
    "lw = 1\n",
    "\n",
    "\n",
    "# Model mismatch, banana\n",
    "ax_mm_banana.plot(range(1000), E_distances, c=\"#1929d3ff\", label=\"From experiment\")\n",
    "ax_mm_banana.plot(\n",
    "    range(1000),\n",
    "    E_distances_without_rSS,\n",
    "    c=\"magenta\",\n",
    "    label=\"From experiment using model without rSS\",\n",
    ")\n",
    "ax_mm_banana.plot(E_distances_ex, c=\"#e66913ff\", label=\"From model simulation\")\n",
    "ax_mm_banana.fill_between(\n",
    "    range(1000),\n",
    "    np.percentile(E_distances_prior, 30, axis=0),\n",
    "    np.percentile(E_distances_prior, 70, axis=0),\n",
    "    color=\"#e66913ff\",\n",
    "    alpha=0.4,\n",
    ")\n",
    "ax_mm_banana.fill_between(\n",
    "    range(1000),\n",
    "    np.percentile(E_distances_observations, 30, axis=0),\n",
    "    np.percentile(E_distances_observations, 70, axis=0),\n",
    "    color=\"#1929d3ff\",\n",
    "    alpha=0.4,\n",
    ")\n",
    "\n",
    "ax_mm_banana.fill_between(\n",
    "    range(1000),\n",
    "    np.percentile(E_distances_observations_without_rSS, 30, axis=0),\n",
    "    np.percentile(E_distances_observations_without_rSS, 70, axis=0),\n",
    "    color=\"magenta\",\n",
    "    alpha=0.4,\n",
    ")\n",
    "\n",
    "ax_mm_banana.plot([1], [E_distances[1]], color=\"dimgray\", marker=\".\", markersize=10)\n",
    "ax_mm_banana.plot([100], [E_distances[100]], color=\"dimgray\", marker=\".\", markersize=10)\n",
    "ax_mm_banana.plot([500], [E_distances[500]], color=\"dimgray\", marker=\".\", markersize=10)\n",
    "ax_mm_banana.plot(\n",
    "    [1], [E_distances_without_rSS[1]], color=\"dimgray\", marker=\".\", markersize=10\n",
    ")\n",
    "ax_mm_banana.plot(\n",
    "    [100], [E_distances_without_rSS[100]], color=\"dimgray\", marker=\".\", markersize=10\n",
    ")\n",
    "ax_mm_banana.plot(\n",
    "    [500], [E_distances_without_rSS[500]], color=\"dimgray\", marker=\".\", markersize=10\n",
    ")\n",
    "ax_mm_banana.plot([1], [E_distances_ex[1]], color=\"dimgray\", marker=\".\", markersize=10)\n",
    "ax_mm_banana.plot(\n",
    "    [100], [E_distances_ex[100]], color=\"dimgray\", marker=\".\", markersize=10\n",
    ")\n",
    "ax_mm_banana.plot(\n",
    "    [500], [E_distances_ex[500]], color=\"dimgray\", marker=\".\", markersize=10\n",
    ")\n",
    "\n",
    "\n",
    "ax_mm_banana.annotate(\"1\", (1, E_distances[1] - 0.1), color=\"dimgray\", fontsize=16)\n",
    "ax_mm_banana.annotate(\"2\", (100, E_distances[100] - 0.2), color=\"dimgray\", fontsize=16)\n",
    "ax_mm_banana.annotate(\"3\", (500, E_distances[500] - 0.2), color=\"dimgray\", fontsize=16)\n",
    "ax_mm_banana.annotate(\n",
    "    \"1\", (1, E_distances_without_rSS[1] - 0.1), color=\"dimgray\", fontsize=16\n",
    ")\n",
    "ax_mm_banana.annotate(\n",
    "    \"2\", (100, E_distances_without_rSS[100] - 0.2), color=\"dimgray\", fontsize=16\n",
    ")\n",
    "ax_mm_banana.annotate(\n",
    "    \"3\", (500, E_distances_without_rSS[500] - 0.2), color=\"dimgray\", fontsize=16\n",
    ")\n",
    "ax_mm_banana.annotate(\"1\", (1, E_distances_ex[1] - 0.1), color=\"dimgray\", fontsize=16)\n",
    "ax_mm_banana.annotate(\n",
    "    \"2\", (100, E_distances_ex[100] - 0.2), color=\"dimgray\", fontsize=16\n",
    ")\n",
    "ax_mm_banana.annotate(\n",
    "    \"3\", (500, E_distances_ex[500] - 0.2), color=\"dimgray\", fontsize=16\n",
    ")\n",
    "ax_mm_banana.set_xlabel(\"Ranked prior simulations\", fontsize=14)\n",
    "ax_mm_banana.set_ylabel(\"Ephys distance (a.u.)\", fontsize=14)\n",
    "\n",
    "ax_mm_banana.set_xticks([0, 500, 1000])\n",
    "ax_mm_banana.set_yticks([-1, 0, 1, 2, 3, 4])\n",
    "ax_mm_banana.tick_params(axis=\"both\", which=\"major\", labelsize=11)\n",
    "\n",
    "ax_mm_banana.legend(loc=\"lower right\", fontsize=11, frameon=False)\n",
    "\n",
    "adjust_spines(ax_mm_banana, spines=[\"bottom\", \"left\"])\n",
    "\n",
    "# Experimental observation and prior simulations close to it, from model without rSS\n",
    "axes_ex_1[0].plot(observation[\"time\"], observation[\"data\"], c=\"magenta\", lw=lw)\n",
    "axes_ex_1[0].set_ylim(\n",
    "    [axes_ex_1[0].get_ylim()[0] - 50, axes_ex_1[0].get_ylim()[1] + 50]\n",
    ")\n",
    "axes_ex_1[0].set_xlim(\n",
    "    [axes_ex_1[0].get_xlim()[0] - 50, axes_ex_1[0].get_xlim()[1] + 50]\n",
    ")\n",
    "# axes_ex_1[0].set_title('Experimental observation', fontsize=16)\n",
    "axes_ex_1[0].set_xticks([])\n",
    "axes_ex_1[0].set_yticks([])\n",
    "sns.despine(ax=axes_ex_1[0], bottom=True, left=True)\n",
    "\n",
    "\n",
    "for i, ax in enumerate(axes_ex_1[1:]):\n",
    "    ax.plot(\n",
    "        x_prior_without_rSS[\"time\"],\n",
    "        x_prior_without_rSS[\"data\"][i, 0, :],\n",
    "        lw=lw,\n",
    "        color=\"dimgray\",\n",
    "    )\n",
    "    # ToDo NEED THIS ??\n",
    "    ax.set_xlim([axes_ex_1[0].get_xlim()[0], axes_ex_1[0].get_xlim()[1]])\n",
    "    ax.set_ylim([axes_ex_1[0].get_ylim()[0], axes_ex_1[0].get_ylim()[1]])\n",
    "    ax.annotate(\n",
    "        i + 1, (ax.get_xlim()[0] + 10, ax.get_ylim()[1] - 30), fontsize=16, c=\"dimgray\"\n",
    "    )\n",
    "    ax.set_xticks([])\n",
    "    ax.set_yticks([])\n",
    "    sns.despine(ax=ax, bottom=True, left=True)\n",
    "\n",
    "\n",
    "# Experimental observation and prior simulations close to it\n",
    "axes_ex_2[0].plot(observation[\"time\"], observation[\"data\"], c=\"#1929d3ff\", lw=lw)\n",
    "axes_ex_2[0].set_ylim(\n",
    "    [axes_ex_2[0].get_ylim()[0] - 50, axes_ex_2[0].get_ylim()[1] + 50]\n",
    ")\n",
    "axes_ex_2[0].set_xlim(\n",
    "    [axes_ex_2[0].get_xlim()[0] - 50, axes_ex_2[0].get_xlim()[1] + 50]\n",
    ")\n",
    "# axes_ex_1[0].set_title('Experimental observation', fontsize=16)\n",
    "axes_ex_2[0].set_xticks([])\n",
    "axes_ex_2[0].set_yticks([])\n",
    "sns.despine(ax=axes_ex_2[0], bottom=True, left=True)\n",
    "\n",
    "\n",
    "for i, ax in enumerate(axes_ex_2[1:]):\n",
    "    ax.plot(x_prior[\"time\"], x_prior[\"data\"][i, 0, :], lw=lw, color=\"dimgray\")\n",
    "    # ToDo NEED THIS ??\n",
    "    ax.set_xlim([axes_ex_1[0].get_xlim()[0], axes_ex_1[0].get_xlim()[1]])\n",
    "    ax.set_ylim([axes_ex_1[0].get_ylim()[0], axes_ex_1[0].get_ylim()[1]])\n",
    "    ax.annotate(\n",
    "        i + 1, (ax.get_xlim()[0] + 10, ax.get_ylim()[1] - 30), fontsize=16, c=\"dimgray\"\n",
    "    )\n",
    "    ax.set_xticks([])\n",
    "    ax.set_yticks([])\n",
    "    sns.despine(ax=ax, bottom=True, left=True)\n",
    "\n",
    "# Prior simulation and prior simulations close to it\n",
    "axes_ex_3[0].plot(x_sim_ex[\"time\"], x_sim_ex[\"data\"][0, 0, :], c=\"#e66913ff\", lw=lw)\n",
    "axes_ex_3[0].set_ylim([axes_ex_1[0].get_ylim()[0], axes_ex_1[0].get_ylim()[1]])\n",
    "axes_ex_3[0].set_xlim([axes_ex_1[0].get_xlim()[0], axes_ex_1[0].get_xlim()[1]])\n",
    "# axes_ex_2[0].set_title('Model simulation', fontsize=16)\n",
    "axes_ex_3[0].set_xticks([])\n",
    "axes_ex_3[0].set_yticks([])\n",
    "sns.despine(ax=axes_ex_3[0], bottom=True, left=True)\n",
    "\n",
    "for i, ax in enumerate(axes_ex_3[1:]):\n",
    "    ax.plot(x_sim_prior[\"time\"], x_sim_prior[\"data\"][i, 0, :], lw=lw, color=\"dimgray\")\n",
    "    ax.set_xlim([axes_ex_1[0].get_xlim()[0], axes_ex_1[0].get_xlim()[1]])\n",
    "    ax.set_ylim([axes_ex_1[0].get_ylim()[0], axes_ex_1[0].get_ylim()[1]])\n",
    "    ax.annotate(\n",
    "        i + 1, (ax.get_xlim()[0] + 10, ax.get_ylim()[1] - 30), fontsize=16, c=\"dimgray\"\n",
    "    )\n",
    "    ax.set_xticks([])\n",
    "    ax.set_yticks([])\n",
    "    sns.despine(ax=ax, bottom=True, left=True)\n",
    "\n",
    "\n",
    "axes_ex_3[0].plot([-10, 390], [-140, -140], \"k\")\n",
    "axes_ex_3[0].annotate(\"400 ms\", (220, -135))\n",
    "axes_ex_3[0].plot([-10, -10], [-140, -70], \"k\")\n",
    "axes_ex_3[0].annotate(\"70 mV\", (-89, -120), rotation=90)\n",
    "\n",
    "plt.savefig(\"figure_1_suppl.png\", bbox_inches=\"tight\", pad_inches=0)\n",
    "plt.savefig(\"figure_1_suppl.pdf\", bbox_inches=\"tight\", pad_inches=0)"
   ]
  },
  {
   "cell_type": "markdown",
   "id": "45479281-2f7e-490a-9464-65c65e11b7ba",
   "metadata": {},
   "source": [
    "### Figure 1b"
   ]
  },
  {
   "cell_type": "markdown",
   "id": "0983eeea-28d9-4cad-bde7-5ff6d6ee814d",
   "metadata": {},
   "source": [
    "How we overcome model mismatch with neural posterior estimation."
   ]
  },
  {
   "cell_type": "code",
   "execution_count": 44,
   "id": "f5648cca-68ee-4574-9549-9042b7d52561",
   "metadata": {},
   "outputs": [],
   "source": [
    "with open(\"../code/save_posteriors/training_schedule_0.pickle\", \"rb\") as f:\n",
    "    npe_posterior = pickle.load(f)\n",
    "with open(\"../code/save_posteriors/training_schedule_2d.pickle\", \"rb\") as f:\n",
    "    npep_posterior = pickle.load(f)"
   ]
  },
  {
   "cell_type": "markdown",
   "id": "a5fa8bd6-8a45-4608-923c-2ca11607eca2",
   "metadata": {},
   "source": [
    "Fetch 3 posterior samples with highest posterior weight. Get there corresponding simulations and summary statistics. You can also immediately load the simulations that come with the figure from the GitHub repo and skip this cell."
   ]
  },
  {
   "cell_type": "code",
   "execution_count": 48,
   "id": "3e8a3b2b-51a6-4af1-ad9f-80381bc1fe9a",
   "metadata": {},
   "outputs": [],
   "source": [
    "# Uncomment this block to recompute\n",
    "\n",
    "# npe_samples=npe_posterior.sample(\n",
    "#     (10000,),\n",
    "#     x=torch.as_tensor(xo[feature_list], dtype=float),\n",
    "# )\n",
    "# npe_samples=npe_samples[np.argsort(np.array(npe_posterior.log_prob(theta=npe_samples, x=xo[feature_list])))[-3:],:]\n",
    "# npep_samples=npep_posterior.sample(\n",
    "#     (10000,),\n",
    "#     x=torch.as_tensor(xo[feature_list], dtype=float),\n",
    "# )\n",
    "# npep_samples=npep_samples[np.argsort(np.array(npep_posterior.log_prob(theta=npep_samples, x=xo[feature_list])))[-3:],:]\n",
    "# x_npe=M1_model._run_HH_model(npe_samples.numpy())\n",
    "# x_npep=M1_model._run_HH_model(npep_samples.numpy())\n",
    "\n",
    "# summ_stats_npe=M1_model._simulation_wrapper(npe_samples[-1,:].numpy()[np.newaxis,:]).numpy()[0,:]\n",
    "# summ_stats_npep=M1_model._simulation_wrapper(npep_samples[-1,:].numpy()[np.newaxis,:]).numpy()[0,:]\n",
    "\n",
    "# fig_1_sims_to_show={\n",
    "#     'npe':{'samples':npe_samples, 'x':x_npe, 'summ_stats':summ_stats_npe},\n",
    "#     'npep':{'samples':npep_samples, 'x':x_npep, 'summ_stats':summ_stats_npep}\n",
    "# }\n",
    "\n",
    "# with open('../code/save_model_parameters/fig_1_sims_to_show.pickle', 'wb') as f:\n",
    "#     pickle.dump(fig_1_sims_to_show, f)"
   ]
  },
  {
   "cell_type": "code",
   "execution_count": 45,
   "id": "9b1137e9-eab9-4a9f-a2ed-ecc351603dbf",
   "metadata": {},
   "outputs": [],
   "source": [
    "with open(\"../code/save_model_parameters/fig_1_sims_to_show.pickle\", \"rb\") as f:\n",
    "    fig_1_sims_to_show = pickle.load(f)"
   ]
  },
  {
   "cell_type": "code",
   "execution_count": 46,
   "id": "9db15410-e455-4f67-a4c2-5dfefcb0a0fb",
   "metadata": {},
   "outputs": [],
   "source": [
    "npe_samples = fig_1_sims_to_show[\"npe\"][\"samples\"]\n",
    "x_npe = fig_1_sims_to_show[\"npe\"][\"x\"]\n",
    "summ_stats_npe = fig_1_sims_to_show[\"npe\"][\"summ_stats\"]\n",
    "\n",
    "npep_samples = fig_1_sims_to_show[\"npep\"][\"samples\"]\n",
    "x_npep = fig_1_sims_to_show[\"npep\"][\"x\"]\n",
    "summ_stats_npep = fig_1_sims_to_show[\"npep\"][\"summ_stats\"]"
   ]
  },
  {
   "cell_type": "code",
   "execution_count": 47,
   "id": "27d011d6-ea7f-4272-8ac9-565a77f8a71d",
   "metadata": {},
   "outputs": [],
   "source": [
    "obs_index = np.where(Xo.index == cell_name)[0][0]\n",
    "\n",
    "best_prior_stats = np.load(\"../code/save_sims/best_1000_Euclidean_sims.npz\")[\"stats\"][\n",
    "    ::1000, :\n",
    "]\n",
    "best_prior_stats_nans = np.isnan(best_prior_stats.sum(axis=1))\n",
    "\n",
    "Xo_values = Xo.values[:, :-4]\n",
    "Xo_mean = Xo.values[:, :-4].mean(axis=0)\n",
    "Xo_std = Xo.values[:, :-4].std(axis=0)\n",
    "\n",
    "\n",
    "prior_score = np.sqrt(\n",
    "    (\n",
    "        (best_prior_stats[obs_index, :] - Xo_mean) / Xo_std\n",
    "        - (Xo_values[obs_index, :] - Xo_mean) / Xo_std\n",
    "    )\n",
    "    ** 2\n",
    ")\n",
    "\n",
    "npe_score = np.sqrt(\n",
    "    ((summ_stats_npe - Xo_mean) / Xo_std - (Xo_values[obs_index, :] - Xo_mean) / Xo_std)\n",
    "    ** 2\n",
    ")\n",
    "\n",
    "npep_score = np.sqrt(\n",
    "    (\n",
    "        (summ_stats_npep - Xo_mean) / Xo_std\n",
    "        - (Xo_values[obs_index, :] - Xo_mean) / Xo_std\n",
    "    )\n",
    "    ** 2\n",
    ")"
   ]
  },
  {
   "cell_type": "code",
   "execution_count": 48,
   "id": "07199353-936e-4764-98c3-01819558feb5",
   "metadata": {},
   "outputs": [],
   "source": [
    "mpl.rcParams.update({\"font.size\": 14})"
   ]
  },
  {
   "cell_type": "code",
   "execution_count": 49,
   "id": "172ee6df-b339-4510-991f-45fb0bcaafef",
   "metadata": {},
   "outputs": [],
   "source": [
    "def create_figure_1bc(fig):\n",
    "    if fig is None:\n",
    "        fig = plt.figure(figsize=(15, 7))\n",
    "    else:\n",
    "        fig = fig\n",
    "\n",
    "    width, height = 0.07, 0.23\n",
    "    ax_features = plt.axes([0, 0.52, 0.28, 0.45])\n",
    "    ax_observation = plt.axes([0.2, -0.05, width, height])\n",
    "    axes_npe = np.array(\n",
    "        [\n",
    "            [\n",
    "                plt.axes([0.31 + x, y, width, height])\n",
    "                for x in [0.0, 0.0825, 0.165, 0.2475]\n",
    "            ]\n",
    "            for y in [0.75, 0.5, 0.25, 0]\n",
    "        ]\n",
    "    )\n",
    "    axes_npep = np.array(\n",
    "        [\n",
    "            [\n",
    "                plt.axes([0.66 + x, y, width, height])\n",
    "                for x in [0.0, 0.0825, 0.165, 0.2475]\n",
    "            ]\n",
    "            for y in [0.75, 0.5, 0.25, 0]\n",
    "        ]\n",
    "    )\n",
    "\n",
    "    return ax_features, ax_observation, axes_npe, axes_npep"
   ]
  },
  {
   "cell_type": "code",
   "execution_count": 50,
   "id": "090edfa4-2831-4c8a-a1fc-6f4ae79d943b",
   "metadata": {},
   "outputs": [
    {
     "name": "stderr",
     "output_type": "stream",
     "text": [
      "WARNING    /gpfs01/berens/user/ybernaerts/.local/lib/python3.8/site-packages/sbi/analysis/plot.py:731: FutureWarning: elementwise comparison failed; returning scalar instead, but in the future will perform elementwise comparison\n",
      "  if opts[\"labels\"] == [] or opts[\"labels\"] is None:\n",
      " [py.warnings]\n",
      "WARNING:py.warnings:/gpfs01/berens/user/ybernaerts/.local/lib/python3.8/site-packages/sbi/analysis/plot.py:731: FutureWarning: elementwise comparison failed; returning scalar instead, but in the future will perform elementwise comparison\n",
      "  if opts[\"labels\"] == [] or opts[\"labels\"] is None:\n",
      "\n"
     ]
    },
    {
     "data": {
      "text/plain": [
       "Text(0.05, 0.045, 'Experimental observation')"
      ]
     },
     "execution_count": 50,
     "metadata": {},
     "output_type": "execute_result"
    },
    {
     "data": {
      "image/png": "[encoded data removed]",
      "text/plain": [
       "<Figure size 864x273.6 with 34 Axes>"
      ]
     },
     "metadata": {
      "needs_background": "light"
     },
     "output_type": "display_data"
    }
   ],
   "source": [
    "fig = plt.figure(figsize=(12, 3.8))\n",
    "\n",
    "\n",
    "dims_to_show = [2, 5, 6, 12]\n",
    "lw = 1\n",
    "\n",
    "\n",
    "ax_features, ax_observation, axes_npe, axes_npep = create_figure_1bc(fig)\n",
    "\n",
    "# Feature-wise performances NPE vs NPE+\n",
    "order = np.argsort(npe_score)\n",
    "\n",
    "ax_features.scatter(\n",
    "    np.linspace(0, 4 * len(ephys_features) + 1, num=len(ephys_features)),\n",
    "    npe_score[order],\n",
    "    color=\"#e66913ff\",\n",
    "    label=\"NPE\",\n",
    "    lw=2,\n",
    ")\n",
    "ax_features.scatter(\n",
    "    np.linspace(0, 4 * len(ephys_features) + 1, num=len(ephys_features)),\n",
    "    npep_score[order],\n",
    "    color=\"yellowgreen\",\n",
    "    label=\"NPE-N\",\n",
    "    lw=2,\n",
    ")\n",
    "\n",
    "adjust_spines(ax_features, spines=[\"bottom\", \"left\"])\n",
    "\n",
    "\n",
    "ax_features.set_xticks(\n",
    "    np.linspace(1, 4 * len(ephys_features) + 2, num=len(ephys_features))\n",
    ")\n",
    "ax_features.legend(loc=(0.05, 0.7), fontsize=11, frameon=False)\n",
    "ax_features.set_ylabel(\"Feature-wise distance\", fontsize=14)\n",
    "ax_features.set_xticklabels(ephys_features[order], rotation=90)\n",
    "ax_features.tick_params(axis=\"y\", which=\"major\", labelsize=11)\n",
    "ax_features.tick_params(axis=\"x\", which=\"major\", labelsize=8)\n",
    "\n",
    "# Experimental observation\n",
    "ax_observation.plot(observation[\"time\"], observation[\"data\"], c=\"#1929d3ff\", lw=lw)\n",
    "ax_observation.set_ylim(\n",
    "    [ax_observation.get_ylim()[0] - 30, ax_observation.get_ylim()[1] + 30]\n",
    ")\n",
    "ax_observation.set_xticks([])\n",
    "ax_observation.set_yticks([])\n",
    "sns.despine(ax=ax_observation, bottom=True, left=True)\n",
    "\n",
    "# SBI pairplot\n",
    "pairplot(\n",
    "    npe_samples[:, dims_to_show],\n",
    "    limits=list(\n",
    "        zip(np.array(prior_min)[dims_to_show], np.array(prior_max)[dims_to_show])\n",
    "    ),\n",
    "    ticks=list(\n",
    "        zip(np.array(prior_min)[dims_to_show], np.array(prior_max)[dims_to_show])\n",
    "    ),\n",
    "    labels=np.array(model_param_names[dims_to_show]),\n",
    "    points_offdiag={\"markersize\": 6},\n",
    "    points_colors=\"r\",\n",
    "    fig=fig,\n",
    "    axes=axes_npe,\n",
    "    upper=\"kde\",\n",
    "    diag=\"kde\",\n",
    ")\n",
    "\n",
    "axes_npe[3, 0].plot(x_npe[\"time\"], x_npe[\"data\"][0, 0, :], lw=lw, color=\"#e66913ff\")\n",
    "axes_npe[2, 0].plot(x_npe[\"time\"], x_npe[\"data\"][1, 0, :], lw=lw, color=\"#e66913ff\")\n",
    "axes_npe[3, 1].plot(x_npe[\"time\"], x_npe[\"data\"][2, 0, :], lw=lw, color=\"#e66913ff\")\n",
    "\n",
    "# SBI + noise pairplot\n",
    "pairplot(\n",
    "    npep_samples[:, dims_to_show],\n",
    "    limits=list(\n",
    "        zip(np.array(prior_min)[dims_to_show], np.array(prior_max)[dims_to_show])\n",
    "    ),\n",
    "    ticks=list(\n",
    "        zip(np.array(prior_min)[dims_to_show], np.array(prior_max)[dims_to_show])\n",
    "    ),\n",
    "    labels=np.array(model_param_names[dims_to_show]),\n",
    "    points_offdiag={\"markersize\": 6},\n",
    "    points_colors=\"r\",\n",
    "    fig=fig,\n",
    "    axes=axes_npep,\n",
    "    upper=\"kde\",\n",
    "    diag=\"kde\",\n",
    ")\n",
    "axes_npep[3, 0].plot(\n",
    "    x_npep[\"time\"], x_npep[\"data\"][0, 0, :], lw=lw, color=\"yellowgreen\"\n",
    ")\n",
    "axes_npep[2, 0].plot(\n",
    "    x_npep[\"time\"], x_npep[\"data\"][1, 0, :], lw=lw, color=\"yellowgreen\"\n",
    ")\n",
    "axes_npep[3, 1].plot(\n",
    "    x_npep[\"time\"], x_npep[\"data\"][2, 0, :], lw=lw, color=\"yellowgreen\"\n",
    ")\n",
    "\n",
    "for ax in [\n",
    "    axes_npe[3, 0],\n",
    "    axes_npe[2, 0],\n",
    "    axes_npe[3, 1],\n",
    "    axes_npep[3, 0],\n",
    "    axes_npep[2, 0],\n",
    "    axes_npep[3, 1],\n",
    "]:\n",
    "    ax.set_ylim([ax_observation.get_ylim()[0], ax_observation.get_ylim()[1]])\n",
    "\n",
    "fig.text(-0.065, 1, \"b\", fontsize=22, fontweight=\"bold\")\n",
    "fig.text(0.3, 1, \"c\", fontsize=22, fontweight=\"bold\")\n",
    "# fig.text(.65, 1, 'd', fontsize=22, fontweight='bold')\n",
    "\n",
    "fig.text(0.45, 1, \"NPE\", fontsize=15, fontweight=\"bold\", color=\"k\")\n",
    "fig.text(0.81, 1, \"NPE-N\", fontsize=15, fontweight=\"bold\", color=\"k\")\n",
    "\n",
    "fig.text(0.05, 0.045, \"Experimental observation\", fontsize=10, color=\"k\")\n",
    "\n",
    "plt.savefig(\"figure_1bc.png\", bbox_inches=\"tight\", pad_inches=0)\n",
    "plt.savefig(\"figure_1bc.pdf\", bbox_inches=\"tight\", pad_inches=0)"
   ]
  }
 ],
 "metadata": {
  "kernelspec": {
   "display_name": "Python 3 (ipykernel)",
   "language": "python",
   "name": "python3"
  },
  "language_info": {
   "codemirror_mode": {
    "name": "ipython",
    "version": 3
   },
   "file_extension": ".py",
   "mimetype": "text/x-python",
   "name": "python",
   "nbconvert_exporter": "python",
   "pygments_lexer": "ipython3",
   "version": "3.8.10"
  }
 },
 "nbformat": 4,
 "nbformat_minor": 5
}
