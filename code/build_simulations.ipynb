{
 "cells": [
  {
   "cell_type": "code",
   "execution_count": 1,
   "metadata": {},
   "outputs": [],
   "source": [
    "import numpy as np\n",
    "import torch\n",
    "import pandas as pd\n",
    "import matplotlib as mpl\n",
    "import seaborn as sns\n",
    "import matplotlib.pyplot as plt\n",
    "\n",
    "# the simulator\n",
    "import simulator\n",
    "\n",
    "# sbi\n",
    "import sbi.utils as utils\n",
    "\n",
    "# ephys extraction utilities\n",
    "from ephys_utils import get_time_voltage_current_currindex0, calculate_summary_statistics, syn_current\n",
    "\n",
    "# load and read nwb files\n",
    "from pynwb import NWBHDF5IO\n",
    "\n",
    "# import saver utilities\n",
    "import pickle\n",
    "\n",
    "# to check how long things take\n",
    "import time"
   ]
  },
  {
   "cell_type": "code",
   "execution_count": 2,
   "metadata": {},
   "outputs": [],
   "source": [
    "# remove top and right axis from plots\n",
    "mpl.rcParams['axes.spines.right'] = False\n",
    "mpl.rcParams['axes.spines.top'] = False"
   ]
  },
  {
   "cell_type": "markdown",
   "metadata": {},
   "source": [
    "## Loading observed experimental data"
   ]
  },
  {
   "cell_type": "code",
   "execution_count": 3,
   "metadata": {},
   "outputs": [],
   "source": [
    "M1_25degree = pickle.load(open('pickles/M1_features.pickle', 'rb'))\n",
    "ephys_features = np.array(M1_25degree['X_o'].columns)[:-4]\n",
    "Xo = M1_25degree['X_o'].copy()"
   ]
  },
  {
   "cell_type": "code",
   "execution_count": 4,
   "metadata": {},
   "outputs": [],
   "source": [
    "prop = pd.read_csv('../data/m1_patchseq_meta_data.csv', sep = '\\t')\n",
    "prop = prop.rename(columns = {'Targeted layer': 'Layer'})\n",
    "prop = prop[['Cell', 'Layer', 'Cre', 'RNA type']]\n",
    "prop = prop.set_index('Cell')\n",
    "prop=prop.reindex(Xo.index)\n",
    "no_low_qual=np.array(list(map(str,prop['RNA type'].values)))!='nan'\n",
    "prop=prop.loc[no_low_qual,:]\n",
    "Xo = Xo.loc[no_low_qual,:]\n",
    "celltypes=prop['RNA type']"
   ]
  },
  {
   "cell_type": "markdown",
   "metadata": {},
   "source": [
    "## The uniform prior"
   ]
  },
  {
   "cell_type": "code",
   "execution_count": 5,
   "metadata": {},
   "outputs": [],
   "source": [
    "model_param_names = np.array(['C', r'$R_{input}$', r'$\\tau$', r'$g_{Nat}$', r'$g_{Na}$', r'$g_{Kd}$', r'$g_{M}$',\n",
    "                         r'$g_{Kv31}$', r'$g_{L}$', r'$E_{leak}$', r'$\\tau_{max}$', 'VT', 'rate_to_SS_factor'])\n",
    "prior_min = [0.1,  20,  0.1,    0,        0,      0,      0,      0,      0, -130,    50,    -90,   0.1]\n",
    "prior_max = [15,   1000,   70,   250,     100,      30,    3,     250,     3,  -50,  4000,   -35,    3]\n",
    "prior = utils.torchutils.BoxUniform(\n",
    "    low=torch.as_tensor(prior_min),\n",
    "    high=torch.as_tensor(prior_max)\n",
    ")"
   ]
  },
  {
   "cell_type": "markdown",
   "metadata": {},
   "source": [
    "## The simulator"
   ]
  },
  {
   "cell_type": "code",
   "execution_count": 6,
   "metadata": {},
   "outputs": [],
   "source": [
    "from simulator import EphysModel"
   ]
  },
  {
   "cell_type": "code",
   "execution_count": 7,
   "metadata": {},
   "outputs": [],
   "source": [
    "M1_model=EphysModel(name='M1',\n",
    "                   T=25.0,\n",
    "                   E_Na=69.0,\n",
    "                   E_K=-98.4,\n",
    "                   E_Ca=127.2,\n",
    "                   start=100,\n",
    "                   end=700,\n",
    "                   dt=0.04,\n",
    "                   n_processes=1,\n",
    "                   noise_factor=10,\n",
    "                   use_pathos=False,\n",
    "                   chunk_size=1000,\n",
    "                   save_chunks=False)"
   ]
  },
  {
   "cell_type": "markdown",
   "metadata": {},
   "source": [
    "Let us have a look at two examples."
   ]
  },
  {
   "cell_type": "code",
   "execution_count": 8,
   "metadata": {},
   "outputs": [],
   "source": [
    "trial=np.array([9.537584,272.991610,21.443249,93.058479,36.266320,10.740511,0.880451,27.365699,\n",
    "                0.912325,-85.184921,413.258078,-54.367571,1.655731], dtype=float)[np.newaxis,:]\n",
    "x=M1_model._run_HH_model(trial)"
   ]
  },
  {
   "cell_type": "code",
   "execution_count": 9,
   "metadata": {},
   "outputs": [
    {
     "data": {
      "text/plain": [
       "Text(0, 0.5, 'mV')"
      ]
     },
     "execution_count": 9,
     "metadata": {},
     "output_type": "execute_result"
    },
    {
     "data": {
      "image/png": "[encoded data removed]",
      "text/plain": [
       "<Figure size 432x288 with 1 Axes>"
      ]
     },
     "metadata": {
      "needs_background": "light"
     },
     "output_type": "display_data"
    }
   ],
   "source": [
    "plt.plot(x['time'], x['data'][0,0,:], c='k')\n",
    "plt.xlabel('ms')\n",
    "plt.ylabel('mV')"
   ]
  },
  {
   "cell_type": "code",
   "execution_count": 10,
   "metadata": {},
   "outputs": [
    {
     "data": {
      "text/html": [
       "<div>\n",
       "<style scoped>\n",
       "    .dataframe tbody tr th:only-of-type {\n",
       "        vertical-align: middle;\n",
       "    }\n",
       "\n",
       "    .dataframe tbody tr th {\n",
       "        vertical-align: top;\n",
       "    }\n",
       "\n",
       "    .dataframe thead th {\n",
       "        text-align: right;\n",
       "    }\n",
       "</style>\n",
       "<table border=\"1\" class=\"dataframe\">\n",
       "  <thead>\n",
       "    <tr style=\"text-align: right;\">\n",
       "      <th></th>\n",
       "      <th>AP threshold</th>\n",
       "      <th>AP amplitude</th>\n",
       "      <th>AP width</th>\n",
       "      <th>AHP</th>\n",
       "      <th>3rd AP threshold</th>\n",
       "      <th>3rd AP amplitude</th>\n",
       "      <th>3rd AP width</th>\n",
       "      <th>3rd AHP</th>\n",
       "      <th>AP count</th>\n",
       "      <th>AP count 1st 8th</th>\n",
       "      <th>...</th>\n",
       "      <th>AP amp adapt</th>\n",
       "      <th>AP average amp adapt</th>\n",
       "      <th>AP CV</th>\n",
       "      <th>ISI adapt</th>\n",
       "      <th>ISI CV</th>\n",
       "      <th>latency</th>\n",
       "      <th>rest $V_{m}$ mean</th>\n",
       "      <th>$V_{m}$ mean</th>\n",
       "      <th>$V_{m}$ std</th>\n",
       "      <th>$V_{m}$ skewness</th>\n",
       "    </tr>\n",
       "  </thead>\n",
       "  <tbody>\n",
       "    <tr>\n",
       "      <th>0</th>\n",
       "      <td>-51.004853</td>\n",
       "      <td>88.714654</td>\n",
       "      <td>1.96</td>\n",
       "      <td>-1.143939</td>\n",
       "      <td>-41.105652</td>\n",
       "      <td>49.46737</td>\n",
       "      <td>2.52</td>\n",
       "      <td>-1.228127</td>\n",
       "      <td>3.135494</td>\n",
       "      <td>2.197225</td>\n",
       "      <td>...</td>\n",
       "      <td>-0.341409</td>\n",
       "      <td>0.435857</td>\n",
       "      <td>-1.45741</td>\n",
       "      <td>-0.148083</td>\n",
       "      <td>-0.653341</td>\n",
       "      <td>2.474856</td>\n",
       "      <td>-85.399954</td>\n",
       "      <td>-43.984157</td>\n",
       "      <td>293.800443</td>\n",
       "      <td>2.119935</td>\n",
       "    </tr>\n",
       "  </tbody>\n",
       "</table>\n",
       "<p>1 rows × 23 columns</p>\n",
       "</div>"
      ],
      "text/plain": [
       "   AP threshold  AP amplitude  AP width       AHP  3rd AP threshold  \\\n",
       "0    -51.004853     88.714654      1.96 -1.143939        -41.105652   \n",
       "\n",
       "   3rd AP amplitude  3rd AP width   3rd AHP  AP count  AP count 1st 8th  ...  \\\n",
       "0          49.46737          2.52 -1.228127  3.135494          2.197225  ...   \n",
       "\n",
       "   AP amp adapt  AP average amp adapt    AP CV  ISI adapt    ISI CV   latency  \\\n",
       "0     -0.341409              0.435857 -1.45741  -0.148083 -0.653341  2.474856   \n",
       "\n",
       "   rest $V_{m}$ mean  $V_{m}$ mean  $V_{m}$ std  $V_{m}$ skewness  \n",
       "0         -85.399954    -43.984157   293.800443          2.119935  \n",
       "\n",
       "[1 rows x 23 columns]"
      ]
     },
     "execution_count": 10,
     "metadata": {},
     "output_type": "execute_result"
    }
   ],
   "source": [
    "df=pd.DataFrame(data=M1_model._simulation_wrapper(trial).numpy(), columns=ephys_features)\n",
    "df.head()"
   ]
  },
  {
   "cell_type": "markdown",
   "metadata": {},
   "source": [
    "Let's try out a randomly sampled one from our uniform prior. It could be a simulation with no action potentials and/or look quite weird!"
   ]
  },
  {
   "cell_type": "code",
   "execution_count": 20,
   "metadata": {},
   "outputs": [
    {
     "data": {
      "text/html": [
       "<div>\n",
       "<style scoped>\n",
       "    .dataframe tbody tr th:only-of-type {\n",
       "        vertical-align: middle;\n",
       "    }\n",
       "\n",
       "    .dataframe tbody tr th {\n",
       "        vertical-align: top;\n",
       "    }\n",
       "\n",
       "    .dataframe thead th {\n",
       "        text-align: right;\n",
       "    }\n",
       "</style>\n",
       "<table border=\"1\" class=\"dataframe\">\n",
       "  <thead>\n",
       "    <tr style=\"text-align: right;\">\n",
       "      <th></th>\n",
       "      <th>C</th>\n",
       "      <th>$R_{input}$</th>\n",
       "      <th>$\\tau$</th>\n",
       "      <th>$g_{Nat}$</th>\n",
       "      <th>$g_{Na}$</th>\n",
       "      <th>$g_{Kd}$</th>\n",
       "      <th>$g_{M}$</th>\n",
       "      <th>$g_{Kv31}$</th>\n",
       "      <th>$g_{L}$</th>\n",
       "      <th>$E_{leak}$</th>\n",
       "      <th>$\\tau_{max}$</th>\n",
       "      <th>VT</th>\n",
       "      <th>rate_to_SS_factor</th>\n",
       "    </tr>\n",
       "  </thead>\n",
       "  <tbody>\n",
       "    <tr>\n",
       "      <th>0</th>\n",
       "      <td>10.319614</td>\n",
       "      <td>339.43454</td>\n",
       "      <td>59.863544</td>\n",
       "      <td>144.114227</td>\n",
       "      <td>89.382866</td>\n",
       "      <td>20.736933</td>\n",
       "      <td>2.456532</td>\n",
       "      <td>191.382721</td>\n",
       "      <td>0.328147</td>\n",
       "      <td>-54.187363</td>\n",
       "      <td>613.615417</td>\n",
       "      <td>-86.375221</td>\n",
       "      <td>2.161747</td>\n",
       "    </tr>\n",
       "  </tbody>\n",
       "</table>\n",
       "</div>"
      ],
      "text/plain": [
       "           C  $R_{input}$     $\\tau$   $g_{Nat}$   $g_{Na}$   $g_{Kd}$  \\\n",
       "0  10.319614    339.43454  59.863544  144.114227  89.382866  20.736933   \n",
       "\n",
       "    $g_{M}$  $g_{Kv31}$   $g_{L}$  $E_{leak}$  $\\tau_{max}$         VT  \\\n",
       "0  2.456532  191.382721  0.328147  -54.187363    613.615417 -86.375221   \n",
       "\n",
       "   rate_to_SS_factor  \n",
       "0           2.161747  "
      ]
     },
     "execution_count": 20,
     "metadata": {},
     "output_type": "execute_result"
    }
   ],
   "source": [
    "trial=prior.sample((1,))\n",
    "df=pd.DataFrame(data=trial,columns=model_param_names)\n",
    "x=M1_model._run_HH_model(trial)\n",
    "df.head()"
   ]
  },
  {
   "cell_type": "code",
   "execution_count": 21,
   "metadata": {},
   "outputs": [
    {
     "data": {
      "text/plain": [
       "Text(0, 0.5, 'mV')"
      ]
     },
     "execution_count": 21,
     "metadata": {},
     "output_type": "execute_result"
    },
    {
     "data": {
      "image/png": "[encoded data removed]",
      "text/plain": [
       "<Figure size 432x288 with 1 Axes>"
      ]
     },
     "metadata": {
      "needs_background": "light"
     },
     "output_type": "display_data"
    }
   ],
   "source": [
    "plt.plot(x['time'], x['data'][0,0,:], c='k')\n",
    "plt.xlabel('ms')\n",
    "plt.ylabel('mV')"
   ]
  },
  {
   "cell_type": "code",
   "execution_count": 22,
   "metadata": {},
   "outputs": [
    {
     "data": {
      "text/html": [
       "<div>\n",
       "<style scoped>\n",
       "    .dataframe tbody tr th:only-of-type {\n",
       "        vertical-align: middle;\n",
       "    }\n",
       "\n",
       "    .dataframe tbody tr th {\n",
       "        vertical-align: top;\n",
       "    }\n",
       "\n",
       "    .dataframe thead th {\n",
       "        text-align: right;\n",
       "    }\n",
       "</style>\n",
       "<table border=\"1\" class=\"dataframe\">\n",
       "  <thead>\n",
       "    <tr style=\"text-align: right;\">\n",
       "      <th></th>\n",
       "      <th>AP threshold</th>\n",
       "      <th>AP amplitude</th>\n",
       "      <th>AP width</th>\n",
       "      <th>AHP</th>\n",
       "      <th>3rd AP threshold</th>\n",
       "      <th>3rd AP amplitude</th>\n",
       "      <th>3rd AP width</th>\n",
       "      <th>3rd AHP</th>\n",
       "      <th>AP count</th>\n",
       "      <th>AP count 1st 8th</th>\n",
       "      <th>...</th>\n",
       "      <th>AP amp adapt</th>\n",
       "      <th>AP average amp adapt</th>\n",
       "      <th>AP CV</th>\n",
       "      <th>ISI adapt</th>\n",
       "      <th>ISI CV</th>\n",
       "      <th>latency</th>\n",
       "      <th>rest $V_{m}$ mean</th>\n",
       "      <th>$V_{m}$ mean</th>\n",
       "      <th>$V_{m}$ std</th>\n",
       "      <th>$V_{m}$ skewness</th>\n",
       "    </tr>\n",
       "  </thead>\n",
       "  <tbody>\n",
       "    <tr>\n",
       "      <th>0</th>\n",
       "      <td>-65.346218</td>\n",
       "      <td>114.016544</td>\n",
       "      <td>1.12</td>\n",
       "      <td>-18.47564</td>\n",
       "      <td>-63.704251</td>\n",
       "      <td>108.527666</td>\n",
       "      <td>1.0</td>\n",
       "      <td>-21.880876</td>\n",
       "      <td>3.332205</td>\n",
       "      <td>1.94591</td>\n",
       "      <td>...</td>\n",
       "      <td>-0.054642</td>\n",
       "      <td>0.481694</td>\n",
       "      <td>-4.673521</td>\n",
       "      <td>-0.001878</td>\n",
       "      <td>-2.947808</td>\n",
       "      <td>2.223542</td>\n",
       "      <td>-78.435622</td>\n",
       "      <td>-69.475002</td>\n",
       "      <td>591.207989</td>\n",
       "      <td>2.636338</td>\n",
       "    </tr>\n",
       "  </tbody>\n",
       "</table>\n",
       "<p>1 rows × 23 columns</p>\n",
       "</div>"
      ],
      "text/plain": [
       "   AP threshold  AP amplitude  AP width       AHP  3rd AP threshold  \\\n",
       "0    -65.346218    114.016544      1.12 -18.47564        -63.704251   \n",
       "\n",
       "   3rd AP amplitude  3rd AP width    3rd AHP  AP count  AP count 1st 8th  ...  \\\n",
       "0        108.527666           1.0 -21.880876  3.332205           1.94591  ...   \n",
       "\n",
       "   AP amp adapt  AP average amp adapt     AP CV  ISI adapt    ISI CV  \\\n",
       "0     -0.054642              0.481694 -4.673521  -0.001878 -2.947808   \n",
       "\n",
       "    latency  rest $V_{m}$ mean  $V_{m}$ mean  $V_{m}$ std  $V_{m}$ skewness  \n",
       "0  2.223542         -78.435622    -69.475002   591.207989          2.636338  \n",
       "\n",
       "[1 rows x 23 columns]"
      ]
     },
     "execution_count": 22,
     "metadata": {},
     "output_type": "execute_result"
    }
   ],
   "source": [
    "df=pd.DataFrame(data=M1_model._simulation_wrapper(trial).numpy(), columns=ephys_features)\n",
    "df.head()"
   ]
  },
  {
   "cell_type": "markdown",
   "metadata": {},
   "source": [
    "## Simulate"
   ]
  },
  {
   "cell_type": "code",
   "execution_count": 24,
   "metadata": {},
   "outputs": [],
   "source": [
    "M1_model=EphysModel(name='M1',\n",
    "                   T=25.0,\n",
    "                   E_Na=69.0,\n",
    "                   E_K=-98.4,\n",
    "                   E_Ca=127.2,\n",
    "                   start=100,\n",
    "                   end=700,\n",
    "                   dt=0.04,\n",
    "                   n_processes=40,\n",
    "                   noise_factor=10,\n",
    "                   use_pathos=True,\n",
    "                   chunk_size=50000,\n",
    "                   save_chunks=True)"
   ]
  },
  {
   "cell_type": "code",
   "execution_count": null,
   "metadata": {},
   "outputs": [
    {
     "name": "stdout",
     "output_type": "stream",
     "text": [
      "Chunks:\n",
      ".........10.........20"
     ]
    }
   ],
   "source": [
    "t = time.time()\n",
    "n_samples = int(15*1e6)\n",
    "theta = prior.sample((n_samples,))\n",
    "M1_model.sim(theta)\n",
    "np.savez('./save_sims/M1_chunks/full_batch.npz',\n",
    "     theta=M1_model.theta.numpy(),\n",
    "     stats=M1_model.stats.numpy()\n",
    "    )\n",
    "t = time.time() - t\n",
    "m,s = divmod(t, 60)\n",
    "h,m = divmod(m, 60)\n",
    "print('\\nTime: {}h {:2.0f}m {:2.0f}s'.format(h,m,s))"
   ]
  },
  {
   "cell_type": "markdown",
   "metadata": {},
   "source": [
    "## Distribution of summary statistics"
   ]
  },
  {
   "cell_type": "markdown",
   "metadata": {},
   "source": [
    "Let us have a look at the distribion of simulated summary statistics (or ephys features) versus the distribution of summary statistics of our observed experimental dataset."
   ]
  },
  {
   "cell_type": "code",
   "execution_count": 26,
   "metadata": {},
   "outputs": [],
   "source": [
    "# In our visualizations of 1-dimensional ephys feature distributions,\n",
    "# we'll keep the ones within certain limits to prevent outliers in the visualization.\n",
    "limits={'AP threshold':[-120,75], 'AP amplitude':[0,200], 'AP width':[0,5], 'AHP':[-80,50], \\\n",
    "        '3rd AP threshold':[-100,100], '3rd AP amplitude':[0,200], '3rd AP width':[0,5], '3rd AHP':[-60,30], \\\n",
    "        'AP count':[0,400], 'AP count 1st 8th': [0,135], 'AP count 1st quarter': [0,180], \\\n",
    "        'AP count 1st half':[0,200], 'AP count 2nd half':[0,200], 'AP amp adapt':[-1.5,1.5], \\\n",
    "        'AP average amp adapt':[-0.1,1.1], 'AP CV':[-7.5,0], \\\n",
    "        'ISI adapt':[-3,3], 'ISI CV':[-8,2.5], 'latency':[-2,6.5], r'rest $V_{m}$ mean':[-120,100], \\\n",
    "        r'$V_{m}$ mean':[-110,50], r'$V_{m}$ std':[0,2000], r'$V_{m}$ skewness':[-2,12], \\\n",
    "        'Vi':[-150,-40], '1-comp area':[0,4000]}"
   ]
  },
  {
   "cell_type": "code",
   "execution_count": 27,
   "metadata": {},
   "outputs": [
    {
     "name": "stderr",
     "output_type": "stream",
     "text": [
      "tcmalloc: large alloc 1380007936 bytes == 0x115baa000 @ \n"
     ]
    },
    {
     "name": "stdout",
     "output_type": "stream",
     "text": [
      "(# sims, # ephys features):  (15000000, 23)\n",
      "and after deleting Nan and Inf simulations: \n",
      "(# sims, # ephys features):  (7155552, 23)\n"
     ]
    },
    {
     "data": {
      "image/png": "[encoded data removed]",
      "text/plain": [
       "<Figure size 1008x864 with 25 Axes>"
      ]
     },
     "metadata": {
      "needs_background": "light"
     },
     "output_type": "display_data"
    }
   ],
   "source": [
    "theta=np.load('./save_sims/M1_chunks/full_batch.npz')['theta']\n",
    "stats=np.load('./save_sims/M1_chunks/full_batch.npz')['stats']\n",
    "print('(# sims, # ephys features): ', stats.shape)\n",
    "keeping=(~np.isnan(np.mean(stats, axis=1)))&(~np.isinf(np.mean(stats, axis=1)))\n",
    "stats = stats[keeping,:] # delete Nan simulations\n",
    "print('and after deleting Nan and Inf simulations: \\n(# sims, # ephys features): ', stats.shape)\n",
    "\n",
    "fig, axes = plt.subplots(5, 5, figsize = (14, 12))\n",
    "xlabelfontsize=15\n",
    "for i, ax in enumerate(axes.reshape(-1)[:len(ephys_features)]):\n",
    "        ax.hist([Xo[ephys_features[i]].values,\n",
    "                 stats[:,i][(stats[:,i]>limits[ephys_features[i]][0])&\\\n",
    "                            (stats[:,i]<limits[ephys_features[i]][1])]],\n",
    "                color=['black', 'grey'], alpha=0.5, bins=30, density=True, histtype='stepfilled', \\\n",
    "                label=[ 'observations', 'simulations'])\n",
    "        ax.set_xlabel(ephys_features[i], fontsize=xlabelfontsize)\n",
    "        if i==4:\n",
    "            ax.legend(fontsize=14, bbox_to_anchor=(1.2, 1))\n",
    "\n",
    "for ax in axes.reshape(-1)[len(ephys_features):]:\n",
    "    ax.set_xticks([])\n",
    "    ax.set_yticks([])\n",
    "    sns.despine(ax=ax, left=True, bottom=True)\n",
    "plt.tight_layout()"
   ]
  },
  {
   "cell_type": "markdown",
   "metadata": {},
   "source": [
    "Most summary statistics of our experimental dataset (observations) are very nicely covered by our simulations. Yet, we can observe the 'simulation gap' in terms of some 'harder to fit' summary statistics, such as the ISI adapt."
   ]
  },
  {
   "cell_type": "markdown",
   "metadata": {},
   "source": [
    "## Best prior simulations for an observed cell"
   ]
  },
  {
   "cell_type": "markdown",
   "metadata": {},
   "source": [
    "Pick a cell. You can for instance check `Xo.index` and pick one."
   ]
  },
  {
   "cell_type": "code",
   "execution_count": 28,
   "metadata": {},
   "outputs": [],
   "source": [
    "cell_name = '20180917_sample_3'"
   ]
  },
  {
   "cell_type": "code",
   "execution_count": 29,
   "metadata": {},
   "outputs": [
    {
     "data": {
      "text/plain": [
       "'../data/raw_data/000008/sub-mouse-ZQHAI/sub-mouse-ZQHAI_ses-20180917-sample-3_slice-20180917-slice-3_cell-20180917-sample-3_icephys.nwb'"
      ]
     },
     "execution_count": 29,
     "metadata": {},
     "output_type": "execute_result"
    }
   ],
   "source": [
    "#Check whether raw file name corresponds to the cell's name\n",
    "data = np.array(M1_25degree['M1_names'])[no_low_qual][np.where(Xo.index==cell_name)[0][0]]\n",
    "data"
   ]
  },
  {
   "cell_type": "code",
   "execution_count": 30,
   "metadata": {},
   "outputs": [],
   "source": [
    "import warnings\n",
    "with warnings.catch_warnings():\n",
    "    warnings.simplefilter(\"ignore\")\n",
    "    data = NWBHDF5IO(data, 'r', load_namespaces=True).read()"
   ]
  },
  {
   "cell_type": "code",
   "execution_count": 31,
   "metadata": {},
   "outputs": [],
   "source": [
    "xo=Xo.loc[cell_name,:].iloc[:-4].values\n",
    "feature_list=range(23)"
   ]
  },
  {
   "cell_type": "code",
   "execution_count": 32,
   "metadata": {},
   "outputs": [],
   "source": [
    "time_obs, voltage_obs, current_obs, curr_index_0_obs = get_time_voltage_current_currindex0(data)\n",
    "liquid_junction_potential=15.4\n",
    "voltage_obs-=liquid_junction_potential\n",
    "\n",
    "I, t_on, t_off, dt, t, A_soma = syn_current(area=Xo.loc[cell_name, '1-comp area'], curr_level=3e-4)\n",
    "curr_index = np.where(current_obs==300)[0][0]\n",
    "observation = {'data': voltage_obs[:20000, curr_index], 'time': time_obs[:20000]*1e3, 'dt':4*1e-5*1e3, 'I': I}"
   ]
  },
  {
   "cell_type": "code",
   "execution_count": 33,
   "metadata": {},
   "outputs": [
    {
     "name": "stderr",
     "output_type": "stream",
     "text": [
      "tcmalloc: large alloc 1380007936 bytes == 0x171d20000 @ \n"
     ]
    },
    {
     "name": "stdout",
     "output_type": "stream",
     "text": [
      "(# sims, # ephys features):  (15000000, 23)\n",
      "and after deleting Nan and Inf simulations: \n",
      "(# sims, # ephys features):  (7155552, 23)\n"
     ]
    },
    {
     "data": {
      "image/png": "[encoded data removed]",
      "text/plain": [
       "<Figure size 360x360 with 4 Axes>"
      ]
     },
     "metadata": {},
     "output_type": "display_data"
    }
   ],
   "source": [
    "theta=np.load('./save_sims/M1_chunks/full_batch.npz')['theta']\n",
    "stats=np.load('./save_sims/M1_chunks/full_batch.npz')['stats']\n",
    "print('(# sims, # ephys features): ', stats.shape)\n",
    "keeping=(~np.isnan(np.mean(stats, axis=1)))&(~np.isinf(np.mean(stats, axis=1)))\n",
    "stats = stats[keeping,:] # delete Nan simulations\n",
    "print('and after deleting Nan and Inf simulations: \\n(# sims, # ephys features): ', stats.shape)\n",
    "\n",
    "# Best Euclidean examples now for an example\n",
    "fig=plt.figure(figsize=(5,5))\n",
    "width=.9\n",
    "height=.2\n",
    "ax_truth=plt.axes([0,0.6,width,height])\n",
    "ax_sim1=plt.axes([0,0.4,width,height])\n",
    "ax_sim2=plt.axes([0,.2,width,height])\n",
    "ax_sim3=plt.axes([0,0,width,height])\n",
    "\n",
    "# plot observation\n",
    "ax_truth.plot(observation['time'], observation['data'], lw=.5, label='experimental observation', c='k')\n",
    "ax_truth.legend(loc='upper center', bbox_to_anchor=(.5,1.3), fontsize=8)\n",
    "ax_truth.set_xticks([])\n",
    "ax_truth.set_yticks([])\n",
    "sns.despine(ax=ax_truth, bottom=True,left=True)\n",
    "\n",
    "#3. pick 3 that have the smallest Euclidean distance of their summ stats with the experimental observation\n",
    "s_mean=stats[:,feature_list].mean(axis=0)\n",
    "s_std=stats[:,feature_list].std(axis=0)\n",
    "ind=np.argsort(np.sum(\n",
    "                np.square((stats[:,feature_list]-s_mean)/s_std\n",
    "                    -(xo[feature_list]-s_mean)/s_std\n",
    "                         ),\n",
    "                axis=1\n",
    "                    )\n",
    "              )[0:3]\n",
    "#4. show those 3 simulations\n",
    "x = M1_model._run_HH_model(theta[keeping,:][ind,:])\n",
    "ax_sim1.plot(x['time'], x['data'][0,0,:], lw=.5, c='grey', label='good prior simulations')\n",
    "ax_sim2.plot(x['time'], x['data'][1,0,:], lw=.5, c='grey')\n",
    "ax_sim3.plot(x['time'], x['data'][2,0,:], lw=.5, c='grey')\n",
    "ax_sim3.plot([0,400], [-95,-95], 'k')\n",
    "ax_sim3.annotate('400 ms', (160,-92))\n",
    "ax_sim3.plot([0,0], [-95,-25], 'k')\n",
    "ax_sim3.annotate('70 mV', (3,-65))\n",
    "# ax_sim3.set_xlabel('Time (ms)', fontsize=10)\n",
    "# ax_sim3.set_ylabel('Voltage (mV)', fontsize=10)\n",
    "ax_sim1.legend(loc='upper center', bbox_to_anchor=(.5,1.28), fontsize=8)\n",
    "for ax in [ax_truth, ax_sim1, ax_sim2, ax_sim3]:\n",
    "    ax.set_xticks([])\n",
    "    ax.set_yticks([])\n",
    "    sns.despine(ax=ax, bottom=True,left=True)"
   ]
  },
  {
   "cell_type": "code",
   "execution_count": 34,
   "metadata": {},
   "outputs": [
    {
     "data": {
      "text/html": [
       "<div>\n",
       "<style scoped>\n",
       "    .dataframe tbody tr th:only-of-type {\n",
       "        vertical-align: middle;\n",
       "    }\n",
       "\n",
       "    .dataframe tbody tr th {\n",
       "        vertical-align: top;\n",
       "    }\n",
       "\n",
       "    .dataframe thead th {\n",
       "        text-align: right;\n",
       "    }\n",
       "</style>\n",
       "<table border=\"1\" class=\"dataframe\">\n",
       "  <thead>\n",
       "    <tr style=\"text-align: right;\">\n",
       "      <th></th>\n",
       "      <th>C</th>\n",
       "      <th>$R_{input}$</th>\n",
       "      <th>$\\tau$</th>\n",
       "      <th>$g_{Nat}$</th>\n",
       "      <th>$g_{Na}$</th>\n",
       "      <th>$g_{Kd}$</th>\n",
       "      <th>$g_{M}$</th>\n",
       "      <th>$g_{Kv31}$</th>\n",
       "      <th>$g_{L}$</th>\n",
       "      <th>$E_{leak}$</th>\n",
       "      <th>$\\tau_{max}$</th>\n",
       "      <th>VT</th>\n",
       "      <th>rate_to_SS_factor</th>\n",
       "    </tr>\n",
       "  </thead>\n",
       "  <tbody>\n",
       "    <tr>\n",
       "      <th>0</th>\n",
       "      <td>8.121442</td>\n",
       "      <td>331.743103</td>\n",
       "      <td>35.343864</td>\n",
       "      <td>160.998734</td>\n",
       "      <td>25.069702</td>\n",
       "      <td>11.163777</td>\n",
       "      <td>2.806568</td>\n",
       "      <td>49.942986</td>\n",
       "      <td>1.671186</td>\n",
       "      <td>-97.997673</td>\n",
       "      <td>484.083557</td>\n",
       "      <td>-68.662560</td>\n",
       "      <td>1.836790</td>\n",
       "    </tr>\n",
       "    <tr>\n",
       "      <th>1</th>\n",
       "      <td>4.819860</td>\n",
       "      <td>230.955994</td>\n",
       "      <td>28.486773</td>\n",
       "      <td>64.611259</td>\n",
       "      <td>20.243519</td>\n",
       "      <td>18.209028</td>\n",
       "      <td>0.989872</td>\n",
       "      <td>16.942650</td>\n",
       "      <td>2.793991</td>\n",
       "      <td>-86.814522</td>\n",
       "      <td>519.409912</td>\n",
       "      <td>-66.994164</td>\n",
       "      <td>1.648026</td>\n",
       "    </tr>\n",
       "    <tr>\n",
       "      <th>2</th>\n",
       "      <td>6.490966</td>\n",
       "      <td>436.432312</td>\n",
       "      <td>62.216881</td>\n",
       "      <td>216.098984</td>\n",
       "      <td>43.089825</td>\n",
       "      <td>13.458613</td>\n",
       "      <td>1.180066</td>\n",
       "      <td>43.346523</td>\n",
       "      <td>1.172536</td>\n",
       "      <td>-86.063889</td>\n",
       "      <td>193.917572</td>\n",
       "      <td>-41.300323</td>\n",
       "      <td>2.414622</td>\n",
       "    </tr>\n",
       "  </tbody>\n",
       "</table>\n",
       "</div>"
      ],
      "text/plain": [
       "          C  $R_{input}$     $\\tau$   $g_{Nat}$   $g_{Na}$   $g_{Kd}$  \\\n",
       "0  8.121442   331.743103  35.343864  160.998734  25.069702  11.163777   \n",
       "1  4.819860   230.955994  28.486773   64.611259  20.243519  18.209028   \n",
       "2  6.490966   436.432312  62.216881  216.098984  43.089825  13.458613   \n",
       "\n",
       "    $g_{M}$  $g_{Kv31}$   $g_{L}$  $E_{leak}$  $\\tau_{max}$         VT  \\\n",
       "0  2.806568   49.942986  1.671186  -97.997673    484.083557 -68.662560   \n",
       "1  0.989872   16.942650  2.793991  -86.814522    519.409912 -66.994164   \n",
       "2  1.180066   43.346523  1.172536  -86.063889    193.917572 -41.300323   \n",
       "\n",
       "   rate_to_SS_factor  \n",
       "0           1.836790  \n",
       "1           1.648026  \n",
       "2           2.414622  "
      ]
     },
     "execution_count": 34,
     "metadata": {},
     "output_type": "execute_result"
    }
   ],
   "source": [
    "df=pd.DataFrame(data=theta[keeping,:][ind,:], columns=model_param_names)\n",
    "df"
   ]
  }
 ],
 "metadata": {
  "kernelspec": {
   "display_name": "Python 3 (ipykernel)",
   "language": "python",
   "name": "python3"
  },
  "language_info": {
   "codemirror_mode": {
    "name": "ipython",
    "version": 3
   },
   "file_extension": ".py",
   "mimetype": "text/x-python",
   "name": "python",
   "nbconvert_exporter": "python",
   "pygments_lexer": "ipython3",
   "version": "3.8.10"
  },
  "varInspector": {
   "cols": {
    "lenName": 16,
    "lenType": 16,
    "lenVar": 40
   },
   "kernels_config": {
    "python": {
     "delete_cmd_postfix": "",
     "delete_cmd_prefix": "del ",
     "library": "var_list.py",
     "varRefreshCmd": "print(var_dic_list())"
    },
    "r": {
     "delete_cmd_postfix": ") ",
     "delete_cmd_prefix": "rm(",
     "library": "var_list.r",
     "varRefreshCmd": "cat(var_dic_list()) "
    }
   },
   "types_to_exclude": [
    "module",
    "function",
    "builtin_function_or_method",
    "instance",
    "_Feature"
   ],
   "window_display": false
  }
 },
 "nbformat": 4,
 "nbformat_minor": 4
}
