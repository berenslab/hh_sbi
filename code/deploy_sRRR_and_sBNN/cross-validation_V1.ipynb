{
 "cells": [
  {
   "cell_type": "markdown",
   "metadata": {},
   "source": [
    "## Cross-validation"
   ]
  },
  {
   "cell_type": "markdown",
   "metadata": {},
   "source": [
    "This notebook uses the methodology of sBNN which can be found [here](https://github.com/berenslab/sBNN)."
   ]
  },
  {
   "cell_type": "code",
   "execution_count": 2,
   "metadata": {},
   "outputs": [],
   "source": [
    "# Import packages\n",
    "import numpy as np\n",
    "import pandas as pd\n",
    "import seaborn as sns\n",
    "\n",
    "import sparseRRR\n",
    "import matplotlib.pyplot as plt\n",
    "import importlib\n",
    "\n",
    "import time\n",
    "import pickle\n",
    "import warnings"
   ]
  },
  {
   "cell_type": "markdown",
   "metadata": {},
   "source": [
    "### Load data"
   ]
  },
  {
   "cell_type": "code",
   "execution_count": 20,
   "metadata": {},
   "outputs": [],
   "source": [
    "V1_25degree = pickle.load(open('../../code/pickles/V1_features.pickle', 'rb'))\n",
    "ephys_features = np.array(V1_25degree['X_o'].columns)[:-1]\n",
    "Xo = V1_25degree['X_o'].copy()\n",
    "V1_names = V1_25degree['V1_names']\n",
    "\n",
    "v1_meta = pd.read_csv('../../data/Gouwens (2020)/20200625_patchseq_metadata_mouse.csv')\n",
    "v1_meta = v1_meta.set_index('ephys_session_id')\n",
    "v1_meta = v1_meta.reindex(Xo.index.astype('int64'))\n",
    "celltypes = v1_meta['corresponding_AIT2.3.1_alias']\n",
    "\n",
    "v1_genes = pd.read_csv('../../data/Gouwens (2020)/20200513_Mouse_PatchSeq_Release_count.csv')\n",
    "v1_genes=v1_genes.set_index('Unnamed: 0').T\n",
    "v1_genes=v1_genes.reindex(v1_meta['transcriptomics_sample_id'].values)\n",
    "gene_names = v1_genes.columns.values"
   ]
  },
  {
   "cell_type": "code",
   "execution_count": 24,
   "metadata": {},
   "outputs": [],
   "source": [
    "original_gene_names = np.array(v1_genes.columns)\n",
    "IonChannelGenes = pd.read_csv(\n",
    "    \"../../data/GO_term_summary_20211104_075621.txt\", header=0, sep=\"\\t\"\n",
    ")\n",
    "selectedGenes = np.array(\n",
    "    [\n",
    "        (gene in IonChannelGenes[\"MGI Gene/Marker ID\"].values)\n",
    "        | (\n",
    "            gene\n",
    "            in [\n",
    "                \"Pvalb\",\n",
    "                \"Lamp5\",\n",
    "                \"Vip\",\n",
    "                \"Sst\",\n",
    "            ]\n",
    "        )\n",
    "        for gene in v1_genes.columns\n",
    "    ]\n",
    ")\n",
    "enough_counts = np.sum(v1_genes, axis=0) >= 10\n",
    "data_exons = v1_genes.loc[:,selectedGenes & enough_counts]\n",
    "exonCounts = data_exons.values\n",
    "gene_names = original_gene_names[selectedGenes & enough_counts]"
   ]
  },
  {
   "cell_type": "code",
   "execution_count": 26,
   "metadata": {},
   "outputs": [
    {
     "data": {
      "text/plain": [
       "(3559, 420)"
      ]
     },
     "execution_count": 26,
     "metadata": {},
     "output_type": "execute_result"
    }
   ],
   "source": [
    "non_nans = ~np.isnan(exonCounts.sum(axis=1))\n",
    "exonCounts = exonCounts[non_nans,:]\n",
    "exonCounts.shape"
   ]
  },
  {
   "cell_type": "code",
   "execution_count": 4,
   "metadata": {},
   "outputs": [],
   "source": [
    "model_param_names = np.array(['C', r'$R_{input}$', r'$\\tau$', r'$g_{Nat}$', r'$g_{Na}$', r'$g_{Kd}$', r'$g_{M}$',\n",
    "                         r'$g_{Kv31}$', r'$g_{L}$', r'$E_{leak}$', r'$\\tau_{max}$', 'VT', 'rate_to_SS_factor', 'I'])\n",
    "prior_min = [0.1,  20,  0.1,    0,        0,      0,      0,      0,      0, -130,    50,    -90,   0.1,   20]\n",
    "prior_max = [15,   1000,   70,   250,     100,      30,    3,     250,     3,  -50,  4000,   -35,    3,   870]"
   ]
  },
  {
   "cell_type": "code",
   "execution_count": 5,
   "metadata": {},
   "outputs": [],
   "source": [
    "fav_tr_schedule='2d'"
   ]
  },
  {
   "cell_type": "code",
   "execution_count": 7,
   "metadata": {},
   "outputs": [],
   "source": [
    "ttypes_tasic = np.load('../../data/Gouwens (2020)/tasic-ttypes.npy')\n",
    "colors_tasic = np.load('../../data/Gouwens (2020)/tasic-colors.npy')\n",
    "color_map = {}\n",
    "for c_type in np.unique(ttypes_tasic):\n",
    "    color_map.update({c_type:colors_tasic[np.where(ttypes_tasic==c_type)[0][0]]})\n",
    "colors = np.array([\n",
    "    color_map[c_type] if c_type in ttypes_tasic else 'black' for c_type in celltypes\n",
    "])"
   ]
  },
  {
   "cell_type": "code",
   "execution_count": null,
   "metadata": {},
   "outputs": [],
   "source": [
    "with open('../save_model_parameters/V1/training_schedule_{}.pickle'.format(fav_tr_schedule), 'rb') as f:\n",
    "        THETA = pickle.load(f)\n",
    "highest_posterior_samples=np.concatenate(\n",
    "    [THETA['highest posterior samples'][cell] if cell in THETA['highest posterior samples'] else np.ones((13,))*np.nan for cell in Xo.index]\n",
    ").reshape((Xo.shape[0],len(model_param_names)))"
   ]
  },
  {
   "cell_type": "code",
   "execution_count": 8,
   "metadata": {},
   "outputs": [],
   "source": [
    "model_params_df=pd.DataFrame.from_dict(\n",
    "    THETA['highest posterior samples'],\n",
    "    orient='index',\n",
    "    columns=model_param_names\n",
    ")"
   ]
  },
  {
   "cell_type": "markdown",
   "metadata": {},
   "source": [
    "### Preprocessing"
   ]
  },
  {
   "cell_type": "code",
   "execution_count": 27,
   "metadata": {},
   "outputs": [],
   "source": [
    "# Further preprocessing for genes (gene selection, library size normalization and Z-scoring)\n",
    "genes = exonCounts.copy()\n",
    "genes = genes / np.sum(genes, axis=1, keepdims=True) * np.median(np.sum(genes, axis=1, keepdims=True))\n",
    "genes = np.log2(genes + 1)\n",
    "genes = genes - np.mean(genes, axis=0)\n",
    "genes = genes / np.std(genes, axis=0)\n",
    "genes = genes.astype('float32')\n",
    "\n",
    "# Z-scoring the model parameters\n",
    "THETA = model_params_df.copy().values[non_nans,:]\n",
    "THETA_mean=THETA.mean(axis=0)\n",
    "THETA_std=THETA.std(axis=0)\n",
    "THETA-=THETA_mean\n",
    "THETA/=THETA_std\n",
    "THETA = THETA.astype('float32')"
   ]
  },
  {
   "cell_type": "code",
   "execution_count": 28,
   "metadata": {},
   "outputs": [
    {
     "name": "stdout",
     "output_type": "stream",
     "text": [
      "(3559, 420)\n",
      "(3559, 14)\n"
     ]
    }
   ],
   "source": [
    "print(genes.shape)\n",
    "print(THETA.shape)"
   ]
  },
  {
   "cell_type": "markdown",
   "metadata": {},
   "source": [
    "### sRRR"
   ]
  },
  {
   "cell_type": "code",
   "execution_count": 54,
   "metadata": {},
   "outputs": [
    {
     "name": "stdout",
     "output_type": "stream",
     "text": [
      "\n",
      "CVFOLD:  0\n",
      "\n",
      "CVFOLD:  1\n",
      "\n",
      "CVFOLD:  2\n",
      "\n",
      "CVFOLD:  3\n",
      "\n",
      "CVFOLD:  4\n",
      "\n",
      "CVFOLD:  5\n",
      "\n",
      "CVFOLD:  6\n",
      "\n",
      "CVFOLD:  7\n",
      "\n",
      "CVFOLD:  8\n",
      "\n",
      "CVFOLD:  9\n",
      "Time: 0.0h  0m 42s\n"
     ]
    }
   ],
   "source": [
    "# CV sRRR rank = 2\n",
    "\n",
    "alphas = np.concatenate((np.arange(.05,1,.05),np.arange(1,4,1)))\n",
    "l1_ratios = np.array([1])\n",
    "\n",
    "rank = 2\n",
    "folds = 10\n",
    "seed = 42\n",
    "\n",
    "r2_sRRR_rank2 = np.zeros((folds, l1_ratios.shape[0], alphas.shape[0]))\n",
    "r2_sRRR_rank2_tr = np.zeros((folds, l1_ratios.shape[0], alphas.shape[0]))\n",
    "r2_sRRR_relaxed_rank2 = np.zeros((folds, l1_ratios.shape[0], alphas.shape[0]))\n",
    "r2_sRRR_relaxed_rank2_tr = np.zeros((folds, l1_ratios.shape[0], alphas.shape[0]))\n",
    "nonzero_rank2 = np.zeros((folds, l1_ratios.shape[0], alphas.shape[0]))\n",
    "corrs_rank2 = np.zeros((folds, l1_ratios.shape[0], alphas.shape[0], rank))\n",
    "corrs_relaxed_rank2 = np.zeros((folds, l1_ratios.shape[0], alphas.shape[0], rank))\n",
    "\n",
    "\n",
    "t = time.time()\n",
    "\n",
    "np.random.seed(seed)\n",
    "n = genes.shape[0]\n",
    "ind = np.random.permutation(n)\n",
    "X = genes[ind,:]\n",
    "Y = THETA[ind,:]\n",
    "\n",
    "# CV folds\n",
    "for cvfold in range(folds):\n",
    "    print('\\nCVFOLD: ', cvfold)\n",
    "    indtest  = np.arange(cvfold*int(n/folds), (cvfold+1)*int(n/folds))\n",
    "    indtrain = np.setdiff1d(np.arange(n), indtest)\n",
    "    x_train = np.copy(X[indtrain,:])\n",
    "    y_train = np.copy(Y[indtrain,:])\n",
    "    x_test = np.copy(X[indtest,:])\n",
    "    y_test = np.copy(Y[indtest,:])\n",
    "\n",
    "    # Mean centering (like sRRR)\n",
    "    X_mean = np.mean(x_train, axis=0)\n",
    "    x_train -= X_mean\n",
    "    x_test -= X_mean\n",
    "    Y_mean = np.mean(y_train, axis=0)\n",
    "    y_train -= Y_mean\n",
    "    y_test -= Y_mean\n",
    "    \n",
    "    x_train = x_train.astype('float64')\n",
    "    y_train = y_train.astype('float64')\n",
    "    x_test = x_test.astype('float64')\n",
    "    y_test = y_test.astype('float64')\n",
    "    \n",
    "    for i,a in enumerate(alphas):\n",
    "        for j, b in enumerate(l1_ratios):\n",
    "            vx,vy = sparseRRR.elastic_rrr(x_train, y_train, alpha=a, l1_ratio=b, rank=rank, sparsity='row-wise')\n",
    "\n",
    "            nz = np.sum(np.abs(vx), axis=1) != 0\n",
    "            if np.sum(nz) < rank:\n",
    "                nonzero_rank2[cvfold, j, i] = np.nan\n",
    "                continue\n",
    "\n",
    "            if np.allclose(np.std(x_test @ vx, axis=0), 0):\n",
    "                nonzero_rank2[cvfold, j, i] = np.nan\n",
    "                continue\n",
    "\n",
    "            nonzero_rank2[cvfold, j, i] = np.sum(nz)\n",
    "            r2_sRRR_rank2[cvfold, j, i] = 1 - np.sum((y_test - x_test @ vx @ vy.T)**2) / np.sum(y_test**2)\n",
    "            r2_sRRR_rank2_tr[cvfold, j, i] = 1 - np.sum((y_train - x_train @ vx @ vy.T)**2) / np.sum(y_train**2)\n",
    "            for r in range(rank):\n",
    "                corrs_rank2[cvfold, j, i, r] = np.corrcoef(x_test @ vx[:,r], y_test @ vy[:,r], rowvar=False)[0,1]\n",
    "\n",
    "            # Relaxation\n",
    "            vx[nz,:],vy = sparseRRR.elastic_rrr(x_train[:,nz], y_train, alpha=a, l1_ratio=0, rank=rank, sparsity='row-wise')\n",
    "\n",
    "            if np.allclose(np.std(x_test @ vx, axis=0), 0):\n",
    "                nonzero_rank2[cvfold, j, i] = np.nan\n",
    "                continue\n",
    "\n",
    "            r2_sRRR_relaxed_rank2[cvfold, j, i] = 1 - np.sum((y_test - x_test @ vx @ vy.T)**2) / np.sum(y_test**2)\n",
    "            r2_sRRR_relaxed_rank2_tr[cvfold, j, i] = 1 - np.sum((y_train - x_train @ vx @ vy.T)**2) / np.sum(y_train**2)\n",
    "            for r in range(rank):\n",
    "                corrs_relaxed_rank2[cvfold, j, i, r] = np.corrcoef(x_test @ vx[:,r], y_test @ vy[:,r], rowvar=False)[0,1]\n",
    "\n",
    "t = time.time() - t\n",
    "m,s = divmod(t, 60)\n",
    "h,m = divmod(m, 60)\n",
    "print('Time: {}h {:2.0f}m {:2.0f}s'.format(h,m,s))"
   ]
  },
  {
   "cell_type": "code",
   "execution_count": 55,
   "metadata": {},
   "outputs": [],
   "source": [
    "with open('pickles/V1/sRRR_vs_Bottleneck_rank2_CV_lasso_ion_channel_marker.pickle', 'wb') as f:\n",
    "    pickle.dump([r2_sRRR_rank2, r2_sRRR_relaxed_rank2, r2_sRRR_rank2_tr, r2_sRRR_relaxed_rank2_tr, \\\n",
    "                nonzero_rank2, corrs_rank2, corrs_relaxed_rank2], f)"
   ]
  },
  {
   "cell_type": "code",
   "execution_count": 56,
   "metadata": {},
   "outputs": [
    {
     "name": "stdout",
     "output_type": "stream",
     "text": [
      "\n",
      "CVFOLD:  0\n",
      "\n",
      "CVFOLD:  1\n",
      "\n",
      "CVFOLD:  2\n",
      "\n",
      "CVFOLD:  3\n",
      "\n",
      "CVFOLD:  4\n",
      "\n",
      "CVFOLD:  5\n",
      "\n",
      "CVFOLD:  6\n",
      "\n",
      "CVFOLD:  7\n",
      "\n",
      "CVFOLD:  8\n",
      "\n",
      "CVFOLD:  9\n",
      "Time: 0.0h  1m 28s\n"
     ]
    }
   ],
   "source": [
    "# CV sRRR full rank\n",
    "\n",
    "alphas = np.concatenate((np.arange(.05,1,.05),np.arange(1,4,1)))\n",
    "l1_ratios = np.array([1])\n",
    "\n",
    "rank = THETA.shape[1]\n",
    "folds = 10\n",
    "seed = 42\n",
    "\n",
    "r2_sRRR_rank14 = np.zeros((folds, l1_ratios.shape[0], alphas.shape[0]))\n",
    "r2_sRRR_rank14_tr = np.zeros((folds, l1_ratios.shape[0], alphas.shape[0]))\n",
    "r2_sRRR_relaxed_rank14 = np.zeros((folds, l1_ratios.shape[0], alphas.shape[0]))\n",
    "r2_sRRR_relaxed_rank14_tr = np.zeros((folds, l1_ratios.shape[0], alphas.shape[0]))\n",
    "nonzero_rank14 = np.zeros((folds, l1_ratios.shape[0], alphas.shape[0]))\n",
    "corrs_rank14 = np.zeros((folds, l1_ratios.shape[0], alphas.shape[0], rank))\n",
    "corrs_relaxed_rank14 = np.zeros((folds, l1_ratios.shape[0], alphas.shape[0], rank))\n",
    "\n",
    "\n",
    "t = time.time()\n",
    "\n",
    "np.random.seed(seed)\n",
    "n = genes.shape[0]\n",
    "ind = np.random.permutation(n)\n",
    "X = genes[ind,:]\n",
    "Y = THETA[ind,:]\n",
    "\n",
    "# CV folds\n",
    "for cvfold in range(folds):\n",
    "    print('\\nCVFOLD: ', cvfold)\n",
    "    indtest  = np.arange(cvfold*int(n/folds), (cvfold+1)*int(n/folds))\n",
    "    indtrain = np.setdiff1d(np.arange(n), indtest)\n",
    "    x_train = np.copy(X[indtrain,:])\n",
    "    y_train = np.copy(Y[indtrain,:])\n",
    "    x_test = np.copy(X[indtest,:])\n",
    "    y_test = np.copy(Y[indtest,:])\n",
    "\n",
    "    # Mean centering (like sRRR)\n",
    "    X_mean = np.mean(x_train, axis=0)\n",
    "    x_train -= X_mean\n",
    "    x_test -= X_mean\n",
    "    Y_mean = np.mean(y_train, axis=0)\n",
    "    y_train -= Y_mean\n",
    "    y_test -= Y_mean\n",
    "    \n",
    "    x_train = x_train.astype('float64')\n",
    "    y_train = y_train.astype('float64')\n",
    "    x_test = x_test.astype('float64')\n",
    "    y_test = y_test.astype('float64')\n",
    "    \n",
    "    for i,a in enumerate(alphas):\n",
    "        for j, b in enumerate(l1_ratios):\n",
    "            vx,vy = sparseRRR.elastic_rrr(x_train, y_train, alpha=a, l1_ratio=b, rank=rank, sparsity='row-wise')\n",
    "\n",
    "            nz = np.sum(np.abs(vx), axis=1) != 0\n",
    "            if np.sum(nz) < rank:\n",
    "                nonzero_rank14[cvfold, j, i] = np.nan\n",
    "                continue\n",
    "\n",
    "            if np.allclose(np.std(x_test @ vx, axis=0), 0):\n",
    "                nonzero_rank14[cvfold, j, i] = np.nan\n",
    "                continue\n",
    "\n",
    "            nonzero_rank14[cvfold, j, i] = np.sum(nz)\n",
    "            r2_sRRR_rank14[cvfold, j, i] = 1 - np.sum((y_test - x_test @ vx @ vy.T)**2) / np.sum(y_test**2)\n",
    "            r2_sRRR_rank14_tr[cvfold, j, i] = 1 - np.sum((y_train - x_train @ vx @ vy.T)**2) / np.sum(y_train**2)\n",
    "            for r in range(rank):\n",
    "                corrs_rank14[cvfold, j, i, r] = np.corrcoef(x_test @ vx[:,r], y_test @ vy[:,r], rowvar=False)[0,1]\n",
    "\n",
    "            # Relaxation\n",
    "            vx[nz,:],vy = sparseRRR.elastic_rrr(x_train[:,nz], y_train, alpha=a, l1_ratio=0, rank=rank, sparsity='row-wise')\n",
    "\n",
    "            if np.allclose(np.std(x_test @ vx, axis=0), 0):\n",
    "                nonzero_rank14[cvfold, j, i] = np.nan\n",
    "                continue\n",
    "\n",
    "            r2_sRRR_relaxed_rank14[cvfold, j, i] = 1 - np.sum((y_test - x_test @ vx @ vy.T)**2) / np.sum(y_test**2)\n",
    "            r2_sRRR_relaxed_rank14_tr[cvfold, j, i] = 1 - np.sum((y_train - x_train @ vx @ vy.T)**2) / np.sum(y_train**2)\n",
    "            for r in range(rank):\n",
    "                corrs_relaxed_rank14[cvfold, j, i, r] = np.corrcoef(x_test @ vx[:,r], y_test @ vy[:,r], rowvar=False)[0,1]\n",
    "\n",
    "t = time.time() - t\n",
    "m,s = divmod(t, 60)\n",
    "h,m = divmod(m, 60)\n",
    "print('Time: {}h {:2.0f}m {:2.0f}s'.format(h,m,s))"
   ]
  },
  {
   "cell_type": "code",
   "execution_count": 57,
   "metadata": {},
   "outputs": [],
   "source": [
    "with open('pickles/V1/sRRR_vs_Bottleneck_rank14_CV_lasso_ion_channel_marker.pickle', 'wb') as f:\n",
    "    pickle.dump([r2_sRRR_rank14, r2_sRRR_relaxed_rank14, r2_sRRR_rank14_tr, r2_sRRR_relaxed_rank14_tr, \\\n",
    "                nonzero_rank14, corrs_rank14, corrs_relaxed_rank14], f)"
   ]
  },
  {
   "cell_type": "markdown",
   "metadata": {},
   "source": [
    "Check:"
   ]
  },
  {
   "cell_type": "code",
   "execution_count": 58,
   "metadata": {},
   "outputs": [],
   "source": [
    "alphas = np.concatenate((np.arange(.05,1,.05),np.arange(1,4,1)))\n",
    "l1_ratios = np.array([1])"
   ]
  },
  {
   "cell_type": "code",
   "execution_count": 59,
   "metadata": {},
   "outputs": [],
   "source": [
    "with open('pickles/V1/sRRR_vs_Bottleneck_rank2_CV_lasso_ion_channel_marker.pickle', 'rb') as f:\n",
    "    r2_sRRR_rank2, r2_sRRR_relaxed_rank2, r2_sRRR_rank2_tr, r2_sRRR_relaxed_rank2_tr, \\\n",
    "                nonzero_rank2, corrs_rank2, corrs_relaxed_rank2 = pickle.load(f)"
   ]
  },
  {
   "cell_type": "code",
   "execution_count": 60,
   "metadata": {},
   "outputs": [],
   "source": [
    "with open('pickles/V1/sRRR_vs_Bottleneck_rank14_CV_lasso_ion_channel_marker.pickle', 'rb') as f:\n",
    "    r2_sRRR_rank14, r2_sRRR_relaxed_rank14, r2_sRRR_rank14_tr, r2_sRRR_relaxed_rank14_tr, \\\n",
    "                nonzero_rank14, corrs_rank14, corrs_relaxed_rank14 = pickle.load(f)"
   ]
  },
  {
   "cell_type": "code",
   "execution_count": 61,
   "metadata": {},
   "outputs": [],
   "source": [
    "# Select closest to 25 genes value\n",
    "# suppressing \"mean of empty slice\" warnings\n",
    "with warnings.catch_warnings():\n",
    "    warnings.simplefilter(\"ignore\", category=RuntimeWarning)\n",
    "    n_rank2 = np.nanmean(nonzero_rank2, axis=0)[0, :]\n",
    "    r_rank2_r = np.nanmean(r2_sRRR_relaxed_rank2, axis=0)[0, :]\n",
    "    n_rank14 = np.nanmean(nonzero_rank14, axis=0)[0, :]\n",
    "    r_rank14_r = np.nanmean(r2_sRRR_relaxed_rank14, axis=0)[0, :]"
   ]
  },
  {
   "cell_type": "code",
   "execution_count": 62,
   "metadata": {},
   "outputs": [
    {
     "data": {
      "text/plain": [
       "array([328.1,  93.6,  52.2,  33.8,  19.2,   nan,   nan,   nan,   nan,\n",
       "         nan,   nan,   nan,   nan,   nan,   nan,   nan,   nan,   nan,\n",
       "         nan,   nan,   nan,   nan])"
      ]
     },
     "execution_count": 62,
     "metadata": {},
     "output_type": "execute_result"
    }
   ],
   "source": [
    "n_rank14"
   ]
  },
  {
   "cell_type": "code",
   "execution_count": 63,
   "metadata": {},
   "outputs": [
    {
     "name": "stdout",
     "output_type": "stream",
     "text": [
      "0.13225230895219492 +/- 0.012206411786443265\n"
     ]
    }
   ],
   "source": [
    "print(r_rank14_r[np.isclose(n_rank14, 25, atol=7)][0], '+/-',\n",
    "      np.nanstd(r2_sRRR_relaxed_rank14, axis=0)[0, :][np.isclose(n_rank14, 25, atol=7)][0])"
   ]
  },
  {
   "cell_type": "code",
   "execution_count": 64,
   "metadata": {},
   "outputs": [
    {
     "data": {
      "text/plain": [
       "array([90. , 41.6, 24.7, 16.2, 11.7,  9. ,  6.2,  5. ,  4.9,  4.4,  4. ,\n",
       "        3.3,  2. ,  2. ,  nan,  nan,  nan,  nan,  nan,  nan,  nan,  nan])"
      ]
     },
     "execution_count": 64,
     "metadata": {},
     "output_type": "execute_result"
    }
   ],
   "source": [
    "n_rank2"
   ]
  },
  {
   "cell_type": "code",
   "execution_count": 65,
   "metadata": {},
   "outputs": [
    {
     "name": "stdout",
     "output_type": "stream",
     "text": [
      "0.11391024887055759 +/- 0.009828143360845296\n"
     ]
    }
   ],
   "source": [
    "print(r_rank2_r[np.isclose(n_rank2, 25, atol=7)][0], '+/-',\n",
    "      np.nanstd(r2_sRRR_relaxed_rank2, axis=0)[0, :][np.isclose(n_rank2, 25, atol=7)][0])"
   ]
  }
 ],
 "metadata": {
  "kernelspec": {
   "display_name": "hh_sbi_env",
   "language": "python",
   "name": "python3"
  },
  "language_info": {
   "codemirror_mode": {
    "name": "ipython",
    "version": 3
   },
   "file_extension": ".py",
   "mimetype": "text/x-python",
   "name": "python",
   "nbconvert_exporter": "python",
   "pygments_lexer": "ipython3",
   "version": "3.9.6"
  },
  "varInspector": {
   "cols": {
    "lenName": 16,
    "lenType": 16,
    "lenVar": 40
   },
   "kernels_config": {
    "python": {
     "delete_cmd_postfix": "",
     "delete_cmd_prefix": "del ",
     "library": "var_list.py",
     "varRefreshCmd": "print(var_dic_list())"
    },
    "r": {
     "delete_cmd_postfix": ") ",
     "delete_cmd_prefix": "rm(",
     "library": "var_list.r",
     "varRefreshCmd": "cat(var_dic_list()) "
    }
   },
   "types_to_exclude": [
    "module",
    "function",
    "builtin_function_or_method",
    "instance",
    "_Feature"
   ],
   "window_display": false
  }
 },
 "nbformat": 4,
 "nbformat_minor": 4
}
