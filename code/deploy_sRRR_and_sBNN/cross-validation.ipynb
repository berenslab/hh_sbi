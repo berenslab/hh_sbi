{
 "cells": [
  {
   "cell_type": "markdown",
   "metadata": {},
   "source": [
    "## Cross-validation"
   ]
  },
  {
   "cell_type": "markdown",
   "metadata": {},
   "source": [
    "This notebook uses the methodology of sBNN which can be found [here](https://github.com/berenslab/sBNN)."
   ]
  },
  {
   "cell_type": "code",
   "execution_count": 1,
   "metadata": {},
   "outputs": [],
   "source": [
    "# Import packages\n",
    "import numpy as np\n",
    "import tensorflow as tf\n",
    "import pandas as pd\n",
    "import matplotlib\n",
    "import seaborn as sns\n",
    "import sparseRRR\n",
    "import matplotlib\n",
    "import matplotlib.pyplot as plt\n",
    "import importlib\n",
    "\n",
    "import bottleneck_networks_tf2\n",
    "\n",
    "import time\n",
    "import pickle\n",
    "import warnings"
   ]
  },
  {
   "cell_type": "markdown",
   "metadata": {},
   "source": [
    "### Load data"
   ]
  },
  {
   "cell_type": "code",
   "execution_count": 2,
   "metadata": {},
   "outputs": [],
   "source": [
    "# All 25 degree Celcius mouse motor cortex (M1) electrophysiological experimental observations\n",
    "M1_25degree = pickle.load(open('../pickles/M1_features.pickle', 'rb'))\n",
    "ephys_features = np.array(M1_25degree['X_o'].columns)[:-4]\n",
    "Xo = M1_25degree['X_o'].copy()\n",
    "\n",
    "prop = pd.read_csv('../../data/m1_patchseq_meta_data.csv', sep = '\\t')\n",
    "prop = prop.rename(columns = {'Targeted layer': 'Layer'})\n",
    "prop = prop[['Cell', 'Layer', 'Cre', 'RNA type']]\n",
    "prop = prop.set_index('Cell')\n",
    "prop=prop.reindex(Xo.index)\n",
    "no_low_qual=np.array(list(map(str,prop['RNA type'].values)))!='nan'\n",
    "prop=prop.loc[no_low_qual,:]\n",
    "Xo = Xo.loc[no_low_qual,:]\n",
    "celltypes=prop['RNA type'].values"
   ]
  },
  {
   "cell_type": "code",
   "execution_count": 3,
   "metadata": {},
   "outputs": [],
   "source": [
    "model_param_names = np.array(['C', r'$R_{input}$', r'$\\tau$', r'$g_{Nat}$', r'$g_{Na}$', r'$g_{Kd}$', r'$g_{M}$',\n",
    "                         r'$g_{Kv31}$', r'$g_{L}$', r'$E_{leak}$', r'$\\tau_{max}$', 'VT', 'rate_to_SS_factor'])\n",
    "prior_min = [0.1,  20,  0.1,    0,        0,      0,      0,      0,      0, -130,    50,    -90,   0.1]\n",
    "prior_max = [15,   1000,   70,   250,     100,      30,    3,     250,     3,  -50,  4000,   -35,    3]"
   ]
  },
  {
   "cell_type": "code",
   "execution_count": 4,
   "metadata": {},
   "outputs": [],
   "source": [
    "fav_tr_schedule='2d'"
   ]
  },
  {
   "cell_type": "code",
   "execution_count": 5,
   "metadata": {},
   "outputs": [],
   "source": [
    "with open('../save_model_parameters/training_schedule_{}.pickle'.format(fav_tr_schedule), 'rb') as f:\n",
    "        THETA = pickle.load(f)\n",
    "highest_posterior_samples=np.concatenate(\n",
    "    [THETA['highest posterior samples'][cell] if cell in THETA['highest posterior samples'] else np.ones((13,))*np.nan for cell in Xo.index]\n",
    ").reshape((Xo.shape[0],len(model_param_names)))"
   ]
  },
  {
   "cell_type": "code",
   "execution_count": 6,
   "metadata": {},
   "outputs": [],
   "source": [
    "data_exons = pd.read_csv('../../data/m1_patchseq_exon_counts.csv.gz', na_filter=False, index_col=0)\n",
    "data_exons = data_exons.T.reindex(Xo.index).T\n",
    "original_gene_names = np.array(data_exons.index)\n",
    "IonChannelGenes = pd.read_csv('../../data/GO_term_summary_20211104_075621.txt', header = 0, sep = '\\t')\n",
    "selectedGenes = np.array([(gene in IonChannelGenes['MGI Gene/Marker ID'].values) | (gene in ['Pvalb', 'Lamp5', 'Vip', 'Sst', ])  for gene in data_exons.index])\n",
    "enough_counts = np.sum(data_exons, axis = 1) >= 10\n",
    "data_exons = data_exons.loc[selectedGenes & enough_counts, :]\n",
    "exonCounts = data_exons.values.transpose()\n",
    "gene_names = original_gene_names[selectedGenes & enough_counts]"
   ]
  },
  {
   "cell_type": "code",
   "execution_count": 7,
   "metadata": {},
   "outputs": [],
   "source": [
    "annotations = pd.read_csv('../../data/cluster.annotation.csv',index_col=0)\n",
    "cellTypeColors={}\n",
    "for celltype in np.unique(annotations['cluster_label'].values):\n",
    "    cellTypeColors.update({celltype:annotations.iloc[np.where(annotations['cluster_label']==celltype)[0][0],:]\\\n",
    "                          ['cluster_color']})\n",
    "colors=np.array([cellTypeColors[celltype] for celltype in celltypes])"
   ]
  },
  {
   "cell_type": "code",
   "execution_count": 8,
   "metadata": {},
   "outputs": [],
   "source": [
    "model_params_df=pd.DataFrame.from_dict(\n",
    "    THETA['highest posterior samples'],\n",
    "    orient='index',\n",
    "    columns=model_param_names\n",
    ")"
   ]
  },
  {
   "cell_type": "markdown",
   "metadata": {},
   "source": [
    "### Preprocessing"
   ]
  },
  {
   "cell_type": "code",
   "execution_count": 9,
   "metadata": {},
   "outputs": [],
   "source": [
    "# Further preprocessing for genes (gene selection, library size normalization and Z-scoring)\n",
    "genes = exonCounts.copy()\n",
    "genes = genes / np.sum(genes, axis=1, keepdims=True) * np.median(np.sum(genes, axis=1, keepdims=True))\n",
    "genes = np.log2(genes + 1)\n",
    "genes = genes - np.mean(genes, axis=0)\n",
    "genes = genes / np.std(genes, axis=0)\n",
    "genes = genes.astype('float32')\n",
    "\n",
    "# Z-scoring the model parameters\n",
    "THETA = model_params_df.copy().values\n",
    "THETA_mean=THETA.mean(axis=0)\n",
    "THETA_std=THETA.std(axis=0)\n",
    "THETA-=THETA_mean\n",
    "THETA/=THETA_std\n",
    "THETA = THETA.astype('float32')"
   ]
  },
  {
   "cell_type": "markdown",
   "metadata": {},
   "source": [
    "### K-means"
   ]
  },
  {
   "cell_type": "markdown",
   "metadata": {},
   "source": [
    "Let us find K-mean clusters to perform pre-training."
   ]
  },
  {
   "cell_type": "code",
   "execution_count": 10,
   "metadata": {},
   "outputs": [],
   "source": [
    "# You can cluster according to amounts of classes or amounts of celltypes. Change the argument of n_clusters accordingly.\n",
    "from sklearn.cluster import KMeans\n",
    "kmeans = KMeans(n_clusters=20, random_state=17, n_init=1000).fit(THETA)"
   ]
  },
  {
   "cell_type": "code",
   "execution_count": 11,
   "metadata": {},
   "outputs": [],
   "source": [
    "clusters = kmeans.labels_"
   ]
  },
  {
   "cell_type": "code",
   "execution_count": 12,
   "metadata": {},
   "outputs": [],
   "source": [
    "amount_of_cells_in_clusters = {cluster_id: sum(clusters==cluster_id) for cluster_id in np.unique(clusters)}\n",
    "for_every_cell_number_of_cells_of_their_cluster = np.array([amount_of_cells_in_clusters[cell] for cell in clusters])\n",
    "ind_pre_training_clusters = for_every_cell_number_of_cells_of_their_cluster >= 10"
   ]
  },
  {
   "cell_type": "code",
   "execution_count": 13,
   "metadata": {},
   "outputs": [
    {
     "name": "stdout",
     "output_type": "stream",
     "text": [
      "cluster  0 represented by 47  cells.\n",
      "cluster  1 represented by 73  cells.\n",
      "cluster  2 represented by 57  cells.\n",
      "cluster  3 represented by 65  cells.\n",
      "cluster  4 represented by 39  cells.\n",
      "cluster  5 represented by 36  cells.\n",
      "cluster  6 represented by 46  cells.\n",
      "cluster  7 represented by 50  cells.\n",
      "cluster  8 represented by 33  cells.\n",
      "cluster  9 represented by 34  cells.\n",
      "cluster  10 represented by 54  cells.\n",
      "cluster  11 represented by 31  cells.\n",
      "cluster  12 represented by 59  cells.\n",
      "cluster  13 represented by 38  cells.\n",
      "cluster  14 represented by 79  cells.\n",
      "cluster  15 represented by 21  cells.\n",
      "cluster  16 represented by 48  cells.\n",
      "cluster  17 represented by 60  cells.\n",
      "cluster  18 represented by 66  cells.\n",
      "cluster  19 represented by 19  cells.\n",
      "average # of cells per cluster:  47.75\n",
      "std of # of cells per cluster:  16.11482236948332\n"
     ]
    }
   ],
   "source": [
    "c_n=[]\n",
    "for i in np.unique(clusters):\n",
    "    print('cluster ', i, 'represented by', sum(clusters==i), ' cells.')\n",
    "    c_n.append(sum(clusters==i))\n",
    "print('average # of cells per cluster: ', np.mean(np.array(c_n)))\n",
    "print('std of # of cells per cluster: ', np.std(np.array(c_n)))"
   ]
  },
  {
   "cell_type": "markdown",
   "metadata": {},
   "source": [
    "### Keras initialisations"
   ]
  },
  {
   "cell_type": "code",
   "execution_count": 14,
   "metadata": {},
   "outputs": [],
   "source": [
    "from tensorflow import keras\n",
    "from tensorflow.keras.datasets import mnist\n",
    "from tensorflow.keras.models import Sequential, Model\n",
    "from tensorflow.keras.layers import Dense\n",
    "from tensorflow.keras.optimizers import Adam\n",
    "from tensorflow.keras import regularizers\n",
    "from tensorflow.keras.wrappers.scikit_learn import KerasClassifier\n",
    "from tensorflow.keras.utils import to_categorical\n",
    "from tensorflow.keras import metrics\n",
    "from tensorflow.keras.losses import CategoricalCrossentropy"
   ]
  },
  {
   "cell_type": "code",
   "execution_count": 15,
   "metadata": {},
   "outputs": [],
   "source": [
    "from tensorflow.keras.callbacks import EarlyStopping\n",
    "from tensorflow.keras.callbacks import ModelCheckpoint\n",
    "from tensorflow.keras.models import load_model\n",
    "import tensorflow.keras.backend as K"
   ]
  },
  {
   "cell_type": "code",
   "execution_count": 16,
   "metadata": {},
   "outputs": [],
   "source": [
    "tf.compat.v1.disable_eager_execution()"
   ]
  },
  {
   "cell_type": "code",
   "execution_count": 17,
   "metadata": {},
   "outputs": [],
   "source": [
    "# You should assume you get two TensorFlow variables as input\n",
    "y_actual = tf.compat.v1.placeholder(dtype = tf.float32)\n",
    "y_predicted = tf.compat.v1.placeholder(dtype = tf.float32)\n",
    "def r2_score(y_truth, y_pred):\n",
    "    residual = tf.add(y_truth, -y_pred, name='residual')\n",
    "    return 1-tf.reduce_sum(input_tensor=tf.square(residual)) / tf.reduce_sum(input_tensor=tf.square(y_truth))\n",
    "r2_score_result = r2_score(y_actual, y_predicted)"
   ]
  },
  {
   "cell_type": "code",
   "execution_count": 18,
   "metadata": {},
   "outputs": [],
   "source": [
    "class ElasticNet(tf.keras.regularizers.Regularizer): \n",
    "    def __init__(self, l1=1e-8, l2=1.0): \n",
    "        self.l1 = l1\n",
    "        self.l2 = l2\n",
    "\n",
    "    def __call__(self, x): \n",
    "        return self.l2*tf.math.reduce_sum(input_tensor=tf.math.square(x)) + \\\n",
    "                             self.l1*tf.reduce_sum(input_tensor=tf.norm(tensor=x, ord = 2, axis = 1))\n",
    "\n",
    "    def get_config(self): \n",
    "        return {'l1': float(self.l1), 'l2': float(self.l2)}"
   ]
  },
  {
   "cell_type": "markdown",
   "metadata": {},
   "source": [
    "### sBNN"
   ]
  },
  {
   "cell_type": "code",
   "execution_count": 19,
   "metadata": {},
   "outputs": [],
   "source": [
    "from bottleneck_networks_tf2 import ClassificationPreTrain"
   ]
  },
  {
   "cell_type": "code",
   "execution_count": 20,
   "metadata": {},
   "outputs": [
    {
     "name": "stdout",
     "output_type": "stream",
     "text": [
      "\n",
      "CVFOLD:  0\n",
      "[INFO] training network...\n"
     ]
    },
    {
     "name": "stderr",
     "output_type": "stream",
     "text": [
      "2023-01-24 10:38:00.477173: I tensorflow/core/platform/cpu_feature_guard.cc:151] This TensorFlow binary is optimized with oneAPI Deep Neural Network Library (oneDNN) to use the following CPU instructions in performance-critical operations:  AVX2 FMA\n",
      "To enable them in other operations, rebuild TensorFlow with the appropriate compiler flags.\n",
      "2023-01-24 10:38:01.197144: I tensorflow/core/common_runtime/gpu/gpu_device.cc:1525] Created device /job:localhost/replica:0/task:0/device:GPU:0 with 11419 MB memory:  -> device: 0, name: NVIDIA TITAN Xp, pci bus id: 0000:81:00.0, compute capability: 6.1\n",
      "/usr/local/lib/python3.8/dist-packages/keras/engine/training_v1.py:2057: UserWarning: `Model.state_updates` will be removed in a future version. This property should not be used in TensorFlow 2.0, as `updates` are applied automatically.\n",
      "  updates = self.state_updates\n"
     ]
    },
    {
     "name": "stdout",
     "output_type": "stream",
     "text": [
      "[INFO] training network...\n"
     ]
    },
    {
     "name": "stderr",
     "output_type": "stream",
     "text": [
      "2023-01-24 10:38:07.194062: I tensorflow/core/common_runtime/gpu/gpu_device.cc:1525] Created device /job:localhost/replica:0/task:0/device:GPU:0 with 11419 MB memory:  -> device: 0, name: NVIDIA TITAN Xp, pci bus id: 0000:81:00.0, compute capability: 6.1\n"
     ]
    },
    {
     "name": "stdout",
     "output_type": "stream",
     "text": [
      "[INFO] training network...\n"
     ]
    },
    {
     "name": "stderr",
     "output_type": "stream",
     "text": [
      "2023-01-24 10:38:13.873617: I tensorflow/core/common_runtime/gpu/gpu_device.cc:1525] Created device /job:localhost/replica:0/task:0/device:GPU:0 with 11419 MB memory:  -> device: 0, name: NVIDIA TITAN Xp, pci bus id: 0000:81:00.0, compute capability: 6.1\n"
     ]
    },
    {
     "name": "stdout",
     "output_type": "stream",
     "text": [
      "[INFO] training network...\n"
     ]
    },
    {
     "name": "stderr",
     "output_type": "stream",
     "text": [
      "2023-01-24 10:38:20.434679: I tensorflow/core/common_runtime/gpu/gpu_device.cc:1525] Created device /job:localhost/replica:0/task:0/device:GPU:0 with 11419 MB memory:  -> device: 0, name: NVIDIA TITAN Xp, pci bus id: 0000:81:00.0, compute capability: 6.1\n"
     ]
    },
    {
     "name": "stdout",
     "output_type": "stream",
     "text": [
      "\n",
      "CVFOLD:  1\n",
      "[INFO] training network...\n"
     ]
    },
    {
     "name": "stderr",
     "output_type": "stream",
     "text": [
      "2023-01-24 10:38:28.056763: I tensorflow/core/common_runtime/gpu/gpu_device.cc:1525] Created device /job:localhost/replica:0/task:0/device:GPU:0 with 11419 MB memory:  -> device: 0, name: NVIDIA TITAN Xp, pci bus id: 0000:81:00.0, compute capability: 6.1\n"
     ]
    },
    {
     "name": "stdout",
     "output_type": "stream",
     "text": [
      "[INFO] training network...\n"
     ]
    },
    {
     "name": "stderr",
     "output_type": "stream",
     "text": [
      "2023-01-24 10:38:35.047040: I tensorflow/core/common_runtime/gpu/gpu_device.cc:1525] Created device /job:localhost/replica:0/task:0/device:GPU:0 with 11419 MB memory:  -> device: 0, name: NVIDIA TITAN Xp, pci bus id: 0000:81:00.0, compute capability: 6.1\n"
     ]
    },
    {
     "name": "stdout",
     "output_type": "stream",
     "text": [
      "[INFO] training network...\n"
     ]
    },
    {
     "name": "stderr",
     "output_type": "stream",
     "text": [
      "2023-01-24 10:38:41.487213: I tensorflow/core/common_runtime/gpu/gpu_device.cc:1525] Created device /job:localhost/replica:0/task:0/device:GPU:0 with 11419 MB memory:  -> device: 0, name: NVIDIA TITAN Xp, pci bus id: 0000:81:00.0, compute capability: 6.1\n"
     ]
    },
    {
     "name": "stdout",
     "output_type": "stream",
     "text": [
      "[INFO] training network...\n"
     ]
    },
    {
     "name": "stderr",
     "output_type": "stream",
     "text": [
      "2023-01-24 10:38:48.754521: I tensorflow/core/common_runtime/gpu/gpu_device.cc:1525] Created device /job:localhost/replica:0/task:0/device:GPU:0 with 11419 MB memory:  -> device: 0, name: NVIDIA TITAN Xp, pci bus id: 0000:81:00.0, compute capability: 6.1\n"
     ]
    },
    {
     "name": "stdout",
     "output_type": "stream",
     "text": [
      "\n",
      "CVFOLD:  2\n",
      "[INFO] training network...\n"
     ]
    },
    {
     "name": "stderr",
     "output_type": "stream",
     "text": [
      "2023-01-24 10:38:55.586682: I tensorflow/core/common_runtime/gpu/gpu_device.cc:1525] Created device /job:localhost/replica:0/task:0/device:GPU:0 with 11419 MB memory:  -> device: 0, name: NVIDIA TITAN Xp, pci bus id: 0000:81:00.0, compute capability: 6.1\n"
     ]
    },
    {
     "name": "stdout",
     "output_type": "stream",
     "text": [
      "[INFO] training network...\n"
     ]
    },
    {
     "name": "stderr",
     "output_type": "stream",
     "text": [
      "2023-01-24 10:39:02.361116: I tensorflow/core/common_runtime/gpu/gpu_device.cc:1525] Created device /job:localhost/replica:0/task:0/device:GPU:0 with 11419 MB memory:  -> device: 0, name: NVIDIA TITAN Xp, pci bus id: 0000:81:00.0, compute capability: 6.1\n"
     ]
    },
    {
     "name": "stdout",
     "output_type": "stream",
     "text": [
      "[INFO] training network...\n"
     ]
    },
    {
     "name": "stderr",
     "output_type": "stream",
     "text": [
      "2023-01-24 10:39:08.272161: I tensorflow/core/common_runtime/gpu/gpu_device.cc:1525] Created device /job:localhost/replica:0/task:0/device:GPU:0 with 11419 MB memory:  -> device: 0, name: NVIDIA TITAN Xp, pci bus id: 0000:81:00.0, compute capability: 6.1\n"
     ]
    },
    {
     "name": "stdout",
     "output_type": "stream",
     "text": [
      "[INFO] training network...\n"
     ]
    },
    {
     "name": "stderr",
     "output_type": "stream",
     "text": [
      "2023-01-24 10:39:14.916391: I tensorflow/core/common_runtime/gpu/gpu_device.cc:1525] Created device /job:localhost/replica:0/task:0/device:GPU:0 with 11419 MB memory:  -> device: 0, name: NVIDIA TITAN Xp, pci bus id: 0000:81:00.0, compute capability: 6.1\n"
     ]
    },
    {
     "name": "stdout",
     "output_type": "stream",
     "text": [
      "\n",
      "CVFOLD:  3\n",
      "[INFO] training network...\n"
     ]
    },
    {
     "name": "stderr",
     "output_type": "stream",
     "text": [
      "2023-01-24 10:39:21.400404: I tensorflow/core/common_runtime/gpu/gpu_device.cc:1525] Created device /job:localhost/replica:0/task:0/device:GPU:0 with 11419 MB memory:  -> device: 0, name: NVIDIA TITAN Xp, pci bus id: 0000:81:00.0, compute capability: 6.1\n"
     ]
    },
    {
     "name": "stdout",
     "output_type": "stream",
     "text": [
      "[INFO] training network...\n"
     ]
    },
    {
     "name": "stderr",
     "output_type": "stream",
     "text": [
      "2023-01-24 10:39:28.642194: I tensorflow/core/common_runtime/gpu/gpu_device.cc:1525] Created device /job:localhost/replica:0/task:0/device:GPU:0 with 11419 MB memory:  -> device: 0, name: NVIDIA TITAN Xp, pci bus id: 0000:81:00.0, compute capability: 6.1\n"
     ]
    },
    {
     "name": "stdout",
     "output_type": "stream",
     "text": [
      "[INFO] training network...\n"
     ]
    },
    {
     "name": "stderr",
     "output_type": "stream",
     "text": [
      "2023-01-24 10:39:36.143177: I tensorflow/core/common_runtime/gpu/gpu_device.cc:1525] Created device /job:localhost/replica:0/task:0/device:GPU:0 with 11419 MB memory:  -> device: 0, name: NVIDIA TITAN Xp, pci bus id: 0000:81:00.0, compute capability: 6.1\n"
     ]
    },
    {
     "name": "stdout",
     "output_type": "stream",
     "text": [
      "[INFO] training network...\n"
     ]
    },
    {
     "name": "stderr",
     "output_type": "stream",
     "text": [
      "2023-01-24 10:39:43.244569: I tensorflow/core/common_runtime/gpu/gpu_device.cc:1525] Created device /job:localhost/replica:0/task:0/device:GPU:0 with 11419 MB memory:  -> device: 0, name: NVIDIA TITAN Xp, pci bus id: 0000:81:00.0, compute capability: 6.1\n"
     ]
    },
    {
     "name": "stdout",
     "output_type": "stream",
     "text": [
      "\n",
      "CVFOLD:  4\n",
      "[INFO] training network...\n"
     ]
    },
    {
     "name": "stderr",
     "output_type": "stream",
     "text": [
      "2023-01-24 10:39:50.535814: I tensorflow/core/common_runtime/gpu/gpu_device.cc:1525] Created device /job:localhost/replica:0/task:0/device:GPU:0 with 11419 MB memory:  -> device: 0, name: NVIDIA TITAN Xp, pci bus id: 0000:81:00.0, compute capability: 6.1\n"
     ]
    },
    {
     "name": "stdout",
     "output_type": "stream",
     "text": [
      "[INFO] training network...\n"
     ]
    },
    {
     "name": "stderr",
     "output_type": "stream",
     "text": [
      "2023-01-24 10:39:56.988119: I tensorflow/core/common_runtime/gpu/gpu_device.cc:1525] Created device /job:localhost/replica:0/task:0/device:GPU:0 with 11419 MB memory:  -> device: 0, name: NVIDIA TITAN Xp, pci bus id: 0000:81:00.0, compute capability: 6.1\n"
     ]
    },
    {
     "name": "stdout",
     "output_type": "stream",
     "text": [
      "[INFO] training network...\n"
     ]
    },
    {
     "name": "stderr",
     "output_type": "stream",
     "text": [
      "2023-01-24 10:40:03.061892: I tensorflow/core/common_runtime/gpu/gpu_device.cc:1525] Created device /job:localhost/replica:0/task:0/device:GPU:0 with 11419 MB memory:  -> device: 0, name: NVIDIA TITAN Xp, pci bus id: 0000:81:00.0, compute capability: 6.1\n"
     ]
    },
    {
     "name": "stdout",
     "output_type": "stream",
     "text": [
      "[INFO] training network...\n"
     ]
    },
    {
     "name": "stderr",
     "output_type": "stream",
     "text": [
      "2023-01-24 10:40:10.268227: I tensorflow/core/common_runtime/gpu/gpu_device.cc:1525] Created device /job:localhost/replica:0/task:0/device:GPU:0 with 11419 MB memory:  -> device: 0, name: NVIDIA TITAN Xp, pci bus id: 0000:81:00.0, compute capability: 6.1\n"
     ]
    },
    {
     "name": "stdout",
     "output_type": "stream",
     "text": [
      "\n",
      "CVFOLD:  5\n",
      "[INFO] training network...\n"
     ]
    },
    {
     "name": "stderr",
     "output_type": "stream",
     "text": [
      "2023-01-24 10:40:16.681205: I tensorflow/core/common_runtime/gpu/gpu_device.cc:1525] Created device /job:localhost/replica:0/task:0/device:GPU:0 with 11419 MB memory:  -> device: 0, name: NVIDIA TITAN Xp, pci bus id: 0000:81:00.0, compute capability: 6.1\n"
     ]
    },
    {
     "name": "stdout",
     "output_type": "stream",
     "text": [
      "[INFO] training network...\n"
     ]
    },
    {
     "name": "stderr",
     "output_type": "stream",
     "text": [
      "2023-01-24 10:40:22.600917: I tensorflow/core/common_runtime/gpu/gpu_device.cc:1525] Created device /job:localhost/replica:0/task:0/device:GPU:0 with 11419 MB memory:  -> device: 0, name: NVIDIA TITAN Xp, pci bus id: 0000:81:00.0, compute capability: 6.1\n"
     ]
    },
    {
     "name": "stdout",
     "output_type": "stream",
     "text": [
      "[INFO] training network...\n"
     ]
    },
    {
     "name": "stderr",
     "output_type": "stream",
     "text": [
      "2023-01-24 10:40:29.239342: I tensorflow/core/common_runtime/gpu/gpu_device.cc:1525] Created device /job:localhost/replica:0/task:0/device:GPU:0 with 11419 MB memory:  -> device: 0, name: NVIDIA TITAN Xp, pci bus id: 0000:81:00.0, compute capability: 6.1\n"
     ]
    },
    {
     "name": "stdout",
     "output_type": "stream",
     "text": [
      "[INFO] training network...\n"
     ]
    },
    {
     "name": "stderr",
     "output_type": "stream",
     "text": [
      "2023-01-24 10:40:36.003898: I tensorflow/core/common_runtime/gpu/gpu_device.cc:1525] Created device /job:localhost/replica:0/task:0/device:GPU:0 with 11419 MB memory:  -> device: 0, name: NVIDIA TITAN Xp, pci bus id: 0000:81:00.0, compute capability: 6.1\n"
     ]
    },
    {
     "name": "stdout",
     "output_type": "stream",
     "text": [
      "\n",
      "CVFOLD:  6\n",
      "[INFO] training network...\n"
     ]
    },
    {
     "name": "stderr",
     "output_type": "stream",
     "text": [
      "2023-01-24 10:40:42.096819: I tensorflow/core/common_runtime/gpu/gpu_device.cc:1525] Created device /job:localhost/replica:0/task:0/device:GPU:0 with 11419 MB memory:  -> device: 0, name: NVIDIA TITAN Xp, pci bus id: 0000:81:00.0, compute capability: 6.1\n"
     ]
    },
    {
     "name": "stdout",
     "output_type": "stream",
     "text": [
      "[INFO] training network...\n"
     ]
    },
    {
     "name": "stderr",
     "output_type": "stream",
     "text": [
      "2023-01-24 10:40:47.754985: I tensorflow/core/common_runtime/gpu/gpu_device.cc:1525] Created device /job:localhost/replica:0/task:0/device:GPU:0 with 11419 MB memory:  -> device: 0, name: NVIDIA TITAN Xp, pci bus id: 0000:81:00.0, compute capability: 6.1\n"
     ]
    },
    {
     "name": "stdout",
     "output_type": "stream",
     "text": [
      "[INFO] training network...\n"
     ]
    },
    {
     "name": "stderr",
     "output_type": "stream",
     "text": [
      "2023-01-24 10:40:54.211403: I tensorflow/core/common_runtime/gpu/gpu_device.cc:1525] Created device /job:localhost/replica:0/task:0/device:GPU:0 with 11419 MB memory:  -> device: 0, name: NVIDIA TITAN Xp, pci bus id: 0000:81:00.0, compute capability: 6.1\n"
     ]
    },
    {
     "name": "stdout",
     "output_type": "stream",
     "text": [
      "[INFO] training network...\n"
     ]
    },
    {
     "name": "stderr",
     "output_type": "stream",
     "text": [
      "2023-01-24 10:41:01.351002: I tensorflow/core/common_runtime/gpu/gpu_device.cc:1525] Created device /job:localhost/replica:0/task:0/device:GPU:0 with 11419 MB memory:  -> device: 0, name: NVIDIA TITAN Xp, pci bus id: 0000:81:00.0, compute capability: 6.1\n"
     ]
    },
    {
     "name": "stdout",
     "output_type": "stream",
     "text": [
      "\n",
      "CVFOLD:  7\n",
      "[INFO] training network...\n"
     ]
    },
    {
     "name": "stderr",
     "output_type": "stream",
     "text": [
      "2023-01-24 10:41:07.893757: I tensorflow/core/common_runtime/gpu/gpu_device.cc:1525] Created device /job:localhost/replica:0/task:0/device:GPU:0 with 11419 MB memory:  -> device: 0, name: NVIDIA TITAN Xp, pci bus id: 0000:81:00.0, compute capability: 6.1\n"
     ]
    },
    {
     "name": "stdout",
     "output_type": "stream",
     "text": [
      "[INFO] training network...\n"
     ]
    },
    {
     "name": "stderr",
     "output_type": "stream",
     "text": [
      "2023-01-24 10:41:14.226833: I tensorflow/core/common_runtime/gpu/gpu_device.cc:1525] Created device /job:localhost/replica:0/task:0/device:GPU:0 with 11419 MB memory:  -> device: 0, name: NVIDIA TITAN Xp, pci bus id: 0000:81:00.0, compute capability: 6.1\n"
     ]
    },
    {
     "name": "stdout",
     "output_type": "stream",
     "text": [
      "[INFO] training network...\n"
     ]
    },
    {
     "name": "stderr",
     "output_type": "stream",
     "text": [
      "2023-01-24 10:41:20.276368: I tensorflow/core/common_runtime/gpu/gpu_device.cc:1525] Created device /job:localhost/replica:0/task:0/device:GPU:0 with 11419 MB memory:  -> device: 0, name: NVIDIA TITAN Xp, pci bus id: 0000:81:00.0, compute capability: 6.1\n"
     ]
    },
    {
     "name": "stdout",
     "output_type": "stream",
     "text": [
      "[INFO] training network...\n"
     ]
    },
    {
     "name": "stderr",
     "output_type": "stream",
     "text": [
      "2023-01-24 10:41:27.481680: I tensorflow/core/common_runtime/gpu/gpu_device.cc:1525] Created device /job:localhost/replica:0/task:0/device:GPU:0 with 11419 MB memory:  -> device: 0, name: NVIDIA TITAN Xp, pci bus id: 0000:81:00.0, compute capability: 6.1\n"
     ]
    },
    {
     "name": "stdout",
     "output_type": "stream",
     "text": [
      "\n",
      "CVFOLD:  8\n",
      "[INFO] training network...\n"
     ]
    },
    {
     "name": "stderr",
     "output_type": "stream",
     "text": [
      "2023-01-24 10:41:34.222997: I tensorflow/core/common_runtime/gpu/gpu_device.cc:1525] Created device /job:localhost/replica:0/task:0/device:GPU:0 with 11419 MB memory:  -> device: 0, name: NVIDIA TITAN Xp, pci bus id: 0000:81:00.0, compute capability: 6.1\n"
     ]
    },
    {
     "name": "stdout",
     "output_type": "stream",
     "text": [
      "[INFO] training network...\n"
     ]
    },
    {
     "name": "stderr",
     "output_type": "stream",
     "text": [
      "2023-01-24 10:41:40.555948: I tensorflow/core/common_runtime/gpu/gpu_device.cc:1525] Created device /job:localhost/replica:0/task:0/device:GPU:0 with 11419 MB memory:  -> device: 0, name: NVIDIA TITAN Xp, pci bus id: 0000:81:00.0, compute capability: 6.1\n"
     ]
    },
    {
     "name": "stdout",
     "output_type": "stream",
     "text": [
      "[INFO] training network...\n"
     ]
    },
    {
     "name": "stderr",
     "output_type": "stream",
     "text": [
      "2023-01-24 10:41:47.736275: I tensorflow/core/common_runtime/gpu/gpu_device.cc:1525] Created device /job:localhost/replica:0/task:0/device:GPU:0 with 11419 MB memory:  -> device: 0, name: NVIDIA TITAN Xp, pci bus id: 0000:81:00.0, compute capability: 6.1\n"
     ]
    },
    {
     "name": "stdout",
     "output_type": "stream",
     "text": [
      "[INFO] training network...\n"
     ]
    },
    {
     "name": "stderr",
     "output_type": "stream",
     "text": [
      "2023-01-24 10:41:54.817006: I tensorflow/core/common_runtime/gpu/gpu_device.cc:1525] Created device /job:localhost/replica:0/task:0/device:GPU:0 with 11419 MB memory:  -> device: 0, name: NVIDIA TITAN Xp, pci bus id: 0000:81:00.0, compute capability: 6.1\n"
     ]
    },
    {
     "name": "stdout",
     "output_type": "stream",
     "text": [
      "\n",
      "CVFOLD:  9\n",
      "[INFO] training network...\n"
     ]
    },
    {
     "name": "stderr",
     "output_type": "stream",
     "text": [
      "2023-01-24 10:42:01.287940: I tensorflow/core/common_runtime/gpu/gpu_device.cc:1525] Created device /job:localhost/replica:0/task:0/device:GPU:0 with 11419 MB memory:  -> device: 0, name: NVIDIA TITAN Xp, pci bus id: 0000:81:00.0, compute capability: 6.1\n"
     ]
    },
    {
     "name": "stdout",
     "output_type": "stream",
     "text": [
      "[INFO] training network...\n"
     ]
    },
    {
     "name": "stderr",
     "output_type": "stream",
     "text": [
      "2023-01-24 10:42:07.262424: I tensorflow/core/common_runtime/gpu/gpu_device.cc:1525] Created device /job:localhost/replica:0/task:0/device:GPU:0 with 11419 MB memory:  -> device: 0, name: NVIDIA TITAN Xp, pci bus id: 0000:81:00.0, compute capability: 6.1\n"
     ]
    },
    {
     "name": "stdout",
     "output_type": "stream",
     "text": [
      "[INFO] training network...\n"
     ]
    },
    {
     "name": "stderr",
     "output_type": "stream",
     "text": [
      "2023-01-24 10:42:13.070712: I tensorflow/core/common_runtime/gpu/gpu_device.cc:1525] Created device /job:localhost/replica:0/task:0/device:GPU:0 with 11419 MB memory:  -> device: 0, name: NVIDIA TITAN Xp, pci bus id: 0000:81:00.0, compute capability: 6.1\n"
     ]
    },
    {
     "name": "stdout",
     "output_type": "stream",
     "text": [
      "[INFO] training network...\n"
     ]
    },
    {
     "name": "stderr",
     "output_type": "stream",
     "text": [
      "2023-01-24 10:42:18.434537: I tensorflow/core/common_runtime/gpu/gpu_device.cc:1525] Created device /job:localhost/replica:0/task:0/device:GPU:0 with 11419 MB memory:  -> device: 0, name: NVIDIA TITAN Xp, pci bus id: 0000:81:00.0, compute capability: 6.1\n"
     ]
    },
    {
     "name": "stdout",
     "output_type": "stream",
     "text": [
      "Time: 0.0h  4m 25s\n"
     ]
    }
   ],
   "source": [
    "# Immediately for different penalties, but we'll be only interested in the 1e-1 penalty (for now), i.e. see extensions later\n",
    "l2_params = np.logspace(-10, -10, num=1)\n",
    "l1_params = np.array([1e-4, 1e-2, 1e-1, 1])\n",
    "\n",
    "act = 'elu'\n",
    "folds = 10\n",
    "seed = 42\n",
    "lr=0.0001\n",
    "epochs=50\n",
    "bs=32\n",
    "patience=epochs\n",
    "\n",
    "\n",
    "t = time.time()\n",
    "np.random.seed(seed)\n",
    "n = genes.shape[0]\n",
    "ind = np.random.permutation(n)\n",
    "X = genes[ind,:]\n",
    "Y = THETA[ind,:]\n",
    "clusters_ = clusters[ind]\n",
    "ind_pre_train = ind_pre_training_clusters[ind]\n",
    "\n",
    "CE_loss = np.zeros((folds, l1_params.shape[0], l2_params.shape[0]))\n",
    "CE_loss_tr = np.zeros((folds, l1_params.shape[0], l2_params.shape[0]))\n",
    "pre_tr_hist = np.zeros((folds, l1_params.shape[0], l2_params.shape[0], epochs))\n",
    "pre_tr_hist_tr = np.zeros((folds, l1_params.shape[0], l2_params.shape[0], epochs))\n",
    "\n",
    "nodes_list=[512,128,2,128,512]\n",
    "\n",
    "# CV folds\n",
    "for cvfold in range(folds):\n",
    "    print('\\nCVFOLD: ', cvfold)\n",
    "    indtest  = np.arange(cvfold*int(n/folds), (cvfold+1)*int(n/folds))\n",
    "    indtrain = np.setdiff1d(np.arange(n), indtest)\n",
    "    x_train = np.copy(X[indtrain,:])\n",
    "    clusters_train = np.copy(clusters_[indtrain])\n",
    "    y_train = np.copy(Y[indtrain,:])\n",
    "    x_test = np.copy(X[indtest,:])\n",
    "    clusters_test = np.copy(clusters_[indtest])\n",
    "    y_test = np.copy(Y[indtest,:])\n",
    "\n",
    "    # Mean centering (like sRRR)\n",
    "    X_mean = np.mean(x_train, axis=0)\n",
    "    x_train -= X_mean\n",
    "    x_test -= X_mean\n",
    "    Y_mean = np.mean(y_train, axis=0)\n",
    "    y_train -= Y_mean\n",
    "    y_test -= Y_mean\n",
    "\n",
    "    # In our training set we now look for a 'pretraining' training and test data set that we can use\n",
    "    # for pretraing a classification network, i.e. picking the best model will be dones with a seperate val set in our\n",
    "    # training set for regression.\n",
    "\n",
    "    x_train_pre_tr = x_train[ind_pre_train[indtrain], :]\n",
    "    clusters_train_pre_tr = clusters_train[ind_pre_train[indtrain]]\n",
    "    \n",
    "    pre_train_size = 0.6\n",
    "    train_cnt = round(x_train_pre_tr.shape[0]*pre_train_size)\n",
    "    x_train_pre_tr_ = x_train_pre_tr[:train_cnt, :]\n",
    "    x_test_pre_tr_ = x_train_pre_tr[train_cnt:, :]\n",
    "    clusters_train_pre_tr_ = clusters_train_pre_tr[:train_cnt]\n",
    "    clusters_test_pre_tr_ = clusters_train_pre_tr[train_cnt:]\n",
    "    \n",
    "    for i, l2 in enumerate(l2_params):\n",
    "        #print('Ridge penalty: ', l2)\n",
    "        for j, l1 in enumerate(l1_params):\n",
    "            #print('Lasso penalty: ', l1)\n",
    "\n",
    "\n",
    "            input_dim = x_train.shape[1]\n",
    "            output_dim = to_categorical(clusters_train_pre_tr).shape[1]\n",
    "            BN_Classification = ClassificationPreTrain(l1=l1, l2=l2, lr=lr, act=act, input_dim=input_dim, \\\n",
    "                                                       output_dim=output_dim, nodes_list=nodes_list)\n",
    "            CE_train, CE_test, train_hist, test_hist = BN_Classification.train(x_train=x_train_pre_tr_, \\\n",
    "                                                                               cluster_train=clusters_train_pre_tr_, \\\n",
    "                                                                               x_test=x_test_pre_tr_, \\\n",
    "                                                                               cluster_test=clusters_test_pre_tr_, \\\n",
    "                                                                               epochs=epochs, bs=bs, patience=patience, \\\n",
    "                                                                               cvfold_id=cvfold, l1_id=j, l2_id=i, \\\n",
    "                                                                               verbose=0)\n",
    "            CE_loss[cvfold, j, i] = CE_test\n",
    "            CE_loss_tr[cvfold, j, i] = CE_train\n",
    "            pre_tr_hist[cvfold, j, i] = test_hist\n",
    "            pre_tr_hist_tr[cvfold, j, i] = train_hist\n",
    "            #print('Test CE loss (pre-trainin): ', CE_loss[cvfold, j, i])\n",
    "            \n",
    "t = time.time() - t\n",
    "m,s = divmod(t, 60)\n",
    "h,m = divmod(m, 60)\n",
    "print('Time: {}h {:2.0f}m {:2.0f}s'.format(h,m,s))"
   ]
  },
  {
   "cell_type": "code",
   "execution_count": 21,
   "metadata": {},
   "outputs": [],
   "source": [
    "with open('pickles/Bottleneck_pre_tr_lasso_ion_channel_marker.pickle', 'wb') as f:\n",
    "    pickle.dump([CE_loss, CE_loss_tr, pre_tr_hist, pre_tr_hist_tr], f)"
   ]
  },
  {
   "cell_type": "markdown",
   "metadata": {},
   "source": [
    "Group lasso + ridge penalty pre-train + freeze the first 2 layers + unfreeze model."
   ]
  },
  {
   "cell_type": "code",
   "execution_count": 22,
   "metadata": {},
   "outputs": [],
   "source": [
    "from bottleneck_networks_tf2 import FreezeUnfreeze"
   ]
  },
  {
   "cell_type": "code",
   "execution_count": 23,
   "metadata": {},
   "outputs": [
    {
     "name": "stdout",
     "output_type": "stream",
     "text": [
      "\n",
      "CVFOLD:  0\n"
     ]
    },
    {
     "name": "stderr",
     "output_type": "stream",
     "text": [
      "2023-01-24 10:42:25.723945: I tensorflow/core/common_runtime/gpu/gpu_device.cc:1525] Created device /job:localhost/replica:0/task:0/device:GPU:0 with 11419 MB memory:  -> device: 0, name: NVIDIA TITAN Xp, pci bus id: 0000:81:00.0, compute capability: 6.1\n"
     ]
    },
    {
     "name": "stdout",
     "output_type": "stream",
     "text": [
      "[INFO] training network...\n",
      "[INFO] training network...\n"
     ]
    },
    {
     "name": "stderr",
     "output_type": "stream",
     "text": [
      "/usr/local/lib/python3.8/dist-packages/keras/engine/training_v1.py:2079: UserWarning: `Model.state_updates` will be removed in a future version. This property should not be used in TensorFlow 2.0, as `updates` are applied automatically.\n",
      "  updates=self.state_updates,\n"
     ]
    },
    {
     "name": "stdout",
     "output_type": "stream",
     "text": [
      "The 25 genes that make it:  ['Best2' 'Cacna2d2' 'P2rx2' 'Kcnt2' 'Pvalb' 'Trpm4' 'Kcnq2' 'Apol7b'\n",
      " 'Scn7a' 'Grm7' 'Vip' 'Atp5k' 'Kcnj10' 'Hcn3' 'Kcnk3' 'Gabra5' 'Scn1b'\n",
      " 'Clca4a' 'Piezo1' 'Atp5b' 'Tmc2' 'Kcnk1' 'Lamp5' 'Catsper2' 'Kcns1']\n"
     ]
    },
    {
     "name": "stderr",
     "output_type": "stream",
     "text": [
      "2023-01-24 10:42:39.335494: I tensorflow/core/common_runtime/gpu/gpu_device.cc:1525] Created device /job:localhost/replica:0/task:0/device:GPU:0 with 11419 MB memory:  -> device: 0, name: NVIDIA TITAN Xp, pci bus id: 0000:81:00.0, compute capability: 6.1\n"
     ]
    },
    {
     "name": "stdout",
     "output_type": "stream",
     "text": [
      "[INFO] training network...\n",
      "Train R^2 before unfreezing:  0.1943381428718567\n",
      "Test R^2 before unfreezing:  0.1158035397529602\n",
      "Train R^2 after unfreezing:  0.29547441005706787\n",
      "Test R^2 after unfreezing:  0.099479079246521\n",
      "Train R^2 after unfreezing and pruning:  0.1878003478050232\n",
      "Test R^2 after unfreezing and pruning:  0.12272095680236816\n"
     ]
    },
    {
     "name": "stderr",
     "output_type": "stream",
     "text": [
      "2023-01-24 10:42:53.640624: I tensorflow/core/common_runtime/gpu/gpu_device.cc:1525] Created device /job:localhost/replica:0/task:0/device:GPU:0 with 11419 MB memory:  -> device: 0, name: NVIDIA TITAN Xp, pci bus id: 0000:81:00.0, compute capability: 6.1\n"
     ]
    },
    {
     "name": "stdout",
     "output_type": "stream",
     "text": [
      "[INFO] training network...\n",
      "[INFO] training network...\n",
      "The 25 genes that make it:  ['Scn1a' 'Kcnip4' 'Kcnn2' 'Kcnq3' 'Cacna1g' 'Kcnk3' 'Kcnc3' 'Kcns2'\n",
      " 'Cacng2' 'Pvalb' 'Grik2' 'Grik1' 'Scn2b' 'Cacna2d2' 'Pkd2' 'Kcnv1'\n",
      " 'Lrrc8a' 'Tspoap1' 'Grin2a' 'Gabra5' 'Trpm6' 'Gabrg2' 'Kcnj4' 'Ryr2'\n",
      " 'Best1']\n"
     ]
    },
    {
     "name": "stderr",
     "output_type": "stream",
     "text": [
      "2023-01-24 10:43:06.578536: I tensorflow/core/common_runtime/gpu/gpu_device.cc:1525] Created device /job:localhost/replica:0/task:0/device:GPU:0 with 11419 MB memory:  -> device: 0, name: NVIDIA TITAN Xp, pci bus id: 0000:81:00.0, compute capability: 6.1\n"
     ]
    },
    {
     "name": "stdout",
     "output_type": "stream",
     "text": [
      "[INFO] training network...\n",
      "Train R^2 before unfreezing:  0.22798025608062744\n",
      "Test R^2 before unfreezing:  0.11792176961898804\n",
      "Train R^2 after unfreezing:  0.33846551179885864\n",
      "Test R^2 after unfreezing:  0.11944574117660522\n",
      "Train R^2 after unfreezing and pruning:  0.19396322965621948\n",
      "Test R^2 after unfreezing and pruning:  0.15751862525939941\n"
     ]
    },
    {
     "name": "stderr",
     "output_type": "stream",
     "text": [
      "2023-01-24 10:43:19.740571: I tensorflow/core/common_runtime/gpu/gpu_device.cc:1525] Created device /job:localhost/replica:0/task:0/device:GPU:0 with 11419 MB memory:  -> device: 0, name: NVIDIA TITAN Xp, pci bus id: 0000:81:00.0, compute capability: 6.1\n"
     ]
    },
    {
     "name": "stdout",
     "output_type": "stream",
     "text": [
      "[INFO] training network...\n",
      "[INFO] training network...\n",
      "The 25 genes that make it:  ['Trpm5' 'Kcnv1' 'Cacna2d3' 'Cacnb3' 'Oprm1' 'Tpcn2' 'Kcna7' 'Gabrb1'\n",
      " 'Atp5d' 'Chrnb1' 'Fxyd4' 'Kcnc3' 'Slc24a4' 'Cacna2d2' 'Kcnc4' 'Scn1a'\n",
      " 'Vdac2' 'Vip' 'Cacna2d1' 'Tmem175' 'Kcnip4' 'Lamp5' 'Scn3b' 'Pvalb'\n",
      " 'Slc17a7']\n"
     ]
    },
    {
     "name": "stderr",
     "output_type": "stream",
     "text": [
      "2023-01-24 10:43:35.553890: I tensorflow/core/common_runtime/gpu/gpu_device.cc:1525] Created device /job:localhost/replica:0/task:0/device:GPU:0 with 11419 MB memory:  -> device: 0, name: NVIDIA TITAN Xp, pci bus id: 0000:81:00.0, compute capability: 6.1\n"
     ]
    },
    {
     "name": "stdout",
     "output_type": "stream",
     "text": [
      "[INFO] training network...\n",
      "Train R^2 before unfreezing:  0.18347573280334473\n",
      "Test R^2 before unfreezing:  0.13054430484771729\n",
      "Train R^2 after unfreezing:  0.2432132363319397\n",
      "Test R^2 after unfreezing:  0.1773926019668579\n",
      "Train R^2 after unfreezing and pruning:  0.21590596437454224\n",
      "Test R^2 after unfreezing and pruning:  0.11918169260025024\n"
     ]
    },
    {
     "name": "stderr",
     "output_type": "stream",
     "text": [
      "2023-01-24 10:43:46.818471: I tensorflow/core/common_runtime/gpu/gpu_device.cc:1525] Created device /job:localhost/replica:0/task:0/device:GPU:0 with 11419 MB memory:  -> device: 0, name: NVIDIA TITAN Xp, pci bus id: 0000:81:00.0, compute capability: 6.1\n"
     ]
    },
    {
     "name": "stdout",
     "output_type": "stream",
     "text": [
      "[INFO] training network...\n",
      "[INFO] training network...\n",
      "The 25 genes that make it:  ['Best2' 'Cacng5' 'Kcnab2' 'Kcnj3' 'Cacna1i' 'Lamp5' 'Kcnk12' 'Vdac2'\n",
      " 'Gabra5' 'Ano3' 'Kcnab3' 'Vip' 'Ncs1' 'Kcnc3' 'Cacna2d2' 'Scn10a' 'Glra2'\n",
      " 'Kcnk7' 'Atp5k' 'Tmc2' 'Kcnc2' 'Scn3b' 'Cacna2d1' 'Slc17a7' 'Pvalb']\n"
     ]
    },
    {
     "name": "stderr",
     "output_type": "stream",
     "text": [
      "2023-01-24 10:44:03.409604: I tensorflow/core/common_runtime/gpu/gpu_device.cc:1525] Created device /job:localhost/replica:0/task:0/device:GPU:0 with 11419 MB memory:  -> device: 0, name: NVIDIA TITAN Xp, pci bus id: 0000:81:00.0, compute capability: 6.1\n"
     ]
    },
    {
     "name": "stdout",
     "output_type": "stream",
     "text": [
      "[INFO] training network...\n",
      "Train R^2 before unfreezing:  0.1760820746421814\n",
      "Test R^2 before unfreezing:  0.15087711811065674\n",
      "Train R^2 after unfreezing:  0.17765939235687256\n",
      "Test R^2 after unfreezing:  0.16270065307617188\n",
      "Train R^2 after unfreezing and pruning:  0.19716042280197144\n",
      "Test R^2 after unfreezing and pruning:  0.1339161992073059\n",
      "\n",
      "CVFOLD:  1\n"
     ]
    },
    {
     "name": "stderr",
     "output_type": "stream",
     "text": [
      "2023-01-24 10:44:15.579846: I tensorflow/core/common_runtime/gpu/gpu_device.cc:1525] Created device /job:localhost/replica:0/task:0/device:GPU:0 with 11419 MB memory:  -> device: 0, name: NVIDIA TITAN Xp, pci bus id: 0000:81:00.0, compute capability: 6.1\n"
     ]
    },
    {
     "name": "stdout",
     "output_type": "stream",
     "text": [
      "[INFO] training network...\n",
      "[INFO] training network...\n",
      "The 25 genes that make it:  ['Pvalb' 'Grin2c' 'Trpc3' 'Tpcn2' 'Cacnb4' 'Apol9a' 'Atp5o' 'Slc26a7'\n",
      " 'Kcnk10' 'Apol7b' 'Kcne4' 'Lamp5' 'Kcnip4' 'Cacna1e' 'Scnn1g' 'Calhm2'\n",
      " 'Glra4' 'Clcn6' 'Kcnab3' 'Tmem63a' 'Grik1' 'Htr3a' 'Cacna2d1' 'Trpv4'\n",
      " 'Cacna1b']\n"
     ]
    },
    {
     "name": "stderr",
     "output_type": "stream",
     "text": [
      "2023-01-24 10:44:29.198236: I tensorflow/core/common_runtime/gpu/gpu_device.cc:1525] Created device /job:localhost/replica:0/task:0/device:GPU:0 with 11419 MB memory:  -> device: 0, name: NVIDIA TITAN Xp, pci bus id: 0000:81:00.0, compute capability: 6.1\n"
     ]
    },
    {
     "name": "stdout",
     "output_type": "stream",
     "text": [
      "[INFO] training network...\n",
      "Train R^2 before unfreezing:  0.2101907730102539\n",
      "Test R^2 before unfreezing:  0.10533243417739868\n",
      "Train R^2 after unfreezing:  0.27782827615737915\n",
      "Test R^2 after unfreezing:  0.08751881122589111\n",
      "Train R^2 after unfreezing and pruning:  0.1833009123802185\n",
      "Test R^2 after unfreezing and pruning:  0.18152236938476562\n"
     ]
    },
    {
     "name": "stderr",
     "output_type": "stream",
     "text": [
      "2023-01-24 10:44:42.364634: I tensorflow/core/common_runtime/gpu/gpu_device.cc:1525] Created device /job:localhost/replica:0/task:0/device:GPU:0 with 11419 MB memory:  -> device: 0, name: NVIDIA TITAN Xp, pci bus id: 0000:81:00.0, compute capability: 6.1\n"
     ]
    },
    {
     "name": "stdout",
     "output_type": "stream",
     "text": [
      "[INFO] training network...\n",
      "[INFO] training network...\n",
      "The 25 genes that make it:  ['Pkd2' 'Ano8' 'Kcna2' 'Slc24a2' 'Tmem63b' 'Cacng2' 'Kcnk3' 'Tpcn2'\n",
      " 'Kcns3' 'Cacng3' 'Cacnb4' 'Kcnab3' 'Kcnj11' 'Kcnk1' 'Grik1' 'Cacna2d2'\n",
      " 'Itpr1' 'Kcnip2' 'Lrrc38' 'Scn3b' 'Pacc1' 'Pvalb' 'Cacna2d1' 'Atp5c1'\n",
      " 'Lamp5']\n"
     ]
    },
    {
     "name": "stderr",
     "output_type": "stream",
     "text": [
      "2023-01-24 10:44:57.622768: I tensorflow/core/common_runtime/gpu/gpu_device.cc:1525] Created device /job:localhost/replica:0/task:0/device:GPU:0 with 11419 MB memory:  -> device: 0, name: NVIDIA TITAN Xp, pci bus id: 0000:81:00.0, compute capability: 6.1\n"
     ]
    },
    {
     "name": "stdout",
     "output_type": "stream",
     "text": [
      "[INFO] training network...\n",
      "Train R^2 before unfreezing:  0.1839093565940857\n",
      "Test R^2 before unfreezing:  0.03997147083282471\n",
      "Train R^2 after unfreezing:  0.3109506368637085\n",
      "Test R^2 after unfreezing:  0.03029155731201172\n",
      "Train R^2 after unfreezing and pruning:  0.2108667492866516\n",
      "Test R^2 after unfreezing and pruning:  0.17711180448532104\n"
     ]
    },
    {
     "name": "stderr",
     "output_type": "stream",
     "text": [
      "2023-01-24 10:45:11.770989: I tensorflow/core/common_runtime/gpu/gpu_device.cc:1525] Created device /job:localhost/replica:0/task:0/device:GPU:0 with 11419 MB memory:  -> device: 0, name: NVIDIA TITAN Xp, pci bus id: 0000:81:00.0, compute capability: 6.1\n"
     ]
    },
    {
     "name": "stdout",
     "output_type": "stream",
     "text": [
      "[INFO] training network...\n",
      "[INFO] training network...\n",
      "The 25 genes that make it:  ['Tmc6' 'Sec61a1' 'Cacna2d3' 'Cacna1g' 'Ano3' 'Grik1' 'Scn10a' 'Trpm5'\n",
      " 'Chrnb1' 'Cacna2d2' 'Gabrr1' 'Scn3b' 'P2rx1' 'Clca3a2' 'Kcnc4' 'Vdac2'\n",
      " 'Tmem175' 'Scn1a' 'Vip' 'Kcnip4' 'Cacng3' 'Cacna2d1' 'Lamp5' 'Pvalb'\n",
      " 'Slc17a7']\n"
     ]
    },
    {
     "name": "stderr",
     "output_type": "stream",
     "text": [
      "2023-01-24 10:45:27.780054: I tensorflow/core/common_runtime/gpu/gpu_device.cc:1525] Created device /job:localhost/replica:0/task:0/device:GPU:0 with 11419 MB memory:  -> device: 0, name: NVIDIA TITAN Xp, pci bus id: 0000:81:00.0, compute capability: 6.1\n"
     ]
    },
    {
     "name": "stdout",
     "output_type": "stream",
     "text": [
      "[INFO] training network...\n",
      "Train R^2 before unfreezing:  0.18897444009780884\n",
      "Test R^2 before unfreezing:  0.13433033227920532\n",
      "Train R^2 after unfreezing:  0.2451499104499817\n",
      "Test R^2 after unfreezing:  0.20094013214111328\n",
      "Train R^2 after unfreezing and pruning:  0.2294432520866394\n",
      "Test R^2 after unfreezing and pruning:  0.19601279497146606\n"
     ]
    },
    {
     "name": "stderr",
     "output_type": "stream",
     "text": [
      "2023-01-24 10:45:39.550297: I tensorflow/core/common_runtime/gpu/gpu_device.cc:1525] Created device /job:localhost/replica:0/task:0/device:GPU:0 with 11419 MB memory:  -> device: 0, name: NVIDIA TITAN Xp, pci bus id: 0000:81:00.0, compute capability: 6.1\n"
     ]
    },
    {
     "name": "stdout",
     "output_type": "stream",
     "text": [
      "[INFO] training network...\n",
      "[INFO] training network...\n",
      "The 25 genes that make it:  ['Clca3a2' 'Scn1a' 'Kcns1' 'Fxyd4' 'Tmc1' 'Cacng3' 'Gabrr2' 'Erc1' 'Scn3b'\n",
      " 'Apol7c' 'Slc26a8' 'Otop1' 'Slc24a4' 'Cacna2d2' 'Kcnmb3' 'Vip' 'Orai1'\n",
      " 'Kcnv1' 'Kcnc4' 'Kcnab3' 'Gpm6a' 'Slc17a7' 'Cacna2d1' 'Lamp5' 'Pvalb']\n"
     ]
    },
    {
     "name": "stderr",
     "output_type": "stream",
     "text": [
      "2023-01-24 10:45:54.589164: I tensorflow/core/common_runtime/gpu/gpu_device.cc:1525] Created device /job:localhost/replica:0/task:0/device:GPU:0 with 11419 MB memory:  -> device: 0, name: NVIDIA TITAN Xp, pci bus id: 0000:81:00.0, compute capability: 6.1\n"
     ]
    },
    {
     "name": "stdout",
     "output_type": "stream",
     "text": [
      "[INFO] training network...\n",
      "Train R^2 before unfreezing:  0.1527499556541443\n",
      "Test R^2 before unfreezing:  0.16446006298065186\n",
      "Train R^2 after unfreezing:  0.20496225357055664\n",
      "Test R^2 after unfreezing:  0.2021523118019104\n",
      "Train R^2 after unfreezing and pruning:  0.1995004415512085\n",
      "Test R^2 after unfreezing and pruning:  0.21508830785751343\n",
      "\n",
      "CVFOLD:  2\n"
     ]
    },
    {
     "name": "stderr",
     "output_type": "stream",
     "text": [
      "2023-01-24 10:46:06.224067: I tensorflow/core/common_runtime/gpu/gpu_device.cc:1525] Created device /job:localhost/replica:0/task:0/device:GPU:0 with 11419 MB memory:  -> device: 0, name: NVIDIA TITAN Xp, pci bus id: 0000:81:00.0, compute capability: 6.1\n"
     ]
    },
    {
     "name": "stdout",
     "output_type": "stream",
     "text": [
      "[INFO] training network...\n",
      "[INFO] training network...\n",
      "The 25 genes that make it:  ['Scn10a' 'Ncs1' 'Cdk5' 'Cacng1' 'Pvalb' 'Kcnj11' 'Lrrc8b' 'Best3'\n",
      " 'Cacng3' 'Kcnk1' 'Kcne2' 'Tpcn1' 'Clcnkb' 'Kcne3' 'Kcnh1' 'Chrna4' 'Ano6'\n",
      " 'Trpv2' 'Gpm6a' 'mt-Atp6' 'Kcnc4' 'Pacc1' 'Pkd2' 'Trpm5' 'Gabra5']\n"
     ]
    },
    {
     "name": "stderr",
     "output_type": "stream",
     "text": [
      "2023-01-24 10:46:21.791758: I tensorflow/core/common_runtime/gpu/gpu_device.cc:1525] Created device /job:localhost/replica:0/task:0/device:GPU:0 with 11419 MB memory:  -> device: 0, name: NVIDIA TITAN Xp, pci bus id: 0000:81:00.0, compute capability: 6.1\n"
     ]
    },
    {
     "name": "stdout",
     "output_type": "stream",
     "text": [
      "[INFO] training network...\n",
      "Train R^2 before unfreezing:  0.24018234014511108\n",
      "Test R^2 before unfreezing:  0.09428125619888306\n",
      "Train R^2 after unfreezing:  0.34634143114089966\n",
      "Test R^2 after unfreezing:  0.07401424646377563\n",
      "Train R^2 after unfreezing and pruning:  0.17841047048568726\n",
      "Test R^2 after unfreezing and pruning:  0.0850709080696106\n"
     ]
    },
    {
     "name": "stderr",
     "output_type": "stream",
     "text": [
      "2023-01-24 10:46:35.307125: I tensorflow/core/common_runtime/gpu/gpu_device.cc:1525] Created device /job:localhost/replica:0/task:0/device:GPU:0 with 11419 MB memory:  -> device: 0, name: NVIDIA TITAN Xp, pci bus id: 0000:81:00.0, compute capability: 6.1\n"
     ]
    },
    {
     "name": "stdout",
     "output_type": "stream",
     "text": [
      "[INFO] training network...\n",
      "[INFO] training network...\n",
      "The 25 genes that make it:  ['Cacna2d2' 'Atp5d' 'Kcnip1' 'Kcnq3' 'Kcnq2' 'Kcnh7' 'Ryr2' 'Tmem63b'\n",
      " 'Atp6v1a' 'Scn3b' 'Tspoap1' 'Pex5l' 'Atp5e' 'Gria1' 'Clcn4' 'Cacna2d1'\n",
      " 'Scn8a' 'Gpm6a' 'Kcnh1' 'Lrrc55' 'Tmem120a' 'Trpm6' 'Ano4' 'Lamp5'\n",
      " 'Gabra5']\n"
     ]
    },
    {
     "name": "stderr",
     "output_type": "stream",
     "text": [
      "2023-01-24 10:46:48.518742: I tensorflow/core/common_runtime/gpu/gpu_device.cc:1525] Created device /job:localhost/replica:0/task:0/device:GPU:0 with 11419 MB memory:  -> device: 0, name: NVIDIA TITAN Xp, pci bus id: 0000:81:00.0, compute capability: 6.1\n"
     ]
    },
    {
     "name": "stdout",
     "output_type": "stream",
     "text": [
      "[INFO] training network...\n",
      "Train R^2 before unfreezing:  0.22209811210632324\n",
      "Test R^2 before unfreezing:  0.11033076047897339\n",
      "Train R^2 after unfreezing:  0.2910635471343994\n",
      "Test R^2 after unfreezing:  0.08957785367965698\n",
      "Train R^2 after unfreezing and pruning:  0.20352071523666382\n",
      "Test R^2 after unfreezing and pruning:  0.13759994506835938\n"
     ]
    },
    {
     "name": "stderr",
     "output_type": "stream",
     "text": [
      "2023-01-24 10:47:01.505461: I tensorflow/core/common_runtime/gpu/gpu_device.cc:1525] Created device /job:localhost/replica:0/task:0/device:GPU:0 with 11419 MB memory:  -> device: 0, name: NVIDIA TITAN Xp, pci bus id: 0000:81:00.0, compute capability: 6.1\n"
     ]
    },
    {
     "name": "stdout",
     "output_type": "stream",
     "text": [
      "[INFO] training network...\n",
      "[INFO] training network...\n",
      "The 25 genes that make it:  ['Slc24a4' 'Pex5l' 'Kcnip1' 'Scn10a' 'Gabrr1' 'Clca3a2' 'Kcnip2'\n",
      " 'Catsper3' 'Cacna2d2' 'Pkd2' 'Kcnip4' 'Gabra5' 'Scn4b' 'Scn1a' 'Cacna2d3'\n",
      " 'Clcn4' 'Vdac2' 'Cacng3' 'Lamp5' 'Cacna2d1' 'Kcnv1' 'Kcnc4' 'Scn3b'\n",
      " 'Pvalb' 'Slc17a7']\n"
     ]
    },
    {
     "name": "stderr",
     "output_type": "stream",
     "text": [
      "2023-01-24 10:47:17.718937: I tensorflow/core/common_runtime/gpu/gpu_device.cc:1525] Created device /job:localhost/replica:0/task:0/device:GPU:0 with 11419 MB memory:  -> device: 0, name: NVIDIA TITAN Xp, pci bus id: 0000:81:00.0, compute capability: 6.1\n"
     ]
    },
    {
     "name": "stdout",
     "output_type": "stream",
     "text": [
      "[INFO] training network...\n",
      "Train R^2 before unfreezing:  0.18589693307876587\n",
      "Test R^2 before unfreezing:  0.10643219947814941\n",
      "Train R^2 after unfreezing:  0.23667657375335693\n",
      "Test R^2 after unfreezing:  0.1660352349281311\n",
      "Train R^2 after unfreezing and pruning:  0.2280694842338562\n",
      "Test R^2 after unfreezing and pruning:  0.14732056856155396\n"
     ]
    },
    {
     "name": "stderr",
     "output_type": "stream",
     "text": [
      "2023-01-24 10:47:28.875924: I tensorflow/core/common_runtime/gpu/gpu_device.cc:1525] Created device /job:localhost/replica:0/task:0/device:GPU:0 with 11419 MB memory:  -> device: 0, name: NVIDIA TITAN Xp, pci bus id: 0000:81:00.0, compute capability: 6.1\n"
     ]
    },
    {
     "name": "stdout",
     "output_type": "stream",
     "text": [
      "[INFO] training network...\n",
      "[INFO] training network...\n",
      "The 25 genes that make it:  ['Hcn2' 'Atp5c1' 'Cacna1h' 'Scn10a' 'Scn4b' 'Kcnn3' 'Nmur2' 'Gabrd'\n",
      " 'Kcnh6' 'Grin2d' 'Kcnh8' 'Slc24a4' 'Vip' 'Gabrr1' 'Apol7a' 'Slc26a9'\n",
      " 'Clcc1' 'Lamp5' 'Gabrb1' 'Cacna2d2' 'Cacna2d1' 'Kcnv1' 'Slc17a7' 'Scn3b'\n",
      " 'Pvalb']\n"
     ]
    },
    {
     "name": "stderr",
     "output_type": "stream",
     "text": [
      "2023-01-24 10:47:43.536988: I tensorflow/core/common_runtime/gpu/gpu_device.cc:1525] Created device /job:localhost/replica:0/task:0/device:GPU:0 with 11419 MB memory:  -> device: 0, name: NVIDIA TITAN Xp, pci bus id: 0000:81:00.0, compute capability: 6.1\n"
     ]
    },
    {
     "name": "stdout",
     "output_type": "stream",
     "text": [
      "[INFO] training network...\n",
      "Train R^2 before unfreezing:  0.18108689785003662\n",
      "Test R^2 before unfreezing:  0.15104472637176514\n",
      "Train R^2 after unfreezing:  0.19414162635803223\n",
      "Test R^2 after unfreezing:  0.160739004611969\n",
      "Train R^2 after unfreezing and pruning:  0.20122355222702026\n",
      "Test R^2 after unfreezing and pruning:  0.12569010257720947\n",
      "\n",
      "CVFOLD:  3\n"
     ]
    },
    {
     "name": "stderr",
     "output_type": "stream",
     "text": [
      "2023-01-24 10:47:54.717899: I tensorflow/core/common_runtime/gpu/gpu_device.cc:1525] Created device /job:localhost/replica:0/task:0/device:GPU:0 with 11419 MB memory:  -> device: 0, name: NVIDIA TITAN Xp, pci bus id: 0000:81:00.0, compute capability: 6.1\n"
     ]
    },
    {
     "name": "stdout",
     "output_type": "stream",
     "text": [
      "[INFO] training network...\n",
      "[INFO] training network...\n",
      "The 25 genes that make it:  ['Hcn2' 'Tmem266' 'Grin2d' 'Trpc7' 'Atp5c1' 'Kcnh3' 'Pvalb' 'Glra3' 'Cnr1'\n",
      " 'Kcnh4' 'Tpcn2' 'Pkd2l2' 'Scn1b' 'Kcnk18' 'Gabra5' 'P2rx5' 'Best1'\n",
      " 'Mcoln1' 'Trpm4' 'Cacna2d1' 'Slc17a7' 'Scn10a' 'Best3' 'Gjd3' 'Tpcn1']\n"
     ]
    },
    {
     "name": "stderr",
     "output_type": "stream",
     "text": [
      "2023-01-24 10:48:08.203476: I tensorflow/core/common_runtime/gpu/gpu_device.cc:1525] Created device /job:localhost/replica:0/task:0/device:GPU:0 with 11419 MB memory:  -> device: 0, name: NVIDIA TITAN Xp, pci bus id: 0000:81:00.0, compute capability: 6.1\n"
     ]
    },
    {
     "name": "stdout",
     "output_type": "stream",
     "text": [
      "[INFO] training network...\n",
      "Train R^2 before unfreezing:  0.18190306425094604\n",
      "Test R^2 before unfreezing:  0.07655858993530273\n",
      "Train R^2 after unfreezing:  0.30419206619262695\n",
      "Test R^2 after unfreezing:  0.05904418230056763\n",
      "Train R^2 after unfreezing and pruning:  0.18588078022003174\n",
      "Test R^2 after unfreezing and pruning:  0.06374222040176392\n"
     ]
    },
    {
     "name": "stderr",
     "output_type": "stream",
     "text": [
      "2023-01-24 10:48:20.553840: I tensorflow/core/common_runtime/gpu/gpu_device.cc:1525] Created device /job:localhost/replica:0/task:0/device:GPU:0 with 11419 MB memory:  -> device: 0, name: NVIDIA TITAN Xp, pci bus id: 0000:81:00.0, compute capability: 6.1\n"
     ]
    },
    {
     "name": "stdout",
     "output_type": "stream",
     "text": [
      "[INFO] training network...\n",
      "[INFO] training network...\n",
      "The 25 genes that make it:  ['Scn3a' 'Trpc6' 'Kcnc1' 'Gpm6a' 'Kcnmb3' 'Kcns3' 'Tomm40' 'Kcnk3' 'Clcc1'\n",
      " 'Trpm7' 'Marcksl1' 'Grik3' 'Kcnip4' 'Cacna1c' 'Kcnv1' 'Calhm1' 'Cnr1'\n",
      " 'Kcnc2' 'Pvalb' 'Kcnh2' 'Atp5a1' 'Tspoap1' 'mt-Atp6' 'Sst' 'Piezo1']\n"
     ]
    },
    {
     "name": "stderr",
     "output_type": "stream",
     "text": [
      "2023-01-24 10:48:34.344446: I tensorflow/core/common_runtime/gpu/gpu_device.cc:1525] Created device /job:localhost/replica:0/task:0/device:GPU:0 with 11419 MB memory:  -> device: 0, name: NVIDIA TITAN Xp, pci bus id: 0000:81:00.0, compute capability: 6.1\n"
     ]
    },
    {
     "name": "stdout",
     "output_type": "stream",
     "text": [
      "[INFO] training network...\n",
      "Train R^2 before unfreezing:  0.22010207176208496\n",
      "Test R^2 before unfreezing:  0.07455122470855713\n",
      "Train R^2 after unfreezing:  0.29169028997421265\n",
      "Test R^2 after unfreezing:  0.06257385015487671\n",
      "Train R^2 after unfreezing and pruning:  0.19782650470733643\n",
      "Test R^2 after unfreezing and pruning:  0.13690924644470215\n"
     ]
    },
    {
     "name": "stderr",
     "output_type": "stream",
     "text": [
      "2023-01-24 10:48:48.597304: I tensorflow/core/common_runtime/gpu/gpu_device.cc:1525] Created device /job:localhost/replica:0/task:0/device:GPU:0 with 11419 MB memory:  -> device: 0, name: NVIDIA TITAN Xp, pci bus id: 0000:81:00.0, compute capability: 6.1\n"
     ]
    },
    {
     "name": "stdout",
     "output_type": "stream",
     "text": [
      "[INFO] training network...\n",
      "[INFO] training network...\n",
      "The 25 genes that make it:  ['Erc1' 'Pkd2' 'Lrrc8b' 'Gabra5' 'Lrrc38' 'Cacna2d3' 'Clcc1' 'Clcn4'\n",
      " 'Otop1' 'Gabrd' 'Tmem175' 'Tpcn2' 'Kcnv1' 'Kcnip4' 'Ano10' 'Kcnc4'\n",
      " 'Cacna2d1' 'Scn1a' 'Scn3b' 'Cacng3' 'Vdac2' 'Lamp5' 'Vip' 'Slc17a7'\n",
      " 'Pvalb']\n"
     ]
    },
    {
     "name": "stderr",
     "output_type": "stream",
     "text": [
      "2023-01-24 10:49:01.599985: I tensorflow/core/common_runtime/gpu/gpu_device.cc:1525] Created device /job:localhost/replica:0/task:0/device:GPU:0 with 11419 MB memory:  -> device: 0, name: NVIDIA TITAN Xp, pci bus id: 0000:81:00.0, compute capability: 6.1\n"
     ]
    },
    {
     "name": "stdout",
     "output_type": "stream",
     "text": [
      "[INFO] training network...\n",
      "Train R^2 before unfreezing:  0.1732746958732605\n",
      "Test R^2 before unfreezing:  0.05331766605377197\n",
      "Train R^2 after unfreezing:  0.25489604473114014\n",
      "Test R^2 after unfreezing:  0.13583797216415405\n",
      "Train R^2 after unfreezing and pruning:  0.2423730492591858\n",
      "Test R^2 after unfreezing and pruning:  0.11199772357940674\n"
     ]
    },
    {
     "name": "stderr",
     "output_type": "stream",
     "text": [
      "2023-01-24 10:49:13.678271: I tensorflow/core/common_runtime/gpu/gpu_device.cc:1525] Created device /job:localhost/replica:0/task:0/device:GPU:0 with 11419 MB memory:  -> device: 0, name: NVIDIA TITAN Xp, pci bus id: 0000:81:00.0, compute capability: 6.1\n"
     ]
    },
    {
     "name": "stdout",
     "output_type": "stream",
     "text": [
      "[INFO] training network...\n",
      "[INFO] training network...\n",
      "The 25 genes that make it:  ['Grm7' 'Scn1a' 'Trpc7' 'Gabra5' 'Cacna2d4' 'Trpv4' 'Kcnj1' 'Grik1'\n",
      " 'Pkd2l1' 'Slc17a3' 'Lrrc38' 'Kcnmb4' 'Lrrc8e' 'Kcnc4' 'Lamp5' 'Tmc1'\n",
      " 'Vip' 'Cacna2d1' 'Kcnv1' 'Scn3b' 'Kcnip4' 'Pkd2' 'Gabrd' 'Slc17a7'\n",
      " 'Pvalb']\n"
     ]
    },
    {
     "name": "stderr",
     "output_type": "stream",
     "text": [
      "2023-01-24 10:49:26.726878: I tensorflow/core/common_runtime/gpu/gpu_device.cc:1525] Created device /job:localhost/replica:0/task:0/device:GPU:0 with 11419 MB memory:  -> device: 0, name: NVIDIA TITAN Xp, pci bus id: 0000:81:00.0, compute capability: 6.1\n"
     ]
    },
    {
     "name": "stdout",
     "output_type": "stream",
     "text": [
      "[INFO] training network...\n",
      "Train R^2 before unfreezing:  0.17988735437393188\n",
      "Test R^2 before unfreezing:  0.12115854024887085\n",
      "Train R^2 after unfreezing:  0.18774259090423584\n",
      "Test R^2 after unfreezing:  0.15009993314743042\n",
      "Train R^2 after unfreezing and pruning:  0.21035391092300415\n",
      "Test R^2 after unfreezing and pruning:  0.15512514114379883\n",
      "\n",
      "CVFOLD:  4\n"
     ]
    },
    {
     "name": "stderr",
     "output_type": "stream",
     "text": [
      "2023-01-24 10:49:37.787155: I tensorflow/core/common_runtime/gpu/gpu_device.cc:1525] Created device /job:localhost/replica:0/task:0/device:GPU:0 with 11419 MB memory:  -> device: 0, name: NVIDIA TITAN Xp, pci bus id: 0000:81:00.0, compute capability: 6.1\n"
     ]
    },
    {
     "name": "stdout",
     "output_type": "stream",
     "text": [
      "[INFO] training network...\n",
      "[INFO] training network...\n",
      "The 25 genes that make it:  ['Kcnj6' 'Cacna2d2' 'Scn1b' 'Chrna9' 'Tmc8' 'Vip' 'Pkd1l1' 'Scn2b' 'Clcn4'\n",
      " 'Scn11a' 'Pkd2' 'Cacna1i' 'Calhm2' 'Kcnab1' 'Cnr1' 'Fxyd4' 'Trpc5'\n",
      " 'Gabra5' 'Kcne4' 'Glra4' 'Kcnk12' 'Orai3' 'Cacna2d1' 'Cngb1' 'Ano4']\n"
     ]
    },
    {
     "name": "stderr",
     "output_type": "stream",
     "text": [
      "2023-01-24 10:49:50.862526: I tensorflow/core/common_runtime/gpu/gpu_device.cc:1525] Created device /job:localhost/replica:0/task:0/device:GPU:0 with 11419 MB memory:  -> device: 0, name: NVIDIA TITAN Xp, pci bus id: 0000:81:00.0, compute capability: 6.1\n"
     ]
    },
    {
     "name": "stdout",
     "output_type": "stream",
     "text": [
      "[INFO] training network...\n",
      "Train R^2 before unfreezing:  0.2255336046218872\n",
      "Test R^2 before unfreezing:  0.11153548955917358\n",
      "Train R^2 after unfreezing:  0.338090181350708\n",
      "Test R^2 after unfreezing:  0.10481488704681396\n",
      "Train R^2 after unfreezing and pruning:  0.18475735187530518\n",
      "Test R^2 after unfreezing and pruning:  0.1369505524635315\n"
     ]
    },
    {
     "name": "stderr",
     "output_type": "stream",
     "text": [
      "2023-01-24 10:50:03.747833: I tensorflow/core/common_runtime/gpu/gpu_device.cc:1525] Created device /job:localhost/replica:0/task:0/device:GPU:0 with 11419 MB memory:  -> device: 0, name: NVIDIA TITAN Xp, pci bus id: 0000:81:00.0, compute capability: 6.1\n"
     ]
    },
    {
     "name": "stdout",
     "output_type": "stream",
     "text": [
      "[INFO] training network...\n",
      "[INFO] training network...\n",
      "The 25 genes that make it:  ['Scn1a' 'Grin1' 'Gabra5' 'Lrrc55' 'Kcnip3' 'Kcnc2' 'Kcnk1' 'Sst' 'Clcc1'\n",
      " 'Calhm1' 'Kcnh2' 'Cacna1g' 'Grik1' 'Clcn4' 'Kcnip4' 'Kcnn2' 'Chrnb3'\n",
      " 'Cacnb2' 'Kcnj6' 'Kcnc4' 'Pacc1' 'Ano4' 'Slc17a7' 'Pvalb' 'Cngb1']\n"
     ]
    },
    {
     "name": "stderr",
     "output_type": "stream",
     "text": [
      "2023-01-24 10:50:17.054872: I tensorflow/core/common_runtime/gpu/gpu_device.cc:1525] Created device /job:localhost/replica:0/task:0/device:GPU:0 with 11419 MB memory:  -> device: 0, name: NVIDIA TITAN Xp, pci bus id: 0000:81:00.0, compute capability: 6.1\n"
     ]
    },
    {
     "name": "stdout",
     "output_type": "stream",
     "text": [
      "[INFO] training network...\n",
      "Train R^2 before unfreezing:  0.2647606134414673\n",
      "Test R^2 before unfreezing:  0.11182838678359985\n",
      "Train R^2 after unfreezing:  0.30877119302749634\n",
      "Test R^2 after unfreezing:  0.12217718362808228\n",
      "Train R^2 after unfreezing and pruning:  0.21217167377471924\n",
      "Test R^2 after unfreezing and pruning:  0.1526029109954834\n"
     ]
    },
    {
     "name": "stderr",
     "output_type": "stream",
     "text": [
      "2023-01-24 10:50:26.959310: I tensorflow/core/common_runtime/gpu/gpu_device.cc:1525] Created device /job:localhost/replica:0/task:0/device:GPU:0 with 11419 MB memory:  -> device: 0, name: NVIDIA TITAN Xp, pci bus id: 0000:81:00.0, compute capability: 6.1\n"
     ]
    },
    {
     "name": "stdout",
     "output_type": "stream",
     "text": [
      "[INFO] training network...\n",
      "[INFO] training network...\n",
      "The 25 genes that make it:  ['Cacng3' 'Gabrb3' 'Lrrc8b' 'Sec61a1' 'Kcnc1' 'Kcnh1' 'Erc1' 'Kcnc4'\n",
      " 'Scn1a' 'Slc24a4' 'Ano10' 'Gabrd' 'Vip' 'Chrnb1' 'Kcnip4' 'Tmem175'\n",
      " 'Cacna2d2' 'Kcnv1' 'Vdac2' 'Scn3b' 'Clcn4' 'Lamp5' 'Cacna2d1' 'Slc17a7'\n",
      " 'Pvalb']\n"
     ]
    },
    {
     "name": "stderr",
     "output_type": "stream",
     "text": [
      "2023-01-24 10:50:40.789325: I tensorflow/core/common_runtime/gpu/gpu_device.cc:1525] Created device /job:localhost/replica:0/task:0/device:GPU:0 with 11419 MB memory:  -> device: 0, name: NVIDIA TITAN Xp, pci bus id: 0000:81:00.0, compute capability: 6.1\n"
     ]
    },
    {
     "name": "stdout",
     "output_type": "stream",
     "text": [
      "[INFO] training network...\n",
      "Train R^2 before unfreezing:  0.16183030605316162\n",
      "Test R^2 before unfreezing:  0.13349676132202148\n",
      "Train R^2 after unfreezing:  0.24769562482833862\n",
      "Test R^2 after unfreezing:  0.19361084699630737\n",
      "Train R^2 after unfreezing and pruning:  0.2270382046699524\n",
      "Test R^2 after unfreezing and pruning:  0.19789427518844604\n"
     ]
    },
    {
     "name": "stderr",
     "output_type": "stream",
     "text": [
      "2023-01-24 10:50:53.433703: I tensorflow/core/common_runtime/gpu/gpu_device.cc:1525] Created device /job:localhost/replica:0/task:0/device:GPU:0 with 11419 MB memory:  -> device: 0, name: NVIDIA TITAN Xp, pci bus id: 0000:81:00.0, compute capability: 6.1\n"
     ]
    },
    {
     "name": "stdout",
     "output_type": "stream",
     "text": [
      "[INFO] training network...\n",
      "[INFO] training network...\n",
      "The 25 genes that make it:  ['Vdac2' 'Gabra2' 'Gabra4' 'Ryr1' 'Trpv4' 'Kcnip3' 'Tmc1' 'Tpcn2' 'Pkd2'\n",
      " 'Lrrc52' 'Kcng1' 'Gpm6a' 'Lamp5' 'Kcnj8' 'Kcnj11' 'Scn3b' 'Calhm6' 'Mcub'\n",
      " 'Kcnv1' 'Chrna6' 'Kcnmb1' 'Cacna2d1' 'Cacna2d2' 'Slc17a7' 'Pvalb']\n"
     ]
    },
    {
     "name": "stderr",
     "output_type": "stream",
     "text": [
      "2023-01-24 10:51:08.307582: I tensorflow/core/common_runtime/gpu/gpu_device.cc:1525] Created device /job:localhost/replica:0/task:0/device:GPU:0 with 11419 MB memory:  -> device: 0, name: NVIDIA TITAN Xp, pci bus id: 0000:81:00.0, compute capability: 6.1\n"
     ]
    },
    {
     "name": "stdout",
     "output_type": "stream",
     "text": [
      "[INFO] training network...\n",
      "Train R^2 before unfreezing:  0.14597582817077637\n",
      "Test R^2 before unfreezing:  0.15429848432540894\n",
      "Train R^2 after unfreezing:  0.18307042121887207\n",
      "Test R^2 after unfreezing:  0.18619680404663086\n",
      "Train R^2 after unfreezing and pruning:  0.1892167329788208\n",
      "Test R^2 after unfreezing and pruning:  0.17938119173049927\n",
      "\n",
      "CVFOLD:  5\n"
     ]
    },
    {
     "name": "stderr",
     "output_type": "stream",
     "text": [
      "2023-01-24 10:51:19.437667: I tensorflow/core/common_runtime/gpu/gpu_device.cc:1525] Created device /job:localhost/replica:0/task:0/device:GPU:0 with 11419 MB memory:  -> device: 0, name: NVIDIA TITAN Xp, pci bus id: 0000:81:00.0, compute capability: 6.1\n"
     ]
    },
    {
     "name": "stdout",
     "output_type": "stream",
     "text": [
      "[INFO] training network...\n",
      "[INFO] training network...\n",
      "The 25 genes that make it:  ['Lrrc55' 'Apol9a' 'Clcn3' 'Gabra5' 'Pkd2l2' 'Cacna1s' 'Tmem150c' 'Gabrb2'\n",
      " 'mt-Atp8' 'Atp5e' 'Pacc1' 'Ano8' 'Kcnh5' 'Chrnb2' 'Kcnh2' 'Cnr1' 'Glra1'\n",
      " 'Tpcn2' 'Glra3' 'Clic5' 'Cacna2d1' 'Catsper3' 'Scn10a' 'Kcnmb3' 'Lamp5']\n"
     ]
    },
    {
     "name": "stderr",
     "output_type": "stream",
     "text": [
      "2023-01-24 10:51:32.412837: I tensorflow/core/common_runtime/gpu/gpu_device.cc:1525] Created device /job:localhost/replica:0/task:0/device:GPU:0 with 11419 MB memory:  -> device: 0, name: NVIDIA TITAN Xp, pci bus id: 0000:81:00.0, compute capability: 6.1\n"
     ]
    },
    {
     "name": "stdout",
     "output_type": "stream",
     "text": [
      "[INFO] training network...\n",
      "Train R^2 before unfreezing:  0.2762327194213867\n",
      "Test R^2 before unfreezing:  0.024085164070129395\n",
      "Train R^2 after unfreezing:  0.3314162492752075\n",
      "Test R^2 after unfreezing:  0.018241465091705322\n",
      "Train R^2 after unfreezing and pruning:  0.16614723205566406\n",
      "Test R^2 after unfreezing and pruning:  0.11354601383209229\n"
     ]
    },
    {
     "name": "stderr",
     "output_type": "stream",
     "text": [
      "2023-01-24 10:51:44.502662: I tensorflow/core/common_runtime/gpu/gpu_device.cc:1525] Created device /job:localhost/replica:0/task:0/device:GPU:0 with 11419 MB memory:  -> device: 0, name: NVIDIA TITAN Xp, pci bus id: 0000:81:00.0, compute capability: 6.1\n"
     ]
    },
    {
     "name": "stdout",
     "output_type": "stream",
     "text": [
      "[INFO] training network...\n",
      "[INFO] training network...\n",
      "The 25 genes that make it:  ['Kcnab3' 'Kcnab1' 'Sec61a1' 'Itpr3' 'Gabra4' 'Slc1a1' 'Tspoap1' 'Kcnip3'\n",
      " 'Scn1a' 'Atp5d' 'Kcnc3' 'Pvalb' 'Kcnk1' 'Kcnv1' 'Cacna1a' 'Kcnh2'\n",
      " 'Slc17a7' 'Gabra1' 'Kcnh7' 'Hvcn1' 'Scn1b' 'Kcnip4' 'Gabra5' 'Trpc6'\n",
      " 'Sst']\n"
     ]
    },
    {
     "name": "stderr",
     "output_type": "stream",
     "text": [
      "2023-01-24 10:51:56.731655: I tensorflow/core/common_runtime/gpu/gpu_device.cc:1525] Created device /job:localhost/replica:0/task:0/device:GPU:0 with 11419 MB memory:  -> device: 0, name: NVIDIA TITAN Xp, pci bus id: 0000:81:00.0, compute capability: 6.1\n"
     ]
    },
    {
     "name": "stdout",
     "output_type": "stream",
     "text": [
      "[INFO] training network...\n",
      "Train R^2 before unfreezing:  0.21809715032577515\n",
      "Test R^2 before unfreezing:  0.042850375175476074\n",
      "Train R^2 after unfreezing:  0.2907187342643738\n",
      "Test R^2 after unfreezing:  0.020077407360076904\n",
      "Train R^2 after unfreezing and pruning:  0.17862993478775024\n",
      "Test R^2 after unfreezing and pruning:  0.16673529148101807\n"
     ]
    },
    {
     "name": "stderr",
     "output_type": "stream",
     "text": [
      "2023-01-24 10:52:07.094047: I tensorflow/core/common_runtime/gpu/gpu_device.cc:1525] Created device /job:localhost/replica:0/task:0/device:GPU:0 with 11419 MB memory:  -> device: 0, name: NVIDIA TITAN Xp, pci bus id: 0000:81:00.0, compute capability: 6.1\n"
     ]
    },
    {
     "name": "stdout",
     "output_type": "stream",
     "text": [
      "[INFO] training network...\n",
      "[INFO] training network...\n",
      "The 25 genes that make it:  ['Trpm6' 'Atp5d' 'Pex5l' 'Kcnc1' 'Ano10' 'Lrrc8b' 'Kcnip1' 'Cacna2d3'\n",
      " 'Cacng3' 'Gabrr1' 'Scn4a' 'Pkd2' 'Catsper3' 'Gabrd' 'Scn3b' 'Trpm5'\n",
      " 'Tmem175' 'Kcnv1' 'Kcnc4' 'Kcnip4' 'Cacna2d1' 'Scn1a' 'Lamp5' 'Pvalb'\n",
      " 'Slc17a7']\n"
     ]
    },
    {
     "name": "stderr",
     "output_type": "stream",
     "text": [
      "2023-01-24 10:52:21.465474: I tensorflow/core/common_runtime/gpu/gpu_device.cc:1525] Created device /job:localhost/replica:0/task:0/device:GPU:0 with 11419 MB memory:  -> device: 0, name: NVIDIA TITAN Xp, pci bus id: 0000:81:00.0, compute capability: 6.1\n"
     ]
    },
    {
     "name": "stdout",
     "output_type": "stream",
     "text": [
      "[INFO] training network...\n",
      "Train R^2 before unfreezing:  0.16116249561309814\n",
      "Test R^2 before unfreezing:  0.11119705438613892\n",
      "Train R^2 after unfreezing:  0.22179007530212402\n",
      "Test R^2 after unfreezing:  0.20226192474365234\n",
      "Train R^2 after unfreezing and pruning:  0.20878475904464722\n",
      "Test R^2 after unfreezing and pruning:  0.13849353790283203\n"
     ]
    },
    {
     "name": "stderr",
     "output_type": "stream",
     "text": [
      "2023-01-24 10:52:33.870638: I tensorflow/core/common_runtime/gpu/gpu_device.cc:1525] Created device /job:localhost/replica:0/task:0/device:GPU:0 with 11419 MB memory:  -> device: 0, name: NVIDIA TITAN Xp, pci bus id: 0000:81:00.0, compute capability: 6.1\n"
     ]
    },
    {
     "name": "stdout",
     "output_type": "stream",
     "text": [
      "[INFO] training network...\n",
      "[INFO] training network...\n",
      "The 25 genes that make it:  ['Lrrc52' 'Slc1a1' 'Piezo2' 'Gjc1' 'Kcnc4' 'Atp5o' 'Kcnc3' 'Kcnv1' 'Trpm2'\n",
      " 'Kcnip1' 'Cacna2d2' 'Scn1a' 'Ttyh2' 'Htr3a' 'Asic4' 'Gabrd' 'Vip'\n",
      " 'Kcnab3' 'Scn3b' 'Lamp5' 'Cnr1' 'Cacna2d1' 'Kcna1' 'Slc17a7' 'Pvalb']\n"
     ]
    },
    {
     "name": "stderr",
     "output_type": "stream",
     "text": [
      "2023-01-24 10:52:49.033398: I tensorflow/core/common_runtime/gpu/gpu_device.cc:1525] Created device /job:localhost/replica:0/task:0/device:GPU:0 with 11419 MB memory:  -> device: 0, name: NVIDIA TITAN Xp, pci bus id: 0000:81:00.0, compute capability: 6.1\n"
     ]
    },
    {
     "name": "stdout",
     "output_type": "stream",
     "text": [
      "[INFO] training network...\n",
      "Train R^2 before unfreezing:  0.17538106441497803\n",
      "Test R^2 before unfreezing:  0.1862059235572815\n",
      "Train R^2 after unfreezing:  0.19102495908737183\n",
      "Test R^2 after unfreezing:  0.1839214563369751\n",
      "Train R^2 after unfreezing and pruning:  0.19650375843048096\n",
      "Test R^2 after unfreezing and pruning:  0.1787230372428894\n",
      "\n",
      "CVFOLD:  6\n"
     ]
    },
    {
     "name": "stderr",
     "output_type": "stream",
     "text": [
      "2023-01-24 10:53:02.914819: I tensorflow/core/common_runtime/gpu/gpu_device.cc:1525] Created device /job:localhost/replica:0/task:0/device:GPU:0 with 11419 MB memory:  -> device: 0, name: NVIDIA TITAN Xp, pci bus id: 0000:81:00.0, compute capability: 6.1\n"
     ]
    },
    {
     "name": "stdout",
     "output_type": "stream",
     "text": [
      "[INFO] training network...\n",
      "[INFO] training network...\n",
      "The 25 genes that make it:  ['Clic5' 'Grik3' 'Tmc1' 'Abcc9' 'Pkd2l2' 'Calhm5' 'Apol7e' 'Cnr1' 'Lrrc8b'\n",
      " 'Trpc3' 'Scn1a' 'Orai3' 'Kcnma1' 'Atp5d' 'Kcnk4' 'Catsper3' 'Mcoln2'\n",
      " 'Kcnmb4' 'Pkd1l3' 'Sst' 'Slc1a4' 'Best1' 'Scnn1b' 'Kcnab3' 'Lamp5']\n"
     ]
    },
    {
     "name": "stderr",
     "output_type": "stream",
     "text": [
      "2023-01-24 10:53:17.549590: I tensorflow/core/common_runtime/gpu/gpu_device.cc:1525] Created device /job:localhost/replica:0/task:0/device:GPU:0 with 11419 MB memory:  -> device: 0, name: NVIDIA TITAN Xp, pci bus id: 0000:81:00.0, compute capability: 6.1\n"
     ]
    },
    {
     "name": "stdout",
     "output_type": "stream",
     "text": [
      "[INFO] training network...\n",
      "Train R^2 before unfreezing:  0.22367310523986816\n",
      "Test R^2 before unfreezing:  0.1403721570968628\n",
      "Train R^2 after unfreezing:  0.3058239817619324\n",
      "Test R^2 after unfreezing:  0.14204859733581543\n",
      "Train R^2 after unfreezing and pruning:  0.17535388469696045\n",
      "Test R^2 after unfreezing and pruning:  0.10913145542144775\n"
     ]
    },
    {
     "name": "stderr",
     "output_type": "stream",
     "text": [
      "2023-01-24 10:53:29.118337: I tensorflow/core/common_runtime/gpu/gpu_device.cc:1525] Created device /job:localhost/replica:0/task:0/device:GPU:0 with 11419 MB memory:  -> device: 0, name: NVIDIA TITAN Xp, pci bus id: 0000:81:00.0, compute capability: 6.1\n"
     ]
    },
    {
     "name": "stdout",
     "output_type": "stream",
     "text": [
      "[INFO] training network...\n",
      "[INFO] training network...\n",
      "The 25 genes that make it:  ['Lamp5' 'Tmem63b' 'Ano7' 'Ano9' 'Chrna4' 'Cacna1b' 'Kcnc2' 'Clcc1'\n",
      " 'Cacna2d2' 'Snap25' 'Grin2b' 'Atp6v1a' 'Scn1a' 'Pkd2' 'Pvalb' 'Kcnj9'\n",
      " 'Ttyh1' 'Kcnip1' 'Kcnc4' 'Gabra5' 'Atp5e' 'Slc17a7' 'Gria2' 'Grin1'\n",
      " 'Slc1a1']\n"
     ]
    },
    {
     "name": "stderr",
     "output_type": "stream",
     "text": [
      "2023-01-24 10:53:42.366853: I tensorflow/core/common_runtime/gpu/gpu_device.cc:1525] Created device /job:localhost/replica:0/task:0/device:GPU:0 with 11419 MB memory:  -> device: 0, name: NVIDIA TITAN Xp, pci bus id: 0000:81:00.0, compute capability: 6.1\n"
     ]
    },
    {
     "name": "stdout",
     "output_type": "stream",
     "text": [
      "[INFO] training network...\n",
      "Train R^2 before unfreezing:  0.19619417190551758\n",
      "Test R^2 before unfreezing:  0.11490869522094727\n",
      "Train R^2 after unfreezing:  0.31258630752563477\n",
      "Test R^2 after unfreezing:  0.12539660930633545\n",
      "Train R^2 after unfreezing and pruning:  0.17659097909927368\n",
      "Test R^2 after unfreezing and pruning:  0.1685287356376648\n"
     ]
    },
    {
     "name": "stderr",
     "output_type": "stream",
     "text": [
      "2023-01-24 10:53:54.239582: I tensorflow/core/common_runtime/gpu/gpu_device.cc:1525] Created device /job:localhost/replica:0/task:0/device:GPU:0 with 11419 MB memory:  -> device: 0, name: NVIDIA TITAN Xp, pci bus id: 0000:81:00.0, compute capability: 6.1\n"
     ]
    },
    {
     "name": "stdout",
     "output_type": "stream",
     "text": [
      "[INFO] training network...\n",
      "[INFO] training network...\n",
      "The 25 genes that make it:  ['Chrnb1' 'Oprm1' 'Cacna2d2' 'Kcnt2' 'Kcnv1' 'Gabrr2' 'Marcksl1' 'Vdac2'\n",
      " 'Grin2d' 'Kcnmb4' 'Kcnip2' 'Gpm6a' 'Grik2' 'Tmem175' 'Scn1a' 'Cacna2d1'\n",
      " 'Kcnip1' 'Cacng3' 'Kcnip4' 'Vip' 'Kcnc4' 'Lamp5' 'Scn3b' 'Slc17a7'\n",
      " 'Pvalb']\n"
     ]
    },
    {
     "name": "stderr",
     "output_type": "stream",
     "text": [
      "2023-01-24 10:54:08.298601: I tensorflow/core/common_runtime/gpu/gpu_device.cc:1525] Created device /job:localhost/replica:0/task:0/device:GPU:0 with 11419 MB memory:  -> device: 0, name: NVIDIA TITAN Xp, pci bus id: 0000:81:00.0, compute capability: 6.1\n"
     ]
    },
    {
     "name": "stdout",
     "output_type": "stream",
     "text": [
      "[INFO] training network...\n",
      "Train R^2 before unfreezing:  0.18743360042572021\n",
      "Test R^2 before unfreezing:  0.13763147592544556\n",
      "Train R^2 after unfreezing:  0.25848865509033203\n",
      "Test R^2 after unfreezing:  0.18067187070846558\n",
      "Train R^2 after unfreezing and pruning:  0.22589147090911865\n",
      "Test R^2 after unfreezing and pruning:  0.13903290033340454\n"
     ]
    },
    {
     "name": "stderr",
     "output_type": "stream",
     "text": [
      "2023-01-24 10:54:18.737691: I tensorflow/core/common_runtime/gpu/gpu_device.cc:1525] Created device /job:localhost/replica:0/task:0/device:GPU:0 with 11419 MB memory:  -> device: 0, name: NVIDIA TITAN Xp, pci bus id: 0000:81:00.0, compute capability: 6.1\n"
     ]
    },
    {
     "name": "stdout",
     "output_type": "stream",
     "text": [
      "[INFO] training network...\n",
      "[INFO] training network...\n",
      "The 25 genes that make it:  ['Gabra5' 'Grik1' 'Trpv5' 'Kcnj10' 'Vip' 'Kcnip1' 'Slc24a2' 'Calhm3'\n",
      " 'Kcns3' 'Kcnu1' 'Kcnh8' 'Catsper2' 'Scn4a' 'Gpm6a' 'Kcnmb3' 'Clca1'\n",
      " 'Lamp5' 'Trpm6' 'Cacna2d2' 'Scn1a' 'Lrrc52' 'Cacna2d1' 'Slc17a7' 'Scn3b'\n",
      " 'Pvalb']\n"
     ]
    },
    {
     "name": "stderr",
     "output_type": "stream",
     "text": [
      "2023-01-24 10:54:30.788207: I tensorflow/core/common_runtime/gpu/gpu_device.cc:1525] Created device /job:localhost/replica:0/task:0/device:GPU:0 with 11419 MB memory:  -> device: 0, name: NVIDIA TITAN Xp, pci bus id: 0000:81:00.0, compute capability: 6.1\n"
     ]
    },
    {
     "name": "stdout",
     "output_type": "stream",
     "text": [
      "[INFO] training network...\n",
      "Train R^2 before unfreezing:  0.17263352870941162\n",
      "Test R^2 before unfreezing:  0.14686459302902222\n",
      "Train R^2 after unfreezing:  0.19218683242797852\n",
      "Test R^2 after unfreezing:  0.17233514785766602\n",
      "Train R^2 after unfreezing and pruning:  0.20332837104797363\n",
      "Test R^2 after unfreezing and pruning:  0.14821845293045044\n",
      "\n",
      "CVFOLD:  7\n"
     ]
    },
    {
     "name": "stderr",
     "output_type": "stream",
     "text": [
      "2023-01-24 10:54:42.198649: I tensorflow/core/common_runtime/gpu/gpu_device.cc:1525] Created device /job:localhost/replica:0/task:0/device:GPU:0 with 11419 MB memory:  -> device: 0, name: NVIDIA TITAN Xp, pci bus id: 0000:81:00.0, compute capability: 6.1\n"
     ]
    },
    {
     "name": "stdout",
     "output_type": "stream",
     "text": [
      "[INFO] training network...\n",
      "[INFO] training network...\n",
      "The 25 genes that make it:  ['Grin3b' 'Scn3b' 'Ano7' 'Kcnj3' 'Clic5' 'Lrrc38' 'Anxa6' 'Cacng4' 'Cngb1'\n",
      " 'Cacna1a' 'Kcna6' 'Clcn2' 'Kcnab3' 'P2rx1' 'Atp5e' 'Trpm3' 'Erc1' 'Kcnc3'\n",
      " 'Kcnd1' 'Kcnma1' 'Kcnv1' 'Ryr2' 'Tmem38a' 'Kcnq3' 'Kcnh4']\n"
     ]
    },
    {
     "name": "stderr",
     "output_type": "stream",
     "text": [
      "2023-01-24 10:54:56.630493: I tensorflow/core/common_runtime/gpu/gpu_device.cc:1525] Created device /job:localhost/replica:0/task:0/device:GPU:0 with 11419 MB memory:  -> device: 0, name: NVIDIA TITAN Xp, pci bus id: 0000:81:00.0, compute capability: 6.1\n"
     ]
    },
    {
     "name": "stdout",
     "output_type": "stream",
     "text": [
      "[INFO] training network...\n",
      "Train R^2 before unfreezing:  0.22394442558288574\n",
      "Test R^2 before unfreezing:  0.08193641901016235\n",
      "Train R^2 after unfreezing:  0.3506125211715698\n",
      "Test R^2 after unfreezing:  0.08601081371307373\n",
      "Train R^2 after unfreezing and pruning:  0.16914093494415283\n",
      "Test R^2 after unfreezing and pruning:  0.1606265902519226\n"
     ]
    },
    {
     "name": "stderr",
     "output_type": "stream",
     "text": [
      "2023-01-24 10:55:07.836534: I tensorflow/core/common_runtime/gpu/gpu_device.cc:1525] Created device /job:localhost/replica:0/task:0/device:GPU:0 with 11419 MB memory:  -> device: 0, name: NVIDIA TITAN Xp, pci bus id: 0000:81:00.0, compute capability: 6.1\n"
     ]
    },
    {
     "name": "stdout",
     "output_type": "stream",
     "text": [
      "[INFO] training network...\n",
      "[INFO] training network...\n",
      "The 25 genes that make it:  ['Gabrb2' 'Gabrb3' 'Gabra1' 'Tmem63b' 'Trpc6' 'Clcn6' 'Cacna2d3' 'Kcnk12'\n",
      " 'Pvalb' 'Pkd2' 'Gpm6a' 'Clcn3' 'Clcn4' 'Grin2a' 'Scn1a' 'Catsper3'\n",
      " 'Clic4' 'Cacng2' 'Kcnip4' 'Asic2' 'Atp5a1' 'Sst' 'Gabra5' 'Kcnk1' 'Ano8']\n"
     ]
    },
    {
     "name": "stderr",
     "output_type": "stream",
     "text": [
      "2023-01-24 10:55:22.083879: I tensorflow/core/common_runtime/gpu/gpu_device.cc:1525] Created device /job:localhost/replica:0/task:0/device:GPU:0 with 11419 MB memory:  -> device: 0, name: NVIDIA TITAN Xp, pci bus id: 0000:81:00.0, compute capability: 6.1\n"
     ]
    },
    {
     "name": "stdout",
     "output_type": "stream",
     "text": [
      "[INFO] training network...\n",
      "Train R^2 before unfreezing:  0.21137654781341553\n",
      "Test R^2 before unfreezing:  0.16358405351638794\n",
      "Train R^2 after unfreezing:  0.3058364987373352\n",
      "Test R^2 after unfreezing:  0.15319180488586426\n",
      "Train R^2 after unfreezing and pruning:  0.18647903203964233\n",
      "Test R^2 after unfreezing and pruning:  0.1717376708984375\n"
     ]
    },
    {
     "name": "stderr",
     "output_type": "stream",
     "text": [
      "2023-01-24 10:55:34.431452: I tensorflow/core/common_runtime/gpu/gpu_device.cc:1525] Created device /job:localhost/replica:0/task:0/device:GPU:0 with 11419 MB memory:  -> device: 0, name: NVIDIA TITAN Xp, pci bus id: 0000:81:00.0, compute capability: 6.1\n"
     ]
    },
    {
     "name": "stdout",
     "output_type": "stream",
     "text": [
      "[INFO] training network...\n",
      "[INFO] training network...\n",
      "The 25 genes that make it:  ['Tmc6' 'Kcnc3' 'Trpm5' 'Cacng3' 'Tmc1' 'Marcksl1' 'Gabra5' 'Kcnk1'\n",
      " 'Kcnk16' 'Kcnc1' 'Pkd2' 'Kcnv1' 'Tmem175' 'Cacna2d1' 'Vdac2' 'Sec61a1'\n",
      " 'Kcnip4' 'Kcnc4' 'Scn1a' 'Lamp5' 'Clcn4' 'Vip' 'Scn3b' 'Pvalb' 'Slc17a7']\n"
     ]
    },
    {
     "name": "stderr",
     "output_type": "stream",
     "text": [
      "2023-01-24 10:55:48.279360: I tensorflow/core/common_runtime/gpu/gpu_device.cc:1525] Created device /job:localhost/replica:0/task:0/device:GPU:0 with 11419 MB memory:  -> device: 0, name: NVIDIA TITAN Xp, pci bus id: 0000:81:00.0, compute capability: 6.1\n"
     ]
    },
    {
     "name": "stdout",
     "output_type": "stream",
     "text": [
      "[INFO] training network...\n",
      "Train R^2 before unfreezing:  0.20973658561706543\n",
      "Test R^2 before unfreezing:  0.15328049659729004\n",
      "Train R^2 after unfreezing:  0.24970895051956177\n",
      "Test R^2 after unfreezing:  0.22517329454421997\n",
      "Train R^2 after unfreezing and pruning:  0.22297102212905884\n",
      "Test R^2 after unfreezing and pruning:  0.20445924997329712\n"
     ]
    },
    {
     "name": "stderr",
     "output_type": "stream",
     "text": [
      "2023-01-24 10:56:01.517727: I tensorflow/core/common_runtime/gpu/gpu_device.cc:1525] Created device /job:localhost/replica:0/task:0/device:GPU:0 with 11419 MB memory:  -> device: 0, name: NVIDIA TITAN Xp, pci bus id: 0000:81:00.0, compute capability: 6.1\n"
     ]
    },
    {
     "name": "stdout",
     "output_type": "stream",
     "text": [
      "[INFO] training network...\n",
      "[INFO] training network...\n",
      "The 25 genes that make it:  ['Pkd1l1' 'Scnn1a' 'Trpm1' 'Kcnma1' 'Kcnn1' 'Apol7a' 'Kcnh4' 'Cacna2d2'\n",
      " 'Kcnn3' 'Kcnj2' 'Kcnv1' 'Nalcn' 'Vdac2' 'Grin3a' 'Kcnc1' 'Kcnc4' 'Vip'\n",
      " 'Lamp5' 'Kcne3' 'Clcn4' 'Tmc1' 'Scn3b' 'Cacna2d1' 'Slc17a7' 'Pvalb']\n"
     ]
    },
    {
     "name": "stderr",
     "output_type": "stream",
     "text": [
      "2023-01-24 10:56:16.269217: I tensorflow/core/common_runtime/gpu/gpu_device.cc:1525] Created device /job:localhost/replica:0/task:0/device:GPU:0 with 11419 MB memory:  -> device: 0, name: NVIDIA TITAN Xp, pci bus id: 0000:81:00.0, compute capability: 6.1\n"
     ]
    },
    {
     "name": "stdout",
     "output_type": "stream",
     "text": [
      "[INFO] training network...\n",
      "Train R^2 before unfreezing:  0.18102198839187622\n",
      "Test R^2 before unfreezing:  0.2251325249671936\n",
      "Train R^2 after unfreezing:  0.19369959831237793\n",
      "Test R^2 after unfreezing:  0.22426271438598633\n",
      "Train R^2 after unfreezing and pruning:  0.19584375619888306\n",
      "Test R^2 after unfreezing and pruning:  0.2117207646369934\n",
      "\n",
      "CVFOLD:  8\n"
     ]
    },
    {
     "name": "stderr",
     "output_type": "stream",
     "text": [
      "2023-01-24 10:56:28.509321: I tensorflow/core/common_runtime/gpu/gpu_device.cc:1525] Created device /job:localhost/replica:0/task:0/device:GPU:0 with 11419 MB memory:  -> device: 0, name: NVIDIA TITAN Xp, pci bus id: 0000:81:00.0, compute capability: 6.1\n"
     ]
    },
    {
     "name": "stdout",
     "output_type": "stream",
     "text": [
      "[INFO] training network...\n",
      "[INFO] training network...\n",
      "The 25 genes that make it:  ['Trpm5' 'Kcnk13' 'Kcnip4' 'Glra4' 'Kcnb2' 'Grik3' 'Htr1b' 'Scn10a'\n",
      " 'Cacng2' 'Slc1a4' 'Panx1' 'Otop2' 'Trpc3' 'Mlc1' 'Atp5e' 'Kcnh2' 'Vdac1'\n",
      " 'Catsper3' 'Slc4a11' 'Clca3a2' 'Clic3' 'Kcnab3' 'Gabra5' 'Tmem120a'\n",
      " 'Trpm6']\n"
     ]
    },
    {
     "name": "stderr",
     "output_type": "stream",
     "text": [
      "2023-01-24 10:56:44.611923: I tensorflow/core/common_runtime/gpu/gpu_device.cc:1525] Created device /job:localhost/replica:0/task:0/device:GPU:0 with 11419 MB memory:  -> device: 0, name: NVIDIA TITAN Xp, pci bus id: 0000:81:00.0, compute capability: 6.1\n"
     ]
    },
    {
     "name": "stdout",
     "output_type": "stream",
     "text": [
      "[INFO] training network...\n",
      "Train R^2 before unfreezing:  0.19402766227722168\n",
      "Test R^2 before unfreezing:  0.07404065132141113\n",
      "Train R^2 after unfreezing:  0.28497636318206787\n",
      "Test R^2 after unfreezing:  0.05101078748703003\n",
      "Train R^2 after unfreezing and pruning:  0.13080734014511108\n",
      "Test R^2 after unfreezing and pruning:  0.10269874334335327\n"
     ]
    },
    {
     "name": "stderr",
     "output_type": "stream",
     "text": [
      "2023-01-24 10:56:58.436768: I tensorflow/core/common_runtime/gpu/gpu_device.cc:1525] Created device /job:localhost/replica:0/task:0/device:GPU:0 with 11419 MB memory:  -> device: 0, name: NVIDIA TITAN Xp, pci bus id: 0000:81:00.0, compute capability: 6.1\n"
     ]
    },
    {
     "name": "stdout",
     "output_type": "stream",
     "text": [
      "[INFO] training network...\n",
      "[INFO] training network...\n",
      "The 25 genes that make it:  ['Sec61a1' 'Gabra1' 'Gabrb3' 'Unc80' 'Kcnc1' 'Cacna2d1' 'Kcnc3' 'Scn1b'\n",
      " 'Grin2a' 'Tspoap1' 'Tmem63b' 'Lamp5' 'Cacnb4' 'Hcn1' 'Kcnk4' 'Tomm40'\n",
      " 'Pacc1' 'Kcnq5' 'Scn3b' 'Slc17a7' 'Gabra5' 'Kcnv1' 'Pvalb' 'Gria2' 'Sst']\n"
     ]
    },
    {
     "name": "stderr",
     "output_type": "stream",
     "text": [
      "2023-01-24 10:57:12.674698: I tensorflow/core/common_runtime/gpu/gpu_device.cc:1525] Created device /job:localhost/replica:0/task:0/device:GPU:0 with 11419 MB memory:  -> device: 0, name: NVIDIA TITAN Xp, pci bus id: 0000:81:00.0, compute capability: 6.1\n"
     ]
    },
    {
     "name": "stdout",
     "output_type": "stream",
     "text": [
      "[INFO] training network...\n",
      "Train R^2 before unfreezing:  0.21658611297607422\n",
      "Test R^2 before unfreezing:  0.10770660638809204\n",
      "Train R^2 after unfreezing:  0.33561527729034424\n",
      "Test R^2 after unfreezing:  0.10981941223144531\n",
      "Train R^2 after unfreezing and pruning:  0.20232272148132324\n",
      "Test R^2 after unfreezing and pruning:  0.16569513082504272\n"
     ]
    },
    {
     "name": "stderr",
     "output_type": "stream",
     "text": [
      "2023-01-24 10:57:23.694387: I tensorflow/core/common_runtime/gpu/gpu_device.cc:1525] Created device /job:localhost/replica:0/task:0/device:GPU:0 with 11419 MB memory:  -> device: 0, name: NVIDIA TITAN Xp, pci bus id: 0000:81:00.0, compute capability: 6.1\n"
     ]
    },
    {
     "name": "stdout",
     "output_type": "stream",
     "text": [
      "[INFO] training network...\n",
      "[INFO] training network...\n",
      "The 25 genes that make it:  ['Gabrd' 'Oprm1' 'Ano10' 'Kcnab3' 'P2rx1' 'Marcksl1' 'Cacng3' 'Kcnc1'\n",
      " 'Grik1' 'Chrnb1' 'Kcnip1' 'Gabrr1' 'Kcnv1' 'Vdac2' 'Pkd2' 'Clcn4' 'Lamp5'\n",
      " 'Scn1a' 'Kcnc4' 'Kcnip4' 'Cacna2d1' 'Scn3b' 'Slc17a7' 'Vip' 'Pvalb']\n"
     ]
    },
    {
     "name": "stderr",
     "output_type": "stream",
     "text": [
      "2023-01-24 10:57:39.473166: I tensorflow/core/common_runtime/gpu/gpu_device.cc:1525] Created device /job:localhost/replica:0/task:0/device:GPU:0 with 11419 MB memory:  -> device: 0, name: NVIDIA TITAN Xp, pci bus id: 0000:81:00.0, compute capability: 6.1\n"
     ]
    },
    {
     "name": "stdout",
     "output_type": "stream",
     "text": [
      "[INFO] training network...\n",
      "Train R^2 before unfreezing:  0.2081242799758911\n",
      "Test R^2 before unfreezing:  0.109744131565094\n",
      "Train R^2 after unfreezing:  0.25205403566360474\n",
      "Test R^2 after unfreezing:  0.19916659593582153\n",
      "Train R^2 after unfreezing and pruning:  0.22768127918243408\n",
      "Test R^2 after unfreezing and pruning:  0.1576451063156128\n"
     ]
    },
    {
     "name": "stderr",
     "output_type": "stream",
     "text": [
      "2023-01-24 10:57:51.570604: I tensorflow/core/common_runtime/gpu/gpu_device.cc:1525] Created device /job:localhost/replica:0/task:0/device:GPU:0 with 11419 MB memory:  -> device: 0, name: NVIDIA TITAN Xp, pci bus id: 0000:81:00.0, compute capability: 6.1\n"
     ]
    },
    {
     "name": "stdout",
     "output_type": "stream",
     "text": [
      "[INFO] training network...\n",
      "[INFO] training network...\n",
      "The 25 genes that make it:  ['Gabra2' 'Kcnk16' 'Ryr1' 'Clic4' 'Clcn2' 'Kcnj11' 'Kcns1' 'Kcnc1' 'Otop1'\n",
      " 'Atp5k' 'Lamp5' 'Trpm6' 'Gabrd' 'Lrrc8b' 'Grin3b' 'Tmc1' 'Cacng3' 'Vip'\n",
      " 'Catsper3' 'Gabrg1' 'Cacna2d1' 'Kcnv1' 'Scn3b' 'Slc17a7' 'Pvalb']\n"
     ]
    },
    {
     "name": "stderr",
     "output_type": "stream",
     "text": [
      "2023-01-24 10:58:08.002320: I tensorflow/core/common_runtime/gpu/gpu_device.cc:1525] Created device /job:localhost/replica:0/task:0/device:GPU:0 with 11419 MB memory:  -> device: 0, name: NVIDIA TITAN Xp, pci bus id: 0000:81:00.0, compute capability: 6.1\n"
     ]
    },
    {
     "name": "stdout",
     "output_type": "stream",
     "text": [
      "[INFO] training network...\n",
      "Train R^2 before unfreezing:  0.15692591667175293\n",
      "Test R^2 before unfreezing:  0.14380794763565063\n",
      "Train R^2 after unfreezing:  0.19700288772583008\n",
      "Test R^2 after unfreezing:  0.19021928310394287\n",
      "Train R^2 after unfreezing and pruning:  0.20522308349609375\n",
      "Test R^2 after unfreezing and pruning:  0.17813974618911743\n",
      "\n",
      "CVFOLD:  9\n"
     ]
    },
    {
     "name": "stderr",
     "output_type": "stream",
     "text": [
      "2023-01-24 10:58:19.656850: I tensorflow/core/common_runtime/gpu/gpu_device.cc:1525] Created device /job:localhost/replica:0/task:0/device:GPU:0 with 11419 MB memory:  -> device: 0, name: NVIDIA TITAN Xp, pci bus id: 0000:81:00.0, compute capability: 6.1\n"
     ]
    },
    {
     "name": "stdout",
     "output_type": "stream",
     "text": [
      "[INFO] training network...\n",
      "[INFO] training network...\n",
      "The 25 genes that make it:  ['Gabra5' 'Kcnmb3' 'Clca4a' 'Kcng1' 'Kcnh4' 'Kcnj15' 'Pkd1l3' 'Kcnj14'\n",
      " 'Mlc1' 'Cnga3' 'Ryr1' 'Scn9a' 'Chrnb4' 'Cacna1h' 'Cacng4' 'Atp5o' 'Pkd2'\n",
      " 'Cacna1i' 'Cnga2' 'Clic1' 'Kcnip1' 'Kcnv1' 'Grin2d' 'Catsper3' 'P2rx3']\n"
     ]
    },
    {
     "name": "stderr",
     "output_type": "stream",
     "text": [
      "2023-01-24 10:58:32.269051: I tensorflow/core/common_runtime/gpu/gpu_device.cc:1525] Created device /job:localhost/replica:0/task:0/device:GPU:0 with 11419 MB memory:  -> device: 0, name: NVIDIA TITAN Xp, pci bus id: 0000:81:00.0, compute capability: 6.1\n"
     ]
    },
    {
     "name": "stdout",
     "output_type": "stream",
     "text": [
      "[INFO] training network...\n",
      "Train R^2 before unfreezing:  0.2704327702522278\n",
      "Test R^2 before unfreezing:  0.11555886268615723\n",
      "Train R^2 after unfreezing:  0.28897231817245483\n",
      "Test R^2 after unfreezing:  0.10301846265792847\n",
      "Train R^2 after unfreezing and pruning:  0.1402079463005066\n",
      "Test R^2 after unfreezing and pruning:  0.04862105846405029\n"
     ]
    },
    {
     "name": "stderr",
     "output_type": "stream",
     "text": [
      "2023-01-24 10:58:45.210607: I tensorflow/core/common_runtime/gpu/gpu_device.cc:1525] Created device /job:localhost/replica:0/task:0/device:GPU:0 with 11419 MB memory:  -> device: 0, name: NVIDIA TITAN Xp, pci bus id: 0000:81:00.0, compute capability: 6.1\n"
     ]
    },
    {
     "name": "stdout",
     "output_type": "stream",
     "text": [
      "[INFO] training network...\n",
      "[INFO] training network...\n",
      "The 25 genes that make it:  ['Best1' 'Gabra5' 'Kcnh2' 'Cacna1a' 'Tmc4' 'Kcnip1' 'Kcnb2' 'Gabrb3'\n",
      " 'Scn1b' 'Slc17a7' 'Clcc1' 'Lamp5' 'Kcnj12' 'Kcnk2' 'Lrrc8b' 'Sst'\n",
      " 'Cacna2d1' 'Kcnv1' 'Grin1' 'Cacnb3' 'Gpm6a' 'Gabrb2' 'Lrrc38' 'Kcnk3'\n",
      " 'Pvalb']\n"
     ]
    },
    {
     "name": "stderr",
     "output_type": "stream",
     "text": [
      "2023-01-24 10:59:00.044339: I tensorflow/core/common_runtime/gpu/gpu_device.cc:1525] Created device /job:localhost/replica:0/task:0/device:GPU:0 with 11419 MB memory:  -> device: 0, name: NVIDIA TITAN Xp, pci bus id: 0000:81:00.0, compute capability: 6.1\n"
     ]
    },
    {
     "name": "stdout",
     "output_type": "stream",
     "text": [
      "[INFO] training network...\n",
      "Train R^2 before unfreezing:  0.20940500497817993\n",
      "Test R^2 before unfreezing:  0.10061371326446533\n",
      "Train R^2 after unfreezing:  0.2988966703414917\n",
      "Test R^2 after unfreezing:  0.08450454473495483\n",
      "Train R^2 after unfreezing and pruning:  0.17404526472091675\n",
      "Test R^2 after unfreezing and pruning:  0.16071873903274536\n"
     ]
    },
    {
     "name": "stderr",
     "output_type": "stream",
     "text": [
      "2023-01-24 10:59:11.480707: I tensorflow/core/common_runtime/gpu/gpu_device.cc:1525] Created device /job:localhost/replica:0/task:0/device:GPU:0 with 11419 MB memory:  -> device: 0, name: NVIDIA TITAN Xp, pci bus id: 0000:81:00.0, compute capability: 6.1\n"
     ]
    },
    {
     "name": "stdout",
     "output_type": "stream",
     "text": [
      "[INFO] training network...\n",
      "[INFO] training network...\n",
      "The 25 genes that make it:  ['Kcns1' 'Clcn4' 'Vdac3' 'Clcc1' 'Tmc1' 'Scn4a' 'Kcnmb3' 'Cacnb3' 'Gabra5'\n",
      " 'Pkd2' 'Kcnv1' 'Pex5l' 'Kcnip1' 'Vip' 'Tmem175' 'Lamp5' 'Vdac2' 'Cacng3'\n",
      " 'Cacna2d1' 'Kcnc4' 'Kcnip4' 'Chrnb1' 'Scn3b' 'Pvalb' 'Slc17a7']\n"
     ]
    },
    {
     "name": "stderr",
     "output_type": "stream",
     "text": [
      "2023-01-24 10:59:24.701630: I tensorflow/core/common_runtime/gpu/gpu_device.cc:1525] Created device /job:localhost/replica:0/task:0/device:GPU:0 with 11419 MB memory:  -> device: 0, name: NVIDIA TITAN Xp, pci bus id: 0000:81:00.0, compute capability: 6.1\n"
     ]
    },
    {
     "name": "stdout",
     "output_type": "stream",
     "text": [
      "[INFO] training network...\n",
      "Train R^2 before unfreezing:  0.19044899940490723\n",
      "Test R^2 before unfreezing:  0.08991199731826782\n",
      "Train R^2 after unfreezing:  0.24857568740844727\n",
      "Test R^2 after unfreezing:  0.18661576509475708\n",
      "Train R^2 after unfreezing and pruning:  0.22385531663894653\n",
      "Test R^2 after unfreezing and pruning:  0.15770059823989868\n"
     ]
    },
    {
     "name": "stderr",
     "output_type": "stream",
     "text": [
      "2023-01-24 10:59:35.595140: I tensorflow/core/common_runtime/gpu/gpu_device.cc:1525] Created device /job:localhost/replica:0/task:0/device:GPU:0 with 11419 MB memory:  -> device: 0, name: NVIDIA TITAN Xp, pci bus id: 0000:81:00.0, compute capability: 6.1\n"
     ]
    },
    {
     "name": "stdout",
     "output_type": "stream",
     "text": [
      "[INFO] training network...\n",
      "[INFO] training network...\n",
      "The 25 genes that make it:  ['Clca4b' 'Kcns3' 'Kcnab3' 'Chrm5' 'Kcna1' 'Grin2a' 'Kcnk9' 'Slc26a9'\n",
      " 'Scn1b' 'Kcnip2' 'Cnga1' 'Cacna1d' 'Kcnip3' 'Tmc6' 'Gabrd' 'Lamp5' 'Vip'\n",
      " 'Kcnc2' 'Nmur2' 'Lrrc38' 'Tmem175' 'Cacna2d1' 'Slc17a7' 'Scn3b' 'Pvalb']\n"
     ]
    },
    {
     "name": "stderr",
     "output_type": "stream",
     "text": [
      "2023-01-24 10:59:51.437853: I tensorflow/core/common_runtime/gpu/gpu_device.cc:1525] Created device /job:localhost/replica:0/task:0/device:GPU:0 with 11419 MB memory:  -> device: 0, name: NVIDIA TITAN Xp, pci bus id: 0000:81:00.0, compute capability: 6.1\n"
     ]
    },
    {
     "name": "stdout",
     "output_type": "stream",
     "text": [
      "[INFO] training network...\n",
      "Train R^2 before unfreezing:  0.1550828218460083\n",
      "Test R^2 before unfreezing:  0.13933825492858887\n",
      "Train R^2 after unfreezing:  0.2041129469871521\n",
      "Test R^2 after unfreezing:  0.1860448718070984\n",
      "Train R^2 after unfreezing and pruning:  0.19385623931884766\n",
      "Test R^2 after unfreezing and pruning:  0.17438805103302002\n",
      "Time: 0.0h 17m 39s\n"
     ]
    }
   ],
   "source": [
    "# Settings\n",
    "l2_params = np.logspace(-10, -10, num=1)\n",
    "l1_params = np.array([1e-4, 1e-2, 1e-1, 1])\n",
    "\n",
    "act = 'elu'\n",
    "folds = 10\n",
    "seed = 42\n",
    "lr=0.0001\n",
    "epochs=50\n",
    "bs=32\n",
    "patience=epochs\n",
    "pre_trained_weights=True\n",
    "unfreeze = [False, False, True, True, True, True] # last 4 layers can be trained only first\n",
    "prune=True\n",
    "\n",
    "r2_before_unfreezing = np.zeros((folds, l1_params.shape[0], l2_params.shape[0]))\n",
    "r2_before_unfreezing_tr = np.zeros((folds, l1_params.shape[0], l2_params.shape[0]))\n",
    "r2_after_unfreezing = np.zeros((folds, l1_params.shape[0], l2_params.shape[0]))\n",
    "r2_after_unfreezing_tr = np.zeros((folds, l1_params.shape[0], l2_params.shape[0]))\n",
    "r2_after_unfreezing_ap = np.zeros((folds, l1_params.shape[0], l2_params.shape[0]))\n",
    "r2_after_unfreezing_ap_tr = np.zeros((folds, l1_params.shape[0], l2_params.shape[0]))\n",
    "r2_freeze_unfreeze_hist = np.zeros((folds, l1_params.shape[0], l2_params.shape[0], 4*epochs))\n",
    "r2_freeze_unfreeze_hist_tr = np.zeros((folds, l1_params.shape[0], l2_params.shape[0], 4*epochs))\n",
    "\n",
    "t = time.time()\n",
    "np.random.seed(seed)\n",
    "n = genes.shape[0]\n",
    "ind = np.random.permutation(n)\n",
    "X = genes[ind,:]\n",
    "Y = THETA[ind,:]\n",
    "\n",
    "nodes_list=[512,128,2,128,512]\n",
    "\n",
    "# CV folds\n",
    "for cvfold in range(folds):\n",
    "    print('\\nCVFOLD: ', cvfold)\n",
    "    indtest  = np.arange(cvfold*int(n/folds), (cvfold+1)*int(n/folds))\n",
    "    indtrain = np.setdiff1d(np.arange(n), indtest)\n",
    "    x_train = np.copy(X[indtrain,:])\n",
    "    y_train = np.copy(Y[indtrain,:])\n",
    "    x_test = np.copy(X[indtest,:])\n",
    "    y_test = np.copy(Y[indtest,:])\n",
    "\n",
    "    # Mean centering (like sRRR)\n",
    "    X_mean = np.mean(x_train, axis=0)\n",
    "    x_train -= X_mean\n",
    "    x_test -= X_mean\n",
    "    Y_mean = np.mean(y_train, axis=0)\n",
    "    y_train -= Y_mean\n",
    "    y_test -= Y_mean\n",
    "    \n",
    "    input_dim = x_train.shape[1]\n",
    "    output_dim = y_train.shape[1]\n",
    "    \n",
    "    for i, l2 in enumerate(l2_params):\n",
    "        #print('Ridge penalty: ', l2)\n",
    "        for j, l1 in enumerate(l1_params):\n",
    "            #print('Lasso penalty: ', l1)\n",
    "            \n",
    "            pre_trained_weights_h5 = 'KerasSavedModels/Classification_last_weights_{}_{}_{}.h5'.format(cvfold, j, i)\n",
    "            input_dim = x_train.shape[1]\n",
    "            output_dim = y_train.shape[1]\n",
    "            BN_PreTrFreezeUnfreeze = FreezeUnfreeze(l1=l1, l2=l2, lr=lr, act=act, input_dim=input_dim, output_dim=output_dim, \\\n",
    "                                                       unfreeze = unfreeze, \\\n",
    "                                                       pre_trained_weights=pre_trained_weights, \\\n",
    "                                                       pre_trained_weights_h5=pre_trained_weights_h5, nodes_list=nodes_list)\n",
    "            r2_before_unfreezing_train, r2_before_unfreezing_test, \\\n",
    "                r2_after_unfreezing_train, r2_after_unfreezing_test, \\\n",
    "                r2_after_unfreezing_train_ap, r2_after_unfreezing_test_ap, \\\n",
    "                train_hist, test_hist = BN_PreTrFreezeUnfreeze.train(x_train=x_train, y_train=y_train, \\\n",
    "                                                                    x_test=x_test, y_test=y_test, \\\n",
    "                                                                    epochs=epochs, bs=bs, patience=patience, \\\n",
    "                                                                    cvfold_id=cvfold, l1_id=j, l2_id=i, \\\n",
    "                                                                    prune=prune, geneNames=gene_names, \\\n",
    "                                                                    verbose=0,\n",
    "                                                                    report_individual_ephys_feature_test_R2=True)\n",
    "            r2_before_unfreezing[cvfold, j, i] = r2_before_unfreezing_test\n",
    "            r2_before_unfreezing_tr[cvfold, j, i] = r2_before_unfreezing_train\n",
    "            r2_after_unfreezing[cvfold, j, i] = r2_after_unfreezing_test\n",
    "            r2_after_unfreezing_tr[cvfold, j, i] = r2_after_unfreezing_train\n",
    "            r2_after_unfreezing_ap[cvfold, j, i] = r2_after_unfreezing_test_ap\n",
    "            r2_after_unfreezing_ap_tr[cvfold, j, i] = r2_after_unfreezing_train_ap\n",
    "            r2_freeze_unfreeze_hist[cvfold, j, i] = test_hist\n",
    "            r2_freeze_unfreeze_hist_tr[cvfold, j, i] = train_hist\n",
    "            #print('Test R^2 score (before unfreezing): ', r2_before_unfreezing[cvfold, j, i])\n",
    "            #print('Test R^2 score (after unfreezing): ', r2_after_unfreezing[cvfold, j, i])\n",
    "            #print('Test R^2 score (after unfreezing and after pruning): ', r2_after_unfreezing_ap[cvfold, j, i])\n",
    "            \n",
    "t = time.time() - t\n",
    "m,s = divmod(t, 60)\n",
    "h,m = divmod(m, 60)\n",
    "print('Time: {}h {:2.0f}m {:2.0f}s'.format(h,m,s))"
   ]
  },
  {
   "cell_type": "code",
   "execution_count": 24,
   "metadata": {},
   "outputs": [],
   "source": [
    "with open('pickles/Bottleneck_r2_pre_tr_and_freeze_unfreeze_lasso_ion_channel_marker.pickle', 'wb') as f:\n",
    "    pickle.dump([r2_before_unfreezing, r2_before_unfreezing_tr, \\\n",
    "                 r2_after_unfreezing, r2_after_unfreezing_tr, \\\n",
    "                 r2_after_unfreezing_ap, r2_after_unfreezing_ap_tr, \\\n",
    "                 r2_freeze_unfreeze_hist, r2_freeze_unfreeze_hist_tr], f)"
   ]
  },
  {
   "cell_type": "markdown",
   "metadata": {},
   "source": [
    "### sRRR"
   ]
  },
  {
   "cell_type": "code",
   "execution_count": 25,
   "metadata": {},
   "outputs": [
    {
     "name": "stdout",
     "output_type": "stream",
     "text": [
      "\n",
      "CVFOLD:  0\n",
      "\n",
      "CVFOLD:  1\n",
      "\n",
      "CVFOLD:  2\n",
      "\n",
      "CVFOLD:  3\n",
      "\n",
      "CVFOLD:  4\n",
      "\n",
      "CVFOLD:  5\n",
      "\n",
      "CVFOLD:  6\n",
      "\n",
      "CVFOLD:  7\n",
      "\n",
      "CVFOLD:  8\n",
      "\n",
      "CVFOLD:  9\n",
      "Time: 0.0h  0m  9s\n"
     ]
    }
   ],
   "source": [
    "# CV sRRR rank = 2\n",
    "\n",
    "lambdas = np.arange(.1,2,.1)\n",
    "alphas = np.array([1])\n",
    "\n",
    "rank = 2\n",
    "folds = 10\n",
    "seed = 42\n",
    "\n",
    "r2_sRRR_rank2 = np.zeros((folds, alphas.shape[0], lambdas.shape[0]))\n",
    "r2_sRRR_rank2_tr = np.zeros((folds, alphas.shape[0], lambdas.shape[0]))\n",
    "r2_sRRR_relaxed_rank2 = np.zeros((folds, alphas.shape[0], lambdas.shape[0]))\n",
    "r2_sRRR_relaxed_rank2_tr = np.zeros((folds, alphas.shape[0], lambdas.shape[0]))\n",
    "nonzero_rank2 = np.zeros((folds, alphas.shape[0], lambdas.shape[0]))\n",
    "corrs_rank2 = np.zeros((folds, alphas.shape[0], lambdas.shape[0], rank))\n",
    "corrs_relaxed_rank2 = np.zeros((folds, alphas.shape[0], lambdas.shape[0], rank))\n",
    "\n",
    "\n",
    "t = time.time()\n",
    "\n",
    "np.random.seed(seed)\n",
    "n = genes.shape[0]\n",
    "ind = np.random.permutation(n)\n",
    "X = genes[ind,:]\n",
    "Y = THETA[ind,:]\n",
    "\n",
    "# CV folds\n",
    "for cvfold in range(folds):\n",
    "    print('\\nCVFOLD: ', cvfold)\n",
    "    indtest  = np.arange(cvfold*int(n/folds), (cvfold+1)*int(n/folds))\n",
    "    indtrain = np.setdiff1d(np.arange(n), indtest)\n",
    "    x_train = np.copy(X[indtrain,:])\n",
    "    y_train = np.copy(Y[indtrain,:])\n",
    "    x_test = np.copy(X[indtest,:])\n",
    "    y_test = np.copy(Y[indtest,:])\n",
    "\n",
    "    # Mean centering (like sRRR)\n",
    "    X_mean = np.mean(x_train, axis=0)\n",
    "    x_train -= X_mean\n",
    "    x_test -= X_mean\n",
    "    Y_mean = np.mean(y_train, axis=0)\n",
    "    y_train -= Y_mean\n",
    "    y_test -= Y_mean\n",
    "    \n",
    "    x_train = x_train.astype('float64')\n",
    "    y_train = y_train.astype('float64')\n",
    "    x_test = x_test.astype('float64')\n",
    "    y_test = y_test.astype('float64')\n",
    "    \n",
    "    for i,a in enumerate(lambdas):\n",
    "        #print('Lambdau: ', a)\n",
    "        for j, b in enumerate(alphas):\n",
    "            #print('Alpha: ', b)\n",
    "            vx,vy = sparseRRR.elastic_rrr(x_train, y_train, lambdau=a, alpha=b, rank=rank, sparsity='row-wise')\n",
    "\n",
    "            nz = np.sum(np.abs(vx), axis=1) != 0\n",
    "            if np.sum(nz) < rank:\n",
    "                nonzero_rank2[cvfold, j, i] = np.nan\n",
    "                continue\n",
    "\n",
    "            if np.allclose(np.std(x_test @ vx, axis=0), 0):\n",
    "                nonzero_rank2[cvfold, j, i] = np.nan\n",
    "                continue\n",
    "\n",
    "            nonzero_rank2[cvfold, j, i] = np.sum(nz)\n",
    "            r2_sRRR_rank2[cvfold, j, i] = 1 - np.sum((y_test - x_test @ vx @ vy.T)**2) / np.sum(y_test**2)\n",
    "            r2_sRRR_rank2_tr[cvfold, j, i] = 1 - np.sum((y_train - x_train @ vx @ vy.T)**2) / np.sum(y_train**2)\n",
    "            for r in range(rank):\n",
    "                corrs_rank2[cvfold, j, i, r] = np.corrcoef(x_test @ vx[:,r], y_test @ vy[:,r], rowvar=False)[0,1]\n",
    "\n",
    "            # Relaxation\n",
    "            vx[nz,:],vy = sparseRRR.elastic_rrr(x_train[:,nz], y_train, lambdau=a, alpha=0, rank=rank, sparsity='row-wise')\n",
    "\n",
    "            if np.allclose(np.std(x_test @ vx, axis=0), 0):\n",
    "                nonzero_rank2[cvfold, j, i] = np.nan\n",
    "                continue\n",
    "\n",
    "            r2_sRRR_relaxed_rank2[cvfold, j, i] = 1 - np.sum((y_test - x_test @ vx @ vy.T)**2) / np.sum(y_test**2)\n",
    "            r2_sRRR_relaxed_rank2_tr[cvfold, j, i] = 1 - np.sum((y_train - x_train @ vx @ vy.T)**2) / np.sum(y_train**2)\n",
    "            for r in range(rank):\n",
    "                corrs_relaxed_rank2[cvfold, j, i, r] = np.corrcoef(x_test @ vx[:,r], y_test @ vy[:,r], rowvar=False)[0,1]\n",
    "            #print(r2_sRRR_relaxed_rank2[cvfold, j, i])\n",
    "\n",
    "t = time.time() - t\n",
    "m,s = divmod(t, 60)\n",
    "h,m = divmod(m, 60)\n",
    "print('Time: {}h {:2.0f}m {:2.0f}s'.format(h,m,s))"
   ]
  },
  {
   "cell_type": "code",
   "execution_count": 26,
   "metadata": {},
   "outputs": [],
   "source": [
    "with open('pickles/sRRR_vs_Bottleneck_rank2_CV_lasso_ion_channel_marker.pickle', 'wb') as f:\n",
    "    pickle.dump([r2_sRRR_rank2, r2_sRRR_relaxed_rank2, r2_sRRR_rank2_tr, r2_sRRR_relaxed_rank2_tr, \\\n",
    "                nonzero_rank2, corrs_rank2, corrs_relaxed_rank2], f)"
   ]
  },
  {
   "cell_type": "code",
   "execution_count": 27,
   "metadata": {},
   "outputs": [
    {
     "name": "stdout",
     "output_type": "stream",
     "text": [
      "\n",
      "CVFOLD:  0\n",
      "\n",
      "CVFOLD:  1\n",
      "\n",
      "CVFOLD:  2\n",
      "\n",
      "CVFOLD:  3\n",
      "\n",
      "CVFOLD:  4\n",
      "\n",
      "CVFOLD:  5\n",
      "\n",
      "CVFOLD:  6\n",
      "\n",
      "CVFOLD:  7\n",
      "\n",
      "CVFOLD:  8\n",
      "\n",
      "CVFOLD:  9\n",
      "Time: 0.0h  0m 21s\n"
     ]
    }
   ],
   "source": [
    "# CV sRRR full rank\n",
    "\n",
    "lambdas = np.arange(.1,2,.1)\n",
    "alphas = np.array([1])\n",
    "\n",
    "rank = THETA.shape[1]\n",
    "folds = 10\n",
    "seed = 42\n",
    "\n",
    "r2_sRRR_rank13 = np.zeros((folds, alphas.shape[0], lambdas.shape[0]))\n",
    "r2_sRRR_rank13_tr = np.zeros((folds, alphas.shape[0], lambdas.shape[0]))\n",
    "r2_sRRR_relaxed_rank13 = np.zeros((folds, alphas.shape[0], lambdas.shape[0]))\n",
    "r2_sRRR_relaxed_rank13_tr = np.zeros((folds, alphas.shape[0], lambdas.shape[0]))\n",
    "nonzero_rank13 = np.zeros((folds, alphas.shape[0], lambdas.shape[0]))\n",
    "corrs_rank13 = np.zeros((folds, alphas.shape[0], lambdas.shape[0], rank))\n",
    "corrs_relaxed_rank13 = np.zeros((folds, alphas.shape[0], lambdas.shape[0], rank))\n",
    "\n",
    "\n",
    "t = time.time()\n",
    "\n",
    "np.random.seed(seed)\n",
    "n = genes.shape[0]\n",
    "ind = np.random.permutation(n)\n",
    "X = genes[ind,:]\n",
    "Y = THETA[ind,:]\n",
    "\n",
    "# CV folds\n",
    "for cvfold in range(folds):\n",
    "    print('\\nCVFOLD: ', cvfold)\n",
    "    indtest  = np.arange(cvfold*int(n/folds), (cvfold+1)*int(n/folds))\n",
    "    indtrain = np.setdiff1d(np.arange(n), indtest)\n",
    "    x_train = np.copy(X[indtrain,:])\n",
    "    y_train = np.copy(Y[indtrain,:])\n",
    "    x_test = np.copy(X[indtest,:])\n",
    "    y_test = np.copy(Y[indtest,:])\n",
    "\n",
    "    # Mean centering (like sRRR)\n",
    "    X_mean = np.mean(x_train, axis=0)\n",
    "    x_train -= X_mean\n",
    "    x_test -= X_mean\n",
    "    Y_mean = np.mean(y_train, axis=0)\n",
    "    y_train -= Y_mean\n",
    "    y_test -= Y_mean\n",
    "    \n",
    "    x_train = x_train.astype('float64')\n",
    "    y_train = y_train.astype('float64')\n",
    "    x_test = x_test.astype('float64')\n",
    "    y_test = y_test.astype('float64')\n",
    "    \n",
    "    for i,a in enumerate(lambdas):\n",
    "        #print('Labmdau: ', a)\n",
    "        for j, b in enumerate(alphas):\n",
    "            #print('Alpha: ', b)\n",
    "            vx,vy = sparseRRR.elastic_rrr(x_train, y_train, lambdau=a, alpha=b, rank=rank, sparsity='row-wise')\n",
    "\n",
    "            nz = np.sum(np.abs(vx), axis=1) != 0\n",
    "            if np.sum(nz) < rank:\n",
    "                nonzero_rank13[cvfold, j, i] = np.nan\n",
    "                continue\n",
    "\n",
    "            if np.allclose(np.std(x_test @ vx, axis=0), 0):\n",
    "                nonzero_rank13[cvfold, j, i] = np.nan\n",
    "                continue\n",
    "\n",
    "            nonzero_rank13[cvfold, j, i] = np.sum(nz)\n",
    "            r2_sRRR_rank13[cvfold, j, i] = 1 - np.sum((y_test - x_test @ vx @ vy.T)**2) / np.sum(y_test**2)\n",
    "            r2_sRRR_rank13_tr[cvfold, j, i] = 1 - np.sum((y_train - x_train @ vx @ vy.T)**2) / np.sum(y_train**2)\n",
    "            for r in range(rank):\n",
    "                corrs_rank13[cvfold, j, i, r] = np.corrcoef(x_test @ vx[:,r], y_test @ vy[:,r], rowvar=False)[0,1]\n",
    "\n",
    "            # Relaxation\n",
    "            vx[nz,:],vy = sparseRRR.elastic_rrr(x_train[:,nz], y_train, lambdau=a, alpha=0, rank=rank, sparsity='row-wise')\n",
    "\n",
    "            if np.allclose(np.std(x_test @ vx, axis=0), 0):\n",
    "                nonzero_rank13[cvfold, j, i] = np.nan\n",
    "                continue\n",
    "\n",
    "            r2_sRRR_relaxed_rank13[cvfold, j, i] = 1 - np.sum((y_test - x_test @ vx @ vy.T)**2) / np.sum(y_test**2)\n",
    "            r2_sRRR_relaxed_rank13_tr[cvfold, j, i] = 1 - np.sum((y_train - x_train @ vx @ vy.T)**2) / np.sum(y_train**2)\n",
    "            for r in range(rank):\n",
    "                corrs_relaxed_rank13[cvfold, j, i, r] = np.corrcoef(x_test @ vx[:,r], y_test @ vy[:,r], rowvar=False)[0,1]\n",
    "            #print(r2_sRRR_relaxed_rank16[cvfold, j, i])\n",
    "\n",
    "t = time.time() - t\n",
    "m,s = divmod(t, 60)\n",
    "h,m = divmod(m, 60)\n",
    "print('Time: {}h {:2.0f}m {:2.0f}s'.format(h,m,s))"
   ]
  },
  {
   "cell_type": "code",
   "execution_count": 28,
   "metadata": {},
   "outputs": [],
   "source": [
    "with open('pickles/sRRR_vs_Bottleneck_rank13_CV_lasso_ion_channel_marker.pickle', 'wb') as f:\n",
    "    pickle.dump([r2_sRRR_rank13, r2_sRRR_relaxed_rank13, r2_sRRR_rank13_tr, r2_sRRR_relaxed_rank13_tr, \\\n",
    "                nonzero_rank13, corrs_rank13, corrs_relaxed_rank13], f)"
   ]
  },
  {
   "cell_type": "markdown",
   "metadata": {},
   "source": [
    "Let us now analyse and visualise the differences."
   ]
  },
  {
   "cell_type": "code",
   "execution_count": 29,
   "metadata": {},
   "outputs": [],
   "source": [
    "lambdas = np.arange(.1,2,.1)\n",
    "alphas = np.array([1])"
   ]
  },
  {
   "cell_type": "code",
   "execution_count": 30,
   "metadata": {},
   "outputs": [],
   "source": [
    "with open('pickles/sRRR_vs_Bottleneck_rank2_CV_lasso_ion_channel_marker.pickle', 'rb') as f:\n",
    "    r2_sRRR_rank2, r2_sRRR_relaxed_rank2, r2_sRRR_rank2_tr, r2_sRRR_relaxed_rank2_tr, \\\n",
    "                nonzero_rank2, corrs_rank2, corrs_relaxed_rank2 = pickle.load(f)"
   ]
  },
  {
   "cell_type": "code",
   "execution_count": 31,
   "metadata": {},
   "outputs": [],
   "source": [
    "with open('pickles/sRRR_vs_Bottleneck_rank13_CV_lasso_ion_channel_marker.pickle', 'rb') as f:\n",
    "    r2_sRRR_rank13, r2_sRRR_relaxed_rank13, r2_sRRR_rank13_tr, r2_sRRR_relaxed_rank13_tr, \\\n",
    "                nonzero_rank13, corrs_rank13, corrs_relaxed_rank13 = pickle.load(f)"
   ]
  },
  {
   "cell_type": "code",
   "execution_count": 32,
   "metadata": {},
   "outputs": [],
   "source": [
    "with open('pickles/Bottleneck_r2_pre_tr_and_freeze_unfreeze_lasso_ion_channel_marker.pickle', 'rb') as f:\n",
    "    r2_before_unfreezing, r2_before_unfreezing_tr, \\\n",
    "    r2_after_unfreezing, r2_after_unfreezing_tr, \\\n",
    "    r2_after_unfreezing_ap, r2_after_unfreezing_ap_tr, \\\n",
    "    r2_freeze_unfreeze_hist, r2_freeze_unfreeze_hist_tr = pickle.load(f)"
   ]
  },
  {
   "cell_type": "code",
   "execution_count": 33,
   "metadata": {},
   "outputs": [],
   "source": [
    "# Select closest to 25 genes value\n",
    "# suppressing \"mean of empty slice\" warnings\n",
    "with warnings.catch_warnings():\n",
    "    warnings.simplefilter(\"ignore\", category=RuntimeWarning)\n",
    "    n_rank2 = np.nanmean(nonzero_rank2, axis=0)[0, :]\n",
    "    r_rank2_r = np.nanmean(r2_sRRR_relaxed_rank2, axis=0)[0, :]\n",
    "    n_rank13 = np.nanmean(nonzero_rank13, axis=0)[0, :]\n",
    "    r_rank13_r = np.nanmean(r2_sRRR_relaxed_rank13, axis=0)[0, :]"
   ]
  },
  {
   "cell_type": "code",
   "execution_count": 38,
   "metadata": {},
   "outputs": [
    {
     "name": "stdout",
     "output_type": "stream",
     "text": [
      "0.18286915563412282 +/- 0.021745940449752935\n"
     ]
    }
   ],
   "source": [
    "print(r_rank13_r[np.isclose(n_rank13, 25, atol=7)][0], '+/-',\n",
    "      np.nanstd(r2_sRRR_relaxed_rank13, axis=0)[0, :][np.isclose(n_rank13, 25, atol=7)][0])"
   ]
  },
  {
   "cell_type": "code",
   "execution_count": 37,
   "metadata": {},
   "outputs": [
    {
     "name": "stdout",
     "output_type": "stream",
     "text": [
      "0.17037856609537325 +/- 0.026022065525568395\n"
     ]
    }
   ],
   "source": [
    "print(r_rank2_r[np.isclose(n_rank2, 25, atol=3)][0], '+/-',\n",
    "      np.nanstd(r2_sRRR_relaxed_rank2, axis=0)[0, :][np.isclose(n_rank2, 25, atol=3)][0])"
   ]
  },
  {
   "cell_type": "code",
   "execution_count": 39,
   "metadata": {},
   "outputs": [
    {
     "name": "stdout",
     "output_type": "stream",
     "text": [
      "0.16621279940009118 +/- 0.028980260297503488\n"
     ]
    }
   ],
   "source": [
    "print(np.mean(r2_freeze_unfreeze_hist,axis=0)[3,0,-1], '+/-', np.std(r2_freeze_unfreeze_hist,axis=0)[3,0,-1])"
   ]
  }
 ],
 "metadata": {
  "kernelspec": {
   "display_name": "Python 3 (ipykernel)",
   "language": "python",
   "name": "python3"
  },
  "language_info": {
   "codemirror_mode": {
    "name": "ipython",
    "version": 3
   },
   "file_extension": ".py",
   "mimetype": "text/x-python",
   "name": "python",
   "nbconvert_exporter": "python",
   "pygments_lexer": "ipython3",
   "version": "3.8.10"
  },
  "varInspector": {
   "cols": {
    "lenName": 16,
    "lenType": 16,
    "lenVar": 40
   },
   "kernels_config": {
    "python": {
     "delete_cmd_postfix": "",
     "delete_cmd_prefix": "del ",
     "library": "var_list.py",
     "varRefreshCmd": "print(var_dic_list())"
    },
    "r": {
     "delete_cmd_postfix": ") ",
     "delete_cmd_prefix": "rm(",
     "library": "var_list.r",
     "varRefreshCmd": "cat(var_dic_list()) "
    }
   },
   "types_to_exclude": [
    "module",
    "function",
    "builtin_function_or_method",
    "instance",
    "_Feature"
   ],
   "window_display": false
  }
 },
 "nbformat": 4,
 "nbformat_minor": 4
}
