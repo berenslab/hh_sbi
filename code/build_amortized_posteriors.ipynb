{
 "cells": [
  {
   "cell_type": "code",
   "execution_count": 1,
   "metadata": {},
   "outputs": [
    {
     "name": "stderr",
     "output_type": "stream",
     "text": [
      "/usr/local/lib/python3.8/dist-packages/pkg_resources/__init__.py:122: PkgResourcesDeprecationWarning: 0.23ubuntu1 is an invalid version and will not be supported in a future release\n",
      "  warnings.warn(\n",
      "/usr/local/lib/python3.8/dist-packages/pkg_resources/__init__.py:122: PkgResourcesDeprecationWarning: 0.1.36ubuntu1 is an invalid version and will not be supported in a future release\n",
      "  warnings.warn(\n"
     ]
    }
   ],
   "source": [
    "import numpy as np\n",
    "import torch\n",
    "import pandas as pd\n",
    "\n",
    "# # sbi\n",
    "import sbi.utils as utils\n",
    "from sbi.utils.get_nn_models import posterior_nn\n",
    "from sbi.inference.base import infer\n",
    "from sbi.inference import SNPE\n",
    "\n",
    "# import saver utilities\n",
    "import pickle\n",
    "\n",
    "# to check how long things take\n",
    "import time"
   ]
  },
  {
   "cell_type": "markdown",
   "metadata": {},
   "source": [
    "## Loading observed experimental data"
   ]
  },
  {
   "cell_type": "code",
   "execution_count": 2,
   "metadata": {},
   "outputs": [],
   "source": [
    "# All 25 degree Celcius mouse motor cortex (M1) electrophysiological data, preprocessed\n",
    "M1_25degree = pickle.load(open('pickles/M1_features.pickle', 'rb'))\n",
    "ephys_features = M1_25degree['X_o'].columns\n",
    "Xo = M1_25degree['X_o'].copy()"
   ]
  },
  {
   "cell_type": "code",
   "execution_count": 3,
   "metadata": {},
   "outputs": [],
   "source": [
    "prop = pd.read_csv('../data/m1_patchseq_meta_data.csv', sep = '\\t')\n",
    "prop = prop.rename(columns = {'Targeted layer': 'Layer'})\n",
    "prop = prop[['Cell', 'Layer', 'Cre', 'RNA type']]\n",
    "prop = prop.set_index('Cell')\n",
    "prop=prop.reindex(Xo.index)\n",
    "no_low_qual=np.array(list(map(str,prop['RNA type'].values)))!='nan'\n",
    "prop=prop.loc[no_low_qual,:]\n",
    "Xo = Xo.loc[no_low_qual,:]\n",
    "celltypes=prop['RNA type']"
   ]
  },
  {
   "cell_type": "markdown",
   "metadata": {},
   "source": [
    "## The uniform prior"
   ]
  },
  {
   "cell_type": "code",
   "execution_count": 4,
   "metadata": {},
   "outputs": [],
   "source": [
    "model_param_names = np.array(['C', r'$R_{input}$', r'$\\tau$', r'$g_{Nat}$', r'$g_{Na}$', r'$g_{Kd}$', r'$g_{M}$',\n",
    "                         r'$g_{Kv31}$', r'$g_{L}$', r'$E_{leak}$', r'$\\tau_{max}$', 'VT', 'rate_to_SS_factor'])\n",
    "prior_min = [0.1,  20,  0.1,    0,        0,      0,      0,      0,      0, -130,    50,    -90,   0.1]\n",
    "prior_max = [15,   1000,   70,   250,     100,      30,    3,     250,     3,  -50,  4000,   -35,    3]\n",
    "prior = utils.torchutils.BoxUniform(\n",
    "    low=torch.as_tensor(prior_min),\n",
    "    high=torch.as_tensor(prior_max)\n",
    ")"
   ]
  },
  {
   "cell_type": "markdown",
   "metadata": {},
   "source": [
    "## Training schedules"
   ]
  },
  {
   "cell_type": "code",
   "execution_count": 5,
   "metadata": {},
   "outputs": [],
   "source": [
    "feature_list=range(23) # we consider all ephys features\n",
    "N_closest=1000 # number of closest prior simulations per cell we are going to keep"
   ]
  },
  {
   "cell_type": "code",
   "execution_count": 6,
   "metadata": {},
   "outputs": [
    {
     "name": "stderr",
     "output_type": "stream",
     "text": [
      "tcmalloc: large alloc 1380007936 bytes == 0x3674a000 @ \n"
     ]
    }
   ],
   "source": [
    "theta=np.load('save_sims/M1_chunks/full_batch.npz')['theta']\n",
    "stats=np.load('save_sims/M1_chunks/full_batch.npz')['stats']\n",
    "\n",
    "# Do not include non-spiking simulations\n",
    "keeping=(~np.isnan(np.mean(stats, axis=1)))&(~np.isinf(np.mean(stats, axis=1)))\n",
    "stats = stats[keeping,:]"
   ]
  },
  {
   "cell_type": "code",
   "execution_count": 7,
   "metadata": {},
   "outputs": [
    {
     "data": {
      "text/plain": [
       "(7155552, 23)"
      ]
     },
     "execution_count": 7,
     "metadata": {},
     "output_type": "execute_result"
    }
   ],
   "source": [
    "stats.shape"
   ]
  },
  {
   "cell_type": "code",
   "execution_count": 8,
   "metadata": {},
   "outputs": [
    {
     "name": "stderr",
     "output_type": "stream",
     "text": [
      "tcmalloc: large alloc 1380007936 bytes == 0xb46ba000 @ \n"
     ]
    },
    {
     "name": "stdout",
     "output_type": "stream",
     "text": [
      "...........................................................................................................................................................................................................................................................................................................................................................................................................................................................................................................................................................................................................................................................................................................................................................................................................................................................................................................................................................................................\n",
      "Time: 0.0h 39m 56s\n"
     ]
    }
   ],
   "source": [
    "all_stats=[]\n",
    "all_theta=[]\n",
    "\n",
    "theta=np.load('./save_sims/M1_chunks/full_batch.npz')['theta']\n",
    "stats=np.load('./save_sims/M1_chunks/full_batch.npz')['stats']\n",
    "\n",
    "# Do not include non-spiking simulations\n",
    "keeping=(~np.isnan(np.mean(stats, axis=1)))&(~np.isinf(np.mean(stats, axis=1)))\n",
    "stats = stats[keeping,:]\n",
    "\n",
    "# Mean and standard deviation to Z-score with\n",
    "s_mean=stats.mean(axis=0)\n",
    "s_std=stats.std(axis=0)\n",
    "\n",
    "t = time.time()\n",
    "\n",
    "for i, cell_name in enumerate(Xo.index): # iterate over every cell in our experimental dataset\n",
    "    print('.',end='')\n",
    "\n",
    "    # Pick N_closest simulations to the experimental observation's summary statistics\n",
    "    # Distance is the Euclidean Z-scored distance\n",
    "    xo=Xo.loc[cell_name,:].values[:-4]\n",
    "\n",
    "    ind=np.argsort(\n",
    "        np.sum(\n",
    "            np.square(\n",
    "                (stats-s_mean)/s_std-(xo-s_mean)/s_std\n",
    "            ), axis=1\n",
    "        )\n",
    "    )[0:N_closest]\n",
    "    \n",
    "    stats_=stats[ind,:]\n",
    "    theta_=theta[keeping,:][ind,:]\n",
    "    \n",
    "    all_stats.append(stats_)\n",
    "    all_theta.append(theta_)\n",
    "            \n",
    "t = time.time() - t\n",
    "m,s = divmod(t, 60)\n",
    "h,m = divmod(m, 60)\n",
    "print('\\nTime: {}h {:2.0f}m {:2.0f}s'.format(h,m,s))"
   ]
  },
  {
   "cell_type": "code",
   "execution_count": 9,
   "metadata": {},
   "outputs": [],
   "source": [
    "theta_tr=all_theta[0]\n",
    "stats_tr=all_stats[0]\n",
    "\n",
    "for i in range(len(all_theta)-1):\n",
    "    theta_tr=np.concatenate((theta_tr, all_theta[i+1]))\n",
    "    stats_tr=np.concatenate((stats_tr, all_stats[i+1]))\n",
    "\n",
    "np.savez('./save_sims/best_{}_Euclidean_sims.npz'.format(N_closest),\n",
    "     theta=theta_tr,\n",
    "     stats=stats_tr\n",
    "    )"
   ]
  },
  {
   "cell_type": "code",
   "execution_count": 10,
   "metadata": {},
   "outputs": [],
   "source": [
    "training_schedules={'0':{}, '1':{}, '2a':{}, '2b':{}, '2c':{}, '2d':{}, '2e':{}, '3':{}, '4':{}}"
   ]
  },
  {
   "cell_type": "markdown",
   "metadata": {},
   "source": [
    "#### Training schedule 0: a batch of spiking non-inf/non-nan simulations from the prior."
   ]
  },
  {
   "cell_type": "code",
   "execution_count": 11,
   "metadata": {},
   "outputs": [
    {
     "name": "stderr",
     "output_type": "stream",
     "text": [
      "tcmalloc: large alloc 1380007936 bytes == 0x155270000 @ \n"
     ]
    },
    {
     "name": "stdout",
     "output_type": "stream",
     "text": [
      "(# sims, # model parameters):  (166409, 13)\n",
      "(# sims, # ephys features):  (166409, 23)\n"
     ]
    }
   ],
   "source": [
    "theta=np.load('./save_sims/M1_chunks/full_batch.npz')['theta']\n",
    "stats=np.load('./save_sims/M1_chunks/full_batch.npz')['stats']\n",
    "\n",
    "## Do not include non-spiking simulations\n",
    "keeping=(~np.isnan(np.mean(stats, axis=1)))&(~np.isinf(np.mean(stats, axis=1))) # delete Nan simulations\n",
    "theta_tr = theta[keeping,:][::43,:]\n",
    "stats_tr = stats[keeping,:][::43,:]\n",
    "\n",
    "print('(# sims, # model parameters): ', theta_tr.shape)\n",
    "print('(# sims, # ephys features): ', stats_tr.shape)\n",
    "\n",
    "training_schedules['0'].update({'theta':theta_tr, 'stats':stats_tr})"
   ]
  },
  {
   "cell_type": "markdown",
   "metadata": {},
   "source": [
    "#### Training schedule 1: *unique* best Euclidean prior simulations."
   ]
  },
  {
   "cell_type": "markdown",
   "metadata": {},
   "source": [
    "Some of our experimental observations have very simimlar observed ephys features or summary statistics, so they can share prior simulations in their batch of N_closest best Euclidean prior simulations. After concatenating all batches of prior simulations (every batch of prior simulations belongs to one experimental observation), there exist duplicates of prior simulations. We therefore keep only unique ones as to avoid duplicate training examples."
   ]
  },
  {
   "cell_type": "code",
   "execution_count": 12,
   "metadata": {},
   "outputs": [
    {
     "name": "stdout",
     "output_type": "stream",
     "text": [
      "(# sims, # model parameters):  (164915, 13)\n",
      "(# sims, # ephys features):  (164915, 23)\n"
     ]
    }
   ],
   "source": [
    "theta_tr = np.load('./save_sims/best_{}_Euclidean_sims.npz'.format(N_closest))['theta']\n",
    "stats_tr = np.load('./save_sims/best_{}_Euclidean_sims.npz'.format(N_closest))['stats']\n",
    "_, unique_tr_ids=np.unique(np.sum(stats_tr, axis=1),return_index=True)\n",
    "theta_tr=theta_tr[unique_tr_ids,:]\n",
    "stats_tr=stats_tr[unique_tr_ids,:]\n",
    "\n",
    "print('(# sims, # model parameters): ', theta_tr.shape)\n",
    "print('(# sims, # ephys features): ', stats_tr.shape)\n",
    "\n",
    "training_schedules['1'].update({'theta':theta_tr, 'stats':stats_tr})"
   ]
  },
  {
   "cell_type": "markdown",
   "metadata": {},
   "source": [
    "#### Training schedule 2a: noise with 0.001 amplitude added to ephys features of unique best Euclidean prior simulations"
   ]
  },
  {
   "cell_type": "code",
   "execution_count": 13,
   "metadata": {},
   "outputs": [
    {
     "name": "stdout",
     "output_type": "stream",
     "text": [
      "(# sims, # model parameters):  (164915, 13)\n",
      "(# sims, # ephys features):  (164915, 23)\n"
     ]
    }
   ],
   "source": [
    "theta_tr = np.load('./save_sims/best_{}_Euclidean_sims.npz'.format(N_closest))['theta']\n",
    "stats_tr = np.load('./save_sims/best_{}_Euclidean_sims.npz'.format(N_closest))['stats']\n",
    "_, unique_tr_ids=np.unique(np.sum(stats_tr, axis=1),return_index=True)\n",
    "theta_tr=theta_tr[unique_tr_ids,:]\n",
    "stats_tr=stats_tr[unique_tr_ids,:]\n",
    "eps=0.001 # noise amplitude\n",
    "noise_stats=np.random.multivariate_normal(\n",
    "    np.zeros((stats_tr.shape[1])),\n",
    "    eps*np.diag(stats_tr.std(axis=0)),\n",
    "    size=stats_tr.shape[0]\n",
    ")\n",
    "stats_tr += noise_stats\n",
    "\n",
    "print('(# sims, # model parameters): ', theta_tr.shape)\n",
    "print('(# sims, # ephys features): ', stats_tr.shape)\n",
    "\n",
    "training_schedules['2a'].update({'theta':theta_tr, 'stats':stats_tr})"
   ]
  },
  {
   "cell_type": "markdown",
   "metadata": {},
   "source": [
    "#### Training schedule 2b: noise with 0.01 amplitude added to ephys features of unique best Euclidean prior simulations"
   ]
  },
  {
   "cell_type": "code",
   "execution_count": 14,
   "metadata": {},
   "outputs": [
    {
     "name": "stdout",
     "output_type": "stream",
     "text": [
      "(# sims, # model parameters):  (164915, 13)\n",
      "(# sims, # ephys features):  (164915, 23)\n"
     ]
    }
   ],
   "source": [
    "theta_tr = np.load('./save_sims/best_{}_Euclidean_sims.npz'.format(N_closest))['theta']\n",
    "stats_tr = np.load('./save_sims/best_{}_Euclidean_sims.npz'.format(N_closest))['stats']\n",
    "_, unique_tr_ids=np.unique(np.sum(stats_tr, axis=1),return_index=True)\n",
    "theta_tr=theta_tr[unique_tr_ids,:]\n",
    "stats_tr=stats_tr[unique_tr_ids,:]\n",
    "eps=0.01 # noise amplitude\n",
    "noise_stats=np.random.multivariate_normal(\n",
    "    np.zeros((stats_tr.shape[1])),\n",
    "    eps*np.diag(stats_tr.std(axis=0)),\n",
    "    size=stats_tr.shape[0]\n",
    ")\n",
    "stats_tr += noise_stats\n",
    "\n",
    "print('(# sims, # model parameters): ', theta_tr.shape)\n",
    "print('(# sims, # ephys features): ', stats_tr.shape)\n",
    "\n",
    "training_schedules['2b'].update({'theta':theta_tr, 'stats':stats_tr})"
   ]
  },
  {
   "cell_type": "markdown",
   "metadata": {},
   "source": [
    "#### Training schedule 2c: noise with 0.05 amplitude added to ephys features of unique best Euclidean prior simulations"
   ]
  },
  {
   "cell_type": "code",
   "execution_count": 15,
   "metadata": {},
   "outputs": [
    {
     "name": "stdout",
     "output_type": "stream",
     "text": [
      "(# sims, # model parameters):  (164915, 13)\n",
      "(# sims, # ephys features):  (164915, 23)\n"
     ]
    }
   ],
   "source": [
    "theta_tr = np.load('./save_sims/best_{}_Euclidean_sims.npz'.format(N_closest))['theta']\n",
    "stats_tr = np.load('./save_sims/best_{}_Euclidean_sims.npz'.format(N_closest))['stats']\n",
    "_, unique_tr_ids=np.unique(np.sum(stats_tr, axis=1),return_index=True)\n",
    "theta_tr=theta_tr[unique_tr_ids,:]\n",
    "stats_tr=stats_tr[unique_tr_ids,:]\n",
    "eps=0.05 # noise amplitude\n",
    "noise_stats=np.random.multivariate_normal(\n",
    "    np.zeros((stats_tr.shape[1])),\n",
    "    eps*np.diag(stats_tr.std(axis=0)),\n",
    "    size=stats_tr.shape[0]\n",
    ")\n",
    "stats_tr += noise_stats\n",
    "\n",
    "print('(# sims, # model parameters): ', theta_tr.shape)\n",
    "print('(# sims, # ephys features): ', stats_tr.shape)\n",
    "\n",
    "training_schedules['2c'].update({'theta':theta_tr, 'stats':stats_tr})"
   ]
  },
  {
   "cell_type": "markdown",
   "metadata": {},
   "source": [
    "#### Training schedule 2d: noise with 0.1 amplitude added to ephys features of unique best Euclidean prior simulations"
   ]
  },
  {
   "cell_type": "code",
   "execution_count": 16,
   "metadata": {},
   "outputs": [
    {
     "name": "stdout",
     "output_type": "stream",
     "text": [
      "(# sims, # model parameters):  (164915, 13)\n",
      "(# sims, # ephys features):  (164915, 23)\n"
     ]
    }
   ],
   "source": [
    "theta_tr = np.load('./save_sims/best_{}_Euclidean_sims.npz'.format(N_closest))['theta']\n",
    "stats_tr = np.load('./save_sims/best_{}_Euclidean_sims.npz'.format(N_closest))['stats']\n",
    "_, unique_tr_ids=np.unique(np.sum(stats_tr, axis=1),return_index=True)\n",
    "theta_tr=theta_tr[unique_tr_ids,:]\n",
    "stats_tr=stats_tr[unique_tr_ids,:]\n",
    "eps=0.1 # noise amplitude\n",
    "noise_stats=np.random.multivariate_normal(\n",
    "    np.zeros((stats_tr.shape[1])),\n",
    "    eps*np.diag(stats_tr.std(axis=0)),\n",
    "    size=stats_tr.shape[0]\n",
    ")\n",
    "stats_tr += noise_stats\n",
    "\n",
    "print('(# sims, # model parameters): ', theta_tr.shape)\n",
    "print('(# sims, # ephys features): ', stats_tr.shape)\n",
    "\n",
    "training_schedules['2d'].update({'theta':theta_tr, 'stats':stats_tr})"
   ]
  },
  {
   "cell_type": "markdown",
   "metadata": {},
   "source": [
    "#### Training schedule 2e: noise with 1 amplitude added to ephys features of unique best Euclidean prior simulations"
   ]
  },
  {
   "cell_type": "code",
   "execution_count": 17,
   "metadata": {},
   "outputs": [
    {
     "name": "stdout",
     "output_type": "stream",
     "text": [
      "(# sims, # model parameters):  (164915, 13)\n",
      "(# sims, # ephys features):  (164915, 23)\n"
     ]
    }
   ],
   "source": [
    "theta_tr = np.load('./save_sims/best_{}_Euclidean_sims.npz'.format(N_closest))['theta']\n",
    "stats_tr = np.load('./save_sims/best_{}_Euclidean_sims.npz'.format(N_closest))['stats']\n",
    "_, unique_tr_ids=np.unique(np.sum(stats_tr, axis=1),return_index=True)\n",
    "theta_tr=theta_tr[unique_tr_ids,:]\n",
    "stats_tr=stats_tr[unique_tr_ids,:]\n",
    "eps=1 # noise amplitude\n",
    "noise_stats=np.random.multivariate_normal(\n",
    "    np.zeros((stats_tr.shape[1])),\n",
    "    eps*np.diag(stats_tr.std(axis=0)),\n",
    "    size=stats_tr.shape[0]\n",
    ")\n",
    "stats_tr += noise_stats\n",
    "\n",
    "print('(# sims, # model parameters): ', theta_tr.shape)\n",
    "print('(# sims, # ephys features): ', stats_tr.shape)\n",
    "\n",
    "training_schedules['2e'].update({'theta':theta_tr, 'stats':stats_tr})"
   ]
  },
  {
   "cell_type": "markdown",
   "metadata": {},
   "source": [
    "#### Training schedule 3: noise with 0.05 amplitude added to ephys features *and* model parameters of unique best Euclidean prior simulations"
   ]
  },
  {
   "cell_type": "code",
   "execution_count": 18,
   "metadata": {},
   "outputs": [
    {
     "name": "stdout",
     "output_type": "stream",
     "text": [
      "(# sims, # model parameters):  (164915, 13)\n",
      "(# sims, # ephys features):  (164915, 23)\n"
     ]
    }
   ],
   "source": [
    "theta_tr = np.load('./save_sims/best_{}_Euclidean_sims.npz'.format(N_closest))['theta']\n",
    "stats_tr = np.load('./save_sims/best_{}_Euclidean_sims.npz'.format(N_closest))['stats']\n",
    "_, unique_tr_ids=np.unique(np.sum(stats_tr, axis=1),return_index=True)\n",
    "theta_tr=theta_tr[unique_tr_ids,:]\n",
    "stats_tr=stats_tr[unique_tr_ids,:]\n",
    "eps=0.05 # noise amplitude\n",
    "noise_stats=np.random.multivariate_normal(\n",
    "    np.zeros((stats_tr.shape[1])),\n",
    "    eps*np.diag(stats_tr.std(axis=0)),\n",
    "    size=stats_tr.shape[0]\n",
    ")\n",
    "noise_params=np.random.multivariate_normal(\n",
    "    np.zeros((theta_tr.shape[1])),\n",
    "    eps*np.diag(theta_tr.std(axis=0)),\n",
    "    size=theta_tr.shape[0]\n",
    ")\n",
    "stats_tr += noise_stats\n",
    "theta_tr += noise_params\n",
    "\n",
    "print('(# sims, # model parameters): ', theta_tr.shape)\n",
    "print('(# sims, # ephys features): ', stats_tr.shape)\n",
    "\n",
    "training_schedules['3'].update({'theta':theta_tr, 'stats':stats_tr})"
   ]
  },
  {
   "cell_type": "markdown",
   "metadata": {},
   "source": [
    "#### Training schedule 4: noise with 0.05 amplitude added to ephys features of less *non-unique* best Euclidean prior simulations + original less best unique Euclidean prior simulations themselves"
   ]
  },
  {
   "cell_type": "markdown",
   "metadata": {},
   "source": [
    "We would like to approximately have a same number of training examples for SBI across training schedules, so that the difference in performance cannot be due to significant different training set sizes, but due to our different training schedules used. To this end, we will start from a reduced batch of best Euclidean prior simulations per experimental observation and then do data augmentation."
   ]
  },
  {
   "cell_type": "code",
   "execution_count": 19,
   "metadata": {},
   "outputs": [
    {
     "name": "stdout",
     "output_type": "stream",
     "text": [
      "(# sims, # model parameters):  (167134, 13)\n",
      "(# sims, # ephys features):  (167134, 23)\n"
     ]
    }
   ],
   "source": [
    "theta_tr = np.load('./save_sims/best_{}_Euclidean_sims.npz'.format(N_closest))['theta']\n",
    "stats_tr = np.load('./save_sims/best_{}_Euclidean_sims.npz'.format(N_closest))['stats']\n",
    "theta_tr=np.reshape(theta_tr, (N_closest, Xo.shape[0], len(model_param_names)))\n",
    "stats_tr=np.reshape(stats_tr, (N_closest, Xo.shape[0], len(ephys_features[:-4])))\n",
    "N_closest_new=69\n",
    "theta_tr=theta_tr[:N_closest_new,:,:]\n",
    "stats_tr=stats_tr[:N_closest_new,:,:]\n",
    "theta_tr=np.reshape(theta_tr, (N_closest_new*Xo.shape[0], len(model_param_names)))\n",
    "stats_tr=np.reshape(stats_tr, (N_closest_new*Xo.shape[0], len(ephys_features[:-4])))\n",
    "eps=0.05 # noise amplitude\n",
    "noise_stats=np.random.multivariate_normal(np.zeros((stats_tr.shape[1])),\n",
    "                                    eps*np.diag(stats_tr.std(axis=0)),\n",
    "                                    size=2*stats_tr.shape[0])\n",
    "theta_tr=np.concatenate(\n",
    "    (theta_tr,\n",
    "     theta_tr,\n",
    "     theta_tr\n",
    "    ),\n",
    "    axis=0\n",
    ")\n",
    "\n",
    "stats_tr=np.concatenate(\n",
    "    (stats_tr,\n",
    "     stats_tr+noise_stats[:stats_tr.shape[0],:],\n",
    "     stats_tr+noise_stats[stats_tr.shape[0]:2*stats_tr.shape[0],:]\n",
    "    ),\n",
    "    axis=0\n",
    ")\n",
    "\n",
    "_, unique_tr_ids=np.unique(np.sum(stats_tr, axis=1),return_index=True)\n",
    "theta_tr=theta_tr[unique_tr_ids,:]\n",
    "stats_tr=stats_tr[unique_tr_ids,:]\n",
    "\n",
    "print('(# sims, # model parameters): ', theta_tr.shape)\n",
    "print('(# sims, # ephys features): ', stats_tr.shape)\n",
    "\n",
    "training_schedules['4'].update({'theta':theta_tr, 'stats':stats_tr})"
   ]
  },
  {
   "cell_type": "markdown",
   "metadata": {},
   "source": [
    "## Building amortized posteriors"
   ]
  },
  {
   "cell_type": "code",
   "execution_count": null,
   "metadata": {},
   "outputs": [
    {
     "name": "stdout",
     "output_type": "stream",
     "text": [
      "Building amortized posterior with training schedules: \n",
      "\n",
      " 0\n",
      " Neural network successfully converged after 206 epochs.\n",
      " 1\n",
      " Neural network successfully converged after 314 epochs.\n",
      " 2a\n",
      " Training neural network. Epochs trained: 157"
     ]
    }
   ],
   "source": [
    "print('Building amortized posterior with training schedules: ')\n",
    "\n",
    "t = time.time()\n",
    "\n",
    "for tr_schedule in training_schedules:\n",
    "    print('\\n', tr_schedule)\n",
    "    density_estimator_build_fun = posterior_nn(model='maf')\n",
    "    inference = SNPE(\n",
    "        prior, \n",
    "        density_estimator=density_estimator_build_fun\n",
    "    )\n",
    "    _ = inference.append_simulations(\n",
    "                 torch.as_tensor(training_schedules[tr_schedule]['theta'], dtype=torch.float32),\n",
    "                 torch.as_tensor(training_schedules[tr_schedule]['stats'], dtype=torch.float32)\n",
    "                ).train()\n",
    "    posterior = inference.build_posterior()\n",
    "\n",
    "    with open('save_posteriors/training_schedule_{}.pickle'.format(tr_schedule), 'wb') as f:\n",
    "        pickle.dump(posterior, f)\n",
    "    \n",
    "t = time.time() - t\n",
    "m,s = divmod(t, 60)\n",
    "h,m = divmod(m, 60)\n",
    "print('\\nTime: {}h {:2.0f}m {:2.0f}s'.format(h,m,s))"
   ]
  },
  {
   "cell_type": "markdown",
   "metadata": {},
   "source": [
    "#### Save 10 random posterior samples and the highest posterior sample for each observed experimental cell for each amortized posterior."
   ]
  },
  {
   "cell_type": "code",
   "execution_count": 21,
   "metadata": {},
   "outputs": [],
   "source": [
    "THETAS={\n",
    "    '0':{'highest posterior samples':{}, '10 random samples':{}},\n",
    "    '1':{'highest posterior samples':{}, '10 random samples':{}},\n",
    "    '2a':{'highest posterior samples':{}, '10 random samples':{}},\n",
    "    '2b':{'highest posterior samples':{}, '10 random samples':{}},\n",
    "    '2c':{'highest posterior samples':{}, '10 random samples':{}},\n",
    "    '2d':{'highest posterior samples':{}, '10 random samples':{}},\n",
    "    '2e':{'highest posterior samples':{}, '10 random samples':{}},\n",
    "    '3':{'highest posterior samples':{}, '10 random samples':{}},\n",
    "    '4':{'highest posterior samples':{}, '10 random samples':{}}\n",
    "}"
   ]
  },
  {
   "cell_type": "markdown",
   "metadata": {},
   "source": [
    "For some experiments, depending on the training schedule, its summary statistics could be so different from simulations, the posterior finds barely any support from the prior. Sampling will therefore take prohibitively long. We therefore check and put them in the 'fails' dictionary.  "
   ]
  },
  {
   "cell_type": "code",
   "execution_count": 36,
   "metadata": {},
   "outputs": [],
   "source": [
    "fails={'4':[66, 446, 532, 856], '3':[], '2e':[], '2d':[], '2c':[856], '2b':[101], '2a':[], '1':[], '0':[]}"
   ]
  },
  {
   "cell_type": "code",
   "execution_count": null,
   "metadata": {},
   "outputs": [
    {
     "name": "stdout",
     "output_type": "stream",
     "text": [
      "Extracting the highest posterior sample and 10 random posterior samples for each experimentally observed cell and for each training schedule: \n",
      "\n",
      " Training schedule:  0\n",
      "0 1 2 3 4 5 6 7 8 9 10 11 12 13 14 15 16 17 18 19 20 21 22 23 24 25 26 27 28 29 30 31 32 33 34 35 36 37 38 39 40 41 42 43 44 45 46 47 48 49 50 51 52 "
     ]
    }
   ],
   "source": [
    "print('Extracting the highest posterior sample and 10 random posterior samples', \n",
    "      'for each experimentally observed cell and for each training schedule: ')\n",
    "index=0\n",
    "for tr_schedule in ['0', '1', '2a', '2b', '2c', '2d', '2e', '3', '4']:\n",
    "    print('\\n', 'Training schedule: ', tr_schedule)\n",
    "    \n",
    "    with open('save_posteriors/training_schedule_{}.pickle'.format(tr_schedule), 'rb') as f:\n",
    "        posterior=pickle.load(f)\n",
    "        \n",
    "    for i in range(index, Xo.shape[0]):\n",
    "        #if i not in fails[tr_schedule]:\n",
    "        xo=Xo.iloc[i,:].values\n",
    "        cell_name=Xo.index[i]\n",
    "        print(str(i) + ' ', end='')\n",
    "\n",
    "        # sampling 10000 from the posterior\n",
    "        samples=posterior.sample(\n",
    "            (10000,),\n",
    "            x=torch.as_tensor(xo[feature_list], dtype=float),\n",
    "            show_progress_bars=False\n",
    "        )\n",
    "\n",
    "        # highest posterior simulation\n",
    "        highest_post_sample_1=samples[np.argsort(np.array(posterior.log_prob(theta=samples, x=xo[feature_list])))[-1],:]\n",
    "\n",
    "        THETAS[tr_schedule]['highest posterior samples'].update({cell_name:np.array(highest_post_sample_1)})\n",
    "        THETAS[tr_schedule]['10 random samples'].update({cell_name:samples[torch.randint(10000, (10,)),:]})\n",
    "        # else:\n",
    "        #     THETAS[tr_schedule]['highest posterior samples'].update({cell_name:np.ones((13,))*np.nan})\n",
    "        #     THETAS[tr_schedule]['10 random samples'].update({cell_name:torch.ones((10,13))*torch.nan})            \n",
    "        #     continue\n",
    "        \n",
    "with open('save_model_parameters/across_training_schedules.pickle', 'wb') as f:\n",
    "    pickle.dump(THETAS, f)"
   ]
  }
 ],
 "metadata": {
  "kernelspec": {
   "display_name": "Python 3 (ipykernel)",
   "language": "python",
   "name": "python3"
  },
  "language_info": {
   "codemirror_mode": {
    "name": "ipython",
    "version": 3
   },
   "file_extension": ".py",
   "mimetype": "text/x-python",
   "name": "python",
   "nbconvert_exporter": "python",
   "pygments_lexer": "ipython3",
   "version": "3.8.10"
  },
  "varInspector": {
   "cols": {
    "lenName": 16,
    "lenType": 16,
    "lenVar": 40
   },
   "kernels_config": {
    "python": {
     "delete_cmd_postfix": "",
     "delete_cmd_prefix": "del ",
     "library": "var_list.py",
     "varRefreshCmd": "print(var_dic_list())"
    },
    "r": {
     "delete_cmd_postfix": ") ",
     "delete_cmd_prefix": "rm(",
     "library": "var_list.r",
     "varRefreshCmd": "cat(var_dic_list()) "
    }
   },
   "types_to_exclude": [
    "module",
    "function",
    "builtin_function_or_method",
    "instance",
    "_Feature"
   ],
   "window_display": false
  }
 },
 "nbformat": 4,
 "nbformat_minor": 4
}
