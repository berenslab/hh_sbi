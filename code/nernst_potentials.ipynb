{
 "cells": [
  {
   "cell_type": "markdown",
   "metadata": {},
   "source": [
    "# Nernst potentials"
   ]
  },
  {
   "cell_type": "markdown",
   "metadata": {},
   "source": [
    "In this notebook we calculate the Nernst potentials for $Na+$, $K+$ and $Ca2+$ according to ion concentratations deduced from the Patch-seq protocol Word document that can be found in `../data/Patch_seq_protocol.docx`. Notice that e.g. 125 mM of $NaCl$ used in the extracellular medium means that 125 mM of $Na+$ ions could be found in that solution purely from adding NaCl to it. Adding up the different components with $Na$ then will give you the total concentration of $Na+$ in the outside medium.\n",
    "<br>\n",
    "<br>\n",
    "Nernst potentials are derived as\n",
    "\\begin{equation}\n",
    "E_{ion, T}=\\frac{RT}{zF}\\log\\left(\\frac{[ion]_o}{[ion]_i}\\right),\n",
    "\\end{equation}\n",
    "where $z$ denotes the valence of the ion, $T$ denotes the temperature in Kelvin (K), $R$ equals the universal gas constant $8.314 \\frac{J}{K\\cdot mol}$, $F$ the Faraday's constant $96485 \\frac{C}{mol}$, $[ion]_o$ the extracellular ion concentration and $[ion]_i$ the intracellular concentration."
   ]
  },
  {
   "cell_type": "code",
   "execution_count": 1,
   "metadata": {},
   "outputs": [],
   "source": [
    "import numpy as np"
   ]
  },
  {
   "cell_type": "code",
   "execution_count": 2,
   "metadata": {},
   "outputs": [],
   "source": [
    "R=8.314 # universal gas cte\n",
    "F=96485 # Faraday's cte"
   ]
  },
  {
   "cell_type": "markdown",
   "metadata": {},
   "source": [
    "\n",
    "## 1. E_Na+"
   ]
  },
  {
   "cell_type": "markdown",
   "metadata": {},
   "source": [
    "### T=25 degree Celcius"
   ]
  },
  {
   "cell_type": "code",
   "execution_count": 3,
   "metadata": {},
   "outputs": [
    {
     "name": "stdout",
     "output_type": "stream",
     "text": [
      "Nernst potential for Na+ at T=25 °C: 69.0  millivolts\n"
     ]
    }
   ],
   "source": [
    "z_Na=1 # Na+ valence\n",
    "Na_out = 151.25 # outside Na+ concentration\n",
    "Na_in = 10.3 # inside Na+ concentration\n",
    "T=25+273.15 # temperature of the experiment (convert to Kelvin)\n",
    "E_Na = (R*T)/(z_Na*F)*np.log(Na_out/Na_in)\n",
    "print('Nernst potential for Na+ at T={:.0f} °C: {:.1f}'.format(T-273.15, E_Na*1e3), ' millivolts')"
   ]
  },
  {
   "cell_type": "markdown",
   "metadata": {},
   "source": [
    "### T=34 degree Celcius"
   ]
  },
  {
   "cell_type": "code",
   "execution_count": 4,
   "metadata": {},
   "outputs": [
    {
     "name": "stdout",
     "output_type": "stream",
     "text": [
      "Nernst potential for Na+ at T=34 °C: 71.1  millivolts\n"
     ]
    }
   ],
   "source": [
    "T=34+273.15 # temperature of the experiment (convert to Kelvin)\n",
    "E_Na = (R*T)/(z_Na*F)*np.log(Na_out/Na_in)\n",
    "print('Nernst potential for Na+ at T={:.0f} °C: {:.1f}'.format(T-273.15, E_Na*1e3), ' millivolts')"
   ]
  },
  {
   "cell_type": "markdown",
   "metadata": {},
   "source": [
    "## 1. E_K+"
   ]
  },
  {
   "cell_type": "markdown",
   "metadata": {},
   "source": [
    "### T=25 degree Celcius"
   ]
  },
  {
   "cell_type": "code",
   "execution_count": 5,
   "metadata": {},
   "outputs": [
    {
     "name": "stdout",
     "output_type": "stream",
     "text": [
      "Nernst potential for K+ at T=25 °C: -98.4  millivolts\n"
     ]
    }
   ],
   "source": [
    "z_K=1 # K+ valence\n",
    "K_out = 2.5 # outside K+ concentration\n",
    "K_in = 115 # # inside K+ concentration\n",
    "T=25+273.15 # temperature of the experiment (convert to Kelvin)\n",
    "E_K = (R*T)/(z_K*F)*np.log(K_out/K_in)\n",
    "print('Nernst potential for K+ at T={:.0f} °C: {:.1f}'.format(T-273.15, E_K*1e3), ' millivolts')"
   ]
  },
  {
   "cell_type": "markdown",
   "metadata": {},
   "source": [
    "### T=34 degree Celcius"
   ]
  },
  {
   "cell_type": "code",
   "execution_count": 6,
   "metadata": {},
   "outputs": [
    {
     "name": "stdout",
     "output_type": "stream",
     "text": [
      "Nernst potential for K+ at T=34 °C: -101.3  millivolts\n"
     ]
    }
   ],
   "source": [
    "T=34+273.15 # temperature of the experiment (convert to Kelvin)\n",
    "E_K = (R*T)/(z_K*F)*np.log(K_out/K_in)\n",
    "print('Nernst potential for K+ at T={:.0f} °C: {:.1f}'.format(T-273.15, E_K*1e3), ' millivolts')"
   ]
  },
  {
   "cell_type": "markdown",
   "metadata": {},
   "source": [
    "## 1. E_Ca2+"
   ]
  },
  {
   "cell_type": "markdown",
   "metadata": {},
   "source": [
    "### T=25 degree Celcius"
   ]
  },
  {
   "cell_type": "code",
   "execution_count": 7,
   "metadata": {},
   "outputs": [
    {
     "name": "stdout",
     "output_type": "stream",
     "text": [
      "Nernst potential for K+ at T=25 °C: 127.2  millivolts\n"
     ]
    }
   ],
   "source": [
    "z_Ca=2 # Ca2+ valence\n",
    "Ca_out = 2 # outside Ca2+ concentration\n",
    "Ca_in = 0.0001 # inside Ca2+ concentration (not from protocol, estimated to be approx 100 nM)\n",
    "T=25+273.15 # temperature of the experiment (convert to Kelvin)\n",
    "E_Ca = (R*T)/(z_Ca*F)*np.log(Ca_out/Ca_in)\n",
    "print('Nernst potential for K+ at T={:.0f} °C: {:.1f}'.format(T-273.15, E_Ca*1e3), ' millivolts')"
   ]
  },
  {
   "cell_type": "markdown",
   "metadata": {},
   "source": [
    "### T=34 degree Celcius"
   ]
  },
  {
   "cell_type": "code",
   "execution_count": 8,
   "metadata": {},
   "outputs": [
    {
     "name": "stdout",
     "output_type": "stream",
     "text": [
      "Nernst potential for K+ at T=34 °C: 131.1  millivolts\n"
     ]
    }
   ],
   "source": [
    "T=34+273.15 # temperature of the experiment (convert to Kelvin)\n",
    "E_Ca = (R*T)/(z_Ca*F)*np.log(Ca_out/Ca_in)\n",
    "print('Nernst potential for K+ at T={:.0f} °C: {:.1f}'.format(T-273.15, E_Ca*1e3), ' millivolts')"
   ]
  }
 ],
 "metadata": {
  "kernelspec": {
   "display_name": "Python 3 (ipykernel)",
   "language": "python",
   "name": "python3"
  },
  "language_info": {
   "codemirror_mode": {
    "name": "ipython",
    "version": 3
   },
   "file_extension": ".py",
   "mimetype": "text/x-python",
   "name": "python",
   "nbconvert_exporter": "python",
   "pygments_lexer": "ipython3",
   "version": "3.8.10"
  }
 },
 "nbformat": 4,
 "nbformat_minor": 4
}
