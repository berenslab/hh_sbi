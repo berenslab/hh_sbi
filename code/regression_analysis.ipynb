{
 "cells": [
  {
   "cell_type": "code",
   "execution_count": 1,
   "metadata": {
    "tags": []
   },
   "outputs": [],
   "source": [
    "import numpy as np\n",
    "import pylab as plt\n",
    "import seaborn as sns\n",
    "import pandas as pd\n",
    "import pickle\n",
    "import matplotlib\n",
    "\n",
    "import sparseRRR\n",
    "\n",
    "import warnings\n",
    "\n",
    "from sklearn.linear_model import RidgeCV, ElasticNetCV\n",
    "\n",
    "from plot_utils import adjust_spines"
   ]
  },
  {
   "cell_type": "markdown",
   "metadata": {},
   "source": [
    "## Lasso regression analysis"
   ]
  },
  {
   "cell_type": "markdown",
   "metadata": {},
   "source": [
    "#### Load data"
   ]
  },
  {
   "cell_type": "code",
   "execution_count": 2,
   "metadata": {
    "tags": []
   },
   "outputs": [],
   "source": [
    "M1_25degree = pickle.load(open(\"pickles/M1_features.pickle\", \"rb\"))\n",
    "ephys_features = np.array(M1_25degree[\"X_o\"].columns)[:-4]\n",
    "Xo = M1_25degree[\"X_o\"].copy()\n",
    "feature_list = range(23)"
   ]
  },
  {
   "cell_type": "code",
   "execution_count": 3,
   "metadata": {
    "tags": []
   },
   "outputs": [],
   "source": [
    "prop = pd.read_csv(\"../data/m1_patchseq_meta_data.csv\", sep=\"\\t\")\n",
    "prop = prop.rename(columns={\"Targeted layer\": \"Layer\"})\n",
    "prop = prop[[\"Cell\", \"Layer\", \"Cre\", \"RNA type\"]]\n",
    "prop = prop.set_index(\"Cell\")\n",
    "prop = prop.reindex(Xo.index)\n",
    "no_low_qual = np.array(list(map(str, prop[\"RNA type\"].values))) != \"nan\"\n",
    "prop = prop.loc[no_low_qual, :]\n",
    "Xo = Xo.loc[no_low_qual, :]\n",
    "celltypes = prop[\"RNA type\"]"
   ]
  },
  {
   "cell_type": "code",
   "execution_count": 4,
   "metadata": {
    "tags": []
   },
   "outputs": [],
   "source": [
    "annotations = pd.read_csv(\"../data/cluster.annotation.csv\", index_col=0)\n",
    "cellTypeColors = {}\n",
    "for celltype in np.unique(annotations[\"cluster_label\"].values):\n",
    "    cellTypeColors.update(\n",
    "        {\n",
    "            celltype: annotations.iloc[\n",
    "                np.where(annotations[\"cluster_label\"] == celltype)[0][0], :\n",
    "            ][\"cluster_color\"]\n",
    "        }\n",
    "    )\n",
    "colors = np.array([cellTypeColors[celltype] for celltype in celltypes])"
   ]
  },
  {
   "cell_type": "code",
   "execution_count": 5,
   "metadata": {
    "tags": []
   },
   "outputs": [],
   "source": [
    "model_param_names = np.array(\n",
    "    [\n",
    "        \"C\",\n",
    "        r\"$R_{input}$\",\n",
    "        r\"$\\tau$\",\n",
    "        r\"$g_{Nat}$\",\n",
    "        r\"$g_{Na}$\",\n",
    "        r\"$g_{Kd}$\",\n",
    "        r\"$g_{M}$\",\n",
    "        r\"$g_{Kv31}$\",\n",
    "        r\"$g_{L}$\",\n",
    "        r\"$E_{leak}$\",\n",
    "        r\"$\\tau_{max}$\",\n",
    "        \"VT\",\n",
    "        r\"$r_{SS}$\",\n",
    "    ]\n",
    ")\n",
    "prior_min = [0.1, 20, 0.1, 0, 0, 0, 0, 0, 0, -130, 50, -90, 0.1]\n",
    "prior_max = [15, 1000, 70, 250, 100, 30, 3, 250, 3, -50, 4000, -35, 3]"
   ]
  },
  {
   "cell_type": "code",
   "execution_count": 6,
   "metadata": {
    "tags": []
   },
   "outputs": [],
   "source": [
    "fav_tr_schedule = \"2d\""
   ]
  },
  {
   "cell_type": "code",
   "execution_count": 7,
   "metadata": {
    "tags": []
   },
   "outputs": [],
   "source": [
    "with open(\n",
    "    \"../code/save_model_parameters/training_schedule_{}.pickle\".format(fav_tr_schedule),\n",
    "    \"rb\",\n",
    ") as f:\n",
    "    THETA = pickle.load(f)\n",
    "highest_posterior_samples = np.concatenate(\n",
    "    [\n",
    "        THETA[\"highest posterior samples\"][cell]\n",
    "        if cell in THETA[\"highest posterior samples\"]\n",
    "        else np.ones((len(model_param_names),)) * np.nan\n",
    "        for cell in Xo.index\n",
    "    ]\n",
    ").reshape((Xo.shape[0], len(model_param_names)))"
   ]
  },
  {
   "cell_type": "code",
   "execution_count": 8,
   "metadata": {
    "tags": []
   },
   "outputs": [],
   "source": [
    "data_exons = pd.read_csv(\n",
    "    \"../data/m1_patchseq_exon_counts.csv.gz\", na_filter=False, index_col=0\n",
    ")\n",
    "data_exons = data_exons.T.reindex(Xo.index).T\n",
    "original_gene_names = np.array(data_exons.index)\n",
    "IonChannelGenes = pd.read_csv(\n",
    "    \"../data/GO_term_summary_20211104_075621.txt\", header=0, sep=\"\\t\"\n",
    ")\n",
    "selectedGenes = np.array(\n",
    "    [\n",
    "        (gene in IonChannelGenes[\"MGI Gene/Marker ID\"].values)\n",
    "        | (\n",
    "            gene\n",
    "            in [\n",
    "                \"Pvalb\",\n",
    "                \"Lamp5\",\n",
    "                \"Vip\",\n",
    "                \"Sst\",\n",
    "            ]\n",
    "        )\n",
    "        for gene in data_exons.index\n",
    "    ]\n",
    ")\n",
    "enough_counts = np.sum(data_exons, axis=1) >= 10\n",
    "data_exons = data_exons.loc[selectedGenes & enough_counts, :]\n",
    "exonCounts = data_exons.values.transpose()\n",
    "gene_names = original_gene_names[selectedGenes & enough_counts]"
   ]
  },
  {
   "cell_type": "code",
   "execution_count": 9,
   "metadata": {
    "tags": []
   },
   "outputs": [],
   "source": [
    "genes = exonCounts.copy()\n",
    "genes = (\n",
    "    genes\n",
    "    / np.sum(genes, axis=1, keepdims=True)\n",
    "    * np.median(np.sum(genes, axis=1, keepdims=True))\n",
    ")\n",
    "genes = np.log2(genes + 1)\n",
    "genes = genes - np.mean(genes, axis=0)\n",
    "genes = genes / np.std(genes, axis=0)\n",
    "G = genes.astype(\"float64\")"
   ]
  },
  {
   "cell_type": "code",
   "execution_count": 10,
   "metadata": {
    "tags": []
   },
   "outputs": [],
   "source": [
    "highest_posterior_samples_standardized = (\n",
    "    highest_posterior_samples - highest_posterior_samples.mean(axis=0)\n",
    ") / highest_posterior_samples.std(axis=0)\n",
    "M = highest_posterior_samples_standardized.astype(\"float64\")"
   ]
  },
  {
   "cell_type": "code",
   "execution_count": 11,
   "metadata": {
    "tags": []
   },
   "outputs": [
    {
     "data": {
      "text/plain": [
       "(955, 13)"
      ]
     },
     "execution_count": 11,
     "metadata": {},
     "output_type": "execute_result"
    }
   ],
   "source": [
    "M.shape"
   ]
  },
  {
   "cell_type": "code",
   "execution_count": 12,
   "metadata": {
    "tags": []
   },
   "outputs": [
    {
     "data": {
      "text/plain": [
       "(955, 427)"
      ]
     },
     "execution_count": 12,
     "metadata": {},
     "output_type": "execute_result"
    }
   ],
   "source": [
    "G.shape"
   ]
  },
  {
   "cell_type": "markdown",
   "metadata": {},
   "source": [
    "#### Per feature ridge regression analysis with permutation analysis."
   ]
  },
  {
   "cell_type": "code",
   "execution_count": 14,
   "metadata": {
    "tags": []
   },
   "outputs": [
    {
     "name": "stdout",
     "output_type": "stream",
     "text": [
      "# cells with defined (non-nan) value per feature:\n",
      "C  :  955\n",
      "$R_{input}$  :  955\n",
      "$\\tau$  :  955\n",
      "$g_{Nat}$  :  955\n",
      "$g_{Na}$  :  955\n",
      "$g_{Kd}$  :  955\n",
      "$g_{M}$  :  955\n",
      "$g_{Kv31}$  :  955\n",
      "$g_{L}$  :  955\n",
      "$E_{leak}$  :  955\n",
      "$\\tau_{max}$  :  955\n",
      "VT  :  955\n",
      "$r_{SS}$  :  955\n"
     ]
    }
   ],
   "source": [
    "r2_ridge = np.zeros((M.shape[1],))\n",
    "\n",
    "n_reps=100\n",
    "r2_ridge_shuffle = np.zeros((M.shape[1],n_reps))\n",
    "regr = RidgeCV(alphas=np.geomspace(.0001, 10000, 50), store_cv_values=True)\n",
    "\n",
    "print('# cells with defined (non-nan) value per feature:')\n",
    "\n",
    "for f in range(M.shape[1]):\n",
    "    M_=M[:,f][:,np.newaxis].copy()\n",
    "    regr.fit(G, M_)\n",
    "\n",
    "    r2_ridge[f] = 1 - np.min(np.mean(regr.cv_values_, axis=0)) # take the alpha with mimimal mean MSE over cv\n",
    "    \n",
    "    for rep in range(n_reps):\n",
    "        regr.fit(G, M_[np.random.permutation(M.shape[0]),:])\n",
    "        r2_ridge_shuffle[f, rep] = 1 - np.min(np.mean(regr.cv_values_, axis=0))"
   ]
  },
  {
   "cell_type": "markdown",
   "metadata": {},
   "source": [
    "#### Per feature elastic net regression analysis."
   ]
  },
  {
   "cell_type": "code",
   "execution_count": 20,
   "metadata": {
    "tags": []
   },
   "outputs": [
    {
     "name": "stdout",
     "output_type": "stream",
     "text": [
      "............."
     ]
    }
   ],
   "source": [
    "r2_elasticnet = np.zeros((M.shape[1],))\n",
    "regr = ElasticNetCV(alphas=np.geomspace(.0001, 10000, 50), l1_ratio=1.)\n",
    "\n",
    "for f in range(M.shape[1]):\n",
    "    print('.', end='')\n",
    "\n",
    "    M_=M[:,f][:,np.newaxis].copy()\n",
    "    \n",
    "    regr.fit(G, M_.ravel())\n",
    "\n",
    "    r2_elasticnet[f] = 1 - np.min(np.mean(regr.mse_path_, axis=1)) # take the alpha with mimimal mean MSE over cv"
   ]
  },
  {
   "cell_type": "code",
   "execution_count": 25,
   "metadata": {
    "tags": []
   },
   "outputs": [
    {
     "data": {
      "text/plain": [
       "array([0.26631313, 0.10312578, 0.10794215, 0.14239916, 0.02713377,\n",
       "       0.37909877, 0.01929699, 0.30899363, 0.12318916, 0.02381543,\n",
       "       0.0652131 , 0.15759591, 0.59447483])"
      ]
     },
     "execution_count": 25,
     "metadata": {},
     "output_type": "execute_result"
    }
   ],
   "source": [
    "r2_elasticnet"
   ]
  },
  {
   "cell_type": "code",
   "execution_count": 40,
   "metadata": {
    "tags": []
   },
   "outputs": [
    {
     "data": {
      "image/png": "[encoded data removed]",
      "text/plain": [
       "<Figure size 300x350 with 1 Axes>"
      ]
     },
     "metadata": {},
     "output_type": "display_data"
    }
   ],
   "source": [
    "order=np.argsort(r2_elasticnet)\n",
    "\n",
    "fig, ax = plt.subplots(1,1,figsize=(3,3.5))\n",
    "#alphas = np.array([.25, .5, .75, 1])\n",
    "ax.scatter(r2_ridge[order],\n",
    "           np.linspace(1,M.shape[1],M.shape[1]),\n",
    "            s=60, marker= '+', label='Ridge')\n",
    "ax.scatter(r2_elasticnet[order],\n",
    "           np.linspace(1,M.shape[1],M.shape[1]),\n",
    "            s=60, marker='+', label='Lasso')\n",
    "# for rep in range(nreps):\n",
    "#     ax.scatter(r2_ridge_shuffle[:,rep],\n",
    "#                 np.linspace(1.2,Y_.shape[1]+.2,Y_.shape[1]),\n",
    "#                 s=10, marker= '+', c='red')\n",
    "ylim_1=ax.get_ylim()[0]\n",
    "ylim_2=ax.get_ylim()[1]\n",
    "ax.vlines(np.percentile(r2_ridge_shuffle, 1), ylim_1, ylim_2, color='grey', linestyle='dashed')\n",
    "ax.vlines(np.percentile(r2_ridge_shuffle, 99), ylim_1, ylim_2, color='grey', linestyle='dashed')\n",
    "\n",
    "ax.set_xlim(xmin=-0.1,xmax=0.7)\n",
    "adjust_spines(ax, spines=['bottom', 'left'])\n",
    "ax.set_yticks(np.linspace(1,M.shape[1],M.shape[1]))\n",
    "ax.set_yticklabels(model_param_names[order], fontsize=11)\n",
    "ax.legend(loc='lower right', fontsize=9, frameon=False)\n",
    "ax.set_xlabel(r'Cross validated $R^2$', fontsize=11)\n",
    "sns.despine()\n",
    "plt.tight_layout()\n",
    "plt.savefig('../figures/figure_x2.png', bbox_inches=\"tight\", pad_inches=0)"
   ]
  },
  {
   "cell_type": "code",
   "execution_count": 30,
   "metadata": {
    "tags": []
   },
   "outputs": [
    {
     "name": "stdout",
     "output_type": "stream",
     "text": [
      "P value for : C: 0.0\n",
      "P value for : $R_{input}$: 0.0\n",
      "P value for : $\\tau$: 0.0\n",
      "P value for : $g_{Nat}$: 0.0\n",
      "P value for : $g_{Na}$: 0.0\n",
      "P value for : $g_{Kd}$: 0.0\n",
      "P value for : $g_{M}$: 0.0\n",
      "P value for : $g_{Kv31}$: 0.0\n",
      "P value for : $g_{L}$: 0.0\n",
      "P value for : $E_{leak}$: 0.0\n",
      "P value for : $\\tau_{max}$: 0.0\n",
      "P value for : VT: 0.0\n",
      "P value for : $r_{SS}$: 0.0\n"
     ]
    }
   ],
   "source": [
    "for i in range(M.shape[1]):\n",
    "        print('P value for : ' + model_param_names[i] + ':', sum(r2_ridge_shuffle[i,:]>r2_ridge[i])/100)"
   ]
  },
  {
   "cell_type": "markdown",
   "metadata": {},
   "source": [
    "To predict $r_{SS}$, which genes does pure lasso regression select?"
   ]
  },
  {
   "cell_type": "code",
   "execution_count": 45,
   "metadata": {
    "tags": []
   },
   "outputs": [
    {
     "name": "stdout",
     "output_type": "stream",
     "text": [
      "25 most important genes to predict $r_{SS}$\n"
     ]
    },
    {
     "data": {
      "text/plain": [
       "array(['Kcnb2', 'Ryr1', 'Kcnq5', 'Cacna2d4', 'Chrna4', 'Cacna2d2',\n",
       "       'Trpc5', 'Hcn1', 'Kcnab3', 'Scn1b', 'Kcnc3', 'Grik1', 'Cacng3',\n",
       "       'Apol7a', 'Pvalb', 'Lamp5', 'Pex5l', 'Kcnip3', 'Kcnip4', 'Gabra5',\n",
       "       'Slc24a4', 'Kcnip1', 'Cacna2d1', 'Kcnv1', 'Slc17a7'], dtype=object)"
      ]
     },
     "execution_count": 45,
     "metadata": {},
     "output_type": "execute_result"
    }
   ],
   "source": [
    "ind=np.where(model_param_names=='$r_{SS}$')[0][0]\n",
    "print('25 most important genes to predict ' + model_param_names[ind])\n",
    "regr = ElasticNetCV(l1_ratio=1.)\n",
    "regr.fit(G, M[:,ind])\n",
    "gene_names[np.argsort(np.abs(regr.coef_))[-25:]] # 25 most important genes"
   ]
  },
  {
   "cell_type": "code",
   "execution_count": 46,
   "metadata": {
    "tags": []
   },
   "outputs": [
    {
     "data": {
      "text/plain": [
       "array(['Ano3', 'Ano4', 'Apol7a', 'Cacna1f', 'Cacna1g', 'Cacna2d1',\n",
       "       'Cacna2d2', 'Cacna2d3', 'Cacna2d4', 'Cacng3', 'Cacng7', 'Chrna4',\n",
       "       'Clca3a1', 'Clca3a2', 'Clca4b', 'Gabra5', 'Glra2', 'Grik1',\n",
       "       'Grik2', 'Grin2d', 'Grm7', 'Hcn1', 'Htr1b', 'Kcna4', 'Kcnab3',\n",
       "       'Kcnb2', 'Kcnc3', 'Kcnip1', 'Kcnip3', 'Kcnip4', 'Kcnk7', 'Kcnk9',\n",
       "       'Kcnmb2', 'Kcnmb4', 'Kcnq5', 'Kcnt2', 'Kcnv1', 'Lamp5', 'Marcksl1',\n",
       "       'Mcub', 'Pex5l', 'Piezo2', 'Pkd1l1', 'Pkd1l2', 'Pvalb', 'Rasa3',\n",
       "       'Ryr1', 'Scn1a', 'Scn1b', 'Slc17a7', 'Slc24a4', 'Snap25', 'Tmc6',\n",
       "       'Trpc5', 'Trpv2', 'Trpv6'], dtype=object)"
      ]
     },
     "execution_count": 46,
     "metadata": {},
     "output_type": "execute_result"
    }
   ],
   "source": [
    "gene_names[regr.coef_!=0] # all nonzero genes"
   ]
  },
  {
   "cell_type": "markdown",
   "metadata": {},
   "source": [
    "To predict $g_{Kv3.1}$, which genes does pure lasso regression select?"
   ]
  },
  {
   "cell_type": "code",
   "execution_count": 47,
   "metadata": {
    "tags": []
   },
   "outputs": [
    {
     "data": {
      "text/plain": [
       "array(['C', '$R_{input}$', '$\\\\tau$', '$g_{Nat}$', '$g_{Na}$', '$g_{Kd}$',\n",
       "       '$g_{M}$', '$g_{Kv31}$', '$g_{L}$', '$E_{leak}$', '$\\\\tau_{max}$',\n",
       "       'VT', '$r_{SS}$'], dtype='<U12')"
      ]
     },
     "execution_count": 47,
     "metadata": {},
     "output_type": "execute_result"
    }
   ],
   "source": [
    "model_param_names"
   ]
  },
  {
   "cell_type": "code",
   "execution_count": 48,
   "metadata": {
    "tags": []
   },
   "outputs": [
    {
     "name": "stdout",
     "output_type": "stream",
     "text": [
      "25 most important genes to predict $g_{Kv31}$\n"
     ]
    },
    {
     "data": {
      "text/plain": [
       "array(['Kcnk3', 'Apol8', 'Gabrb1', 'Kcnh1', 'Gabrd', 'Hcn1', 'Lrrc8b',\n",
       "       'Nmur2', 'Scn1a', 'Hcn2', 'Slc24a2', 'Trpm6', 'Vip', 'Cnr1',\n",
       "       'Kcnc2', 'Kcnab3', 'Vdac2', 'Lrrc38', 'Cacna2d2', 'Scn1b', 'Kcnc1',\n",
       "       'Scn3b', 'Pvalb', 'Cacna2d1', 'Slc17a7'], dtype=object)"
      ]
     },
     "execution_count": 48,
     "metadata": {},
     "output_type": "execute_result"
    }
   ],
   "source": [
    "ind=np.where(model_param_names=='$g_{Kv31}$')[0][0]\n",
    "print('25 most important genes to predict ' + model_param_names[ind])\n",
    "regr = ElasticNetCV(l1_ratio=1.)\n",
    "regr.fit(G, M[:,ind])\n",
    "gene_names[np.argsort(np.abs(regr.coef_))[-25:]] # 25 most important genes"
   ]
  },
  {
   "cell_type": "code",
   "execution_count": 49,
   "metadata": {
    "tags": []
   },
   "outputs": [
    {
     "data": {
      "text/plain": [
       "array(['Ano4', 'Apol8', 'Asic4', 'Atp5d', 'Best1', 'Cacna2d1', 'Cacna2d2',\n",
       "       'Ccdc51', 'Cnr1', 'Fxyd4', 'Gabrb1', 'Gabrd', 'Glra2', 'Hcn1',\n",
       "       'Hcn2', 'Kcna3', 'Kcnab2', 'Kcnab3', 'Kcnc1', 'Kcnc2', 'Kcnh1',\n",
       "       'Kcnj5', 'Kcnk12', 'Kcnk3', 'Kcnk9', 'Lamp5', 'Lrrc38', 'Lrrc8b',\n",
       "       'Nmur2', 'Otop1', 'Pkd2', 'Pvalb', 'Scn1a', 'Scn1b', 'Scn3b',\n",
       "       'Slc17a7', 'Slc1a1', 'Slc24a2', 'Slc24a3', 'Slc26a6', 'Trpm6',\n",
       "       'Vdac2', 'Vip'], dtype=object)"
      ]
     },
     "execution_count": 49,
     "metadata": {},
     "output_type": "execute_result"
    }
   ],
   "source": [
    "gene_names[regr.coef_!=0] # all nonzero genes"
   ]
  }
 ],
 "metadata": {
  "kernelspec": {
   "display_name": "Python 3 (ipykernel)",
   "language": "python",
   "name": "python3"
  },
  "language_info": {
   "codemirror_mode": {
    "name": "ipython",
    "version": 3
   },
   "file_extension": ".py",
   "mimetype": "text/x-python",
   "name": "python",
   "nbconvert_exporter": "python",
   "pygments_lexer": "ipython3",
   "version": "3.11.5"
  }
 },
 "nbformat": 4,
 "nbformat_minor": 4
}
