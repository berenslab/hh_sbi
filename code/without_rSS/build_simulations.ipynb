{
 "cells": [
  {
   "cell_type": "code",
   "execution_count": 1,
   "metadata": {},
   "outputs": [],
   "source": [
    "import numpy as np\n",
    "import torch\n",
    "import pandas as pd\n",
    "import matplotlib as mpl\n",
    "import seaborn as sns\n",
    "import matplotlib.pyplot as plt\n",
    "import scipy.io as io\n",
    "\n",
    "# the simulator\n",
    "import simulator\n",
    "\n",
    "# sbi\n",
    "import sbi.utils as utils\n",
    "\n",
    "import importlib\n",
    "\n",
    "# ephys extraction utilities\n",
    "from ephys_utils import get_time_voltage_current_currindex0, calculate_summary_statistics, syn_current\n",
    "\n",
    "# load and read nwb files\n",
    "from pynwb import NWBHDF5IO\n",
    "\n",
    "# import saver utilities\n",
    "import pickle\n",
    "\n",
    "# to check how long things take\n",
    "import time"
   ]
  },
  {
   "cell_type": "code",
   "execution_count": 2,
   "metadata": {},
   "outputs": [],
   "source": [
    "# remove top and right axis from plots\n",
    "mpl.rcParams['axes.spines.right'] = False\n",
    "mpl.rcParams['axes.spines.top'] = False"
   ]
  },
  {
   "cell_type": "markdown",
   "metadata": {},
   "source": [
    "## Loading observed experimental data"
   ]
  },
  {
   "cell_type": "code",
   "execution_count": 3,
   "metadata": {},
   "outputs": [],
   "source": [
    "M1_25degree = pickle.load(open('../pickles/M1_features.pickle', 'rb'))\n",
    "ephys_features = np.array(M1_25degree['X_o'].columns)[:-4]\n",
    "Xo = M1_25degree['X_o'].copy()"
   ]
  },
  {
   "cell_type": "code",
   "execution_count": 4,
   "metadata": {},
   "outputs": [],
   "source": [
    "prop = pd.read_csv('../../data/m1_patchseq_meta_data.csv', sep = '\\t')\n",
    "prop = prop.rename(columns = {'Targeted layer': 'Layer'})\n",
    "prop = prop[['Cell', 'Layer', 'Cre', 'RNA type']]\n",
    "prop = prop.set_index('Cell')\n",
    "prop=prop.reindex(Xo.index)\n",
    "no_low_qual=np.array(list(map(str,prop['RNA type'].values)))!='nan'\n",
    "prop=prop.loc[no_low_qual,:]\n",
    "Xo = Xo.loc[no_low_qual,:]\n",
    "celltypes=prop['RNA type']"
   ]
  },
  {
   "cell_type": "markdown",
   "metadata": {},
   "source": [
    "## The uniform prior"
   ]
  },
  {
   "cell_type": "code",
   "execution_count": 5,
   "metadata": {},
   "outputs": [],
   "source": [
    "model_param_names = np.array(['C', r'$R_{input}$', r'$\\tau$', r'$g_{Nat}$', r'$g_{Na}$', r'$g_{Kd}$', r'$g_{M}$',\n",
    "                         r'$g_{Kv31}$', r'$g_{L}$', r'$E_{leak}$', r'$\\tau_{max}$', 'VT'])\n",
    "prior_min = [0.1,  20,  0.1,    0,        0,      0,      0,      0,      0, -130,    50,    -90]\n",
    "prior_max = [15,   1000,   70,   250,     100,      30,    3,     250,     3,  -50,  4000,   -35]\n",
    "prior = utils.torchutils.BoxUniform(\n",
    "    low=torch.as_tensor(prior_min),\n",
    "    high=torch.as_tensor(prior_max)\n",
    ")"
   ]
  },
  {
   "cell_type": "markdown",
   "metadata": {},
   "source": [
    "## The simulator"
   ]
  },
  {
   "cell_type": "code",
   "execution_count": 6,
   "metadata": {},
   "outputs": [],
   "source": [
    "from simulator import EphysModel\n",
    "\n",
    "M1_model=EphysModel(name='M1',\n",
    "                   T=25.0,\n",
    "                   E_Na=69.0,\n",
    "                   E_K=-98.4,\n",
    "                   E_Ca=127.2,\n",
    "                   start=100,\n",
    "                   end=700,\n",
    "                   dt=0.04,\n",
    "                   n_processes=40,\n",
    "                   noise_factor=10,\n",
    "                   use_pathos=True,\n",
    "                   chunk_size=50000,\n",
    "                   save_chunks=True)"
   ]
  },
  {
   "cell_type": "markdown",
   "metadata": {},
   "source": [
    "Let us have a look at an example."
   ]
  },
  {
   "cell_type": "code",
   "execution_count": 7,
   "metadata": {},
   "outputs": [
    {
     "data": {
      "text/html": [
       "<div>\n",
       "<style scoped>\n",
       "    .dataframe tbody tr th:only-of-type {\n",
       "        vertical-align: middle;\n",
       "    }\n",
       "\n",
       "    .dataframe tbody tr th {\n",
       "        vertical-align: top;\n",
       "    }\n",
       "\n",
       "    .dataframe thead th {\n",
       "        text-align: right;\n",
       "    }\n",
       "</style>\n",
       "<table border=\"1\" class=\"dataframe\">\n",
       "  <thead>\n",
       "    <tr style=\"text-align: right;\">\n",
       "      <th></th>\n",
       "      <th>C</th>\n",
       "      <th>$R_{input}$</th>\n",
       "      <th>$\\tau$</th>\n",
       "      <th>$g_{Nat}$</th>\n",
       "      <th>$g_{Na}$</th>\n",
       "      <th>$g_{Kd}$</th>\n",
       "      <th>$g_{M}$</th>\n",
       "      <th>$g_{Kv31}$</th>\n",
       "      <th>$g_{L}$</th>\n",
       "      <th>$E_{leak}$</th>\n",
       "      <th>$\\tau_{max}$</th>\n",
       "      <th>VT</th>\n",
       "    </tr>\n",
       "  </thead>\n",
       "  <tbody>\n",
       "    <tr>\n",
       "      <th>0</th>\n",
       "      <td>9.537584</td>\n",
       "      <td>272.99161</td>\n",
       "      <td>21.443249</td>\n",
       "      <td>93.058479</td>\n",
       "      <td>36.26632</td>\n",
       "      <td>10.740511</td>\n",
       "      <td>0.880451</td>\n",
       "      <td>27.365699</td>\n",
       "      <td>0.912325</td>\n",
       "      <td>-85.184921</td>\n",
       "      <td>413.258078</td>\n",
       "      <td>-54.367571</td>\n",
       "    </tr>\n",
       "  </tbody>\n",
       "</table>\n",
       "</div>"
      ],
      "text/plain": [
       "          C  $R_{input}$     $\\tau$  $g_{Nat}$  $g_{Na}$   $g_{Kd}$   $g_{M}$  \\\n",
       "0  9.537584    272.99161  21.443249  93.058479  36.26632  10.740511  0.880451   \n",
       "\n",
       "   $g_{Kv31}$   $g_{L}$  $E_{leak}$  $\\tau_{max}$         VT  \n",
       "0   27.365699  0.912325  -85.184921    413.258078 -54.367571  "
      ]
     },
     "execution_count": 7,
     "metadata": {},
     "output_type": "execute_result"
    }
   ],
   "source": [
    "trial=np.array([9.537584,272.991610,21.443249,93.058479,36.266320,10.740511,0.880451,27.365699,\n",
    "                0.912325,-85.184921,413.258078,-54.367571], dtype=float)[np.newaxis,:]\n",
    "df=pd.DataFrame(data=trial,columns=model_param_names)\n",
    "x=M1_model._run_HH_model(trial)\n",
    "df.head()"
   ]
  },
  {
   "cell_type": "code",
   "execution_count": 8,
   "metadata": {},
   "outputs": [
    {
     "data": {
      "text/plain": [
       "[<matplotlib.lines.Line2D at 0x7f381144c400>]"
      ]
     },
     "execution_count": 8,
     "metadata": {},
     "output_type": "execute_result"
    },
    {
     "data": {
      "image/png": "[encoded data removed]",
      "text/plain": [
       "<Figure size 432x288 with 1 Axes>"
      ]
     },
     "metadata": {
      "needs_background": "light"
     },
     "output_type": "display_data"
    }
   ],
   "source": [
    "plt.plot(x['time'], x['data'][0,0,:], c='k')"
   ]
  },
  {
   "cell_type": "code",
   "execution_count": 9,
   "metadata": {},
   "outputs": [
    {
     "data": {
      "text/html": [
       "<div>\n",
       "<style scoped>\n",
       "    .dataframe tbody tr th:only-of-type {\n",
       "        vertical-align: middle;\n",
       "    }\n",
       "\n",
       "    .dataframe tbody tr th {\n",
       "        vertical-align: top;\n",
       "    }\n",
       "\n",
       "    .dataframe thead th {\n",
       "        text-align: right;\n",
       "    }\n",
       "</style>\n",
       "<table border=\"1\" class=\"dataframe\">\n",
       "  <thead>\n",
       "    <tr style=\"text-align: right;\">\n",
       "      <th></th>\n",
       "      <th>AP threshold</th>\n",
       "      <th>AP amplitude</th>\n",
       "      <th>AP width</th>\n",
       "      <th>AHP</th>\n",
       "      <th>3rd AP threshold</th>\n",
       "      <th>3rd AP amplitude</th>\n",
       "      <th>3rd AP width</th>\n",
       "      <th>3rd AHP</th>\n",
       "      <th>AP count</th>\n",
       "      <th>AP count 1st 8th</th>\n",
       "      <th>...</th>\n",
       "      <th>AP amp adapt</th>\n",
       "      <th>AP average amp adapt</th>\n",
       "      <th>AP CV</th>\n",
       "      <th>ISI adapt</th>\n",
       "      <th>ISI CV</th>\n",
       "      <th>latency</th>\n",
       "      <th>rest $V_{m}$ mean</th>\n",
       "      <th>$V_{m}$ mean</th>\n",
       "      <th>$V_{m}$ std</th>\n",
       "      <th>$V_{m}$ skewness</th>\n",
       "    </tr>\n",
       "  </thead>\n",
       "  <tbody>\n",
       "    <tr>\n",
       "      <th>0</th>\n",
       "      <td>-49.639491</td>\n",
       "      <td>85.163503</td>\n",
       "      <td>1.56</td>\n",
       "      <td>-5.181553</td>\n",
       "      <td>-43.643285</td>\n",
       "      <td>54.948856</td>\n",
       "      <td>2.0</td>\n",
       "      <td>0.029773</td>\n",
       "      <td>3.332205</td>\n",
       "      <td>2.079442</td>\n",
       "      <td>...</td>\n",
       "      <td>-0.262381</td>\n",
       "      <td>0.444103</td>\n",
       "      <td>-1.364995</td>\n",
       "      <td>-0.276394</td>\n",
       "      <td>-0.587717</td>\n",
       "      <td>2.514465</td>\n",
       "      <td>-85.276168</td>\n",
       "      <td>-42.996266</td>\n",
       "      <td>288.975732</td>\n",
       "      <td>1.842879</td>\n",
       "    </tr>\n",
       "  </tbody>\n",
       "</table>\n",
       "<p>1 rows × 23 columns</p>\n",
       "</div>"
      ],
      "text/plain": [
       "   AP threshold  AP amplitude  AP width       AHP  3rd AP threshold  \\\n",
       "0    -49.639491     85.163503      1.56 -5.181553        -43.643285   \n",
       "\n",
       "   3rd AP amplitude  3rd AP width   3rd AHP  AP count  AP count 1st 8th  ...  \\\n",
       "0         54.948856           2.0  0.029773  3.332205          2.079442  ...   \n",
       "\n",
       "   AP amp adapt  AP average amp adapt     AP CV  ISI adapt    ISI CV  \\\n",
       "0     -0.262381              0.444103 -1.364995  -0.276394 -0.587717   \n",
       "\n",
       "    latency  rest $V_{m}$ mean  $V_{m}$ mean  $V_{m}$ std  $V_{m}$ skewness  \n",
       "0  2.514465         -85.276168    -42.996266   288.975732          1.842879  \n",
       "\n",
       "[1 rows x 23 columns]"
      ]
     },
     "execution_count": 9,
     "metadata": {},
     "output_type": "execute_result"
    }
   ],
   "source": [
    "df=pd.DataFrame(data=M1_model._simulation_wrapper(trial).numpy(), columns=ephys_features)\n",
    "df.head()"
   ]
  },
  {
   "cell_type": "code",
   "execution_count": 10,
   "metadata": {},
   "outputs": [
    {
     "data": {
      "text/html": [
       "<div>\n",
       "<style scoped>\n",
       "    .dataframe tbody tr th:only-of-type {\n",
       "        vertical-align: middle;\n",
       "    }\n",
       "\n",
       "    .dataframe tbody tr th {\n",
       "        vertical-align: top;\n",
       "    }\n",
       "\n",
       "    .dataframe thead th {\n",
       "        text-align: right;\n",
       "    }\n",
       "</style>\n",
       "<table border=\"1\" class=\"dataframe\">\n",
       "  <thead>\n",
       "    <tr style=\"text-align: right;\">\n",
       "      <th></th>\n",
       "      <th>C</th>\n",
       "      <th>$R_{input}$</th>\n",
       "      <th>$\\tau$</th>\n",
       "      <th>$g_{Nat}$</th>\n",
       "      <th>$g_{Na}$</th>\n",
       "      <th>$g_{Kd}$</th>\n",
       "      <th>$g_{M}$</th>\n",
       "      <th>$g_{Kv31}$</th>\n",
       "      <th>$g_{L}$</th>\n",
       "      <th>$E_{leak}$</th>\n",
       "      <th>$\\tau_{max}$</th>\n",
       "      <th>VT</th>\n",
       "    </tr>\n",
       "  </thead>\n",
       "  <tbody>\n",
       "    <tr>\n",
       "      <th>0</th>\n",
       "      <td>9.537584</td>\n",
       "      <td>272.99161</td>\n",
       "      <td>21.443249</td>\n",
       "      <td>93.058479</td>\n",
       "      <td>36.26632</td>\n",
       "      <td>10.740511</td>\n",
       "      <td>0.880451</td>\n",
       "      <td>27.365699</td>\n",
       "      <td>0.912325</td>\n",
       "      <td>-85.184921</td>\n",
       "      <td>413.258078</td>\n",
       "      <td>-54.367571</td>\n",
       "    </tr>\n",
       "  </tbody>\n",
       "</table>\n",
       "</div>"
      ],
      "text/plain": [
       "          C  $R_{input}$     $\\tau$  $g_{Nat}$  $g_{Na}$   $g_{Kd}$   $g_{M}$  \\\n",
       "0  9.537584    272.99161  21.443249  93.058479  36.26632  10.740511  0.880451   \n",
       "\n",
       "   $g_{Kv31}$   $g_{L}$  $E_{leak}$  $\\tau_{max}$         VT  \n",
       "0   27.365699  0.912325  -85.184921    413.258078 -54.367571  "
      ]
     },
     "execution_count": 10,
     "metadata": {},
     "output_type": "execute_result"
    }
   ],
   "source": [
    "trial=np.array([9.537584,272.991610,21.443249,93.058479,36.266320,10.740511,0.880451,27.365699,\n",
    "                0.912325,-85.184921,413.258078,-54.367571], dtype=float)[np.newaxis,:]\n",
    "df=pd.DataFrame(data=trial,columns=model_param_names)\n",
    "x=M1_model._run_HH_model(trial)\n",
    "df.head()"
   ]
  },
  {
   "cell_type": "code",
   "execution_count": 11,
   "metadata": {},
   "outputs": [
    {
     "data": {
      "text/plain": [
       "[<matplotlib.lines.Line2D at 0x7f380d065a90>]"
      ]
     },
     "execution_count": 11,
     "metadata": {},
     "output_type": "execute_result"
    },
    {
     "data": {
      "image/png": "[encoded data removed]",
      "text/plain": [
       "<Figure size 432x288 with 1 Axes>"
      ]
     },
     "metadata": {
      "needs_background": "light"
     },
     "output_type": "display_data"
    }
   ],
   "source": [
    "plt.plot(x['time'], x['data'][0,0,:], c='k')"
   ]
  },
  {
   "cell_type": "code",
   "execution_count": 12,
   "metadata": {},
   "outputs": [
    {
     "data": {
      "text/html": [
       "<div>\n",
       "<style scoped>\n",
       "    .dataframe tbody tr th:only-of-type {\n",
       "        vertical-align: middle;\n",
       "    }\n",
       "\n",
       "    .dataframe tbody tr th {\n",
       "        vertical-align: top;\n",
       "    }\n",
       "\n",
       "    .dataframe thead th {\n",
       "        text-align: right;\n",
       "    }\n",
       "</style>\n",
       "<table border=\"1\" class=\"dataframe\">\n",
       "  <thead>\n",
       "    <tr style=\"text-align: right;\">\n",
       "      <th></th>\n",
       "      <th>AP threshold</th>\n",
       "      <th>AP amplitude</th>\n",
       "      <th>AP width</th>\n",
       "      <th>AHP</th>\n",
       "      <th>3rd AP threshold</th>\n",
       "      <th>3rd AP amplitude</th>\n",
       "      <th>3rd AP width</th>\n",
       "      <th>3rd AHP</th>\n",
       "      <th>AP count</th>\n",
       "      <th>AP count 1st 8th</th>\n",
       "      <th>...</th>\n",
       "      <th>AP amp adapt</th>\n",
       "      <th>AP average amp adapt</th>\n",
       "      <th>AP CV</th>\n",
       "      <th>ISI adapt</th>\n",
       "      <th>ISI CV</th>\n",
       "      <th>latency</th>\n",
       "      <th>rest $V_{m}$ mean</th>\n",
       "      <th>$V_{m}$ mean</th>\n",
       "      <th>$V_{m}$ std</th>\n",
       "      <th>$V_{m}$ skewness</th>\n",
       "    </tr>\n",
       "  </thead>\n",
       "  <tbody>\n",
       "    <tr>\n",
       "      <th>0</th>\n",
       "      <td>-49.939804</td>\n",
       "      <td>85.447979</td>\n",
       "      <td>1.6</td>\n",
       "      <td>-4.952324</td>\n",
       "      <td>-43.388143</td>\n",
       "      <td>54.810137</td>\n",
       "      <td>1.96</td>\n",
       "      <td>-0.328419</td>\n",
       "      <td>3.332205</td>\n",
       "      <td>2.079442</td>\n",
       "      <td>...</td>\n",
       "      <td>-0.259033</td>\n",
       "      <td>0.443446</td>\n",
       "      <td>-1.356681</td>\n",
       "      <td>-0.252199</td>\n",
       "      <td>-0.592161</td>\n",
       "      <td>2.504709</td>\n",
       "      <td>-85.357685</td>\n",
       "      <td>-43.054168</td>\n",
       "      <td>288.314595</td>\n",
       "      <td>1.855455</td>\n",
       "    </tr>\n",
       "  </tbody>\n",
       "</table>\n",
       "<p>1 rows × 23 columns</p>\n",
       "</div>"
      ],
      "text/plain": [
       "   AP threshold  AP amplitude  AP width       AHP  3rd AP threshold  \\\n",
       "0    -49.939804     85.447979       1.6 -4.952324        -43.388143   \n",
       "\n",
       "   3rd AP amplitude  3rd AP width   3rd AHP  AP count  AP count 1st 8th  ...  \\\n",
       "0         54.810137          1.96 -0.328419  3.332205          2.079442  ...   \n",
       "\n",
       "   AP amp adapt  AP average amp adapt     AP CV  ISI adapt    ISI CV  \\\n",
       "0     -0.259033              0.443446 -1.356681  -0.252199 -0.592161   \n",
       "\n",
       "    latency  rest $V_{m}$ mean  $V_{m}$ mean  $V_{m}$ std  $V_{m}$ skewness  \n",
       "0  2.504709         -85.357685    -43.054168   288.314595          1.855455  \n",
       "\n",
       "[1 rows x 23 columns]"
      ]
     },
     "execution_count": 12,
     "metadata": {},
     "output_type": "execute_result"
    }
   ],
   "source": [
    "df=pd.DataFrame(data=M1_model._simulation_wrapper(trial).numpy(), columns=ephys_features)\n",
    "df.head()"
   ]
  },
  {
   "cell_type": "markdown",
   "metadata": {},
   "source": [
    "## Simulate"
   ]
  },
  {
   "cell_type": "code",
   "execution_count": null,
   "metadata": {},
   "outputs": [
    {
     "name": "stdout",
     "output_type": "stream",
     "text": [
      "Chunks:\n",
      "........."
     ]
    }
   ],
   "source": [
    "t = time.time()\n",
    "n_samples = int(15*1e6)\n",
    "theta = prior.sample((n_samples,))\n",
    "M1_model.sim(theta)\n",
    "np.savez('./save_sims/M1_chunks/full_batch_without_rSS.npz',\n",
    "     theta=M1_model.theta.numpy(),\n",
    "     stats=M1_model.stats.numpy()\n",
    "    )\n",
    "t = time.time() - t\n",
    "m,s = divmod(t, 60)\n",
    "h,m = divmod(m, 60)\n",
    "print('\\nTime: {}h {:2.0f}m {:2.0f}s'.format(h,m,s))"
   ]
  },
  {
   "cell_type": "markdown",
   "metadata": {},
   "source": [
    "## Distribution of summary statistics"
   ]
  },
  {
   "cell_type": "markdown",
   "metadata": {},
   "source": [
    "Let us have a look at the distribion of simulated summary statistics (or ephys features) versus the distribution of summary statistics of our observed experimental dataset."
   ]
  },
  {
   "cell_type": "code",
   "execution_count": 13,
   "metadata": {},
   "outputs": [],
   "source": [
    "# In our visualizations of 1-dimensional ephys feature distributions,\n",
    "# we'll keep the ones within certain limits to prevent outliers.\n",
    "limits={'AP threshold':[-120,75], 'AP amplitude':[0,200], 'AP width':[0,5], 'AHP':[-80,50], \\\n",
    "        '3rd AP threshold':[-100,100], '3rd AP amplitude':[0,200], '3rd AP width':[0,5], '3rd AHP':[-60,30], \\\n",
    "        'AP count':[0,400], 'AP count 1st 8th': [0,135], 'AP count 1st quarter': [0,180], \\\n",
    "        'AP count 1st half':[0,200], 'AP count 2nd half':[0,200], 'AP amp adapt':[-1.5,1.5], \\\n",
    "        'AP average amp adapt':[-0.1,1.1], 'AP CV':[-7.5,0], \\\n",
    "        'ISI adapt':[-3,3], 'ISI CV':[-8,2.5], 'latency':[-2,6.5], r'rest $V_{m}$ mean':[-120,100], \\\n",
    "        r'$V_{m}$ mean':[-110,50], r'$V_{m}$ std':[0,2000], r'$V_{m}$ skewness':[-2,12], \\\n",
    "        'Vi':[-150,-40], '1-comp area':[0,4000]}"
   ]
  },
  {
   "cell_type": "code",
   "execution_count": 14,
   "metadata": {},
   "outputs": [
    {
     "name": "stderr",
     "output_type": "stream",
     "text": [
      "tcmalloc: large alloc 1380007936 bytes == 0x33dde000 @ \n"
     ]
    },
    {
     "name": "stdout",
     "output_type": "stream",
     "text": [
      "(# sims, # ephys features):  (15000000, 23)\n",
      "and after deleting Nan and Inf simulations: \n",
      "(# sims, # ephys features):  (8123675, 23)\n"
     ]
    },
    {
     "data": {
      "image/png": "[encoded data removed]",
      "text/plain": [
       "<Figure size 1008x864 with 25 Axes>"
      ]
     },
     "metadata": {
      "needs_background": "light"
     },
     "output_type": "display_data"
    }
   ],
   "source": [
    "theta=np.load('./save_sims/M1_chunks/full_batch_without_rSS.npz')['theta']\n",
    "stats=np.load('./save_sims/M1_chunks/full_batch_without_rSS.npz')['stats']\n",
    "print('(# sims, # ephys features): ', stats.shape)\n",
    "keeping=(~np.isnan(np.mean(stats, axis=1)))&(~np.isinf(np.mean(stats, axis=1)))\n",
    "stats = stats[keeping,:] # delete Nan simulations\n",
    "print('and after deleting Nan and Inf simulations: \\n(# sims, # ephys features): ', stats.shape)\n",
    "\n",
    "fig, axes = plt.subplots(5, 5, figsize = (14, 12))\n",
    "xlabelfontsize=15\n",
    "for i, ax in enumerate(axes.reshape(-1)[:len(ephys_features)]):\n",
    "        ax.hist([Xo[ephys_features[i]].values,\n",
    "                 stats[:,i][(stats[:,i]>limits[ephys_features[i]][0])&\\\n",
    "                            (stats[:,i]<limits[ephys_features[i]][1])]],\n",
    "                color=['black', 'grey'], alpha=0.5, bins=30, density=True, histtype='stepfilled', \\\n",
    "                label=[ 'observations', 'simulations'])\n",
    "        ax.set_xlabel(ephys_features[i], fontsize=xlabelfontsize)\n",
    "        if i==4:\n",
    "            ax.legend(fontsize=14, bbox_to_anchor=(1.2, 1))\n",
    "\n",
    "for ax in axes.reshape(-1)[len(ephys_features):]:\n",
    "    ax.set_xticks([])\n",
    "    ax.set_yticks([])\n",
    "    sns.despine(ax=ax, left=True, bottom=True)\n",
    "plt.tight_layout()"
   ]
  },
  {
   "cell_type": "markdown",
   "metadata": {},
   "source": [
    "## Best prior simulations for an observed cell"
   ]
  },
  {
   "cell_type": "markdown",
   "metadata": {},
   "source": [
    "Pick a cell. You can for instance check `Xo.index` and pick one."
   ]
  },
  {
   "cell_type": "code",
   "execution_count": 15,
   "metadata": {},
   "outputs": [],
   "source": [
    "cell_name = '20180917_sample_3'"
   ]
  },
  {
   "cell_type": "code",
   "execution_count": 18,
   "metadata": {},
   "outputs": [
    {
     "data": {
      "text/plain": [
       "'../data/raw_data/000008/sub-mouse-ZQHAI/sub-mouse-ZQHAI_ses-20180917-sample-3_slice-20180917-slice-3_cell-20180917-sample-3_icephys.nwb'"
      ]
     },
     "execution_count": 18,
     "metadata": {},
     "output_type": "execute_result"
    }
   ],
   "source": [
    "#Check whether raw file name corresponds to the cell's name\n",
    "data = np.array(M1_25degree['M1_names'])[no_low_qual][np.where(Xo.index==cell_name)[0][0]]\n",
    "data"
   ]
  },
  {
   "cell_type": "code",
   "execution_count": 20,
   "metadata": {},
   "outputs": [],
   "source": [
    "import warnings\n",
    "with warnings.catch_warnings():\n",
    "    warnings.simplefilter(\"ignore\")\n",
    "    data = NWBHDF5IO('../'+data, 'r', load_namespaces=True).read()"
   ]
  },
  {
   "cell_type": "code",
   "execution_count": 21,
   "metadata": {},
   "outputs": [],
   "source": [
    "xo=Xo.loc[cell_name,:].iloc[:-4].values\n",
    "feature_list=range(23)"
   ]
  },
  {
   "cell_type": "code",
   "execution_count": 22,
   "metadata": {},
   "outputs": [],
   "source": [
    "time_obs, voltage_obs, current_obs, curr_index_0_obs = get_time_voltage_current_currindex0(data)\n",
    "liquid_junction_potential=15.4\n",
    "voltage_obs-=liquid_junction_potential\n",
    "\n",
    "I, t_on, t_off, dt, t, A_soma = syn_current(area=Xo.loc[cell_name, '1-comp area'], curr_level=3e-4)\n",
    "curr_index = np.where(current_obs==300)[0][0]\n",
    "observation = {'data': voltage_obs[:20000, curr_index], 'time': time_obs[:20000]*1e3, 'dt':4*1e-5*1e3, 'I': I}"
   ]
  },
  {
   "cell_type": "code",
   "execution_count": 23,
   "metadata": {},
   "outputs": [
    {
     "name": "stderr",
     "output_type": "stream",
     "text": [
      "tcmalloc: large alloc 1380007936 bytes == 0xbbe8a000 @ \n"
     ]
    },
    {
     "name": "stdout",
     "output_type": "stream",
     "text": [
      "(# sims, # ephys features):  (15000000, 23)\n",
      "and after deleting Nan and Inf simulations: \n",
      "(# sims, # ephys features):  (8123675, 23)\n"
     ]
    },
    {
     "name": "stderr",
     "output_type": "stream",
     "text": [
      "tcmalloc: large alloc 1494761472 bytes == 0x13ab60000 @ \n"
     ]
    },
    {
     "data": {
      "image/png": "[encoded data removed]",
      "text/plain": [
       "<Figure size 360x360 with 4 Axes>"
      ]
     },
     "metadata": {},
     "output_type": "display_data"
    }
   ],
   "source": [
    "theta=np.load('./save_sims/M1_chunks/full_batch_without_rSS.npz')['theta']\n",
    "stats=np.load('./save_sims/M1_chunks/full_batch_without_rSS.npz')['stats']\n",
    "print('(# sims, # ephys features): ', stats.shape)\n",
    "keeping=(~np.isnan(np.mean(stats, axis=1)))&(~np.isinf(np.mean(stats, axis=1)))\n",
    "stats = stats[keeping,:] # delete Nan simulations\n",
    "print('and after deleting Nan and Inf simulations: \\n(# sims, # ephys features): ', stats.shape)\n",
    "\n",
    "# Best Euclidean examples now for an example\n",
    "fig=plt.figure(figsize=(5,5))\n",
    "width=.9\n",
    "height=.2\n",
    "ax_truth=plt.axes([0,0.6,width,height])\n",
    "ax_sim1=plt.axes([0,0.4,width,height])\n",
    "ax_sim2=plt.axes([0,.2,width,height])\n",
    "ax_sim3=plt.axes([0,0,width,height])\n",
    "\n",
    "# plot observation\n",
    "ax_truth.plot(observation['time'], observation['data'], lw=.5, label='experimental observation', c='k')\n",
    "ax_truth.legend(loc='upper center', bbox_to_anchor=(.5,1.3), fontsize=8)\n",
    "ax_truth.set_xticks([])\n",
    "ax_truth.set_yticks([])\n",
    "sns.despine(ax=ax_truth, bottom=True,left=True)\n",
    "\n",
    "#3. pick 3 that have the smallest Euclidean distance of their summ stats with the experimental observation\n",
    "s_mean=stats[:,feature_list].mean(axis=0)\n",
    "s_std=stats[:,feature_list].std(axis=0)\n",
    "ind=np.argsort(np.sum(\n",
    "                np.square((stats[:,feature_list]-s_mean)/s_std\n",
    "                    -(xo[feature_list]-s_mean)/s_std\n",
    "                         ),\n",
    "                axis=1\n",
    "                    )\n",
    "              )[0:3]\n",
    "#4. show those 3 simulations\n",
    "x = M1_model._run_HH_model(theta[keeping,:][ind,:])\n",
    "ax_sim1.plot(x['time'], x['data'][0,0,:], lw=.5, c='grey', label='good prior simulations')\n",
    "ax_sim2.plot(x['time'], x['data'][1,0,:], lw=.5, c='grey')\n",
    "ax_sim3.plot(x['time'], x['data'][2,0,:], lw=.5, c='grey')\n",
    "ax_sim3.plot([0,400], [-95,-95], 'k')\n",
    "ax_sim3.annotate('400 ms', (160,-92))\n",
    "ax_sim3.plot([0,0], [-95,-25], 'k')\n",
    "ax_sim3.annotate('70 mV', (3,-65))\n",
    "# ax_sim3.set_xlabel('Time (ms)', fontsize=10)\n",
    "# ax_sim3.set_ylabel('Voltage (mV)', fontsize=10)\n",
    "ax_sim1.legend(loc='upper center', bbox_to_anchor=(.5,1.28), fontsize=8)\n",
    "for ax in [ax_truth, ax_sim1, ax_sim2, ax_sim3]:\n",
    "    ax.set_xticks([])\n",
    "    ax.set_yticks([])\n",
    "    sns.despine(ax=ax, bottom=True,left=True)"
   ]
  },
  {
   "cell_type": "code",
   "execution_count": 24,
   "metadata": {},
   "outputs": [
    {
     "data": {
      "text/html": [
       "<div>\n",
       "<style scoped>\n",
       "    .dataframe tbody tr th:only-of-type {\n",
       "        vertical-align: middle;\n",
       "    }\n",
       "\n",
       "    .dataframe tbody tr th {\n",
       "        vertical-align: top;\n",
       "    }\n",
       "\n",
       "    .dataframe thead th {\n",
       "        text-align: right;\n",
       "    }\n",
       "</style>\n",
       "<table border=\"1\" class=\"dataframe\">\n",
       "  <thead>\n",
       "    <tr style=\"text-align: right;\">\n",
       "      <th></th>\n",
       "      <th>C</th>\n",
       "      <th>$R_{input}$</th>\n",
       "      <th>$\\tau$</th>\n",
       "      <th>$g_{Nat}$</th>\n",
       "      <th>$g_{Na}$</th>\n",
       "      <th>$g_{Kd}$</th>\n",
       "      <th>$g_{M}$</th>\n",
       "      <th>$g_{Kv31}$</th>\n",
       "      <th>$g_{L}$</th>\n",
       "      <th>$E_{leak}$</th>\n",
       "      <th>$\\tau_{max}$</th>\n",
       "      <th>VT</th>\n",
       "    </tr>\n",
       "  </thead>\n",
       "  <tbody>\n",
       "    <tr>\n",
       "      <th>0</th>\n",
       "      <td>11.259254</td>\n",
       "      <td>423.722565</td>\n",
       "      <td>67.397507</td>\n",
       "      <td>208.341843</td>\n",
       "      <td>21.133846</td>\n",
       "      <td>1.423965</td>\n",
       "      <td>2.054574</td>\n",
       "      <td>26.943296</td>\n",
       "      <td>0.046064</td>\n",
       "      <td>-92.388550</td>\n",
       "      <td>295.596802</td>\n",
       "      <td>-69.608864</td>\n",
       "    </tr>\n",
       "    <tr>\n",
       "      <th>1</th>\n",
       "      <td>9.711460</td>\n",
       "      <td>98.713188</td>\n",
       "      <td>13.663780</td>\n",
       "      <td>185.515488</td>\n",
       "      <td>5.490917</td>\n",
       "      <td>4.943867</td>\n",
       "      <td>2.011349</td>\n",
       "      <td>12.108326</td>\n",
       "      <td>0.844386</td>\n",
       "      <td>-96.773544</td>\n",
       "      <td>2560.678223</td>\n",
       "      <td>-83.281448</td>\n",
       "    </tr>\n",
       "    <tr>\n",
       "      <th>2</th>\n",
       "      <td>7.177483</td>\n",
       "      <td>391.694427</td>\n",
       "      <td>49.585793</td>\n",
       "      <td>123.625237</td>\n",
       "      <td>18.106806</td>\n",
       "      <td>21.133362</td>\n",
       "      <td>1.168742</td>\n",
       "      <td>5.154803</td>\n",
       "      <td>0.431813</td>\n",
       "      <td>-87.587547</td>\n",
       "      <td>156.953049</td>\n",
       "      <td>-43.317883</td>\n",
       "    </tr>\n",
       "  </tbody>\n",
       "</table>\n",
       "</div>"
      ],
      "text/plain": [
       "           C  $R_{input}$     $\\tau$   $g_{Nat}$   $g_{Na}$   $g_{Kd}$  \\\n",
       "0  11.259254   423.722565  67.397507  208.341843  21.133846   1.423965   \n",
       "1   9.711460    98.713188  13.663780  185.515488   5.490917   4.943867   \n",
       "2   7.177483   391.694427  49.585793  123.625237  18.106806  21.133362   \n",
       "\n",
       "    $g_{M}$  $g_{Kv31}$   $g_{L}$  $E_{leak}$  $\\tau_{max}$         VT  \n",
       "0  2.054574   26.943296  0.046064  -92.388550    295.596802 -69.608864  \n",
       "1  2.011349   12.108326  0.844386  -96.773544   2560.678223 -83.281448  \n",
       "2  1.168742    5.154803  0.431813  -87.587547    156.953049 -43.317883  "
      ]
     },
     "execution_count": 24,
     "metadata": {},
     "output_type": "execute_result"
    }
   ],
   "source": [
    "df=pd.DataFrame(data=theta[keeping,:][ind,:], columns=model_param_names)\n",
    "df"
   ]
  }
 ],
 "metadata": {
  "kernelspec": {
   "display_name": "Python 3 (ipykernel)",
   "language": "python",
   "name": "python3"
  },
  "language_info": {
   "codemirror_mode": {
    "name": "ipython",
    "version": 3
   },
   "file_extension": ".py",
   "mimetype": "text/x-python",
   "name": "python",
   "nbconvert_exporter": "python",
   "pygments_lexer": "ipython3",
   "version": "3.8.10"
  },
  "varInspector": {
   "cols": {
    "lenName": 16,
    "lenType": 16,
    "lenVar": 40
   },
   "kernels_config": {
    "python": {
     "delete_cmd_postfix": "",
     "delete_cmd_prefix": "del ",
     "library": "var_list.py",
     "varRefreshCmd": "print(var_dic_list())"
    },
    "r": {
     "delete_cmd_postfix": ") ",
     "delete_cmd_prefix": "rm(",
     "library": "var_list.r",
     "varRefreshCmd": "cat(var_dic_list()) "
    }
   },
   "types_to_exclude": [
    "module",
    "function",
    "builtin_function_or_method",
    "instance",
    "_Feature"
   ],
   "window_display": false
  }
 },
 "nbformat": 4,
 "nbformat_minor": 4
}
